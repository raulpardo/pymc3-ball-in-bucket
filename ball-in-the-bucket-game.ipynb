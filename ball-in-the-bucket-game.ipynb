{
 "cells": [
  {
   "cell_type": "code",
   "execution_count": 1,
   "metadata": {
    "collapsed": false
   },
   "outputs": [
    {
     "name": "stdout",
     "output_type": "stream",
     "text": [
      "pygame 1.9.6\n",
      "Hello from the pygame community. https://www.pygame.org/contribute.html\n",
      "Loading chipmunk for Linux (64bit) [/usr/local/lib/python3.6/dist-packages/pymunk/libchipmunk.so]\n"
     ]
    },
    {
     "name": "stderr",
     "output_type": "stream",
     "text": [
      "WARNING (theano.tensor.blas): Using NumPy C-API based implementation for BLAS functions.\n"
     ]
    }
   ],
   "source": [
    "## Example inspired by Oregon summer school lectures on probabilistic programming\n",
    "## Code for simulation and visualization inspired from getting started tutorial in pymunk website\n",
    "\n",
    "import sys, random\n",
    "import pygame\n",
    "from pygame.locals import *\n",
    "import pymunk\n",
    "from pymunk.pygame_util import DrawOptions\n",
    "import pymc3 as pm\n",
    "import matplotlib.pyplot as plt\n",
    "import arviz as az\n",
    "import theano\n",
    "import theano.tensor as tt\n",
    "import numpy as np\n",
    "\n",
    "def add_ball(space):\n",
    "    mass = 1\n",
    "    radius = 14\n",
    "    moment = pymunk.moment_for_circle(mass, 0, radius) # 1\n",
    "    body = pymunk.Body(mass, moment) # 2\n",
    "    x = random.randint(120, 480)\n",
    "    body.position = x, 550 # 3\n",
    "    shape = pymunk.Circle(body, radius) # 4\n",
    "    space.add(body, shape) # 5\n",
    "    return shape\n",
    "\n",
    "def add_static_L(space,x,y,θ):\n",
    "    body = pymunk.Body(body_type = pymunk.Body.STATIC)\n",
    "    body.position = (x, y)\n",
    "    l1 = pymunk.Segment(body, (0, 0), (100, 0+θ), 2)\n",
    "    space.add(l1)\n",
    "def add_bucket(space):\n",
    "    floor = pymunk.Body(body_type = pymunk.Body.STATIC)\n",
    "    floor.position = (400, 200)\n",
    "\n",
    "    left_wall = pymunk.Body(body_type = pymunk.Body.STATIC)\n",
    "    left_wall.position = (400, 200)\n",
    "    \n",
    "    right_wall = pymunk.Body(body_type = pymunk.Body.STATIC)\n",
    "    right_wall.position = (500, 200)\n",
    "    \n",
    "    l1 = pymunk.Segment(floor, (0, 0), (100, 0), 2)\n",
    "    l2 = pymunk.Segment(left_wall, (0, 0), (0, 50), 2)\n",
    "    l3 = pymunk.Segment(right_wall, (0, 50), (0, 0), 2)\n",
    "\n",
    "    space.add(l1, l2, l3) # 3\n",
    "    return l1,l2,l3\n",
    "\n",
    "\n",
    "@theano.compile.ops.as_op(itypes=[tt.lscalar, tt.lscalar, tt.lscalar,\n",
    "                                  tt.lscalar, tt.lscalar, tt.lscalar],\n",
    "                          otypes=[tt.lscalar])\n",
    "def simulation(xl1, yl1, θl1,\n",
    "               xl2, yl2, θl2):\n",
    "\n",
    "    space = pymunk.Space()\n",
    "    space.gravity = (0.0, -900.0)\n",
    "    \n",
    "    add_static_L(space, xl1, yl1, θl1)\n",
    "    add_static_L(space, xl2, yl2, θl2)\n",
    "    add_bucket(space)\n",
    "    ball = add_ball_static(space)\n",
    "    \n",
    "    [space.step(1/50.0) for i in range(0,50000)]\n",
    "    return np.array(ball.body.position.x, dtype=np.int64) if ball.body.position.y > 210 else np.array(0, dtype=np.int64)"
   ]
  },
  {
   "cell_type": "code",
   "execution_count": 2,
   "metadata": {
    "collapsed": false
   },
   "outputs": [
    {
     "name": "stderr",
     "output_type": "stream",
     "text": [
      "Only 10 samples in chain.\n"
     ]
    },
    {
     "name": "stderr",
     "output_type": "stream",
     "text": [
      "Multiprocess sampling (4 chains in 4 jobs)\n"
     ]
    },
    {
     "name": "stderr",
     "output_type": "stream",
     "text": [
      "CompoundStep\n"
     ]
    },
    {
     "name": "stderr",
     "output_type": "stream",
     "text": [
      ">Metropolis: [θl2]\n"
     ]
    },
    {
     "name": "stderr",
     "output_type": "stream",
     "text": [
      ">Metropolis: [yl2]\n"
     ]
    },
    {
     "name": "stderr",
     "output_type": "stream",
     "text": [
      ">Metropolis: [xl2]\n"
     ]
    },
    {
     "name": "stderr",
     "output_type": "stream",
     "text": [
      ">Metropolis: [θl1]\n"
     ]
    },
    {
     "name": "stderr",
     "output_type": "stream",
     "text": [
      ">Metropolis: [yl1]\n"
     ]
    },
    {
     "name": "stderr",
     "output_type": "stream",
     "text": [
      ">Metropolis: [xl1]\n"
     ]
    },
    {
     "name": "stderr",
     "output_type": "stream",
     "text": [
      "\r",
      "Sampling 4 chains:   0%|          | 0/2040 [00:00<?, ?draws/s]"
     ]
    },
    {
     "name": "stderr",
     "output_type": "stream",
     "text": [
      "\r",
      "Sampling 4 chains:   0%|          | 1/2040 [00:00<26:25,  1.29draws/s]"
     ]
    },
    {
     "name": "stderr",
     "output_type": "stream",
     "text": [
      "\r",
      "Sampling 4 chains:   0%|          | 5/2040 [00:01<20:28,  1.66draws/s]"
     ]
    },
    {
     "name": "stderr",
     "output_type": "stream",
     "text": [
      "\r",
      "Sampling 4 chains:   0%|          | 9/2040 [00:02<16:15,  2.08draws/s]"
     ]
    },
    {
     "name": "stderr",
     "output_type": "stream",
     "text": [
      "\r",
      "Sampling 4 chains:   1%|          | 13/2040 [00:03<13:19,  2.54draws/s]"
     ]
    },
    {
     "name": "stderr",
     "output_type": "stream",
     "text": [
      "\r",
      "Sampling 4 chains:   1%|          | 16/2040 [00:03<11:02,  3.06draws/s]"
     ]
    },
    {
     "name": "stderr",
     "output_type": "stream",
     "text": [
      "\r",
      "Sampling 4 chains:   1%|          | 17/2040 [00:03<10:27,  3.22draws/s]"
     ]
    },
    {
     "name": "stderr",
     "output_type": "stream",
     "text": [
      "\r",
      "Sampling 4 chains:   1%|          | 20/2040 [00:04<09:56,  3.39draws/s]"
     ]
    },
    {
     "name": "stderr",
     "output_type": "stream",
     "text": [
      "\r",
      "Sampling 4 chains:   1%|          | 24/2040 [00:05<08:54,  3.77draws/s]"
     ]
    },
    {
     "name": "stderr",
     "output_type": "stream",
     "text": [
      "\r",
      "Sampling 4 chains:   1%|▏         | 27/2040 [00:05<07:57,  4.22draws/s]"
     ]
    },
    {
     "name": "stderr",
     "output_type": "stream",
     "text": [
      "\r",
      "Sampling 4 chains:   1%|▏         | 28/2040 [00:06<08:17,  4.04draws/s]"
     ]
    },
    {
     "name": "stderr",
     "output_type": "stream",
     "text": [
      "\r",
      "Sampling 4 chains:   2%|▏         | 31/2040 [00:07<08:24,  3.98draws/s]"
     ]
    },
    {
     "name": "stderr",
     "output_type": "stream",
     "text": [
      "\r",
      "Sampling 4 chains:   2%|▏         | 34/2040 [00:07<06:51,  4.88draws/s]"
     ]
    },
    {
     "name": "stderr",
     "output_type": "stream",
     "text": [
      "\r",
      "Sampling 4 chains:   2%|▏         | 35/2040 [00:07<09:52,  3.38draws/s]"
     ]
    },
    {
     "name": "stderr",
     "output_type": "stream",
     "text": [
      "\r",
      "Sampling 4 chains:   2%|▏         | 38/2040 [00:08<09:31,  3.50draws/s]"
     ]
    },
    {
     "name": "stderr",
     "output_type": "stream",
     "text": [
      "\r",
      "Sampling 4 chains:   2%|▏         | 42/2040 [00:09<08:36,  3.87draws/s]"
     ]
    },
    {
     "name": "stderr",
     "output_type": "stream",
     "text": [
      "\r",
      "Sampling 4 chains:   2%|▏         | 45/2040 [00:09<07:56,  4.19draws/s]"
     ]
    },
    {
     "name": "stderr",
     "output_type": "stream",
     "text": [
      "\r",
      "Sampling 4 chains:   2%|▏         | 46/2040 [00:10<07:41,  4.32draws/s]"
     ]
    },
    {
     "name": "stderr",
     "output_type": "stream",
     "text": [
      "\r",
      "Sampling 4 chains:   2%|▏         | 49/2040 [00:10<07:59,  4.15draws/s]"
     ]
    },
    {
     "name": "stderr",
     "output_type": "stream",
     "text": [
      "\r",
      "Sampling 4 chains:   3%|▎         | 52/2040 [00:11<06:54,  4.80draws/s]"
     ]
    },
    {
     "name": "stderr",
     "output_type": "stream",
     "text": [
      "\r",
      "Sampling 4 chains:   3%|▎         | 53/2040 [00:11<08:50,  3.74draws/s]"
     ]
    },
    {
     "name": "stderr",
     "output_type": "stream",
     "text": [
      "\r",
      "Sampling 4 chains:   3%|▎         | 56/2040 [00:12<08:51,  3.73draws/s]"
     ]
    },
    {
     "name": "stderr",
     "output_type": "stream",
     "text": [
      "\r",
      "Sampling 4 chains:   3%|▎         | 59/2040 [00:12<06:48,  4.85draws/s]"
     ]
    },
    {
     "name": "stderr",
     "output_type": "stream",
     "text": [
      "\r",
      "Sampling 4 chains:   3%|▎         | 60/2040 [00:13<11:03,  2.99draws/s]"
     ]
    },
    {
     "name": "stderr",
     "output_type": "stream",
     "text": [
      "\r",
      "Sampling 4 chains:   3%|▎         | 63/2040 [00:14<10:15,  3.21draws/s]"
     ]
    },
    {
     "name": "stderr",
     "output_type": "stream",
     "text": [
      "\r",
      "Sampling 4 chains:   3%|▎         | 67/2040 [00:15<09:20,  3.52draws/s]"
     ]
    },
    {
     "name": "stderr",
     "output_type": "stream",
     "text": [
      "\r",
      "Sampling 4 chains:   3%|▎         | 70/2040 [00:15<08:18,  3.95draws/s]"
     ]
    },
    {
     "name": "stderr",
     "output_type": "stream",
     "text": [
      "\r",
      "Sampling 4 chains:   3%|▎         | 71/2040 [00:15<08:38,  3.80draws/s]"
     ]
    },
    {
     "name": "stderr",
     "output_type": "stream",
     "text": [
      "\r",
      "Sampling 4 chains:   4%|▎         | 74/2040 [00:16<08:44,  3.75draws/s]"
     ]
    },
    {
     "name": "stderr",
     "output_type": "stream",
     "text": [
      "\r",
      "Sampling 4 chains:   4%|▎         | 76/2040 [00:16<07:22,  4.44draws/s]"
     ]
    },
    {
     "name": "stderr",
     "output_type": "stream",
     "text": [
      "\r",
      "Sampling 4 chains:   4%|▍         | 78/2040 [00:17<07:56,  4.12draws/s]"
     ]
    },
    {
     "name": "stderr",
     "output_type": "stream",
     "text": [
      "\r",
      "Sampling 4 chains:   4%|▍         | 80/2040 [00:18<09:14,  3.53draws/s]"
     ]
    },
    {
     "name": "stderr",
     "output_type": "stream",
     "text": [
      "\r",
      "Sampling 4 chains:   4%|▍         | 82/2040 [00:18<06:58,  4.68draws/s]"
     ]
    },
    {
     "name": "stderr",
     "output_type": "stream",
     "text": [
      "\r",
      "Sampling 4 chains:   4%|▍         | 84/2040 [00:19<08:50,  3.69draws/s]"
     ]
    },
    {
     "name": "stderr",
     "output_type": "stream",
     "text": [
      "\r",
      "Sampling 4 chains:   4%|▍         | 86/2040 [00:19<08:29,  3.83draws/s]"
     ]
    },
    {
     "name": "stderr",
     "output_type": "stream",
     "text": [
      "\r",
      "Sampling 4 chains:   4%|▍         | 87/2040 [00:19<07:55,  4.11draws/s]"
     ]
    },
    {
     "name": "stderr",
     "output_type": "stream",
     "text": [
      "\r",
      "Sampling 4 chains:   4%|▍         | 88/2040 [00:20<07:11,  4.52draws/s]"
     ]
    },
    {
     "name": "stderr",
     "output_type": "stream",
     "text": [
      "\r",
      "Sampling 4 chains:   4%|▍         | 90/2040 [00:20<09:05,  3.57draws/s]"
     ]
    },
    {
     "name": "stderr",
     "output_type": "stream",
     "text": [
      "\r",
      "Sampling 4 chains:   5%|▍         | 92/2040 [00:21<07:29,  4.33draws/s]"
     ]
    },
    {
     "name": "stderr",
     "output_type": "stream",
     "text": [
      "\r",
      "Sampling 4 chains:   5%|▍         | 93/2040 [00:21<07:09,  4.53draws/s]"
     ]
    },
    {
     "name": "stderr",
     "output_type": "stream",
     "text": [
      "\r",
      "Sampling 4 chains:   5%|▍         | 94/2040 [00:21<08:59,  3.61draws/s]"
     ]
    },
    {
     "name": "stderr",
     "output_type": "stream",
     "text": [
      "\r",
      "Sampling 4 chains:   5%|▍         | 96/2040 [00:22<10:05,  3.21draws/s]"
     ]
    },
    {
     "name": "stderr",
     "output_type": "stream",
     "text": [
      "\r",
      "Sampling 4 chains:   5%|▍         | 99/2040 [00:22<07:50,  4.12draws/s]"
     ]
    },
    {
     "name": "stderr",
     "output_type": "stream",
     "text": [
      "\r",
      "Sampling 4 chains:   5%|▍         | 100/2040 [00:23<12:21,  2.62draws/s]"
     ]
    },
    {
     "name": "stderr",
     "output_type": "stream",
     "text": [
      "\r",
      "Sampling 4 chains:   5%|▌         | 102/2040 [00:23<10:59,  2.94draws/s]"
     ]
    },
    {
     "name": "stderr",
     "output_type": "stream",
     "text": [
      "\r",
      "Sampling 4 chains:   5%|▌         | 103/2040 [00:24<10:26,  3.09draws/s]"
     ]
    },
    {
     "name": "stderr",
     "output_type": "stream",
     "text": [
      "\r",
      "Sampling 4 chains:   5%|▌         | 106/2040 [00:25<10:26,  3.08draws/s]"
     ]
    },
    {
     "name": "stderr",
     "output_type": "stream",
     "text": [
      "\r",
      "Sampling 4 chains:   5%|▌         | 108/2040 [00:25<08:12,  3.92draws/s]"
     ]
    },
    {
     "name": "stderr",
     "output_type": "stream",
     "text": [
      "\r",
      "Sampling 4 chains:   5%|▌         | 109/2040 [00:25<09:21,  3.44draws/s]"
     ]
    },
    {
     "name": "stderr",
     "output_type": "stream",
     "text": [
      "\r",
      "Sampling 4 chains:   5%|▌         | 110/2040 [00:26<10:28,  3.07draws/s]"
     ]
    },
    {
     "name": "stderr",
     "output_type": "stream",
     "text": [
      "\r",
      "Sampling 4 chains:   5%|▌         | 112/2040 [00:26<11:00,  2.92draws/s]"
     ]
    },
    {
     "name": "stderr",
     "output_type": "stream",
     "text": [
      "\r",
      "Sampling 4 chains:   6%|▌         | 114/2040 [00:27<08:23,  3.82draws/s]"
     ]
    },
    {
     "name": "stderr",
     "output_type": "stream",
     "text": [
      "\r",
      "Sampling 4 chains:   6%|▌         | 115/2040 [00:27<07:42,  4.17draws/s]"
     ]
    },
    {
     "name": "stderr",
     "output_type": "stream",
     "text": [
      "\r",
      "Sampling 4 chains:   6%|▌         | 116/2040 [00:28<13:10,  2.43draws/s]"
     ]
    },
    {
     "name": "stderr",
     "output_type": "stream",
     "text": [
      "\r",
      "Sampling 4 chains:   6%|▌         | 117/2040 [00:28<10:25,  3.08draws/s]"
     ]
    },
    {
     "name": "stderr",
     "output_type": "stream",
     "text": [
      "\r",
      "Sampling 4 chains:   6%|▌         | 118/2040 [00:28<10:56,  2.93draws/s]"
     ]
    },
    {
     "name": "stderr",
     "output_type": "stream",
     "text": [
      "\r",
      "Sampling 4 chains:   6%|▌         | 119/2040 [00:29<12:10,  2.63draws/s]"
     ]
    },
    {
     "name": "stderr",
     "output_type": "stream",
     "text": [
      "\r",
      "Sampling 4 chains:   6%|▌         | 122/2040 [00:30<11:42,  2.73draws/s]"
     ]
    },
    {
     "name": "stderr",
     "output_type": "stream",
     "text": [
      "\r",
      "Sampling 4 chains:   6%|▌         | 123/2040 [00:30<09:10,  3.49draws/s]"
     ]
    },
    {
     "name": "stderr",
     "output_type": "stream",
     "text": [
      "\r",
      "Sampling 4 chains:   6%|▌         | 124/2040 [00:30<10:37,  3.00draws/s]"
     ]
    },
    {
     "name": "stderr",
     "output_type": "stream",
     "text": [
      "\r",
      "Sampling 4 chains:   6%|▌         | 126/2040 [00:30<09:12,  3.47draws/s]"
     ]
    },
    {
     "name": "stderr",
     "output_type": "stream",
     "text": [
      "\r",
      "Sampling 4 chains:   6%|▌         | 127/2040 [00:31<14:00,  2.28draws/s]"
     ]
    },
    {
     "name": "stderr",
     "output_type": "stream",
     "text": [
      "\r",
      "Sampling 4 chains:   6%|▋         | 128/2040 [00:31<11:07,  2.86draws/s]"
     ]
    },
    {
     "name": "stderr",
     "output_type": "stream",
     "text": [
      "\r",
      "Sampling 4 chains:   6%|▋         | 129/2040 [00:32<09:49,  3.24draws/s]"
     ]
    },
    {
     "name": "stderr",
     "output_type": "stream",
     "text": [
      "\r",
      "Sampling 4 chains:   6%|▋         | 131/2040 [00:32<10:09,  3.13draws/s]"
     ]
    },
    {
     "name": "stderr",
     "output_type": "stream",
     "text": [
      "\r",
      "Sampling 4 chains:   6%|▋         | 132/2040 [00:33<11:41,  2.72draws/s]"
     ]
    },
    {
     "name": "stderr",
     "output_type": "stream",
     "text": [
      "\r",
      "Sampling 4 chains:   7%|▋         | 133/2040 [00:33<11:46,  2.70draws/s]"
     ]
    },
    {
     "name": "stderr",
     "output_type": "stream",
     "text": [
      "\r",
      "Sampling 4 chains:   7%|▋         | 135/2040 [00:34<11:27,  2.77draws/s]"
     ]
    },
    {
     "name": "stderr",
     "output_type": "stream",
     "text": [
      "\r",
      "Sampling 4 chains:   7%|▋         | 136/2040 [00:34<12:15,  2.59draws/s]"
     ]
    },
    {
     "name": "stderr",
     "output_type": "stream",
     "text": [
      "\r",
      "Sampling 4 chains:   7%|▋         | 137/2040 [00:35<12:10,  2.60draws/s]"
     ]
    },
    {
     "name": "stderr",
     "output_type": "stream",
     "text": [
      "\r",
      "Sampling 4 chains:   7%|▋         | 139/2040 [00:35<12:04,  2.62draws/s]"
     ]
    },
    {
     "name": "stderr",
     "output_type": "stream",
     "text": [
      "\r",
      "Sampling 4 chains:   7%|▋         | 140/2040 [00:36<12:17,  2.58draws/s]"
     ]
    },
    {
     "name": "stderr",
     "output_type": "stream",
     "text": [
      "\r",
      "Sampling 4 chains:   7%|▋         | 141/2040 [00:36<09:36,  3.29draws/s]"
     ]
    },
    {
     "name": "stderr",
     "output_type": "stream",
     "text": [
      "\r",
      "Sampling 4 chains:   7%|▋         | 142/2040 [00:36<09:15,  3.42draws/s]"
     ]
    },
    {
     "name": "stderr",
     "output_type": "stream",
     "text": [
      "\r",
      "Sampling 4 chains:   7%|▋         | 143/2040 [00:37<09:42,  3.25draws/s]"
     ]
    },
    {
     "name": "stderr",
     "output_type": "stream",
     "text": [
      "\r",
      "Sampling 4 chains:   7%|▋         | 144/2040 [00:37<10:48,  2.93draws/s]"
     ]
    },
    {
     "name": "stderr",
     "output_type": "stream",
     "text": [
      "\r",
      "Sampling 4 chains:   7%|▋         | 145/2040 [00:37<11:38,  2.71draws/s]"
     ]
    },
    {
     "name": "stderr",
     "output_type": "stream",
     "text": [
      "\r",
      "Sampling 4 chains:   7%|▋         | 146/2040 [00:38<11:40,  2.71draws/s]"
     ]
    },
    {
     "name": "stderr",
     "output_type": "stream",
     "text": [
      "\r",
      "Sampling 4 chains:   7%|▋         | 147/2040 [00:38<11:20,  2.78draws/s]"
     ]
    },
    {
     "name": "stderr",
     "output_type": "stream",
     "text": [
      "\r",
      "Sampling 4 chains:   7%|▋         | 148/2040 [00:39<12:01,  2.62draws/s]"
     ]
    },
    {
     "name": "stderr",
     "output_type": "stream",
     "text": [
      "\r",
      "Sampling 4 chains:   7%|▋         | 149/2040 [00:39<16:26,  1.92draws/s]"
     ]
    },
    {
     "name": "stderr",
     "output_type": "stream",
     "text": [
      "\r",
      "Sampling 4 chains:   7%|▋         | 151/2040 [00:40<12:45,  2.47draws/s]"
     ]
    },
    {
     "name": "stderr",
     "output_type": "stream",
     "text": [
      "\r",
      "Sampling 4 chains:   7%|▋         | 152/2040 [00:40<11:37,  2.71draws/s]"
     ]
    },
    {
     "name": "stderr",
     "output_type": "stream",
     "text": [
      "\r",
      "Sampling 4 chains:   8%|▊         | 153/2040 [00:40<12:13,  2.57draws/s]"
     ]
    },
    {
     "name": "stderr",
     "output_type": "stream",
     "text": [
      "\r",
      "Sampling 4 chains:   8%|▊         | 154/2040 [00:41<10:53,  2.89draws/s]"
     ]
    },
    {
     "name": "stderr",
     "output_type": "stream",
     "text": [
      "\r",
      "Sampling 4 chains:   8%|▊         | 155/2040 [00:41<14:19,  2.19draws/s]"
     ]
    },
    {
     "name": "stderr",
     "output_type": "stream",
     "text": [
      "\r",
      "Sampling 4 chains:   8%|▊         | 156/2040 [00:42<12:23,  2.53draws/s]"
     ]
    },
    {
     "name": "stderr",
     "output_type": "stream",
     "text": [
      "\r",
      "Sampling 4 chains:   8%|▊         | 157/2040 [00:42<13:37,  2.30draws/s]"
     ]
    },
    {
     "name": "stderr",
     "output_type": "stream",
     "text": [
      "\r",
      "Sampling 4 chains:   8%|▊         | 158/2040 [00:42<11:51,  2.65draws/s]"
     ]
    },
    {
     "name": "stderr",
     "output_type": "stream",
     "text": [
      "\r",
      "Sampling 4 chains:   8%|▊         | 159/2040 [00:43<10:25,  3.01draws/s]"
     ]
    },
    {
     "name": "stderr",
     "output_type": "stream",
     "text": [
      "\r",
      "Sampling 4 chains:   8%|▊         | 161/2040 [00:43<10:21,  3.02draws/s]"
     ]
    },
    {
     "name": "stderr",
     "output_type": "stream",
     "text": [
      "\r",
      "Sampling 4 chains:   8%|▊         | 162/2040 [00:43<09:16,  3.38draws/s]"
     ]
    },
    {
     "name": "stderr",
     "output_type": "stream",
     "text": [
      "\r",
      "Sampling 4 chains:   8%|▊         | 163/2040 [00:44<09:36,  3.25draws/s]"
     ]
    },
    {
     "name": "stderr",
     "output_type": "stream",
     "text": [
      "\r",
      "Sampling 4 chains:   8%|▊         | 164/2040 [00:44<09:39,  3.24draws/s]"
     ]
    },
    {
     "name": "stderr",
     "output_type": "stream",
     "text": [
      "\r",
      "Sampling 4 chains:   8%|▊         | 166/2040 [00:44<07:45,  4.03draws/s]"
     ]
    },
    {
     "name": "stderr",
     "output_type": "stream",
     "text": [
      "\r",
      "Sampling 4 chains:   8%|▊         | 167/2040 [00:45<11:27,  2.73draws/s]"
     ]
    },
    {
     "name": "stderr",
     "output_type": "stream",
     "text": [
      "\r",
      "Sampling 4 chains:   8%|▊         | 168/2040 [00:45<10:00,  3.12draws/s]"
     ]
    },
    {
     "name": "stderr",
     "output_type": "stream",
     "text": [
      "\r",
      "Sampling 4 chains:   8%|▊         | 169/2040 [00:45<08:01,  3.89draws/s]"
     ]
    },
    {
     "name": "stderr",
     "output_type": "stream",
     "text": [
      "\r",
      "Sampling 4 chains:   8%|▊         | 170/2040 [00:46<08:55,  3.49draws/s]"
     ]
    },
    {
     "name": "stderr",
     "output_type": "stream",
     "text": [
      "\r",
      "Sampling 4 chains:   8%|▊         | 171/2040 [00:46<07:55,  3.93draws/s]"
     ]
    },
    {
     "name": "stderr",
     "output_type": "stream",
     "text": [
      "\r",
      "Sampling 4 chains:   8%|▊         | 172/2040 [00:46<07:30,  4.15draws/s]"
     ]
    },
    {
     "name": "stderr",
     "output_type": "stream",
     "text": [
      "\r",
      "Sampling 4 chains:   8%|▊         | 173/2040 [00:47<11:15,  2.76draws/s]"
     ]
    },
    {
     "name": "stderr",
     "output_type": "stream",
     "text": [
      "\r",
      "Sampling 4 chains:   9%|▊         | 174/2040 [00:47<08:59,  3.46draws/s]"
     ]
    },
    {
     "name": "stderr",
     "output_type": "stream",
     "text": [
      "\r",
      "Sampling 4 chains:   9%|▊         | 176/2040 [00:47<07:49,  3.97draws/s]"
     ]
    },
    {
     "name": "stderr",
     "output_type": "stream",
     "text": [
      "\r",
      "Sampling 4 chains:   9%|▊         | 177/2040 [00:48<11:43,  2.65draws/s]"
     ]
    },
    {
     "name": "stderr",
     "output_type": "stream",
     "text": [
      "\r",
      "Sampling 4 chains:   9%|▉         | 179/2040 [00:48<10:38,  2.91draws/s]"
     ]
    },
    {
     "name": "stderr",
     "output_type": "stream",
     "text": [
      "\r",
      "Sampling 4 chains:   9%|▉         | 180/2040 [00:49<10:08,  3.06draws/s]"
     ]
    },
    {
     "name": "stderr",
     "output_type": "stream",
     "text": [
      "\r",
      "Sampling 4 chains:   9%|▉         | 182/2040 [00:49<09:56,  3.11draws/s]"
     ]
    },
    {
     "name": "stderr",
     "output_type": "stream",
     "text": [
      "\r",
      "Sampling 4 chains:   9%|▉         | 183/2040 [00:49<09:40,  3.20draws/s]"
     ]
    },
    {
     "name": "stderr",
     "output_type": "stream",
     "text": [
      "\r",
      "Sampling 4 chains:   9%|▉         | 184/2040 [00:50<09:32,  3.24draws/s]"
     ]
    },
    {
     "name": "stderr",
     "output_type": "stream",
     "text": [
      "\r",
      "Sampling 4 chains:   9%|▉         | 185/2040 [00:50<09:16,  3.33draws/s]"
     ]
    },
    {
     "name": "stderr",
     "output_type": "stream",
     "text": [
      "\r",
      "Sampling 4 chains:   9%|▉         | 186/2040 [00:50<09:02,  3.42draws/s]"
     ]
    },
    {
     "name": "stderr",
     "output_type": "stream",
     "text": [
      "\r",
      "Sampling 4 chains:   9%|▉         | 187/2040 [00:51<07:59,  3.86draws/s]"
     ]
    },
    {
     "name": "stderr",
     "output_type": "stream",
     "text": [
      "\r",
      "Sampling 4 chains:   9%|▉         | 188/2040 [00:51<11:54,  2.59draws/s]"
     ]
    },
    {
     "name": "stderr",
     "output_type": "stream",
     "text": [
      "\r",
      "Sampling 4 chains:   9%|▉         | 190/2040 [00:52<09:54,  3.11draws/s]"
     ]
    },
    {
     "name": "stderr",
     "output_type": "stream",
     "text": [
      "\r",
      "Sampling 4 chains:   9%|▉         | 191/2040 [00:52<09:45,  3.16draws/s]"
     ]
    },
    {
     "name": "stderr",
     "output_type": "stream",
     "text": [
      "\r",
      "Sampling 4 chains:   9%|▉         | 192/2040 [00:52<09:31,  3.24draws/s]"
     ]
    },
    {
     "name": "stderr",
     "output_type": "stream",
     "text": [
      "\r",
      "Sampling 4 chains:   9%|▉         | 193/2040 [00:53<14:36,  2.11draws/s]"
     ]
    },
    {
     "name": "stderr",
     "output_type": "stream",
     "text": [
      "\r",
      "Sampling 4 chains:  10%|▉         | 194/2040 [00:53<11:22,  2.70draws/s]"
     ]
    },
    {
     "name": "stderr",
     "output_type": "stream",
     "text": [
      "\r",
      "Sampling 4 chains:  10%|▉         | 196/2040 [00:54<09:40,  3.18draws/s]"
     ]
    },
    {
     "name": "stderr",
     "output_type": "stream",
     "text": [
      "\r",
      "Sampling 4 chains:  10%|▉         | 197/2040 [00:54<11:25,  2.69draws/s]"
     ]
    },
    {
     "name": "stderr",
     "output_type": "stream",
     "text": [
      "\r",
      "Sampling 4 chains:  10%|▉         | 198/2040 [00:55<12:49,  2.39draws/s]"
     ]
    },
    {
     "name": "stderr",
     "output_type": "stream",
     "text": [
      "\r",
      "Sampling 4 chains:  10%|▉         | 200/2040 [00:55<10:31,  2.92draws/s]"
     ]
    },
    {
     "name": "stderr",
     "output_type": "stream",
     "text": [
      "\r",
      "Sampling 4 chains:  10%|▉         | 202/2040 [00:56<11:19,  2.70draws/s]"
     ]
    },
    {
     "name": "stderr",
     "output_type": "stream",
     "text": [
      "\r",
      "Sampling 4 chains:  10%|▉         | 203/2040 [00:56<10:45,  2.84draws/s]"
     ]
    },
    {
     "name": "stderr",
     "output_type": "stream",
     "text": [
      "\r",
      "Sampling 4 chains:  10%|█         | 205/2040 [00:56<08:51,  3.45draws/s]"
     ]
    },
    {
     "name": "stderr",
     "output_type": "stream",
     "text": [
      "\r",
      "Sampling 4 chains:  10%|█         | 206/2040 [00:57<08:39,  3.53draws/s]"
     ]
    },
    {
     "name": "stderr",
     "output_type": "stream",
     "text": [
      "\r",
      "Sampling 4 chains:  10%|█         | 207/2040 [00:57<13:55,  2.19draws/s]"
     ]
    },
    {
     "name": "stderr",
     "output_type": "stream",
     "text": [
      "\r",
      "Sampling 4 chains:  10%|█         | 209/2040 [00:58<10:20,  2.95draws/s]"
     ]
    },
    {
     "name": "stderr",
     "output_type": "stream",
     "text": [
      "\r",
      "Sampling 4 chains:  10%|█         | 211/2040 [00:58<10:36,  2.87draws/s]"
     ]
    },
    {
     "name": "stderr",
     "output_type": "stream",
     "text": [
      "\r",
      "Sampling 4 chains:  10%|█         | 212/2040 [00:59<13:46,  2.21draws/s]"
     ]
    },
    {
     "name": "stderr",
     "output_type": "stream",
     "text": [
      "\r",
      "Sampling 4 chains:  10%|█         | 214/2040 [00:59<10:12,  2.98draws/s]"
     ]
    },
    {
     "name": "stderr",
     "output_type": "stream",
     "text": [
      "\r",
      "Sampling 4 chains:  11%|█         | 216/2040 [01:00<11:13,  2.71draws/s]"
     ]
    },
    {
     "name": "stderr",
     "output_type": "stream",
     "text": [
      "\r",
      "Sampling 4 chains:  11%|█         | 217/2040 [01:01<12:15,  2.48draws/s]"
     ]
    },
    {
     "name": "stderr",
     "output_type": "stream",
     "text": [
      "\r",
      "Sampling 4 chains:  11%|█         | 220/2040 [01:01<09:46,  3.10draws/s]"
     ]
    },
    {
     "name": "stderr",
     "output_type": "stream",
     "text": [
      "\r",
      "Sampling 4 chains:  11%|█         | 221/2040 [01:02<14:47,  2.05draws/s]"
     ]
    },
    {
     "name": "stderr",
     "output_type": "stream",
     "text": [
      "\r",
      "Sampling 4 chains:  11%|█         | 222/2040 [01:02<11:38,  2.60draws/s]"
     ]
    },
    {
     "name": "stderr",
     "output_type": "stream",
     "text": [
      "\r",
      "Sampling 4 chains:  11%|█         | 224/2040 [01:02<08:38,  3.50draws/s]"
     ]
    },
    {
     "name": "stderr",
     "output_type": "stream",
     "text": [
      "\r",
      "Sampling 4 chains:  11%|█         | 225/2040 [01:03<11:41,  2.59draws/s]"
     ]
    },
    {
     "name": "stderr",
     "output_type": "stream",
     "text": [
      "\r",
      "Sampling 4 chains:  11%|█         | 226/2040 [01:03<14:38,  2.07draws/s]"
     ]
    },
    {
     "name": "stderr",
     "output_type": "stream",
     "text": [
      "\r",
      "Sampling 4 chains:  11%|█         | 227/2040 [01:04<11:32,  2.62draws/s]"
     ]
    },
    {
     "name": "stderr",
     "output_type": "stream",
     "text": [
      "\r",
      "Sampling 4 chains:  11%|█▏        | 230/2040 [01:04<10:40,  2.82draws/s]"
     ]
    },
    {
     "name": "stderr",
     "output_type": "stream",
     "text": [
      "\r",
      "Sampling 4 chains:  11%|█▏        | 231/2040 [01:05<11:49,  2.55draws/s]"
     ]
    },
    {
     "name": "stderr",
     "output_type": "stream",
     "text": [
      "\r",
      "Sampling 4 chains:  11%|█▏        | 232/2040 [01:05<09:49,  3.07draws/s]"
     ]
    },
    {
     "name": "stderr",
     "output_type": "stream",
     "text": [
      "\r",
      "Sampling 4 chains:  11%|█▏        | 234/2040 [01:05<07:50,  3.84draws/s]"
     ]
    },
    {
     "name": "stderr",
     "output_type": "stream",
     "text": [
      "\r",
      "Sampling 4 chains:  12%|█▏        | 235/2040 [01:06<13:16,  2.27draws/s]"
     ]
    },
    {
     "name": "stderr",
     "output_type": "stream",
     "text": [
      "\r",
      "Sampling 4 chains:  12%|█▏        | 236/2040 [01:06<11:28,  2.62draws/s]"
     ]
    },
    {
     "name": "stderr",
     "output_type": "stream",
     "text": [
      "\r",
      "Sampling 4 chains:  12%|█▏        | 237/2040 [01:07<09:31,  3.15draws/s]"
     ]
    },
    {
     "name": "stderr",
     "output_type": "stream",
     "text": [
      "\r",
      "Sampling 4 chains:  12%|█▏        | 239/2040 [01:07<08:44,  3.43draws/s]"
     ]
    },
    {
     "name": "stderr",
     "output_type": "stream",
     "text": [
      "\r",
      "Sampling 4 chains:  12%|█▏        | 240/2040 [01:08<13:54,  2.16draws/s]"
     ]
    },
    {
     "name": "stderr",
     "output_type": "stream",
     "text": [
      "\r",
      "Sampling 4 chains:  12%|█▏        | 243/2040 [01:08<10:20,  2.90draws/s]"
     ]
    },
    {
     "name": "stderr",
     "output_type": "stream",
     "text": [
      "\r",
      "Sampling 4 chains:  12%|█▏        | 244/2040 [01:09<13:20,  2.24draws/s]"
     ]
    },
    {
     "name": "stderr",
     "output_type": "stream",
     "text": [
      "\r",
      "Sampling 4 chains:  12%|█▏        | 245/2040 [01:09<14:50,  2.01draws/s]"
     ]
    },
    {
     "name": "stderr",
     "output_type": "stream",
     "text": [
      "\r",
      "Sampling 4 chains:  12%|█▏        | 247/2040 [01:10<11:20,  2.64draws/s]"
     ]
    },
    {
     "name": "stderr",
     "output_type": "stream",
     "text": [
      "\r",
      "Sampling 4 chains:  12%|█▏        | 249/2040 [01:10<11:58,  2.49draws/s]"
     ]
    },
    {
     "name": "stderr",
     "output_type": "stream",
     "text": [
      "\r",
      "Sampling 4 chains:  12%|█▏        | 250/2040 [01:11<11:39,  2.56draws/s]"
     ]
    },
    {
     "name": "stderr",
     "output_type": "stream",
     "text": [
      "\r",
      "Sampling 4 chains:  12%|█▏        | 252/2040 [01:11<09:09,  3.25draws/s]"
     ]
    },
    {
     "name": "stderr",
     "output_type": "stream",
     "text": [
      "\r",
      "Sampling 4 chains:  12%|█▏        | 253/2040 [01:11<08:50,  3.37draws/s]"
     ]
    },
    {
     "name": "stderr",
     "output_type": "stream",
     "text": [
      "\r",
      "Sampling 4 chains:  12%|█▏        | 254/2040 [01:12<13:53,  2.14draws/s]"
     ]
    },
    {
     "name": "stderr",
     "output_type": "stream",
     "text": [
      "\r",
      "Sampling 4 chains:  12%|█▎        | 255/2040 [01:12<11:06,  2.68draws/s]"
     ]
    },
    {
     "name": "stderr",
     "output_type": "stream",
     "text": [
      "\r",
      "Sampling 4 chains:  13%|█▎        | 257/2040 [01:13<08:45,  3.39draws/s]"
     ]
    },
    {
     "name": "stderr",
     "output_type": "stream",
     "text": [
      "\r",
      "Sampling 4 chains:  13%|█▎        | 258/2040 [01:13<10:32,  2.82draws/s]"
     ]
    },
    {
     "name": "stderr",
     "output_type": "stream",
     "text": [
      "\r",
      "Sampling 4 chains:  13%|█▎        | 259/2040 [01:14<14:17,  2.08draws/s]"
     ]
    },
    {
     "name": "stderr",
     "output_type": "stream",
     "text": [
      "\r",
      "Sampling 4 chains:  13%|█▎        | 262/2040 [01:14<10:38,  2.78draws/s]"
     ]
    },
    {
     "name": "stderr",
     "output_type": "stream",
     "text": [
      "\r",
      "Sampling 4 chains:  13%|█▎        | 263/2040 [01:15<13:52,  2.13draws/s]"
     ]
    },
    {
     "name": "stderr",
     "output_type": "stream",
     "text": [
      "\r",
      "Sampling 4 chains:  13%|█▎        | 264/2040 [01:15<14:37,  2.03draws/s]"
     ]
    },
    {
     "name": "stderr",
     "output_type": "stream",
     "text": [
      "\r",
      "Sampling 4 chains:  13%|█▎        | 266/2040 [01:16<11:16,  2.62draws/s]"
     ]
    },
    {
     "name": "stderr",
     "output_type": "stream",
     "text": [
      "\r",
      "Sampling 4 chains:  13%|█▎        | 268/2040 [01:17<12:03,  2.45draws/s]"
     ]
    },
    {
     "name": "stderr",
     "output_type": "stream",
     "text": [
      "\r",
      "Sampling 4 chains:  13%|█▎        | 269/2040 [01:17<11:15,  2.62draws/s]"
     ]
    },
    {
     "name": "stderr",
     "output_type": "stream",
     "text": [
      "\r",
      "Sampling 4 chains:  13%|█▎        | 271/2040 [01:17<08:58,  3.29draws/s]"
     ]
    },
    {
     "name": "stderr",
     "output_type": "stream",
     "text": [
      "\r",
      "Sampling 4 chains:  13%|█▎        | 272/2040 [01:17<09:00,  3.27draws/s]"
     ]
    },
    {
     "name": "stderr",
     "output_type": "stream",
     "text": [
      "\r",
      "Sampling 4 chains:  13%|█▎        | 273/2040 [01:18<13:56,  2.11draws/s]"
     ]
    },
    {
     "name": "stderr",
     "output_type": "stream",
     "text": [
      "\r",
      "Sampling 4 chains:  13%|█▎        | 275/2040 [01:18<10:20,  2.84draws/s]"
     ]
    },
    {
     "name": "stderr",
     "output_type": "stream",
     "text": [
      "\r",
      "Sampling 4 chains:  14%|█▎        | 276/2040 [01:19<09:04,  3.24draws/s]"
     ]
    },
    {
     "name": "stderr",
     "output_type": "stream",
     "text": [
      "\r",
      "Sampling 4 chains:  14%|█▎        | 277/2040 [01:19<10:58,  2.68draws/s]"
     ]
    },
    {
     "name": "stderr",
     "output_type": "stream",
     "text": [
      "\r",
      "Sampling 4 chains:  14%|█▎        | 278/2040 [01:20<13:56,  2.11draws/s]"
     ]
    },
    {
     "name": "stderr",
     "output_type": "stream",
     "text": [
      "\r",
      "Sampling 4 chains:  14%|█▎        | 280/2040 [01:20<10:26,  2.81draws/s]"
     ]
    },
    {
     "name": "stderr",
     "output_type": "stream",
     "text": [
      "\r",
      "Sampling 4 chains:  14%|█▍        | 281/2040 [01:20<08:26,  3.47draws/s]"
     ]
    },
    {
     "name": "stderr",
     "output_type": "stream",
     "text": [
      "\r",
      "Sampling 4 chains:  14%|█▍        | 282/2040 [01:21<12:19,  2.38draws/s]"
     ]
    },
    {
     "name": "stderr",
     "output_type": "stream",
     "text": [
      "\r",
      "Sampling 4 chains:  14%|█▍        | 283/2040 [01:21<12:45,  2.29draws/s]"
     ]
    },
    {
     "name": "stderr",
     "output_type": "stream",
     "text": [
      "\r",
      "Sampling 4 chains:  14%|█▍        | 285/2040 [01:22<10:13,  2.86draws/s]"
     ]
    },
    {
     "name": "stderr",
     "output_type": "stream",
     "text": [
      "\r",
      "Sampling 4 chains:  14%|█▍        | 287/2040 [01:23<11:20,  2.57draws/s]"
     ]
    },
    {
     "name": "stderr",
     "output_type": "stream",
     "text": [
      "\r",
      "Sampling 4 chains:  14%|█▍        | 288/2040 [01:23<09:52,  2.96draws/s]"
     ]
    },
    {
     "name": "stderr",
     "output_type": "stream",
     "text": [
      "\r",
      "Sampling 4 chains:  14%|█▍        | 290/2040 [01:23<08:18,  3.51draws/s]"
     ]
    },
    {
     "name": "stderr",
     "output_type": "stream",
     "text": [
      "\r",
      "Sampling 4 chains:  14%|█▍        | 291/2040 [01:23<08:38,  3.37draws/s]"
     ]
    },
    {
     "name": "stderr",
     "output_type": "stream",
     "text": [
      "\r",
      "Sampling 4 chains:  14%|█▍        | 292/2040 [01:24<13:32,  2.15draws/s]"
     ]
    },
    {
     "name": "stderr",
     "output_type": "stream",
     "text": [
      "\r",
      "Sampling 4 chains:  14%|█▍        | 295/2040 [01:25<10:23,  2.80draws/s]"
     ]
    },
    {
     "name": "stderr",
     "output_type": "stream",
     "text": [
      "\r",
      "Sampling 4 chains:  15%|█▍        | 296/2040 [01:25<12:11,  2.38draws/s]"
     ]
    },
    {
     "name": "stderr",
     "output_type": "stream",
     "text": [
      "\r",
      "Sampling 4 chains:  15%|█▍        | 297/2040 [01:26<13:29,  2.15draws/s]"
     ]
    },
    {
     "name": "stderr",
     "output_type": "stream",
     "text": [
      "\r",
      "Sampling 4 chains:  15%|█▍        | 299/2040 [01:26<10:43,  2.71draws/s]"
     ]
    },
    {
     "name": "stderr",
     "output_type": "stream",
     "text": [
      "\r",
      "Sampling 4 chains:  15%|█▍        | 301/2040 [01:27<11:16,  2.57draws/s]"
     ]
    },
    {
     "name": "stderr",
     "output_type": "stream",
     "text": [
      "\r",
      "Sampling 4 chains:  15%|█▍        | 302/2040 [01:27<10:49,  2.68draws/s]"
     ]
    },
    {
     "name": "stderr",
     "output_type": "stream",
     "text": [
      "\r",
      "Sampling 4 chains:  15%|█▍        | 304/2040 [01:28<09:10,  3.15draws/s]"
     ]
    },
    {
     "name": "stderr",
     "output_type": "stream",
     "text": [
      "\r",
      "Sampling 4 chains:  15%|█▍        | 305/2040 [01:28<07:46,  3.72draws/s]"
     ]
    },
    {
     "name": "stderr",
     "output_type": "stream",
     "text": [
      "\r",
      "Sampling 4 chains:  15%|█▌        | 306/2040 [01:29<12:54,  2.24draws/s]"
     ]
    },
    {
     "name": "stderr",
     "output_type": "stream",
     "text": [
      "\r",
      "Sampling 4 chains:  15%|█▌        | 307/2040 [01:29<10:03,  2.87draws/s]"
     ]
    },
    {
     "name": "stderr",
     "output_type": "stream",
     "text": [
      "\r",
      "Sampling 4 chains:  15%|█▌        | 309/2040 [01:29<08:37,  3.34draws/s]"
     ]
    },
    {
     "name": "stderr",
     "output_type": "stream",
     "text": [
      "\r",
      "Sampling 4 chains:  15%|█▌        | 310/2040 [01:30<09:20,  3.08draws/s]"
     ]
    },
    {
     "name": "stderr",
     "output_type": "stream",
     "text": [
      "\r",
      "Sampling 4 chains:  15%|█▌        | 311/2040 [01:30<13:03,  2.21draws/s]"
     ]
    },
    {
     "name": "stderr",
     "output_type": "stream",
     "text": [
      "\r",
      "Sampling 4 chains:  15%|█▌        | 313/2040 [01:30<09:37,  2.99draws/s]"
     ]
    },
    {
     "name": "stderr",
     "output_type": "stream",
     "text": [
      "\r",
      "Sampling 4 chains:  15%|█▌        | 314/2040 [01:31<08:52,  3.24draws/s]"
     ]
    },
    {
     "name": "stderr",
     "output_type": "stream",
     "text": [
      "\r",
      "Sampling 4 chains:  15%|█▌        | 315/2040 [01:31<11:30,  2.50draws/s]"
     ]
    },
    {
     "name": "stderr",
     "output_type": "stream",
     "text": [
      "\r",
      "Sampling 4 chains:  15%|█▌        | 316/2040 [01:32<12:01,  2.39draws/s]"
     ]
    },
    {
     "name": "stderr",
     "output_type": "stream",
     "text": [
      "\r",
      "Sampling 4 chains:  16%|█▌        | 317/2040 [01:32<09:20,  3.08draws/s]"
     ]
    },
    {
     "name": "stderr",
     "output_type": "stream",
     "text": [
      "\r",
      "Sampling 4 chains:  16%|█▌        | 318/2040 [01:32<09:13,  3.11draws/s]"
     ]
    },
    {
     "name": "stderr",
     "output_type": "stream",
     "text": [
      "\r",
      "Sampling 4 chains:  16%|█▌        | 320/2040 [01:33<10:11,  2.81draws/s]"
     ]
    },
    {
     "name": "stderr",
     "output_type": "stream",
     "text": [
      "\r",
      "Sampling 4 chains:  16%|█▌        | 321/2040 [01:33<08:07,  3.52draws/s]"
     ]
    },
    {
     "name": "stderr",
     "output_type": "stream",
     "text": [
      "\r",
      "Sampling 4 chains:  16%|█▌        | 322/2040 [01:33<07:30,  3.82draws/s]"
     ]
    },
    {
     "name": "stderr",
     "output_type": "stream",
     "text": [
      "\r",
      "Sampling 4 chains:  16%|█▌        | 323/2040 [01:34<08:26,  3.39draws/s]"
     ]
    },
    {
     "name": "stderr",
     "output_type": "stream",
     "text": [
      "\r",
      "Sampling 4 chains:  16%|█▌        | 324/2040 [01:34<07:22,  3.88draws/s]"
     ]
    },
    {
     "name": "stderr",
     "output_type": "stream",
     "text": [
      "\r",
      "Sampling 4 chains:  16%|█▌        | 325/2040 [01:34<08:46,  3.26draws/s]"
     ]
    },
    {
     "name": "stderr",
     "output_type": "stream",
     "text": [
      "\r",
      "Sampling 4 chains:  16%|█▌        | 326/2040 [01:35<09:54,  2.88draws/s]"
     ]
    },
    {
     "name": "stderr",
     "output_type": "stream",
     "text": [
      "\r",
      "Sampling 4 chains:  16%|█▌        | 328/2040 [01:35<08:56,  3.19draws/s]"
     ]
    },
    {
     "name": "stderr",
     "output_type": "stream",
     "text": [
      "\r",
      "Sampling 4 chains:  16%|█▌        | 329/2040 [01:36<09:31,  2.99draws/s]"
     ]
    },
    {
     "name": "stderr",
     "output_type": "stream",
     "text": [
      "\r",
      "Sampling 4 chains:  16%|█▌        | 331/2040 [01:36<09:47,  2.91draws/s]"
     ]
    },
    {
     "name": "stderr",
     "output_type": "stream",
     "text": [
      "\r",
      "Sampling 4 chains:  16%|█▋        | 332/2040 [01:36<08:06,  3.51draws/s]"
     ]
    },
    {
     "name": "stderr",
     "output_type": "stream",
     "text": [
      "\r",
      "Sampling 4 chains:  16%|█▋        | 333/2040 [01:37<07:41,  3.70draws/s]"
     ]
    },
    {
     "name": "stderr",
     "output_type": "stream",
     "text": [
      "\r",
      "Sampling 4 chains:  16%|█▋        | 334/2040 [01:37<07:41,  3.70draws/s]"
     ]
    },
    {
     "name": "stderr",
     "output_type": "stream",
     "text": [
      "\r",
      "Sampling 4 chains:  16%|█▋        | 335/2040 [01:37<08:26,  3.37draws/s]"
     ]
    },
    {
     "name": "stderr",
     "output_type": "stream",
     "text": [
      "\r",
      "Sampling 4 chains:  16%|█▋        | 336/2040 [01:38<10:01,  2.83draws/s]"
     ]
    },
    {
     "name": "stderr",
     "output_type": "stream",
     "text": [
      "\r",
      "Sampling 4 chains:  17%|█▋        | 337/2040 [01:38<10:18,  2.75draws/s]"
     ]
    },
    {
     "name": "stderr",
     "output_type": "stream",
     "text": [
      "\r",
      "Sampling 4 chains:  17%|█▋        | 339/2040 [01:38<07:42,  3.68draws/s]"
     ]
    },
    {
     "name": "stderr",
     "output_type": "stream",
     "text": [
      "\r",
      "Sampling 4 chains:  17%|█▋        | 340/2040 [01:39<13:32,  2.09draws/s]"
     ]
    },
    {
     "name": "stderr",
     "output_type": "stream",
     "text": [
      "\r",
      "Sampling 4 chains:  17%|█▋        | 342/2040 [01:40<11:06,  2.55draws/s]"
     ]
    },
    {
     "name": "stderr",
     "output_type": "stream",
     "text": [
      "\r",
      "Sampling 4 chains:  17%|█▋        | 344/2040 [01:41<11:59,  2.36draws/s]"
     ]
    },
    {
     "name": "stderr",
     "output_type": "stream",
     "text": [
      "\r",
      "Sampling 4 chains:  17%|█▋        | 345/2040 [01:41<09:41,  2.91draws/s]"
     ]
    },
    {
     "name": "stderr",
     "output_type": "stream",
     "text": [
      "\r",
      "Sampling 4 chains:  17%|█▋        | 346/2040 [01:41<08:17,  3.40draws/s]"
     ]
    },
    {
     "name": "stderr",
     "output_type": "stream",
     "text": [
      "\r",
      "Sampling 4 chains:  17%|█▋        | 347/2040 [01:41<07:38,  3.69draws/s]"
     ]
    },
    {
     "name": "stderr",
     "output_type": "stream",
     "text": [
      "\r",
      "Sampling 4 chains:  17%|█▋        | 348/2040 [01:42<12:51,  2.19draws/s]"
     ]
    },
    {
     "name": "stderr",
     "output_type": "stream",
     "text": [
      "\r",
      "Sampling 4 chains:  17%|█▋        | 349/2040 [01:42<10:43,  2.63draws/s]"
     ]
    },
    {
     "name": "stderr",
     "output_type": "stream",
     "text": [
      "\r",
      "Sampling 4 chains:  17%|█▋        | 350/2040 [01:42<08:34,  3.29draws/s]"
     ]
    },
    {
     "name": "stderr",
     "output_type": "stream",
     "text": [
      "\r",
      "Sampling 4 chains:  17%|█▋        | 351/2040 [01:43<09:45,  2.88draws/s]"
     ]
    },
    {
     "name": "stderr",
     "output_type": "stream",
     "text": [
      "\r",
      "Sampling 4 chains:  17%|█▋        | 352/2040 [01:44<12:40,  2.22draws/s]"
     ]
    },
    {
     "name": "stderr",
     "output_type": "stream",
     "text": [
      "\r",
      "Sampling 4 chains:  17%|█▋        | 353/2040 [01:44<10:54,  2.58draws/s]"
     ]
    },
    {
     "name": "stderr",
     "output_type": "stream",
     "text": [
      "\r",
      "Sampling 4 chains:  17%|█▋        | 354/2040 [01:44<08:44,  3.21draws/s]"
     ]
    },
    {
     "name": "stderr",
     "output_type": "stream",
     "text": [
      "\r",
      "Sampling 4 chains:  17%|█▋        | 355/2040 [01:45<15:24,  1.82draws/s]"
     ]
    },
    {
     "name": "stderr",
     "output_type": "stream",
     "text": [
      "\r",
      "Sampling 4 chains:  17%|█▋        | 356/2040 [01:45<13:10,  2.13draws/s]"
     ]
    },
    {
     "name": "stderr",
     "output_type": "stream",
     "text": [
      "\r",
      "Sampling 4 chains:  18%|█▊        | 359/2040 [01:47<12:24,  2.26draws/s]"
     ]
    },
    {
     "name": "stderr",
     "output_type": "stream",
     "text": [
      "\r",
      "Sampling 4 chains:  18%|█▊        | 360/2040 [01:47<11:34,  2.42draws/s]"
     ]
    },
    {
     "name": "stderr",
     "output_type": "stream",
     "text": [
      "\r",
      "Sampling 4 chains:  18%|█▊        | 361/2040 [01:47<12:04,  2.32draws/s]"
     ]
    },
    {
     "name": "stderr",
     "output_type": "stream",
     "text": [
      "\r",
      "Sampling 4 chains:  18%|█▊        | 362/2040 [01:48<13:25,  2.08draws/s]"
     ]
    },
    {
     "name": "stderr",
     "output_type": "stream",
     "text": [
      "\r",
      "Sampling 4 chains:  18%|█▊        | 364/2040 [01:48<11:40,  2.39draws/s]"
     ]
    },
    {
     "name": "stderr",
     "output_type": "stream",
     "text": [
      "\r",
      "Sampling 4 chains:  18%|█▊        | 365/2040 [01:49<15:08,  1.84draws/s]"
     ]
    },
    {
     "name": "stderr",
     "output_type": "stream",
     "text": [
      "\r",
      "Sampling 4 chains:  18%|█▊        | 366/2040 [01:50<14:47,  1.89draws/s]"
     ]
    },
    {
     "name": "stderr",
     "output_type": "stream",
     "text": [
      "\r",
      "Sampling 4 chains:  18%|█▊        | 368/2040 [01:50<11:46,  2.37draws/s]"
     ]
    },
    {
     "name": "stderr",
     "output_type": "stream",
     "text": [
      "\r",
      "Sampling 4 chains:  18%|█▊        | 369/2040 [01:51<12:09,  2.29draws/s]"
     ]
    },
    {
     "name": "stderr",
     "output_type": "stream",
     "text": [
      "\r",
      "Sampling 4 chains:  18%|█▊        | 370/2040 [01:51<14:07,  1.97draws/s]"
     ]
    },
    {
     "name": "stderr",
     "output_type": "stream",
     "text": [
      "\r",
      "Sampling 4 chains:  18%|█▊        | 372/2040 [01:52<11:21,  2.45draws/s]"
     ]
    },
    {
     "name": "stderr",
     "output_type": "stream",
     "text": [
      "\r",
      "Sampling 4 chains:  18%|█▊        | 373/2040 [01:52<10:15,  2.71draws/s]"
     ]
    },
    {
     "name": "stderr",
     "output_type": "stream",
     "text": [
      "\r",
      "Sampling 4 chains:  18%|█▊        | 374/2040 [01:53<14:34,  1.91draws/s]"
     ]
    },
    {
     "name": "stderr",
     "output_type": "stream",
     "text": [
      "\r",
      "Sampling 4 chains:  18%|█▊        | 376/2040 [01:53<11:39,  2.38draws/s]"
     ]
    },
    {
     "name": "stderr",
     "output_type": "stream",
     "text": [
      "\r",
      "Sampling 4 chains:  18%|█▊        | 377/2040 [01:53<09:11,  3.01draws/s]"
     ]
    },
    {
     "name": "stderr",
     "output_type": "stream",
     "text": [
      "\r",
      "Sampling 4 chains:  19%|█▊        | 378/2040 [01:54<14:55,  1.86draws/s]"
     ]
    },
    {
     "name": "stderr",
     "output_type": "stream",
     "text": [
      "\r",
      "Sampling 4 chains:  19%|█▊        | 380/2040 [01:55<11:54,  2.32draws/s]"
     ]
    },
    {
     "name": "stderr",
     "output_type": "stream",
     "text": [
      "\r",
      "Sampling 4 chains:  19%|█▊        | 382/2040 [01:56<13:03,  2.12draws/s]"
     ]
    },
    {
     "name": "stderr",
     "output_type": "stream",
     "text": [
      "\r",
      "Sampling 4 chains:  19%|█▉        | 384/2040 [01:56<09:56,  2.78draws/s]"
     ]
    },
    {
     "name": "stderr",
     "output_type": "stream",
     "text": [
      "\r",
      "Sampling 4 chains:  19%|█▉        | 385/2040 [01:56<08:21,  3.30draws/s]"
     ]
    },
    {
     "name": "stderr",
     "output_type": "stream",
     "text": [
      "\r",
      "Sampling 4 chains:  19%|█▉        | 386/2040 [01:57<15:12,  1.81draws/s]"
     ]
    },
    {
     "name": "stderr",
     "output_type": "stream",
     "text": [
      "\r",
      "Sampling 4 chains:  19%|█▉        | 388/2040 [01:58<11:32,  2.38draws/s]"
     ]
    },
    {
     "name": "stderr",
     "output_type": "stream",
     "text": [
      "\r",
      "Sampling 4 chains:  19%|█▉        | 389/2040 [01:58<09:17,  2.96draws/s]"
     ]
    },
    {
     "name": "stderr",
     "output_type": "stream",
     "text": [
      "\r",
      "Sampling 4 chains:  19%|█▉        | 390/2040 [01:59<15:53,  1.73draws/s]"
     ]
    },
    {
     "name": "stderr",
     "output_type": "stream",
     "text": [
      "\r",
      "Sampling 4 chains:  19%|█▉        | 392/2040 [01:59<11:38,  2.36draws/s]"
     ]
    },
    {
     "name": "stderr",
     "output_type": "stream",
     "text": [
      "\r",
      "Sampling 4 chains:  19%|█▉        | 393/2040 [01:59<10:08,  2.71draws/s]"
     ]
    },
    {
     "name": "stderr",
     "output_type": "stream",
     "text": [
      "\r",
      "Sampling 4 chains:  19%|█▉        | 394/2040 [02:00<16:42,  1.64draws/s]"
     ]
    },
    {
     "name": "stderr",
     "output_type": "stream",
     "text": [
      "\r",
      "Sampling 4 chains:  19%|█▉        | 397/2040 [02:01<12:38,  2.17draws/s]"
     ]
    },
    {
     "name": "stderr",
     "output_type": "stream",
     "text": [
      "\r",
      "Sampling 4 chains:  20%|█▉        | 398/2040 [02:02<17:18,  1.58draws/s]"
     ]
    },
    {
     "name": "stderr",
     "output_type": "stream",
     "text": [
      "\r",
      "Sampling 4 chains:  20%|█▉        | 399/2040 [02:02<13:31,  2.02draws/s]"
     ]
    },
    {
     "name": "stderr",
     "output_type": "stream",
     "text": [
      "\r",
      "Sampling 4 chains:  20%|█▉        | 401/2040 [02:02<10:51,  2.52draws/s]"
     ]
    },
    {
     "name": "stderr",
     "output_type": "stream",
     "text": [
      "\r",
      "Sampling 4 chains:  20%|█▉        | 402/2040 [02:03<14:55,  1.83draws/s]"
     ]
    },
    {
     "name": "stderr",
     "output_type": "stream",
     "text": [
      "\r",
      "Sampling 4 chains:  20%|█▉        | 403/2040 [02:03<12:36,  2.16draws/s]"
     ]
    },
    {
     "name": "stderr",
     "output_type": "stream",
     "text": [
      "\r",
      "Sampling 4 chains:  20%|█▉        | 405/2040 [02:04<10:13,  2.66draws/s]"
     ]
    },
    {
     "name": "stderr",
     "output_type": "stream",
     "text": [
      "\r",
      "Sampling 4 chains:  20%|█▉        | 406/2040 [02:04<13:13,  2.06draws/s]"
     ]
    },
    {
     "name": "stderr",
     "output_type": "stream",
     "text": [
      "\r",
      "Sampling 4 chains:  20%|█▉        | 407/2040 [02:05<12:09,  2.24draws/s]"
     ]
    },
    {
     "name": "stderr",
     "output_type": "stream",
     "text": [
      "\r",
      "Sampling 4 chains:  20%|██        | 409/2040 [02:05<10:09,  2.68draws/s]"
     ]
    },
    {
     "name": "stderr",
     "output_type": "stream",
     "text": [
      "\r",
      "Sampling 4 chains:  20%|██        | 410/2040 [02:06<12:46,  2.13draws/s]"
     ]
    },
    {
     "name": "stderr",
     "output_type": "stream",
     "text": [
      "\r",
      "Sampling 4 chains:  20%|██        | 411/2040 [02:06<11:40,  2.33draws/s]"
     ]
    },
    {
     "name": "stderr",
     "output_type": "stream",
     "text": [
      "\r",
      "Sampling 4 chains:  20%|██        | 413/2040 [02:07<10:05,  2.69draws/s]"
     ]
    },
    {
     "name": "stderr",
     "output_type": "stream",
     "text": [
      "\r",
      "Sampling 4 chains:  20%|██        | 414/2040 [02:07<11:22,  2.38draws/s]"
     ]
    },
    {
     "name": "stderr",
     "output_type": "stream",
     "text": [
      "\r",
      "Sampling 4 chains:  20%|██        | 415/2040 [02:08<11:51,  2.28draws/s]"
     ]
    },
    {
     "name": "stderr",
     "output_type": "stream",
     "text": [
      "\r",
      "Sampling 4 chains:  20%|██        | 417/2040 [02:08<10:17,  2.63draws/s]"
     ]
    },
    {
     "name": "stderr",
     "output_type": "stream",
     "text": [
      "\r",
      "Sampling 4 chains:  20%|██        | 418/2040 [02:09<10:13,  2.65draws/s]"
     ]
    },
    {
     "name": "stderr",
     "output_type": "stream",
     "text": [
      "\r",
      "Sampling 4 chains:  21%|██        | 419/2040 [02:09<12:18,  2.19draws/s]"
     ]
    },
    {
     "name": "stderr",
     "output_type": "stream",
     "text": [
      "\r",
      "Sampling 4 chains:  21%|██        | 421/2040 [02:10<10:38,  2.53draws/s]"
     ]
    },
    {
     "name": "stderr",
     "output_type": "stream",
     "text": [
      "\r",
      "Sampling 4 chains:  21%|██        | 422/2040 [02:10<09:11,  2.93draws/s]"
     ]
    },
    {
     "name": "stderr",
     "output_type": "stream",
     "text": [
      "\r",
      "Sampling 4 chains:  21%|██        | 423/2040 [02:11<12:20,  2.18draws/s]"
     ]
    },
    {
     "name": "stderr",
     "output_type": "stream",
     "text": [
      "\r",
      "Sampling 4 chains:  21%|██        | 425/2040 [02:11<10:52,  2.47draws/s]"
     ]
    },
    {
     "name": "stderr",
     "output_type": "stream",
     "text": [
      "\r",
      "Sampling 4 chains:  21%|██        | 426/2040 [02:11<09:10,  2.93draws/s]"
     ]
    },
    {
     "name": "stderr",
     "output_type": "stream",
     "text": [
      "\r",
      "Sampling 4 chains:  21%|██        | 427/2040 [02:12<11:53,  2.26draws/s]"
     ]
    },
    {
     "name": "stderr",
     "output_type": "stream",
     "text": [
      "\r",
      "Sampling 4 chains:  21%|██        | 428/2040 [02:12<09:34,  2.81draws/s]"
     ]
    },
    {
     "name": "stderr",
     "output_type": "stream",
     "text": [
      "\r",
      "Sampling 4 chains:  21%|██        | 429/2040 [02:13<10:55,  2.46draws/s]"
     ]
    },
    {
     "name": "stderr",
     "output_type": "stream",
     "text": [
      "\r",
      "Sampling 4 chains:  21%|██        | 431/2040 [02:14<10:40,  2.51draws/s]"
     ]
    },
    {
     "name": "stderr",
     "output_type": "stream",
     "text": [
      "\r",
      "Sampling 4 chains:  21%|██        | 432/2040 [02:14<09:12,  2.91draws/s]"
     ]
    },
    {
     "name": "stderr",
     "output_type": "stream",
     "text": [
      "\r",
      "Sampling 4 chains:  21%|██        | 433/2040 [02:14<10:18,  2.60draws/s]"
     ]
    },
    {
     "name": "stderr",
     "output_type": "stream",
     "text": [
      "\r",
      "Sampling 4 chains:  21%|██▏       | 434/2040 [02:14<08:10,  3.27draws/s]"
     ]
    },
    {
     "name": "stderr",
     "output_type": "stream",
     "text": [
      "\r",
      "Sampling 4 chains:  21%|██▏       | 435/2040 [02:15<11:04,  2.42draws/s]"
     ]
    },
    {
     "name": "stderr",
     "output_type": "stream",
     "text": [
      "\r",
      "Sampling 4 chains:  21%|██▏       | 436/2040 [02:15<09:24,  2.84draws/s]"
     ]
    },
    {
     "name": "stderr",
     "output_type": "stream",
     "text": [
      "\r",
      "Sampling 4 chains:  21%|██▏       | 437/2040 [02:16<09:11,  2.91draws/s]"
     ]
    },
    {
     "name": "stderr",
     "output_type": "stream",
     "text": [
      "\r",
      "Sampling 4 chains:  21%|██▏       | 438/2040 [02:16<09:06,  2.93draws/s]"
     ]
    },
    {
     "name": "stderr",
     "output_type": "stream",
     "text": [
      "\r",
      "Sampling 4 chains:  22%|██▏       | 439/2040 [02:17<11:32,  2.31draws/s]"
     ]
    },
    {
     "name": "stderr",
     "output_type": "stream",
     "text": [
      "\r",
      "Sampling 4 chains:  22%|██▏       | 440/2040 [02:17<09:49,  2.71draws/s]"
     ]
    },
    {
     "name": "stderr",
     "output_type": "stream",
     "text": [
      "\r",
      "Sampling 4 chains:  22%|██▏       | 441/2040 [02:17<07:57,  3.35draws/s]"
     ]
    },
    {
     "name": "stderr",
     "output_type": "stream",
     "text": [
      "\r",
      "Sampling 4 chains:  22%|██▏       | 442/2040 [02:17<09:55,  2.68draws/s]"
     ]
    },
    {
     "name": "stderr",
     "output_type": "stream",
     "text": [
      "\r",
      "Sampling 4 chains:  22%|██▏       | 443/2040 [02:18<11:47,  2.26draws/s]"
     ]
    },
    {
     "name": "stderr",
     "output_type": "stream",
     "text": [
      "\r",
      "Sampling 4 chains:  22%|██▏       | 444/2040 [02:18<09:22,  2.84draws/s]"
     ]
    },
    {
     "name": "stderr",
     "output_type": "stream",
     "text": [
      "\r",
      "Sampling 4 chains:  22%|██▏       | 446/2040 [02:19<09:45,  2.72draws/s]"
     ]
    },
    {
     "name": "stderr",
     "output_type": "stream",
     "text": [
      "\r",
      "Sampling 4 chains:  22%|██▏       | 447/2040 [02:20<11:03,  2.40draws/s]"
     ]
    },
    {
     "name": "stderr",
     "output_type": "stream",
     "text": [
      "\r",
      "Sampling 4 chains:  22%|██▏       | 448/2040 [02:20<08:37,  3.08draws/s]"
     ]
    },
    {
     "name": "stderr",
     "output_type": "stream",
     "text": [
      "\r",
      "Sampling 4 chains:  22%|██▏       | 449/2040 [02:20<07:02,  3.76draws/s]"
     ]
    },
    {
     "name": "stderr",
     "output_type": "stream",
     "text": [
      "\r",
      "Sampling 4 chains:  22%|██▏       | 450/2040 [02:21<10:49,  2.45draws/s]"
     ]
    },
    {
     "name": "stderr",
     "output_type": "stream",
     "text": [
      "\r",
      "Sampling 4 chains:  22%|██▏       | 451/2040 [02:21<11:25,  2.32draws/s]"
     ]
    },
    {
     "name": "stderr",
     "output_type": "stream",
     "text": [
      "\r",
      "Sampling 4 chains:  22%|██▏       | 452/2040 [02:21<08:49,  3.00draws/s]"
     ]
    },
    {
     "name": "stderr",
     "output_type": "stream",
     "text": [
      "\r",
      "Sampling 4 chains:  22%|██▏       | 453/2040 [02:21<07:09,  3.70draws/s]"
     ]
    },
    {
     "name": "stderr",
     "output_type": "stream",
     "text": [
      "\r",
      "Sampling 4 chains:  22%|██▏       | 454/2040 [02:22<11:38,  2.27draws/s]"
     ]
    },
    {
     "name": "stderr",
     "output_type": "stream",
     "text": [
      "\r",
      "Sampling 4 chains:  22%|██▏       | 455/2040 [02:22<10:58,  2.41draws/s]"
     ]
    },
    {
     "name": "stderr",
     "output_type": "stream",
     "text": [
      "\r",
      "Sampling 4 chains:  22%|██▏       | 457/2040 [02:23<08:41,  3.03draws/s]"
     ]
    },
    {
     "name": "stderr",
     "output_type": "stream",
     "text": [
      "\r",
      "Sampling 4 chains:  22%|██▏       | 458/2040 [02:24<13:18,  1.98draws/s]"
     ]
    },
    {
     "name": "stderr",
     "output_type": "stream",
     "text": [
      "\r",
      "Sampling 4 chains:  22%|██▎       | 459/2040 [02:24<11:34,  2.28draws/s]"
     ]
    },
    {
     "name": "stderr",
     "output_type": "stream",
     "text": [
      "\r",
      "Sampling 4 chains:  23%|██▎       | 461/2040 [02:24<09:18,  2.83draws/s]"
     ]
    },
    {
     "name": "stderr",
     "output_type": "stream",
     "text": [
      "\r",
      "Sampling 4 chains:  23%|██▎       | 462/2040 [02:25<13:48,  1.90draws/s]"
     ]
    },
    {
     "name": "stderr",
     "output_type": "stream",
     "text": [
      "\r",
      "Sampling 4 chains:  23%|██▎       | 464/2040 [02:25<10:33,  2.49draws/s]"
     ]
    },
    {
     "name": "stderr",
     "output_type": "stream",
     "text": [
      "\r",
      "Sampling 4 chains:  23%|██▎       | 465/2040 [02:26<10:02,  2.61draws/s]"
     ]
    },
    {
     "name": "stderr",
     "output_type": "stream",
     "text": [
      "\r",
      "Sampling 4 chains:  23%|██▎       | 466/2040 [02:27<13:53,  1.89draws/s]"
     ]
    },
    {
     "name": "stderr",
     "output_type": "stream",
     "text": [
      "\r",
      "Sampling 4 chains:  23%|██▎       | 468/2040 [02:27<10:53,  2.41draws/s]"
     ]
    },
    {
     "name": "stderr",
     "output_type": "stream",
     "text": [
      "\r",
      "Sampling 4 chains:  23%|██▎       | 469/2040 [02:27<09:41,  2.70draws/s]"
     ]
    },
    {
     "name": "stderr",
     "output_type": "stream",
     "text": [
      "\r",
      "Sampling 4 chains:  23%|██▎       | 470/2040 [02:28<12:30,  2.09draws/s]"
     ]
    },
    {
     "name": "stderr",
     "output_type": "stream",
     "text": [
      "\r",
      "Sampling 4 chains:  23%|██▎       | 471/2040 [02:28<11:04,  2.36draws/s]"
     ]
    },
    {
     "name": "stderr",
     "output_type": "stream",
     "text": [
      "\r",
      "Sampling 4 chains:  23%|██▎       | 472/2040 [02:28<09:30,  2.75draws/s]"
     ]
    },
    {
     "name": "stderr",
     "output_type": "stream",
     "text": [
      "\r",
      "Sampling 4 chains:  23%|██▎       | 473/2040 [02:29<08:10,  3.19draws/s]"
     ]
    },
    {
     "name": "stderr",
     "output_type": "stream",
     "text": [
      "\r",
      "Sampling 4 chains:  23%|██▎       | 474/2040 [02:29<10:48,  2.42draws/s]"
     ]
    },
    {
     "name": "stderr",
     "output_type": "stream",
     "text": [
      "\r",
      "Sampling 4 chains:  23%|██▎       | 475/2040 [02:30<10:11,  2.56draws/s]"
     ]
    },
    {
     "name": "stderr",
     "output_type": "stream",
     "text": [
      "\r",
      "Sampling 4 chains:  23%|██▎       | 476/2040 [02:30<09:43,  2.68draws/s]"
     ]
    },
    {
     "name": "stderr",
     "output_type": "stream",
     "text": [
      "\r",
      "Sampling 4 chains:  23%|██▎       | 477/2040 [02:30<08:13,  3.17draws/s]"
     ]
    },
    {
     "name": "stderr",
     "output_type": "stream",
     "text": [
      "\r",
      "Sampling 4 chains:  23%|██▎       | 478/2040 [02:31<09:42,  2.68draws/s]"
     ]
    },
    {
     "name": "stderr",
     "output_type": "stream",
     "text": [
      "\r",
      "Sampling 4 chains:  23%|██▎       | 479/2040 [02:31<10:41,  2.43draws/s]"
     ]
    },
    {
     "name": "stderr",
     "output_type": "stream",
     "text": [
      "\r",
      "Sampling 4 chains:  24%|██▎       | 480/2040 [02:31<10:00,  2.60draws/s]"
     ]
    },
    {
     "name": "stderr",
     "output_type": "stream",
     "text": [
      "\r",
      "Sampling 4 chains:  24%|██▎       | 481/2040 [02:32<08:17,  3.13draws/s]"
     ]
    },
    {
     "name": "stderr",
     "output_type": "stream",
     "text": [
      "\r",
      "Sampling 4 chains:  24%|██▎       | 482/2040 [02:32<09:05,  2.86draws/s]"
     ]
    },
    {
     "name": "stderr",
     "output_type": "stream",
     "text": [
      "\r",
      "Sampling 4 chains:  24%|██▎       | 483/2040 [02:33<11:03,  2.35draws/s]"
     ]
    },
    {
     "name": "stderr",
     "output_type": "stream",
     "text": [
      "\r",
      "Sampling 4 chains:  24%|██▎       | 484/2040 [02:33<10:07,  2.56draws/s]"
     ]
    },
    {
     "name": "stderr",
     "output_type": "stream",
     "text": [
      "\r",
      "Sampling 4 chains:  24%|██▍       | 486/2040 [02:33<08:55,  2.90draws/s]"
     ]
    },
    {
     "name": "stderr",
     "output_type": "stream",
     "text": [
      "\r",
      "Sampling 4 chains:  24%|██▍       | 487/2040 [02:34<12:28,  2.07draws/s]"
     ]
    },
    {
     "name": "stderr",
     "output_type": "stream",
     "text": [
      "\r",
      "Sampling 4 chains:  24%|██▍       | 489/2040 [02:35<10:11,  2.54draws/s]"
     ]
    },
    {
     "name": "stderr",
     "output_type": "stream",
     "text": [
      "\r",
      "Sampling 4 chains:  24%|██▍       | 490/2040 [02:35<09:02,  2.86draws/s]"
     ]
    },
    {
     "name": "stderr",
     "output_type": "stream",
     "text": [
      "\r",
      "Sampling 4 chains:  24%|██▍       | 491/2040 [02:36<13:11,  1.96draws/s]"
     ]
    },
    {
     "name": "stderr",
     "output_type": "stream",
     "text": [
      "\r",
      "Sampling 4 chains:  24%|██▍       | 493/2040 [02:36<10:32,  2.45draws/s]"
     ]
    },
    {
     "name": "stderr",
     "output_type": "stream",
     "text": [
      "\r",
      "Sampling 4 chains:  24%|██▍       | 494/2040 [02:36<08:26,  3.05draws/s]"
     ]
    },
    {
     "name": "stderr",
     "output_type": "stream",
     "text": [
      "\r",
      "Sampling 4 chains:  24%|██▍       | 495/2040 [02:37<13:19,  1.93draws/s]"
     ]
    },
    {
     "name": "stderr",
     "output_type": "stream",
     "text": [
      "\r",
      "Sampling 4 chains:  24%|██▍       | 496/2040 [02:37<10:18,  2.50draws/s]"
     ]
    },
    {
     "name": "stderr",
     "output_type": "stream",
     "text": [
      "\r",
      "Sampling 4 chains:  24%|██▍       | 497/2040 [02:38<09:07,  2.82draws/s]"
     ]
    },
    {
     "name": "stderr",
     "output_type": "stream",
     "text": [
      "\r",
      "Sampling 4 chains:  24%|██▍       | 498/2040 [02:38<07:43,  3.33draws/s]"
     ]
    },
    {
     "name": "stderr",
     "output_type": "stream",
     "text": [
      "\r",
      "Sampling 4 chains:  24%|██▍       | 499/2040 [02:39<12:44,  2.01draws/s]"
     ]
    },
    {
     "name": "stderr",
     "output_type": "stream",
     "text": [
      "\r",
      "Sampling 4 chains:  25%|██▍       | 500/2040 [02:39<10:04,  2.55draws/s]"
     ]
    },
    {
     "name": "stderr",
     "output_type": "stream",
     "text": [
      "\r",
      "Sampling 4 chains:  25%|██▍       | 501/2040 [02:39<08:52,  2.89draws/s]"
     ]
    },
    {
     "name": "stderr",
     "output_type": "stream",
     "text": [
      "\r",
      "Sampling 4 chains:  25%|██▍       | 503/2040 [02:40<10:15,  2.50draws/s]"
     ]
    },
    {
     "name": "stderr",
     "output_type": "stream",
     "text": [
      "\r",
      "Sampling 4 chains:  25%|██▍       | 504/2040 [02:40<08:54,  2.88draws/s]"
     ]
    },
    {
     "name": "stderr",
     "output_type": "stream",
     "text": [
      "\r",
      "Sampling 4 chains:  25%|██▍       | 506/2040 [02:40<06:48,  3.76draws/s]"
     ]
    },
    {
     "name": "stderr",
     "output_type": "stream",
     "text": [
      "\r",
      "Sampling 4 chains:  25%|██▍       | 507/2040 [02:42<12:50,  1.99draws/s]"
     ]
    },
    {
     "name": "stderr",
     "output_type": "stream",
     "text": [
      "\r",
      "Sampling 4 chains:  25%|██▍       | 508/2040 [02:42<11:10,  2.28draws/s]"
     ]
    },
    {
     "name": "stderr",
     "output_type": "stream",
     "text": [
      "\r",
      "Sampling 4 chains:  25%|██▌       | 511/2040 [02:43<10:52,  2.34draws/s]"
     ]
    },
    {
     "name": "stderr",
     "output_type": "stream",
     "text": [
      "\r",
      "Sampling 4 chains:  25%|██▌       | 512/2040 [02:43<08:53,  2.86draws/s]"
     ]
    },
    {
     "name": "stderr",
     "output_type": "stream",
     "text": [
      "\r",
      "Sampling 4 chains:  25%|██▌       | 514/2040 [02:43<06:42,  3.79draws/s]"
     ]
    },
    {
     "name": "stderr",
     "output_type": "stream",
     "text": [
      "\r",
      "Sampling 4 chains:  25%|██▌       | 515/2040 [02:44<12:59,  1.96draws/s]"
     ]
    },
    {
     "name": "stderr",
     "output_type": "stream",
     "text": [
      "\r",
      "Sampling 4 chains:  25%|██▌       | 516/2040 [02:45<10:30,  2.42draws/s]"
     ]
    },
    {
     "name": "stderr",
     "output_type": "stream",
     "text": [
      "\r",
      "Sampling 4 chains:  25%|██▌       | 518/2040 [02:45<08:09,  3.11draws/s]"
     ]
    },
    {
     "name": "stderr",
     "output_type": "stream",
     "text": [
      "\r",
      "Sampling 4 chains:  25%|██▌       | 519/2040 [02:46<13:56,  1.82draws/s]"
     ]
    },
    {
     "name": "stderr",
     "output_type": "stream",
     "text": [
      "\r",
      "Sampling 4 chains:  26%|██▌       | 521/2040 [02:46<10:27,  2.42draws/s]"
     ]
    },
    {
     "name": "stderr",
     "output_type": "stream",
     "text": [
      "\r",
      "Sampling 4 chains:  26%|██▌       | 522/2040 [02:46<09:00,  2.81draws/s]"
     ]
    },
    {
     "name": "stderr",
     "output_type": "stream",
     "text": [
      "\r",
      "Sampling 4 chains:  26%|██▌       | 523/2040 [02:47<14:21,  1.76draws/s]"
     ]
    },
    {
     "name": "stderr",
     "output_type": "stream",
     "text": [
      "\r",
      "Sampling 4 chains:  26%|██▌       | 525/2040 [02:48<10:38,  2.37draws/s]"
     ]
    },
    {
     "name": "stderr",
     "output_type": "stream",
     "text": [
      "\r",
      "Sampling 4 chains:  26%|██▌       | 526/2040 [02:48<09:05,  2.77draws/s]"
     ]
    },
    {
     "name": "stderr",
     "output_type": "stream",
     "text": [
      "\r",
      "Sampling 4 chains:  26%|██▌       | 527/2040 [02:49<13:42,  1.84draws/s]"
     ]
    },
    {
     "name": "stderr",
     "output_type": "stream",
     "text": [
      "\r",
      "Sampling 4 chains:  26%|██▌       | 529/2040 [02:49<09:58,  2.52draws/s]"
     ]
    },
    {
     "name": "stderr",
     "output_type": "stream",
     "text": [
      "\r",
      "Sampling 4 chains:  26%|██▌       | 530/2040 [02:49<08:56,  2.81draws/s]"
     ]
    },
    {
     "name": "stderr",
     "output_type": "stream",
     "text": [
      "\r",
      "Sampling 4 chains:  26%|██▌       | 531/2040 [02:50<14:53,  1.69draws/s]"
     ]
    },
    {
     "name": "stderr",
     "output_type": "stream",
     "text": [
      "\r",
      "Sampling 4 chains:  26%|██▌       | 533/2040 [02:51<11:33,  2.17draws/s]"
     ]
    },
    {
     "name": "stderr",
     "output_type": "stream",
     "text": [
      "\r",
      "Sampling 4 chains:  26%|██▌       | 534/2040 [02:51<09:17,  2.70draws/s]"
     ]
    },
    {
     "name": "stderr",
     "output_type": "stream",
     "text": [
      "\r",
      "Sampling 4 chains:  26%|██▌       | 535/2040 [02:52<14:02,  1.79draws/s]"
     ]
    },
    {
     "name": "stderr",
     "output_type": "stream",
     "text": [
      "\r",
      "Sampling 4 chains:  26%|██▋       | 537/2040 [02:53<13:10,  1.90draws/s]"
     ]
    },
    {
     "name": "stderr",
     "output_type": "stream",
     "text": [
      "\r",
      "Sampling 4 chains:  26%|██▋       | 538/2040 [02:53<13:52,  1.80draws/s]"
     ]
    },
    {
     "name": "stderr",
     "output_type": "stream",
     "text": [
      "\r",
      "Sampling 4 chains:  27%|██▋       | 541/2040 [02:55<13:24,  1.86draws/s]"
     ]
    },
    {
     "name": "stderr",
     "output_type": "stream",
     "text": [
      "\r",
      "Sampling 4 chains:  27%|██▋       | 543/2040 [02:55<10:04,  2.48draws/s]"
     ]
    },
    {
     "name": "stderr",
     "output_type": "stream",
     "text": [
      "\r",
      "Sampling 4 chains:  27%|██▋       | 544/2040 [02:56<14:13,  1.75draws/s]"
     ]
    },
    {
     "name": "stderr",
     "output_type": "stream",
     "text": [
      "\r",
      "Sampling 4 chains:  27%|██▋       | 545/2040 [02:56<12:35,  1.98draws/s]"
     ]
    },
    {
     "name": "stderr",
     "output_type": "stream",
     "text": [
      "\r",
      "Sampling 4 chains:  27%|██▋       | 547/2040 [02:57<10:48,  2.30draws/s]"
     ]
    },
    {
     "name": "stderr",
     "output_type": "stream",
     "text": [
      "\r",
      "Sampling 4 chains:  27%|██▋       | 548/2040 [02:57<12:10,  2.04draws/s]"
     ]
    },
    {
     "name": "stderr",
     "output_type": "stream",
     "text": [
      "\r",
      "Sampling 4 chains:  27%|██▋       | 549/2040 [02:58<10:21,  2.40draws/s]"
     ]
    },
    {
     "name": "stderr",
     "output_type": "stream",
     "text": [
      "\r",
      "Sampling 4 chains:  27%|██▋       | 551/2040 [02:58<09:40,  2.56draws/s]"
     ]
    },
    {
     "name": "stderr",
     "output_type": "stream",
     "text": [
      "\r",
      "Sampling 4 chains:  27%|██▋       | 552/2040 [02:59<12:38,  1.96draws/s]"
     ]
    },
    {
     "name": "stderr",
     "output_type": "stream",
     "text": [
      "\r",
      "Sampling 4 chains:  27%|██▋       | 553/2040 [02:59<10:37,  2.33draws/s]"
     ]
    },
    {
     "name": "stderr",
     "output_type": "stream",
     "text": [
      "\r",
      "Sampling 4 chains:  27%|██▋       | 554/2040 [03:00<10:54,  2.27draws/s]"
     ]
    },
    {
     "name": "stderr",
     "output_type": "stream",
     "text": [
      "\r",
      "Sampling 4 chains:  27%|██▋       | 555/2040 [03:00<08:28,  2.92draws/s]"
     ]
    },
    {
     "name": "stderr",
     "output_type": "stream",
     "text": [
      "\r",
      "Sampling 4 chains:  27%|██▋       | 556/2040 [03:01<10:48,  2.29draws/s]"
     ]
    },
    {
     "name": "stderr",
     "output_type": "stream",
     "text": [
      "\r",
      "Sampling 4 chains:  27%|██▋       | 557/2040 [03:01<09:47,  2.52draws/s]"
     ]
    },
    {
     "name": "stderr",
     "output_type": "stream",
     "text": [
      "\r",
      "Sampling 4 chains:  27%|██▋       | 558/2040 [03:01<10:58,  2.25draws/s]"
     ]
    },
    {
     "name": "stderr",
     "output_type": "stream",
     "text": [
      "\r",
      "Sampling 4 chains:  27%|██▋       | 560/2040 [03:02<09:44,  2.53draws/s]"
     ]
    },
    {
     "name": "stderr",
     "output_type": "stream",
     "text": [
      "\r",
      "Sampling 4 chains:  28%|██▊       | 561/2040 [03:02<09:37,  2.56draws/s]"
     ]
    },
    {
     "name": "stderr",
     "output_type": "stream",
     "text": [
      "\r",
      "Sampling 4 chains:  28%|██▊       | 562/2040 [03:03<10:39,  2.31draws/s]"
     ]
    },
    {
     "name": "stderr",
     "output_type": "stream",
     "text": [
      "\r",
      "Sampling 4 chains:  28%|██▊       | 564/2040 [03:03<09:03,  2.72draws/s]"
     ]
    },
    {
     "name": "stderr",
     "output_type": "stream",
     "text": [
      "\r",
      "Sampling 4 chains:  28%|██▊       | 565/2040 [03:04<10:05,  2.44draws/s]"
     ]
    },
    {
     "name": "stderr",
     "output_type": "stream",
     "text": [
      "\r",
      "Sampling 4 chains:  28%|██▊       | 566/2040 [03:04<11:01,  2.23draws/s]"
     ]
    },
    {
     "name": "stderr",
     "output_type": "stream",
     "text": [
      "\r",
      "Sampling 4 chains:  28%|██▊       | 568/2040 [03:05<08:50,  2.78draws/s]"
     ]
    },
    {
     "name": "stderr",
     "output_type": "stream",
     "text": [
      "\r",
      "Sampling 4 chains:  28%|██▊       | 569/2040 [03:05<10:28,  2.34draws/s]"
     ]
    },
    {
     "name": "stderr",
     "output_type": "stream",
     "text": [
      "\r",
      "Sampling 4 chains:  28%|██▊       | 570/2040 [03:06<11:18,  2.17draws/s]"
     ]
    },
    {
     "name": "stderr",
     "output_type": "stream",
     "text": [
      "\r",
      "Sampling 4 chains:  28%|██▊       | 572/2040 [03:06<08:44,  2.80draws/s]"
     ]
    },
    {
     "name": "stderr",
     "output_type": "stream",
     "text": [
      "\r",
      "Sampling 4 chains:  28%|██▊       | 573/2040 [03:07<10:39,  2.29draws/s]"
     ]
    },
    {
     "name": "stderr",
     "output_type": "stream",
     "text": [
      "\r",
      "Sampling 4 chains:  28%|██▊       | 574/2040 [03:07<11:32,  2.12draws/s]"
     ]
    },
    {
     "name": "stderr",
     "output_type": "stream",
     "text": [
      "\r",
      "Sampling 4 chains:  28%|██▊       | 576/2040 [03:07<08:56,  2.73draws/s]"
     ]
    },
    {
     "name": "stderr",
     "output_type": "stream",
     "text": [
      "\r",
      "Sampling 4 chains:  28%|██▊       | 577/2040 [03:08<10:35,  2.30draws/s]"
     ]
    },
    {
     "name": "stderr",
     "output_type": "stream",
     "text": [
      "\r",
      "Sampling 4 chains:  28%|██▊       | 578/2040 [03:09<11:29,  2.12draws/s]"
     ]
    },
    {
     "name": "stderr",
     "output_type": "stream",
     "text": [
      "\r",
      "Sampling 4 chains:  28%|██▊       | 579/2040 [03:09<09:04,  2.68draws/s]"
     ]
    },
    {
     "name": "stderr",
     "output_type": "stream",
     "text": [
      "\r",
      "Sampling 4 chains:  28%|██▊       | 580/2040 [03:09<07:37,  3.19draws/s]"
     ]
    },
    {
     "name": "stderr",
     "output_type": "stream",
     "text": [
      "\r",
      "Sampling 4 chains:  28%|██▊       | 581/2040 [03:09<09:25,  2.58draws/s]"
     ]
    },
    {
     "name": "stderr",
     "output_type": "stream",
     "text": [
      "\r",
      "Sampling 4 chains:  29%|██▊       | 582/2040 [03:10<10:45,  2.26draws/s]"
     ]
    },
    {
     "name": "stderr",
     "output_type": "stream",
     "text": [
      "\r",
      "Sampling 4 chains:  29%|██▊       | 583/2040 [03:10<08:29,  2.86draws/s]"
     ]
    },
    {
     "name": "stderr",
     "output_type": "stream",
     "text": [
      "\r",
      "Sampling 4 chains:  29%|██▊       | 584/2040 [03:10<07:56,  3.05draws/s]"
     ]
    },
    {
     "name": "stderr",
     "output_type": "stream",
     "text": [
      "\r",
      "Sampling 4 chains:  29%|██▊       | 585/2040 [03:11<09:14,  2.63draws/s]"
     ]
    },
    {
     "name": "stderr",
     "output_type": "stream",
     "text": [
      "\r",
      "Sampling 4 chains:  29%|██▊       | 586/2040 [03:11<10:39,  2.27draws/s]"
     ]
    },
    {
     "name": "stderr",
     "output_type": "stream",
     "text": [
      "\r",
      "Sampling 4 chains:  29%|██▉       | 588/2040 [03:12<09:03,  2.67draws/s]"
     ]
    },
    {
     "name": "stderr",
     "output_type": "stream",
     "text": [
      "\r",
      "Sampling 4 chains:  29%|██▉       | 589/2040 [03:12<09:46,  2.47draws/s]"
     ]
    },
    {
     "name": "stderr",
     "output_type": "stream",
     "text": [
      "\r",
      "Sampling 4 chains:  29%|██▉       | 590/2040 [03:13<10:29,  2.30draws/s]"
     ]
    },
    {
     "name": "stderr",
     "output_type": "stream",
     "text": [
      "\r",
      "Sampling 4 chains:  29%|██▉       | 592/2040 [03:13<08:34,  2.81draws/s]"
     ]
    },
    {
     "name": "stderr",
     "output_type": "stream",
     "text": [
      "\r",
      "Sampling 4 chains:  29%|██▉       | 593/2040 [03:14<10:39,  2.26draws/s]"
     ]
    },
    {
     "name": "stderr",
     "output_type": "stream",
     "text": [
      "\r",
      "Sampling 4 chains:  29%|██▉       | 594/2040 [03:14<11:13,  2.15draws/s]"
     ]
    },
    {
     "name": "stderr",
     "output_type": "stream",
     "text": [
      "\r",
      "Sampling 4 chains:  29%|██▉       | 596/2040 [03:15<08:48,  2.73draws/s]"
     ]
    },
    {
     "name": "stderr",
     "output_type": "stream",
     "text": [
      "\r",
      "Sampling 4 chains:  29%|██▉       | 597/2040 [03:15<11:13,  2.14draws/s]"
     ]
    },
    {
     "name": "stderr",
     "output_type": "stream",
     "text": [
      "\r",
      "Sampling 4 chains:  29%|██▉       | 598/2040 [03:16<11:36,  2.07draws/s]"
     ]
    },
    {
     "name": "stderr",
     "output_type": "stream",
     "text": [
      "\r",
      "Sampling 4 chains:  29%|██▉       | 600/2040 [03:16<08:50,  2.72draws/s]"
     ]
    },
    {
     "name": "stderr",
     "output_type": "stream",
     "text": [
      "\r",
      "Sampling 4 chains:  29%|██▉       | 601/2040 [03:17<11:44,  2.04draws/s]"
     ]
    },
    {
     "name": "stderr",
     "output_type": "stream",
     "text": [
      "\r",
      "Sampling 4 chains:  30%|██▉       | 602/2040 [03:17<11:09,  2.15draws/s]"
     ]
    },
    {
     "name": "stderr",
     "output_type": "stream",
     "text": [
      "\r",
      "Sampling 4 chains:  30%|██▉       | 603/2040 [03:17<08:35,  2.79draws/s]"
     ]
    },
    {
     "name": "stderr",
     "output_type": "stream",
     "text": [
      "\r",
      "Sampling 4 chains:  30%|██▉       | 604/2040 [03:18<06:49,  3.51draws/s]"
     ]
    },
    {
     "name": "stderr",
     "output_type": "stream",
     "text": [
      "\r",
      "Sampling 4 chains:  30%|██▉       | 605/2040 [03:18<10:53,  2.20draws/s]"
     ]
    },
    {
     "name": "stderr",
     "output_type": "stream",
     "text": [
      "\r",
      "Sampling 4 chains:  30%|██▉       | 606/2040 [03:19<10:33,  2.26draws/s]"
     ]
    },
    {
     "name": "stderr",
     "output_type": "stream",
     "text": [
      "\r",
      "Sampling 4 chains:  30%|██▉       | 609/2040 [03:20<09:56,  2.40draws/s]"
     ]
    },
    {
     "name": "stderr",
     "output_type": "stream",
     "text": [
      "\r",
      "Sampling 4 chains:  30%|██▉       | 610/2040 [03:20<09:23,  2.54draws/s]"
     ]
    },
    {
     "name": "stderr",
     "output_type": "stream",
     "text": [
      "\r",
      "Sampling 4 chains:  30%|███       | 612/2040 [03:20<07:06,  3.35draws/s]"
     ]
    },
    {
     "name": "stderr",
     "output_type": "stream",
     "text": [
      "\r",
      "Sampling 4 chains:  30%|███       | 613/2040 [03:21<11:37,  2.05draws/s]"
     ]
    },
    {
     "name": "stderr",
     "output_type": "stream",
     "text": [
      "\r",
      "Sampling 4 chains:  30%|███       | 614/2040 [03:22<10:29,  2.27draws/s]"
     ]
    },
    {
     "name": "stderr",
     "output_type": "stream",
     "text": [
      "\r",
      "Sampling 4 chains:  30%|███       | 615/2040 [03:22<08:31,  2.79draws/s]"
     ]
    },
    {
     "name": "stderr",
     "output_type": "stream",
     "text": [
      "\r",
      "Sampling 4 chains:  30%|███       | 617/2040 [03:23<09:32,  2.49draws/s]"
     ]
    },
    {
     "name": "stderr",
     "output_type": "stream",
     "text": [
      "\r",
      "Sampling 4 chains:  30%|███       | 618/2040 [03:23<07:40,  3.09draws/s]"
     ]
    },
    {
     "name": "stderr",
     "output_type": "stream",
     "text": [
      "\r",
      "Sampling 4 chains:  30%|███       | 619/2040 [03:23<07:50,  3.02draws/s]"
     ]
    },
    {
     "name": "stderr",
     "output_type": "stream",
     "text": [
      "\r",
      "Sampling 4 chains:  30%|███       | 621/2040 [03:24<09:01,  2.62draws/s]"
     ]
    },
    {
     "name": "stderr",
     "output_type": "stream",
     "text": [
      "\r",
      "Sampling 4 chains:  31%|███       | 623/2040 [03:25<08:04,  2.92draws/s]"
     ]
    },
    {
     "name": "stderr",
     "output_type": "stream",
     "text": [
      "\r",
      "Sampling 4 chains:  31%|███       | 625/2040 [03:26<08:39,  2.72draws/s]"
     ]
    },
    {
     "name": "stderr",
     "output_type": "stream",
     "text": [
      "\r",
      "Sampling 4 chains:  31%|███       | 627/2040 [03:26<08:15,  2.85draws/s]"
     ]
    },
    {
     "name": "stderr",
     "output_type": "stream",
     "text": [
      "\r",
      "Sampling 4 chains:  31%|███       | 629/2040 [03:27<08:32,  2.75draws/s]"
     ]
    },
    {
     "name": "stderr",
     "output_type": "stream",
     "text": [
      "\r",
      "Sampling 4 chains:  31%|███       | 630/2040 [03:27<07:00,  3.36draws/s]"
     ]
    },
    {
     "name": "stderr",
     "output_type": "stream",
     "text": [
      "\r",
      "Sampling 4 chains:  31%|███       | 631/2040 [03:28<07:19,  3.21draws/s]"
     ]
    },
    {
     "name": "stderr",
     "output_type": "stream",
     "text": [
      "\r",
      "Sampling 4 chains:  31%|███       | 632/2040 [03:28<06:43,  3.49draws/s]"
     ]
    },
    {
     "name": "stderr",
     "output_type": "stream",
     "text": [
      "\r",
      "Sampling 4 chains:  31%|███       | 633/2040 [03:29<10:13,  2.29draws/s]"
     ]
    },
    {
     "name": "stderr",
     "output_type": "stream",
     "text": [
      "\r",
      "Sampling 4 chains:  31%|███       | 634/2040 [03:29<08:27,  2.77draws/s]"
     ]
    },
    {
     "name": "stderr",
     "output_type": "stream",
     "text": [
      "\r",
      "Sampling 4 chains:  31%|███       | 635/2040 [03:29<07:31,  3.11draws/s]"
     ]
    },
    {
     "name": "stderr",
     "output_type": "stream",
     "text": [
      "\r",
      "Sampling 4 chains:  31%|███       | 636/2040 [03:29<07:47,  3.00draws/s]"
     ]
    },
    {
     "name": "stderr",
     "output_type": "stream",
     "text": [
      "\r",
      "Sampling 4 chains:  31%|███       | 637/2040 [03:30<10:18,  2.27draws/s]"
     ]
    },
    {
     "name": "stderr",
     "output_type": "stream",
     "text": [
      "\r",
      "Sampling 4 chains:  31%|███▏      | 638/2040 [03:30<09:06,  2.57draws/s]"
     ]
    },
    {
     "name": "stderr",
     "output_type": "stream",
     "text": [
      "\r",
      "Sampling 4 chains:  31%|███▏      | 639/2040 [03:30<07:38,  3.06draws/s]"
     ]
    },
    {
     "name": "stderr",
     "output_type": "stream",
     "text": [
      "\r",
      "Sampling 4 chains:  31%|███▏      | 640/2040 [03:31<08:44,  2.67draws/s]"
     ]
    },
    {
     "name": "stderr",
     "output_type": "stream",
     "text": [
      "\r",
      "Sampling 4 chains:  31%|███▏      | 641/2040 [03:31<09:50,  2.37draws/s]"
     ]
    },
    {
     "name": "stderr",
     "output_type": "stream",
     "text": [
      "\r",
      "Sampling 4 chains:  31%|███▏      | 642/2040 [03:32<09:33,  2.44draws/s]"
     ]
    },
    {
     "name": "stderr",
     "output_type": "stream",
     "text": [
      "\r",
      "Sampling 4 chains:  32%|███▏      | 644/2040 [03:32<08:49,  2.63draws/s]"
     ]
    },
    {
     "name": "stderr",
     "output_type": "stream",
     "text": [
      "\r",
      "Sampling 4 chains:  32%|███▏      | 645/2040 [03:33<09:26,  2.46draws/s]"
     ]
    },
    {
     "name": "stderr",
     "output_type": "stream",
     "text": [
      "\r",
      "Sampling 4 chains:  32%|███▏      | 646/2040 [03:33<09:30,  2.44draws/s]"
     ]
    },
    {
     "name": "stderr",
     "output_type": "stream",
     "text": [
      "\r",
      "Sampling 4 chains:  32%|███▏      | 648/2040 [03:34<09:11,  2.52draws/s]"
     ]
    },
    {
     "name": "stderr",
     "output_type": "stream",
     "text": [
      "\r",
      "Sampling 4 chains:  32%|███▏      | 649/2040 [03:34<09:09,  2.53draws/s]"
     ]
    },
    {
     "name": "stderr",
     "output_type": "stream",
     "text": [
      "\r",
      "Sampling 4 chains:  32%|███▏      | 650/2040 [03:35<09:17,  2.49draws/s]"
     ]
    },
    {
     "name": "stderr",
     "output_type": "stream",
     "text": [
      "\r",
      "Sampling 4 chains:  32%|███▏      | 651/2040 [03:35<08:16,  2.80draws/s]"
     ]
    },
    {
     "name": "stderr",
     "output_type": "stream",
     "text": [
      "\r",
      "Sampling 4 chains:  32%|███▏      | 652/2040 [03:36<09:44,  2.37draws/s]"
     ]
    },
    {
     "name": "stderr",
     "output_type": "stream",
     "text": [
      "\r",
      "Sampling 4 chains:  32%|███▏      | 653/2040 [03:36<09:27,  2.44draws/s]"
     ]
    },
    {
     "name": "stderr",
     "output_type": "stream",
     "text": [
      "\r",
      "Sampling 4 chains:  32%|███▏      | 654/2040 [03:37<09:45,  2.37draws/s]"
     ]
    },
    {
     "name": "stderr",
     "output_type": "stream",
     "text": [
      "\r",
      "Sampling 4 chains:  32%|███▏      | 655/2040 [03:37<08:05,  2.85draws/s]"
     ]
    },
    {
     "name": "stderr",
     "output_type": "stream",
     "text": [
      "\r",
      "Sampling 4 chains:  32%|███▏      | 656/2040 [03:37<09:34,  2.41draws/s]"
     ]
    },
    {
     "name": "stderr",
     "output_type": "stream",
     "text": [
      "\r",
      "Sampling 4 chains:  32%|███▏      | 657/2040 [03:38<09:23,  2.45draws/s]"
     ]
    },
    {
     "name": "stderr",
     "output_type": "stream",
     "text": [
      "\r",
      "Sampling 4 chains:  32%|███▏      | 658/2040 [03:38<09:22,  2.46draws/s]"
     ]
    },
    {
     "name": "stderr",
     "output_type": "stream",
     "text": [
      "\r",
      "Sampling 4 chains:  32%|███▏      | 659/2040 [03:38<08:05,  2.85draws/s]"
     ]
    },
    {
     "name": "stderr",
     "output_type": "stream",
     "text": [
      "\r",
      "Sampling 4 chains:  32%|███▏      | 660/2040 [03:39<09:41,  2.37draws/s]"
     ]
    },
    {
     "name": "stderr",
     "output_type": "stream",
     "text": [
      "\r",
      "Sampling 4 chains:  32%|███▏      | 661/2040 [03:39<07:48,  2.94draws/s]"
     ]
    },
    {
     "name": "stderr",
     "output_type": "stream",
     "text": [
      "\r",
      "Sampling 4 chains:  32%|███▏      | 662/2040 [03:40<09:37,  2.39draws/s]"
     ]
    },
    {
     "name": "stderr",
     "output_type": "stream",
     "text": [
      "\r",
      "Sampling 4 chains:  32%|███▎      | 663/2040 [03:40<08:08,  2.82draws/s]"
     ]
    },
    {
     "name": "stderr",
     "output_type": "stream",
     "text": [
      "\r",
      "Sampling 4 chains:  33%|███▎      | 664/2040 [03:40<09:53,  2.32draws/s]"
     ]
    },
    {
     "name": "stderr",
     "output_type": "stream",
     "text": [
      "\r",
      "Sampling 4 chains:  33%|███▎      | 666/2040 [03:41<09:37,  2.38draws/s]"
     ]
    },
    {
     "name": "stderr",
     "output_type": "stream",
     "text": [
      "\r",
      "Sampling 4 chains:  33%|███▎      | 667/2040 [03:41<07:48,  2.93draws/s]"
     ]
    },
    {
     "name": "stderr",
     "output_type": "stream",
     "text": [
      "\r",
      "Sampling 4 chains:  33%|███▎      | 668/2040 [03:42<08:23,  2.73draws/s]"
     ]
    },
    {
     "name": "stderr",
     "output_type": "stream",
     "text": [
      "\r",
      "Sampling 4 chains:  33%|███▎      | 669/2040 [03:42<07:38,  2.99draws/s]"
     ]
    },
    {
     "name": "stderr",
     "output_type": "stream",
     "text": [
      "\r",
      "Sampling 4 chains:  33%|███▎      | 670/2040 [03:43<10:30,  2.17draws/s]"
     ]
    },
    {
     "name": "stderr",
     "output_type": "stream",
     "text": [
      "\r",
      "Sampling 4 chains:  33%|███▎      | 671/2040 [03:43<08:06,  2.81draws/s]"
     ]
    },
    {
     "name": "stderr",
     "output_type": "stream",
     "text": [
      "\r",
      "Sampling 4 chains:  33%|███▎      | 672/2040 [03:43<06:43,  3.39draws/s]"
     ]
    },
    {
     "name": "stderr",
     "output_type": "stream",
     "text": [
      "\r",
      "Sampling 4 chains:  33%|███▎      | 673/2040 [03:44<08:15,  2.76draws/s]"
     ]
    },
    {
     "name": "stderr",
     "output_type": "stream",
     "text": [
      "\r",
      "Sampling 4 chains:  33%|███▎      | 674/2040 [03:44<11:13,  2.03draws/s]"
     ]
    },
    {
     "name": "stderr",
     "output_type": "stream",
     "text": [
      "\r",
      "Sampling 4 chains:  33%|███▎      | 676/2040 [03:45<08:17,  2.74draws/s]"
     ]
    },
    {
     "name": "stderr",
     "output_type": "stream",
     "text": [
      "\r",
      "Sampling 4 chains:  33%|███▎      | 677/2040 [03:45<10:38,  2.14draws/s]"
     ]
    },
    {
     "name": "stderr",
     "output_type": "stream",
     "text": [
      "\r",
      "Sampling 4 chains:  33%|███▎      | 678/2040 [03:46<11:33,  1.96draws/s]"
     ]
    },
    {
     "name": "stderr",
     "output_type": "stream",
     "text": [
      "\r",
      "Sampling 4 chains:  33%|███▎      | 679/2040 [03:46<09:00,  2.52draws/s]"
     ]
    },
    {
     "name": "stderr",
     "output_type": "stream",
     "text": [
      "\r",
      "Sampling 4 chains:  33%|███▎      | 680/2040 [03:46<07:12,  3.15draws/s]"
     ]
    },
    {
     "name": "stderr",
     "output_type": "stream",
     "text": [
      "\r",
      "Sampling 4 chains:  33%|███▎      | 681/2040 [03:47<09:41,  2.34draws/s]"
     ]
    },
    {
     "name": "stderr",
     "output_type": "stream",
     "text": [
      "\r",
      "Sampling 4 chains:  33%|███▎      | 682/2040 [03:47<10:02,  2.25draws/s]"
     ]
    },
    {
     "name": "stderr",
     "output_type": "stream",
     "text": [
      "\r",
      "Sampling 4 chains:  33%|███▎      | 683/2040 [03:47<07:50,  2.89draws/s]"
     ]
    },
    {
     "name": "stderr",
     "output_type": "stream",
     "text": [
      "\r",
      "Sampling 4 chains:  34%|███▎      | 684/2040 [03:48<07:02,  3.21draws/s]"
     ]
    },
    {
     "name": "stderr",
     "output_type": "stream",
     "text": [
      "\r",
      "Sampling 4 chains:  34%|███▎      | 685/2040 [03:48<09:51,  2.29draws/s]"
     ]
    },
    {
     "name": "stderr",
     "output_type": "stream",
     "text": [
      "\r",
      "Sampling 4 chains:  34%|███▎      | 686/2040 [03:49<09:21,  2.41draws/s]"
     ]
    },
    {
     "name": "stderr",
     "output_type": "stream",
     "text": [
      "\r",
      "Sampling 4 chains:  34%|███▎      | 687/2040 [03:49<08:37,  2.61draws/s]"
     ]
    },
    {
     "name": "stderr",
     "output_type": "stream",
     "text": [
      "\r",
      "Sampling 4 chains:  34%|███▎      | 688/2040 [03:49<07:06,  3.17draws/s]"
     ]
    },
    {
     "name": "stderr",
     "output_type": "stream",
     "text": [
      "\r",
      "Sampling 4 chains:  34%|███▍      | 689/2040 [03:50<10:49,  2.08draws/s]"
     ]
    },
    {
     "name": "stderr",
     "output_type": "stream",
     "text": [
      "\r",
      "Sampling 4 chains:  34%|███▍      | 690/2040 [03:50<09:02,  2.49draws/s]"
     ]
    },
    {
     "name": "stderr",
     "output_type": "stream",
     "text": [
      "\r",
      "Sampling 4 chains:  34%|███▍      | 691/2040 [03:51<08:47,  2.56draws/s]"
     ]
    },
    {
     "name": "stderr",
     "output_type": "stream",
     "text": [
      "\r",
      "Sampling 4 chains:  34%|███▍      | 693/2040 [03:52<09:24,  2.39draws/s]"
     ]
    },
    {
     "name": "stderr",
     "output_type": "stream",
     "text": [
      "\r",
      "Sampling 4 chains:  34%|███▍      | 695/2040 [03:52<08:32,  2.63draws/s]"
     ]
    },
    {
     "name": "stderr",
     "output_type": "stream",
     "text": [
      "\r",
      "Sampling 4 chains:  34%|███▍      | 696/2040 [03:52<07:15,  3.09draws/s]"
     ]
    },
    {
     "name": "stderr",
     "output_type": "stream",
     "text": [
      "\r",
      "Sampling 4 chains:  34%|███▍      | 697/2040 [03:53<09:32,  2.35draws/s]"
     ]
    },
    {
     "name": "stderr",
     "output_type": "stream",
     "text": [
      "\r",
      "Sampling 4 chains:  34%|███▍      | 699/2040 [03:54<08:32,  2.62draws/s]"
     ]
    },
    {
     "name": "stderr",
     "output_type": "stream",
     "text": [
      "\r",
      "Sampling 4 chains:  34%|███▍      | 700/2040 [03:54<07:37,  2.93draws/s]"
     ]
    },
    {
     "name": "stderr",
     "output_type": "stream",
     "text": [
      "\r",
      "Sampling 4 chains:  34%|███▍      | 701/2040 [03:54<09:09,  2.44draws/s]"
     ]
    },
    {
     "name": "stderr",
     "output_type": "stream",
     "text": [
      "\r",
      "Sampling 4 chains:  34%|███▍      | 702/2040 [03:55<08:41,  2.56draws/s]"
     ]
    },
    {
     "name": "stderr",
     "output_type": "stream",
     "text": [
      "\r",
      "Sampling 4 chains:  34%|███▍      | 703/2040 [03:55<07:17,  3.06draws/s]"
     ]
    },
    {
     "name": "stderr",
     "output_type": "stream",
     "text": [
      "\r",
      "Sampling 4 chains:  35%|███▍      | 704/2040 [03:55<07:46,  2.86draws/s]"
     ]
    },
    {
     "name": "stderr",
     "output_type": "stream",
     "text": [
      "\r",
      "Sampling 4 chains:  35%|███▍      | 705/2040 [03:56<08:27,  2.63draws/s]"
     ]
    },
    {
     "name": "stderr",
     "output_type": "stream",
     "text": [
      "\r",
      "Sampling 4 chains:  35%|███▍      | 706/2040 [03:56<09:07,  2.44draws/s]"
     ]
    },
    {
     "name": "stderr",
     "output_type": "stream",
     "text": [
      "\r",
      "Sampling 4 chains:  35%|███▍      | 707/2040 [03:57<10:00,  2.22draws/s]"
     ]
    },
    {
     "name": "stderr",
     "output_type": "stream",
     "text": [
      "\r",
      "Sampling 4 chains:  35%|███▍      | 709/2040 [03:57<08:40,  2.55draws/s]"
     ]
    },
    {
     "name": "stderr",
     "output_type": "stream",
     "text": [
      "\r",
      "Sampling 4 chains:  35%|███▍      | 710/2040 [03:58<09:54,  2.24draws/s]"
     ]
    },
    {
     "name": "stderr",
     "output_type": "stream",
     "text": [
      "\r",
      "Sampling 4 chains:  35%|███▍      | 711/2040 [03:58<10:02,  2.20draws/s]"
     ]
    },
    {
     "name": "stderr",
     "output_type": "stream",
     "text": [
      "\r",
      "Sampling 4 chains:  35%|███▍      | 712/2040 [03:59<13:13,  1.67draws/s]"
     ]
    },
    {
     "name": "stderr",
     "output_type": "stream",
     "text": [
      "\r",
      "Sampling 4 chains:  35%|███▍      | 713/2040 [04:00<10:23,  2.13draws/s]"
     ]
    },
    {
     "name": "stderr",
     "output_type": "stream",
     "text": [
      "\r",
      "Sampling 4 chains:  35%|███▌      | 714/2040 [04:00<09:03,  2.44draws/s]"
     ]
    },
    {
     "name": "stderr",
     "output_type": "stream",
     "text": [
      "\r",
      "Sampling 4 chains:  35%|███▌      | 715/2040 [04:00<07:40,  2.88draws/s]"
     ]
    },
    {
     "name": "stderr",
     "output_type": "stream",
     "text": [
      "\r",
      "Sampling 4 chains:  35%|███▌      | 716/2040 [04:01<13:18,  1.66draws/s]"
     ]
    },
    {
     "name": "stderr",
     "output_type": "stream",
     "text": [
      "\r",
      "Sampling 4 chains:  35%|███▌      | 717/2040 [04:02<12:05,  1.82draws/s]"
     ]
    },
    {
     "name": "stderr",
     "output_type": "stream",
     "text": [
      "\r",
      "Sampling 4 chains:  35%|███▌      | 718/2040 [04:02<09:32,  2.31draws/s]"
     ]
    },
    {
     "name": "stderr",
     "output_type": "stream",
     "text": [
      "\r",
      "Sampling 4 chains:  35%|███▌      | 720/2040 [04:03<09:50,  2.24draws/s]"
     ]
    },
    {
     "name": "stderr",
     "output_type": "stream",
     "text": [
      "\r",
      "Sampling 4 chains:  35%|███▌      | 721/2040 [04:03<09:46,  2.25draws/s]"
     ]
    },
    {
     "name": "stderr",
     "output_type": "stream",
     "text": [
      "\r",
      "Sampling 4 chains:  35%|███▌      | 722/2040 [04:03<07:36,  2.89draws/s]"
     ]
    },
    {
     "name": "stderr",
     "output_type": "stream",
     "text": [
      "\r",
      "Sampling 4 chains:  35%|███▌      | 723/2040 [04:04<08:54,  2.47draws/s]"
     ]
    },
    {
     "name": "stderr",
     "output_type": "stream",
     "text": [
      "\r",
      "Sampling 4 chains:  35%|███▌      | 724/2040 [04:04<09:27,  2.32draws/s]"
     ]
    },
    {
     "name": "stderr",
     "output_type": "stream",
     "text": [
      "\r",
      "Sampling 4 chains:  36%|███▌      | 725/2040 [04:05<09:04,  2.41draws/s]"
     ]
    },
    {
     "name": "stderr",
     "output_type": "stream",
     "text": [
      "\r",
      "Sampling 4 chains:  36%|███▌      | 727/2040 [04:05<08:31,  2.57draws/s]"
     ]
    },
    {
     "name": "stderr",
     "output_type": "stream",
     "text": [
      "\r",
      "Sampling 4 chains:  36%|███▌      | 728/2040 [04:06<09:45,  2.24draws/s]"
     ]
    },
    {
     "name": "stderr",
     "output_type": "stream",
     "text": [
      "\r",
      "Sampling 4 chains:  36%|███▌      | 729/2040 [04:06<08:47,  2.49draws/s]"
     ]
    },
    {
     "name": "stderr",
     "output_type": "stream",
     "text": [
      "\r",
      "Sampling 4 chains:  36%|███▌      | 731/2040 [04:07<07:42,  2.83draws/s]"
     ]
    },
    {
     "name": "stderr",
     "output_type": "stream",
     "text": [
      "\r",
      "Sampling 4 chains:  36%|███▌      | 732/2040 [04:08<10:55,  2.00draws/s]"
     ]
    },
    {
     "name": "stderr",
     "output_type": "stream",
     "text": [
      "\r",
      "Sampling 4 chains:  36%|███▌      | 733/2040 [04:08<08:59,  2.42draws/s]"
     ]
    },
    {
     "name": "stderr",
     "output_type": "stream",
     "text": [
      "\r",
      "Sampling 4 chains:  36%|███▌      | 735/2040 [04:08<07:30,  2.90draws/s]"
     ]
    },
    {
     "name": "stderr",
     "output_type": "stream",
     "text": [
      "\r",
      "Sampling 4 chains:  36%|███▌      | 736/2040 [04:09<12:07,  1.79draws/s]"
     ]
    },
    {
     "name": "stderr",
     "output_type": "stream",
     "text": [
      "\r",
      "Sampling 4 chains:  36%|███▌      | 738/2040 [04:09<09:00,  2.41draws/s]"
     ]
    },
    {
     "name": "stderr",
     "output_type": "stream",
     "text": [
      "\r",
      "Sampling 4 chains:  36%|███▌      | 739/2040 [04:10<08:14,  2.63draws/s]"
     ]
    },
    {
     "name": "stderr",
     "output_type": "stream",
     "text": [
      "\r",
      "Sampling 4 chains:  36%|███▋      | 740/2040 [04:11<12:04,  1.79draws/s]"
     ]
    },
    {
     "name": "stderr",
     "output_type": "stream",
     "text": [
      "\r",
      "Sampling 4 chains:  36%|███▋      | 741/2040 [04:11<09:11,  2.36draws/s]"
     ]
    },
    {
     "name": "stderr",
     "output_type": "stream",
     "text": [
      "\r",
      "Sampling 4 chains:  36%|███▋      | 742/2040 [04:11<07:13,  2.99draws/s]"
     ]
    },
    {
     "name": "stderr",
     "output_type": "stream",
     "text": [
      "\r",
      "Sampling 4 chains:  36%|███▋      | 743/2040 [04:11<06:20,  3.41draws/s]"
     ]
    },
    {
     "name": "stderr",
     "output_type": "stream",
     "text": [
      "\r",
      "Sampling 4 chains:  36%|███▋      | 744/2040 [04:12<11:07,  1.94draws/s]"
     ]
    },
    {
     "name": "stderr",
     "output_type": "stream",
     "text": [
      "\r",
      "Sampling 4 chains:  37%|███▋      | 745/2040 [04:12<09:53,  2.18draws/s]"
     ]
    },
    {
     "name": "stderr",
     "output_type": "stream",
     "text": [
      "\r",
      "Sampling 4 chains:  37%|███▋      | 747/2040 [04:13<07:15,  2.97draws/s]"
     ]
    },
    {
     "name": "stderr",
     "output_type": "stream",
     "text": [
      "\r",
      "Sampling 4 chains:  37%|███▋      | 748/2040 [04:14<11:51,  1.81draws/s]"
     ]
    },
    {
     "name": "stderr",
     "output_type": "stream",
     "text": [
      "\r",
      "Sampling 4 chains:  37%|███▋      | 749/2040 [04:14<11:44,  1.83draws/s]"
     ]
    },
    {
     "name": "stderr",
     "output_type": "stream",
     "text": [
      "\r",
      "Sampling 4 chains:  37%|███▋      | 752/2040 [04:15<10:25,  2.06draws/s]"
     ]
    },
    {
     "name": "stderr",
     "output_type": "stream",
     "text": [
      "\r",
      "Sampling 4 chains:  37%|███▋      | 753/2040 [04:16<10:43,  2.00draws/s]"
     ]
    },
    {
     "name": "stderr",
     "output_type": "stream",
     "text": [
      "\r",
      "Sampling 4 chains:  37%|███▋      | 756/2040 [04:17<09:32,  2.24draws/s]"
     ]
    },
    {
     "name": "stderr",
     "output_type": "stream",
     "text": [
      "\r",
      "Sampling 4 chains:  37%|███▋      | 757/2040 [04:17<10:52,  1.97draws/s]"
     ]
    },
    {
     "name": "stderr",
     "output_type": "stream",
     "text": [
      "\r",
      "Sampling 4 chains:  37%|███▋      | 759/2040 [04:17<08:04,  2.64draws/s]"
     ]
    },
    {
     "name": "stderr",
     "output_type": "stream",
     "text": [
      "\r",
      "Sampling 4 chains:  37%|███▋      | 760/2040 [04:18<10:56,  1.95draws/s]"
     ]
    },
    {
     "name": "stderr",
     "output_type": "stream",
     "text": [
      "\r",
      "Sampling 4 chains:  37%|███▋      | 761/2040 [04:19<11:37,  1.83draws/s]"
     ]
    },
    {
     "name": "stderr",
     "output_type": "stream",
     "text": [
      "\r",
      "Sampling 4 chains:  37%|███▋      | 763/2040 [04:19<08:46,  2.43draws/s]"
     ]
    },
    {
     "name": "stderr",
     "output_type": "stream",
     "text": [
      "\r",
      "Sampling 4 chains:  37%|███▋      | 764/2040 [04:20<10:26,  2.04draws/s]"
     ]
    },
    {
     "name": "stderr",
     "output_type": "stream",
     "text": [
      "\r",
      "Sampling 4 chains:  38%|███▊      | 765/2040 [04:20<11:02,  1.93draws/s]"
     ]
    },
    {
     "name": "stderr",
     "output_type": "stream",
     "text": [
      "\r",
      "Sampling 4 chains:  38%|███▊      | 766/2040 [04:20<08:22,  2.53draws/s]"
     ]
    },
    {
     "name": "stderr",
     "output_type": "stream",
     "text": [
      "\r",
      "Sampling 4 chains:  38%|███▊      | 767/2040 [04:21<07:08,  2.97draws/s]"
     ]
    },
    {
     "name": "stderr",
     "output_type": "stream",
     "text": [
      "\r",
      "Sampling 4 chains:  38%|███▊      | 768/2040 [04:21<08:24,  2.52draws/s]"
     ]
    },
    {
     "name": "stderr",
     "output_type": "stream",
     "text": [
      "\r",
      "Sampling 4 chains:  38%|███▊      | 769/2040 [04:22<10:35,  2.00draws/s]"
     ]
    },
    {
     "name": "stderr",
     "output_type": "stream",
     "text": [
      "\r",
      "Sampling 4 chains:  38%|███▊      | 771/2040 [04:22<08:18,  2.55draws/s]"
     ]
    },
    {
     "name": "stderr",
     "output_type": "stream",
     "text": [
      "\r",
      "Sampling 4 chains:  38%|███▊      | 772/2040 [04:23<08:29,  2.49draws/s]"
     ]
    },
    {
     "name": "stderr",
     "output_type": "stream",
     "text": [
      "\r",
      "Sampling 4 chains:  38%|███▊      | 773/2040 [04:23<10:20,  2.04draws/s]"
     ]
    },
    {
     "name": "stderr",
     "output_type": "stream",
     "text": [
      "\r",
      "Sampling 4 chains:  38%|███▊      | 775/2040 [04:24<08:40,  2.43draws/s]"
     ]
    },
    {
     "name": "stderr",
     "output_type": "stream",
     "text": [
      "\r",
      "Sampling 4 chains:  38%|███▊      | 776/2040 [04:24<07:31,  2.80draws/s]"
     ]
    },
    {
     "name": "stderr",
     "output_type": "stream",
     "text": [
      "\r",
      "Sampling 4 chains:  38%|███▊      | 777/2040 [04:25<10:43,  1.96draws/s]"
     ]
    },
    {
     "name": "stderr",
     "output_type": "stream",
     "text": [
      "\r",
      "Sampling 4 chains:  38%|███▊      | 779/2040 [04:25<08:40,  2.42draws/s]"
     ]
    },
    {
     "name": "stderr",
     "output_type": "stream",
     "text": [
      "\r",
      "Sampling 4 chains:  38%|███▊      | 780/2040 [04:26<07:30,  2.79draws/s]"
     ]
    },
    {
     "name": "stderr",
     "output_type": "stream",
     "text": [
      "\r",
      "Sampling 4 chains:  38%|███▊      | 781/2040 [04:26<10:19,  2.03draws/s]"
     ]
    },
    {
     "name": "stderr",
     "output_type": "stream",
     "text": [
      "\r",
      "Sampling 4 chains:  38%|███▊      | 782/2040 [04:26<07:57,  2.64draws/s]"
     ]
    },
    {
     "name": "stderr",
     "output_type": "stream",
     "text": [
      "\r",
      "Sampling 4 chains:  38%|███▊      | 783/2040 [04:27<07:51,  2.67draws/s]"
     ]
    },
    {
     "name": "stderr",
     "output_type": "stream",
     "text": [
      "\r",
      "Sampling 4 chains:  38%|███▊      | 785/2040 [04:28<08:31,  2.45draws/s]"
     ]
    },
    {
     "name": "stderr",
     "output_type": "stream",
     "text": [
      "\r",
      "Sampling 4 chains:  39%|███▊      | 787/2040 [04:28<07:27,  2.80draws/s]"
     ]
    },
    {
     "name": "stderr",
     "output_type": "stream",
     "text": [
      "\r",
      "Sampling 4 chains:  39%|███▊      | 789/2040 [04:29<08:07,  2.57draws/s]"
     ]
    },
    {
     "name": "stderr",
     "output_type": "stream",
     "text": [
      "\r",
      "Sampling 4 chains:  39%|███▉      | 791/2040 [04:30<07:00,  2.97draws/s]"
     ]
    },
    {
     "name": "stderr",
     "output_type": "stream",
     "text": [
      "\r",
      "Sampling 4 chains:  39%|███▉      | 792/2040 [04:30<06:04,  3.42draws/s]"
     ]
    },
    {
     "name": "stderr",
     "output_type": "stream",
     "text": [
      "\r",
      "Sampling 4 chains:  39%|███▉      | 793/2040 [04:31<08:58,  2.32draws/s]"
     ]
    },
    {
     "name": "stderr",
     "output_type": "stream",
     "text": [
      "\r",
      "Sampling 4 chains:  39%|███▉      | 794/2040 [04:31<07:06,  2.92draws/s]"
     ]
    },
    {
     "name": "stderr",
     "output_type": "stream",
     "text": [
      "\r",
      "Sampling 4 chains:  39%|███▉      | 795/2040 [04:31<07:24,  2.80draws/s]"
     ]
    },
    {
     "name": "stderr",
     "output_type": "stream",
     "text": [
      "\r",
      "Sampling 4 chains:  39%|███▉      | 796/2040 [04:31<06:32,  3.17draws/s]"
     ]
    },
    {
     "name": "stderr",
     "output_type": "stream",
     "text": [
      "\r",
      "Sampling 4 chains:  39%|███▉      | 797/2040 [04:32<09:10,  2.26draws/s]"
     ]
    },
    {
     "name": "stderr",
     "output_type": "stream",
     "text": [
      "\r",
      "Sampling 4 chains:  39%|███▉      | 798/2040 [04:32<07:26,  2.78draws/s]"
     ]
    },
    {
     "name": "stderr",
     "output_type": "stream",
     "text": [
      "\r",
      "Sampling 4 chains:  39%|███▉      | 799/2040 [04:33<07:58,  2.59draws/s]"
     ]
    },
    {
     "name": "stderr",
     "output_type": "stream",
     "text": [
      "\r",
      "Sampling 4 chains:  39%|███▉      | 800/2040 [04:33<07:36,  2.71draws/s]"
     ]
    },
    {
     "name": "stderr",
     "output_type": "stream",
     "text": [
      "\r",
      "Sampling 4 chains:  39%|███▉      | 801/2040 [04:34<08:39,  2.39draws/s]"
     ]
    },
    {
     "name": "stderr",
     "output_type": "stream",
     "text": [
      "\r",
      "Sampling 4 chains:  39%|███▉      | 802/2040 [04:34<07:00,  2.94draws/s]"
     ]
    },
    {
     "name": "stderr",
     "output_type": "stream",
     "text": [
      "\r",
      "Sampling 4 chains:  39%|███▉      | 803/2040 [04:34<07:56,  2.59draws/s]"
     ]
    },
    {
     "name": "stderr",
     "output_type": "stream",
     "text": [
      "\r",
      "Sampling 4 chains:  39%|███▉      | 804/2040 [04:35<07:57,  2.59draws/s]"
     ]
    },
    {
     "name": "stderr",
     "output_type": "stream",
     "text": [
      "\r",
      "Sampling 4 chains:  39%|███▉      | 805/2040 [04:35<08:29,  2.42draws/s]"
     ]
    },
    {
     "name": "stderr",
     "output_type": "stream",
     "text": [
      "\r",
      "Sampling 4 chains:  40%|███▉      | 806/2040 [04:35<07:34,  2.71draws/s]"
     ]
    },
    {
     "name": "stderr",
     "output_type": "stream",
     "text": [
      "\r",
      "Sampling 4 chains:  40%|███▉      | 807/2040 [04:36<07:47,  2.64draws/s]"
     ]
    },
    {
     "name": "stderr",
     "output_type": "stream",
     "text": [
      "\r",
      "Sampling 4 chains:  40%|███▉      | 808/2040 [04:36<07:59,  2.57draws/s]"
     ]
    },
    {
     "name": "stderr",
     "output_type": "stream",
     "text": [
      "\r",
      "Sampling 4 chains:  40%|███▉      | 809/2040 [04:37<08:24,  2.44draws/s]"
     ]
    },
    {
     "name": "stderr",
     "output_type": "stream",
     "text": [
      "\r",
      "Sampling 4 chains:  40%|███▉      | 810/2040 [04:37<07:36,  2.69draws/s]"
     ]
    },
    {
     "name": "stderr",
     "output_type": "stream",
     "text": [
      "\r",
      "Sampling 4 chains:  40%|███▉      | 811/2040 [04:37<07:17,  2.81draws/s]"
     ]
    },
    {
     "name": "stderr",
     "output_type": "stream",
     "text": [
      "\r",
      "Sampling 4 chains:  40%|███▉      | 812/2040 [04:38<08:00,  2.56draws/s]"
     ]
    },
    {
     "name": "stderr",
     "output_type": "stream",
     "text": [
      "\r",
      "Sampling 4 chains:  40%|███▉      | 813/2040 [04:38<08:06,  2.52draws/s]"
     ]
    },
    {
     "name": "stderr",
     "output_type": "stream",
     "text": [
      "\r",
      "Sampling 4 chains:  40%|███▉      | 814/2040 [04:38<06:59,  2.92draws/s]"
     ]
    },
    {
     "name": "stderr",
     "output_type": "stream",
     "text": [
      "\r",
      "Sampling 4 chains:  40%|███▉      | 815/2040 [04:39<07:32,  2.71draws/s]"
     ]
    },
    {
     "name": "stderr",
     "output_type": "stream",
     "text": [
      "\r",
      "Sampling 4 chains:  40%|████      | 816/2040 [04:39<08:00,  2.55draws/s]"
     ]
    },
    {
     "name": "stderr",
     "output_type": "stream",
     "text": [
      "\r",
      "Sampling 4 chains:  40%|████      | 817/2040 [04:39<07:32,  2.70draws/s]"
     ]
    },
    {
     "name": "stderr",
     "output_type": "stream",
     "text": [
      "\r",
      "Sampling 4 chains:  40%|████      | 818/2040 [04:40<06:50,  2.98draws/s]"
     ]
    },
    {
     "name": "stderr",
     "output_type": "stream",
     "text": [
      "\r",
      "Sampling 4 chains:  40%|████      | 819/2040 [04:40<06:52,  2.96draws/s]"
     ]
    },
    {
     "name": "stderr",
     "output_type": "stream",
     "text": [
      "\r",
      "Sampling 4 chains:  40%|████      | 820/2040 [04:41<08:25,  2.41draws/s]"
     ]
    },
    {
     "name": "stderr",
     "output_type": "stream",
     "text": [
      "\r",
      "Sampling 4 chains:  40%|████      | 821/2040 [04:41<06:55,  2.94draws/s]"
     ]
    },
    {
     "name": "stderr",
     "output_type": "stream",
     "text": [
      "\r",
      "Sampling 4 chains:  40%|████      | 822/2040 [04:41<07:19,  2.77draws/s]"
     ]
    },
    {
     "name": "stderr",
     "output_type": "stream",
     "text": [
      "\r",
      "Sampling 4 chains:  40%|████      | 823/2040 [04:42<07:17,  2.78draws/s]"
     ]
    },
    {
     "name": "stderr",
     "output_type": "stream",
     "text": [
      "\r",
      "Sampling 4 chains:  40%|████      | 824/2040 [04:42<08:35,  2.36draws/s]"
     ]
    },
    {
     "name": "stderr",
     "output_type": "stream",
     "text": [
      "\r",
      "Sampling 4 chains:  40%|████      | 825/2040 [04:42<06:44,  3.01draws/s]"
     ]
    },
    {
     "name": "stderr",
     "output_type": "stream",
     "text": [
      "\r",
      "Sampling 4 chains:  40%|████      | 826/2040 [04:43<06:49,  2.96draws/s]"
     ]
    },
    {
     "name": "stderr",
     "output_type": "stream",
     "text": [
      "\r",
      "Sampling 4 chains:  41%|████      | 827/2040 [04:43<07:20,  2.75draws/s]"
     ]
    },
    {
     "name": "stderr",
     "output_type": "stream",
     "text": [
      "\r",
      "Sampling 4 chains:  41%|████      | 828/2040 [04:44<08:49,  2.29draws/s]"
     ]
    },
    {
     "name": "stderr",
     "output_type": "stream",
     "text": [
      "\r",
      "Sampling 4 chains:  41%|████      | 829/2040 [04:44<06:57,  2.90draws/s]"
     ]
    },
    {
     "name": "stderr",
     "output_type": "stream",
     "text": [
      "\r",
      "Sampling 4 chains:  41%|████      | 830/2040 [04:44<05:55,  3.40draws/s]"
     ]
    },
    {
     "name": "stderr",
     "output_type": "stream",
     "text": [
      "\r",
      "Sampling 4 chains:  41%|████      | 831/2040 [04:45<07:28,  2.70draws/s]"
     ]
    },
    {
     "name": "stderr",
     "output_type": "stream",
     "text": [
      "\r",
      "Sampling 4 chains:  41%|████      | 832/2040 [04:45<09:08,  2.20draws/s]"
     ]
    },
    {
     "name": "stderr",
     "output_type": "stream",
     "text": [
      "\r",
      "Sampling 4 chains:  41%|████      | 834/2040 [04:45<06:47,  2.96draws/s]"
     ]
    },
    {
     "name": "stderr",
     "output_type": "stream",
     "text": [
      "\r",
      "Sampling 4 chains:  41%|████      | 835/2040 [04:46<07:52,  2.55draws/s]"
     ]
    },
    {
     "name": "stderr",
     "output_type": "stream",
     "text": [
      "\r",
      "Sampling 4 chains:  41%|████      | 836/2040 [04:47<10:11,  1.97draws/s]"
     ]
    },
    {
     "name": "stderr",
     "output_type": "stream",
     "text": [
      "\r",
      "Sampling 4 chains:  41%|████      | 838/2040 [04:47<07:45,  2.58draws/s]"
     ]
    },
    {
     "name": "stderr",
     "output_type": "stream",
     "text": [
      "\r",
      "Sampling 4 chains:  41%|████      | 839/2040 [04:47<07:56,  2.52draws/s]"
     ]
    },
    {
     "name": "stderr",
     "output_type": "stream",
     "text": [
      "\r",
      "Sampling 4 chains:  41%|████      | 840/2040 [04:48<10:28,  1.91draws/s]"
     ]
    },
    {
     "name": "stderr",
     "output_type": "stream",
     "text": [
      "\r",
      "Sampling 4 chains:  41%|████      | 841/2040 [04:48<08:03,  2.48draws/s]"
     ]
    },
    {
     "name": "stderr",
     "output_type": "stream",
     "text": [
      "\r",
      "Sampling 4 chains:  41%|████▏     | 842/2040 [04:48<06:33,  3.04draws/s]"
     ]
    },
    {
     "name": "stderr",
     "output_type": "stream",
     "text": [
      "\r",
      "Sampling 4 chains:  41%|████▏     | 843/2040 [04:49<06:46,  2.95draws/s]"
     ]
    },
    {
     "name": "stderr",
     "output_type": "stream",
     "text": [
      "\r",
      "Sampling 4 chains:  41%|████▏     | 844/2040 [04:49<09:32,  2.09draws/s]"
     ]
    },
    {
     "name": "stderr",
     "output_type": "stream",
     "text": [
      "\r",
      "Sampling 4 chains:  41%|████▏     | 845/2040 [04:50<07:44,  2.58draws/s]"
     ]
    },
    {
     "name": "stderr",
     "output_type": "stream",
     "text": [
      "\r",
      "Sampling 4 chains:  41%|████▏     | 846/2040 [04:50<06:11,  3.22draws/s]"
     ]
    },
    {
     "name": "stderr",
     "output_type": "stream",
     "text": [
      "\r",
      "Sampling 4 chains:  42%|████▏     | 847/2040 [04:50<06:27,  3.08draws/s]"
     ]
    },
    {
     "name": "stderr",
     "output_type": "stream",
     "text": [
      "\r",
      "Sampling 4 chains:  42%|████▏     | 848/2040 [04:51<09:30,  2.09draws/s]"
     ]
    },
    {
     "name": "stderr",
     "output_type": "stream",
     "text": [
      "\r",
      "Sampling 4 chains:  42%|████▏     | 849/2040 [04:51<07:43,  2.57draws/s]"
     ]
    },
    {
     "name": "stderr",
     "output_type": "stream",
     "text": [
      "\r",
      "Sampling 4 chains:  42%|████▏     | 850/2040 [04:51<06:12,  3.19draws/s]"
     ]
    },
    {
     "name": "stderr",
     "output_type": "stream",
     "text": [
      "\r",
      "Sampling 4 chains:  42%|████▏     | 851/2040 [04:52<06:10,  3.21draws/s]"
     ]
    },
    {
     "name": "stderr",
     "output_type": "stream",
     "text": [
      "\r",
      "Sampling 4 chains:  42%|████▏     | 852/2040 [04:53<09:37,  2.06draws/s]"
     ]
    },
    {
     "name": "stderr",
     "output_type": "stream",
     "text": [
      "\r",
      "Sampling 4 chains:  42%|████▏     | 853/2040 [04:53<07:45,  2.55draws/s]"
     ]
    },
    {
     "name": "stderr",
     "output_type": "stream",
     "text": [
      "\r",
      "Sampling 4 chains:  42%|████▏     | 855/2040 [04:53<06:16,  3.15draws/s]"
     ]
    },
    {
     "name": "stderr",
     "output_type": "stream",
     "text": [
      "\r",
      "Sampling 4 chains:  42%|████▏     | 856/2040 [04:54<10:22,  1.90draws/s]"
     ]
    },
    {
     "name": "stderr",
     "output_type": "stream",
     "text": [
      "\r",
      "Sampling 4 chains:  42%|████▏     | 857/2040 [04:54<08:24,  2.34draws/s]"
     ]
    },
    {
     "name": "stderr",
     "output_type": "stream",
     "text": [
      "\r",
      "Sampling 4 chains:  42%|████▏     | 859/2040 [04:54<06:19,  3.11draws/s]"
     ]
    },
    {
     "name": "stderr",
     "output_type": "stream",
     "text": [
      "\r",
      "Sampling 4 chains:  42%|████▏     | 860/2040 [04:55<11:18,  1.74draws/s]"
     ]
    },
    {
     "name": "stderr",
     "output_type": "stream",
     "text": [
      "\r",
      "Sampling 4 chains:  42%|████▏     | 861/2040 [04:56<08:59,  2.18draws/s]"
     ]
    },
    {
     "name": "stderr",
     "output_type": "stream",
     "text": [
      "\r",
      "Sampling 4 chains:  42%|████▏     | 863/2040 [04:56<06:36,  2.97draws/s]"
     ]
    },
    {
     "name": "stderr",
     "output_type": "stream",
     "text": [
      "\r",
      "Sampling 4 chains:  42%|████▏     | 864/2040 [04:57<11:40,  1.68draws/s]"
     ]
    },
    {
     "name": "stderr",
     "output_type": "stream",
     "text": [
      "\r",
      "Sampling 4 chains:  42%|████▏     | 865/2040 [04:57<08:49,  2.22draws/s]"
     ]
    },
    {
     "name": "stderr",
     "output_type": "stream",
     "text": [
      "\r",
      "Sampling 4 chains:  42%|████▎     | 867/2040 [04:57<06:35,  2.97draws/s]"
     ]
    },
    {
     "name": "stderr",
     "output_type": "stream",
     "text": [
      "\r",
      "Sampling 4 chains:  43%|████▎     | 868/2040 [04:58<11:43,  1.67draws/s]"
     ]
    },
    {
     "name": "stderr",
     "output_type": "stream",
     "text": [
      "\r",
      "Sampling 4 chains:  43%|████▎     | 869/2040 [04:59<08:47,  2.22draws/s]"
     ]
    },
    {
     "name": "stderr",
     "output_type": "stream",
     "text": [
      "\r",
      "Sampling 4 chains:  43%|████▎     | 871/2040 [04:59<06:28,  3.01draws/s]"
     ]
    },
    {
     "name": "stderr",
     "output_type": "stream",
     "text": [
      "\r",
      "Sampling 4 chains:  43%|████▎     | 873/2040 [05:00<08:35,  2.26draws/s]"
     ]
    },
    {
     "name": "stderr",
     "output_type": "stream",
     "text": [
      "\r",
      "Sampling 4 chains:  43%|████▎     | 875/2040 [05:00<06:24,  3.03draws/s]"
     ]
    },
    {
     "name": "stderr",
     "output_type": "stream",
     "text": [
      "\r",
      "Sampling 4 chains:  43%|████▎     | 876/2040 [05:01<11:13,  1.73draws/s]"
     ]
    },
    {
     "name": "stderr",
     "output_type": "stream",
     "text": [
      "\r",
      "Sampling 4 chains:  43%|████▎     | 877/2040 [05:02<09:15,  2.09draws/s]"
     ]
    },
    {
     "name": "stderr",
     "output_type": "stream",
     "text": [
      "\r",
      "Sampling 4 chains:  43%|████▎     | 879/2040 [05:02<06:52,  2.82draws/s]"
     ]
    },
    {
     "name": "stderr",
     "output_type": "stream",
     "text": [
      "\r",
      "Sampling 4 chains:  43%|████▎     | 880/2040 [05:03<11:24,  1.69draws/s]"
     ]
    },
    {
     "name": "stderr",
     "output_type": "stream",
     "text": [
      "\r",
      "Sampling 4 chains:  43%|████▎     | 881/2040 [05:03<08:46,  2.20draws/s]"
     ]
    },
    {
     "name": "stderr",
     "output_type": "stream",
     "text": [
      "\r",
      "Sampling 4 chains:  43%|████▎     | 883/2040 [05:03<06:40,  2.89draws/s]"
     ]
    },
    {
     "name": "stderr",
     "output_type": "stream",
     "text": [
      "\r",
      "Sampling 4 chains:  43%|████▎     | 884/2040 [05:04<11:51,  1.62draws/s]"
     ]
    },
    {
     "name": "stderr",
     "output_type": "stream",
     "text": [
      "\r",
      "Sampling 4 chains:  43%|████▎     | 885/2040 [05:05<09:11,  2.09draws/s]"
     ]
    },
    {
     "name": "stderr",
     "output_type": "stream",
     "text": [
      "\r",
      "Sampling 4 chains:  43%|████▎     | 886/2040 [05:05<07:07,  2.70draws/s]"
     ]
    },
    {
     "name": "stderr",
     "output_type": "stream",
     "text": [
      "\r",
      "Sampling 4 chains:  43%|████▎     | 887/2040 [05:05<07:47,  2.47draws/s]"
     ]
    },
    {
     "name": "stderr",
     "output_type": "stream",
     "text": [
      "\r",
      "Sampling 4 chains:  44%|████▎     | 888/2040 [05:06<10:09,  1.89draws/s]"
     ]
    },
    {
     "name": "stderr",
     "output_type": "stream",
     "text": [
      "\r",
      "Sampling 4 chains:  44%|████▎     | 889/2040 [05:06<07:42,  2.49draws/s]"
     ]
    },
    {
     "name": "stderr",
     "output_type": "stream",
     "text": [
      "\r",
      "Sampling 4 chains:  44%|████▎     | 890/2040 [05:06<06:51,  2.79draws/s]"
     ]
    },
    {
     "name": "stderr",
     "output_type": "stream",
     "text": [
      "\r",
      "Sampling 4 chains:  44%|████▎     | 891/2040 [05:08<11:28,  1.67draws/s]"
     ]
    },
    {
     "name": "stderr",
     "output_type": "stream",
     "text": [
      "\r",
      "Sampling 4 chains:  44%|████▍     | 894/2040 [05:08<08:50,  2.16draws/s]"
     ]
    },
    {
     "name": "stderr",
     "output_type": "stream",
     "text": [
      "\r",
      "Sampling 4 chains:  44%|████▍     | 895/2040 [05:09<12:42,  1.50draws/s]"
     ]
    },
    {
     "name": "stderr",
     "output_type": "stream",
     "text": [
      "\r",
      "Sampling 4 chains:  44%|████▍     | 897/2040 [05:09<09:36,  1.98draws/s]"
     ]
    },
    {
     "name": "stderr",
     "output_type": "stream",
     "text": [
      "\r",
      "Sampling 4 chains:  44%|████▍     | 898/2040 [05:10<10:29,  1.81draws/s]"
     ]
    },
    {
     "name": "stderr",
     "output_type": "stream",
     "text": [
      "\r",
      "Sampling 4 chains:  44%|████▍     | 899/2040 [05:11<10:21,  1.84draws/s]"
     ]
    },
    {
     "name": "stderr",
     "output_type": "stream",
     "text": [
      "\r",
      "Sampling 4 chains:  44%|████▍     | 901/2040 [05:11<08:06,  2.34draws/s]"
     ]
    },
    {
     "name": "stderr",
     "output_type": "stream",
     "text": [
      "\r",
      "Sampling 4 chains:  44%|████▍     | 902/2040 [05:12<12:26,  1.52draws/s]"
     ]
    },
    {
     "name": "stderr",
     "output_type": "stream",
     "text": [
      "\r",
      "Sampling 4 chains:  44%|████▍     | 904/2040 [05:12<09:18,  2.03draws/s]"
     ]
    },
    {
     "name": "stderr",
     "output_type": "stream",
     "text": [
      "\r",
      "Sampling 4 chains:  44%|████▍     | 905/2040 [05:12<07:20,  2.58draws/s]"
     ]
    },
    {
     "name": "stderr",
     "output_type": "stream",
     "text": [
      "\r",
      "Sampling 4 chains:  44%|████▍     | 906/2040 [05:14<11:46,  1.61draws/s]"
     ]
    },
    {
     "name": "stderr",
     "output_type": "stream",
     "text": [
      "\r",
      "Sampling 4 chains:  45%|████▍     | 908/2040 [05:14<08:46,  2.15draws/s]"
     ]
    },
    {
     "name": "stderr",
     "output_type": "stream",
     "text": [
      "\r",
      "Sampling 4 chains:  45%|████▍     | 910/2040 [05:15<09:47,  1.92draws/s]"
     ]
    },
    {
     "name": "stderr",
     "output_type": "stream",
     "text": [
      "\r",
      "Sampling 4 chains:  45%|████▍     | 913/2040 [05:15<07:23,  2.54draws/s]"
     ]
    },
    {
     "name": "stderr",
     "output_type": "stream",
     "text": [
      "\r",
      "Sampling 4 chains:  45%|████▍     | 914/2040 [05:16<11:25,  1.64draws/s]"
     ]
    },
    {
     "name": "stderr",
     "output_type": "stream",
     "text": [
      "\r",
      "Sampling 4 chains:  45%|████▍     | 917/2040 [05:17<08:42,  2.15draws/s]"
     ]
    },
    {
     "name": "stderr",
     "output_type": "stream",
     "text": [
      "\r",
      "Sampling 4 chains:  45%|████▌     | 918/2040 [05:18<11:32,  1.62draws/s]"
     ]
    },
    {
     "name": "stderr",
     "output_type": "stream",
     "text": [
      "\r",
      "Sampling 4 chains:  45%|████▌     | 919/2040 [05:18<08:38,  2.16draws/s]"
     ]
    },
    {
     "name": "stderr",
     "output_type": "stream",
     "text": [
      "\r",
      "Sampling 4 chains:  45%|████▌     | 921/2040 [05:18<07:05,  2.63draws/s]"
     ]
    },
    {
     "name": "stderr",
     "output_type": "stream",
     "text": [
      "\r",
      "Sampling 4 chains:  45%|████▌     | 922/2040 [05:19<10:11,  1.83draws/s]"
     ]
    },
    {
     "name": "stderr",
     "output_type": "stream",
     "text": [
      "\r",
      "Sampling 4 chains:  45%|████▌     | 923/2040 [05:19<07:53,  2.36draws/s]"
     ]
    },
    {
     "name": "stderr",
     "output_type": "stream",
     "text": [
      "\r",
      "Sampling 4 chains:  45%|████▌     | 925/2040 [05:20<06:42,  2.77draws/s]"
     ]
    },
    {
     "name": "stderr",
     "output_type": "stream",
     "text": [
      "\r",
      "Sampling 4 chains:  45%|████▌     | 926/2040 [05:21<09:07,  2.04draws/s]"
     ]
    },
    {
     "name": "stderr",
     "output_type": "stream",
     "text": [
      "\r",
      "Sampling 4 chains:  45%|████▌     | 927/2040 [05:21<07:56,  2.34draws/s]"
     ]
    },
    {
     "name": "stderr",
     "output_type": "stream",
     "text": [
      "\r",
      "Sampling 4 chains:  46%|████▌     | 929/2040 [05:21<06:39,  2.78draws/s]"
     ]
    },
    {
     "name": "stderr",
     "output_type": "stream",
     "text": [
      "\r",
      "Sampling 4 chains:  46%|████▌     | 930/2040 [05:22<08:21,  2.21draws/s]"
     ]
    },
    {
     "name": "stderr",
     "output_type": "stream",
     "text": [
      "\r",
      "Sampling 4 chains:  46%|████▌     | 931/2040 [05:22<07:54,  2.33draws/s]"
     ]
    },
    {
     "name": "stderr",
     "output_type": "stream",
     "text": [
      "\r",
      "Sampling 4 chains:  46%|████▌     | 933/2040 [05:23<06:48,  2.71draws/s]"
     ]
    },
    {
     "name": "stderr",
     "output_type": "stream",
     "text": [
      "\r",
      "Sampling 4 chains:  46%|████▌     | 934/2040 [05:23<08:15,  2.23draws/s]"
     ]
    },
    {
     "name": "stderr",
     "output_type": "stream",
     "text": [
      "\r",
      "Sampling 4 chains:  46%|████▌     | 935/2040 [05:24<07:48,  2.36draws/s]"
     ]
    },
    {
     "name": "stderr",
     "output_type": "stream",
     "text": [
      "\r",
      "Sampling 4 chains:  46%|████▌     | 936/2040 [05:24<06:15,  2.94draws/s]"
     ]
    },
    {
     "name": "stderr",
     "output_type": "stream",
     "text": [
      "\r",
      "Sampling 4 chains:  46%|████▌     | 937/2040 [05:24<06:04,  3.02draws/s]"
     ]
    },
    {
     "name": "stderr",
     "output_type": "stream",
     "text": [
      "\r",
      "Sampling 4 chains:  46%|████▌     | 938/2040 [05:25<07:30,  2.45draws/s]"
     ]
    },
    {
     "name": "stderr",
     "output_type": "stream",
     "text": [
      "\r",
      "Sampling 4 chains:  46%|████▌     | 939/2040 [05:25<07:17,  2.52draws/s]"
     ]
    },
    {
     "name": "stderr",
     "output_type": "stream",
     "text": [
      "\r",
      "Sampling 4 chains:  46%|████▌     | 940/2040 [05:25<06:23,  2.87draws/s]"
     ]
    },
    {
     "name": "stderr",
     "output_type": "stream",
     "text": [
      "\r",
      "Sampling 4 chains:  46%|████▌     | 941/2040 [05:26<06:00,  3.05draws/s]"
     ]
    },
    {
     "name": "stderr",
     "output_type": "stream",
     "text": [
      "\r",
      "Sampling 4 chains:  46%|████▌     | 942/2040 [05:26<06:29,  2.82draws/s]"
     ]
    },
    {
     "name": "stderr",
     "output_type": "stream",
     "text": [
      "\r",
      "Sampling 4 chains:  46%|████▌     | 943/2040 [05:27<07:07,  2.57draws/s]"
     ]
    },
    {
     "name": "stderr",
     "output_type": "stream",
     "text": [
      "\r",
      "Sampling 4 chains:  46%|████▋     | 944/2040 [05:27<06:34,  2.78draws/s]"
     ]
    },
    {
     "name": "stderr",
     "output_type": "stream",
     "text": [
      "\r",
      "Sampling 4 chains:  46%|████▋     | 945/2040 [05:27<06:09,  2.96draws/s]"
     ]
    },
    {
     "name": "stderr",
     "output_type": "stream",
     "text": [
      "\r",
      "Sampling 4 chains:  46%|████▋     | 946/2040 [05:27<05:41,  3.21draws/s]"
     ]
    },
    {
     "name": "stderr",
     "output_type": "stream",
     "text": [
      "\r",
      "Sampling 4 chains:  46%|████▋     | 947/2040 [05:28<07:42,  2.36draws/s]"
     ]
    },
    {
     "name": "stderr",
     "output_type": "stream",
     "text": [
      "\r",
      "Sampling 4 chains:  46%|████▋     | 948/2040 [05:28<06:39,  2.73draws/s]"
     ]
    },
    {
     "name": "stderr",
     "output_type": "stream",
     "text": [
      "\r",
      "Sampling 4 chains:  47%|████▋     | 949/2040 [05:29<06:15,  2.90draws/s]"
     ]
    },
    {
     "name": "stderr",
     "output_type": "stream",
     "text": [
      "\r",
      "Sampling 4 chains:  47%|████▋     | 951/2040 [05:30<06:53,  2.63draws/s]"
     ]
    },
    {
     "name": "stderr",
     "output_type": "stream",
     "text": [
      "\r",
      "Sampling 4 chains:  47%|████▋     | 952/2040 [05:30<05:48,  3.12draws/s]"
     ]
    },
    {
     "name": "stderr",
     "output_type": "stream",
     "text": [
      "\r",
      "Sampling 4 chains:  47%|████▋     | 953/2040 [05:30<05:34,  3.25draws/s]"
     ]
    },
    {
     "name": "stderr",
     "output_type": "stream",
     "text": [
      "\r",
      "Sampling 4 chains:  47%|████▋     | 955/2040 [05:31<06:43,  2.69draws/s]"
     ]
    },
    {
     "name": "stderr",
     "output_type": "stream",
     "text": [
      "\r",
      "Sampling 4 chains:  47%|████▋     | 957/2040 [05:31<05:30,  3.28draws/s]"
     ]
    },
    {
     "name": "stderr",
     "output_type": "stream",
     "text": [
      "\r",
      "Sampling 4 chains:  47%|████▋     | 958/2040 [05:32<05:01,  3.59draws/s]"
     ]
    },
    {
     "name": "stderr",
     "output_type": "stream",
     "text": [
      "\r",
      "Sampling 4 chains:  47%|████▋     | 959/2040 [05:33<08:53,  2.03draws/s]"
     ]
    },
    {
     "name": "stderr",
     "output_type": "stream",
     "text": [
      "\r",
      "Sampling 4 chains:  47%|████▋     | 961/2040 [05:33<06:28,  2.77draws/s]"
     ]
    },
    {
     "name": "stderr",
     "output_type": "stream",
     "text": [
      "\r",
      "Sampling 4 chains:  47%|████▋     | 962/2040 [05:33<06:28,  2.77draws/s]"
     ]
    },
    {
     "name": "stderr",
     "output_type": "stream",
     "text": [
      "\r",
      "Sampling 4 chains:  47%|████▋     | 963/2040 [05:34<09:40,  1.85draws/s]"
     ]
    },
    {
     "name": "stderr",
     "output_type": "stream",
     "text": [
      "\r",
      "Sampling 4 chains:  47%|████▋     | 965/2040 [05:34<07:03,  2.54draws/s]"
     ]
    },
    {
     "name": "stderr",
     "output_type": "stream",
     "text": [
      "\r",
      "Sampling 4 chains:  47%|████▋     | 966/2040 [05:35<07:18,  2.45draws/s]"
     ]
    },
    {
     "name": "stderr",
     "output_type": "stream",
     "text": [
      "\r",
      "Sampling 4 chains:  47%|████▋     | 967/2040 [05:35<09:33,  1.87draws/s]"
     ]
    },
    {
     "name": "stderr",
     "output_type": "stream",
     "text": [
      "\r",
      "Sampling 4 chains:  48%|████▊     | 969/2040 [05:36<07:13,  2.47draws/s]"
     ]
    },
    {
     "name": "stderr",
     "output_type": "stream",
     "text": [
      "\r",
      "Sampling 4 chains:  48%|████▊     | 970/2040 [05:36<07:22,  2.42draws/s]"
     ]
    },
    {
     "name": "stderr",
     "output_type": "stream",
     "text": [
      "\r",
      "Sampling 4 chains:  48%|████▊     | 971/2040 [05:37<09:37,  1.85draws/s]"
     ]
    },
    {
     "name": "stderr",
     "output_type": "stream",
     "text": [
      "\r",
      "Sampling 4 chains:  48%|████▊     | 973/2040 [05:37<07:24,  2.40draws/s]"
     ]
    },
    {
     "name": "stderr",
     "output_type": "stream",
     "text": [
      "\r",
      "Sampling 4 chains:  48%|████▊     | 974/2040 [05:38<07:24,  2.40draws/s]"
     ]
    },
    {
     "name": "stderr",
     "output_type": "stream",
     "text": [
      "\r",
      "Sampling 4 chains:  48%|████▊     | 975/2040 [05:38<09:10,  1.93draws/s]"
     ]
    },
    {
     "name": "stderr",
     "output_type": "stream",
     "text": [
      "\r",
      "Sampling 4 chains:  48%|████▊     | 976/2040 [05:38<06:59,  2.54draws/s]"
     ]
    },
    {
     "name": "stderr",
     "output_type": "stream",
     "text": [
      "\r",
      "Sampling 4 chains:  48%|████▊     | 977/2040 [05:39<06:09,  2.87draws/s]"
     ]
    },
    {
     "name": "stderr",
     "output_type": "stream",
     "text": [
      "\r",
      "Sampling 4 chains:  48%|████▊     | 978/2040 [05:39<06:25,  2.75draws/s]"
     ]
    },
    {
     "name": "stderr",
     "output_type": "stream",
     "text": [
      "\r",
      "Sampling 4 chains:  48%|████▊     | 979/2040 [05:40<08:06,  2.18draws/s]"
     ]
    },
    {
     "name": "stderr",
     "output_type": "stream",
     "text": [
      "\r",
      "Sampling 4 chains:  48%|████▊     | 981/2040 [05:40<06:32,  2.70draws/s]"
     ]
    },
    {
     "name": "stderr",
     "output_type": "stream",
     "text": [
      "\r",
      "Sampling 4 chains:  48%|████▊     | 982/2040 [05:41<06:52,  2.56draws/s]"
     ]
    },
    {
     "name": "stderr",
     "output_type": "stream",
     "text": [
      "\r",
      "Sampling 4 chains:  48%|████▊     | 983/2040 [05:41<08:11,  2.15draws/s]"
     ]
    },
    {
     "name": "stderr",
     "output_type": "stream",
     "text": [
      "\r",
      "Sampling 4 chains:  48%|████▊     | 984/2040 [05:41<06:25,  2.74draws/s]"
     ]
    },
    {
     "name": "stderr",
     "output_type": "stream",
     "text": [
      "\r",
      "Sampling 4 chains:  48%|████▊     | 985/2040 [05:42<05:50,  3.01draws/s]"
     ]
    },
    {
     "name": "stderr",
     "output_type": "stream",
     "text": [
      "\r",
      "Sampling 4 chains:  48%|████▊     | 986/2040 [05:42<06:35,  2.66draws/s]"
     ]
    },
    {
     "name": "stderr",
     "output_type": "stream",
     "text": [
      "\r",
      "Sampling 4 chains:  48%|████▊     | 987/2040 [05:43<07:16,  2.41draws/s]"
     ]
    },
    {
     "name": "stderr",
     "output_type": "stream",
     "text": [
      "\r",
      "Sampling 4 chains:  48%|████▊     | 988/2040 [05:43<05:56,  2.95draws/s]"
     ]
    },
    {
     "name": "stderr",
     "output_type": "stream",
     "text": [
      "\r",
      "Sampling 4 chains:  48%|████▊     | 989/2040 [05:43<05:51,  2.99draws/s]"
     ]
    },
    {
     "name": "stderr",
     "output_type": "stream",
     "text": [
      "\r",
      "Sampling 4 chains:  49%|████▊     | 990/2040 [05:44<06:51,  2.55draws/s]"
     ]
    },
    {
     "name": "stderr",
     "output_type": "stream",
     "text": [
      "\r",
      "Sampling 4 chains:  49%|████▊     | 991/2040 [05:44<07:29,  2.33draws/s]"
     ]
    },
    {
     "name": "stderr",
     "output_type": "stream",
     "text": [
      "\r",
      "Sampling 4 chains:  49%|████▊     | 993/2040 [05:45<06:29,  2.69draws/s]"
     ]
    },
    {
     "name": "stderr",
     "output_type": "stream",
     "text": [
      "\r",
      "Sampling 4 chains:  49%|████▊     | 994/2040 [05:45<07:14,  2.41draws/s]"
     ]
    },
    {
     "name": "stderr",
     "output_type": "stream",
     "text": [
      "\r",
      "Sampling 4 chains:  49%|████▉     | 995/2040 [05:45<06:40,  2.61draws/s]"
     ]
    },
    {
     "name": "stderr",
     "output_type": "stream",
     "text": [
      "\r",
      "Sampling 4 chains:  49%|████▉     | 996/2040 [05:46<05:56,  2.93draws/s]"
     ]
    },
    {
     "name": "stderr",
     "output_type": "stream",
     "text": [
      "\r",
      "Sampling 4 chains:  49%|████▉     | 997/2040 [05:46<06:25,  2.71draws/s]"
     ]
    },
    {
     "name": "stderr",
     "output_type": "stream",
     "text": [
      "\r",
      "Sampling 4 chains:  49%|████▉     | 998/2040 [05:47<07:10,  2.42draws/s]"
     ]
    },
    {
     "name": "stderr",
     "output_type": "stream",
     "text": [
      "\r",
      "Sampling 4 chains:  49%|████▉     | 999/2040 [05:47<05:50,  2.97draws/s]"
     ]
    },
    {
     "name": "stderr",
     "output_type": "stream",
     "text": [
      "\r",
      "Sampling 4 chains:  49%|████▉     | 1000/2040 [05:47<05:51,  2.96draws/s]"
     ]
    },
    {
     "name": "stderr",
     "output_type": "stream",
     "text": [
      "\r",
      "Sampling 4 chains:  49%|████▉     | 1001/2040 [05:48<06:46,  2.56draws/s]"
     ]
    },
    {
     "name": "stderr",
     "output_type": "stream",
     "text": [
      "\r",
      "Sampling 4 chains:  49%|████▉     | 1002/2040 [05:48<07:19,  2.36draws/s]"
     ]
    },
    {
     "name": "stderr",
     "output_type": "stream",
     "text": [
      "\r",
      "Sampling 4 chains:  49%|████▉     | 1004/2040 [05:48<06:07,  2.82draws/s]"
     ]
    },
    {
     "name": "stderr",
     "output_type": "stream",
     "text": [
      "\r",
      "Sampling 4 chains:  49%|████▉     | 1005/2040 [05:49<07:37,  2.26draws/s]"
     ]
    },
    {
     "name": "stderr",
     "output_type": "stream",
     "text": [
      "\r",
      "Sampling 4 chains:  49%|████▉     | 1006/2040 [05:49<07:22,  2.34draws/s]"
     ]
    },
    {
     "name": "stderr",
     "output_type": "stream",
     "text": [
      "\r",
      "Sampling 4 chains:  49%|████▉     | 1008/2040 [05:50<06:12,  2.77draws/s]"
     ]
    },
    {
     "name": "stderr",
     "output_type": "stream",
     "text": [
      "\r",
      "Sampling 4 chains:  49%|████▉     | 1009/2040 [05:51<08:00,  2.14draws/s]"
     ]
    },
    {
     "name": "stderr",
     "output_type": "stream",
     "text": [
      "\r",
      "Sampling 4 chains:  50%|████▉     | 1010/2040 [05:51<07:25,  2.31draws/s]"
     ]
    },
    {
     "name": "stderr",
     "output_type": "stream",
     "text": [
      "\r",
      "Sampling 4 chains:  50%|████▉     | 1011/2040 [05:51<05:42,  3.00draws/s]"
     ]
    },
    {
     "name": "stderr",
     "output_type": "stream",
     "text": [
      "\r",
      "Sampling 4 chains:  50%|████▉     | 1012/2040 [05:51<05:45,  2.98draws/s]"
     ]
    },
    {
     "name": "stderr",
     "output_type": "stream",
     "text": [
      "\r",
      "Sampling 4 chains:  50%|████▉     | 1013/2040 [05:52<06:51,  2.49draws/s]"
     ]
    },
    {
     "name": "stderr",
     "output_type": "stream",
     "text": [
      "\r",
      "Sampling 4 chains:  50%|████▉     | 1014/2040 [05:52<06:42,  2.55draws/s]"
     ]
    },
    {
     "name": "stderr",
     "output_type": "stream",
     "text": [
      "\r",
      "Sampling 4 chains:  50%|████▉     | 1015/2040 [05:53<05:56,  2.88draws/s]"
     ]
    },
    {
     "name": "stderr",
     "output_type": "stream",
     "text": [
      "\r",
      "Sampling 4 chains:  50%|████▉     | 1016/2040 [05:53<05:37,  3.03draws/s]"
     ]
    },
    {
     "name": "stderr",
     "output_type": "stream",
     "text": [
      "\r",
      "Sampling 4 chains:  50%|████▉     | 1017/2040 [05:53<06:43,  2.53draws/s]"
     ]
    },
    {
     "name": "stderr",
     "output_type": "stream",
     "text": [
      "\r",
      "Sampling 4 chains:  50%|████▉     | 1018/2040 [05:54<06:40,  2.55draws/s]"
     ]
    },
    {
     "name": "stderr",
     "output_type": "stream",
     "text": [
      "\r",
      "Sampling 4 chains:  50%|████▉     | 1019/2040 [05:54<06:04,  2.80draws/s]"
     ]
    },
    {
     "name": "stderr",
     "output_type": "stream",
     "text": [
      "\r",
      "Sampling 4 chains:  50%|█████     | 1020/2040 [05:54<05:42,  2.97draws/s]"
     ]
    },
    {
     "name": "stderr",
     "output_type": "stream",
     "text": [
      "\r",
      "Sampling 4 chains:  50%|█████     | 1021/2040 [05:55<06:54,  2.46draws/s]"
     ]
    },
    {
     "name": "stderr",
     "output_type": "stream",
     "text": [
      "\r",
      "Sampling 4 chains:  50%|█████     | 1022/2040 [05:55<05:59,  2.83draws/s]"
     ]
    },
    {
     "name": "stderr",
     "output_type": "stream",
     "text": [
      "\r",
      "Sampling 4 chains:  50%|█████     | 1023/2040 [05:56<06:17,  2.69draws/s]"
     ]
    },
    {
     "name": "stderr",
     "output_type": "stream",
     "text": [
      "\r",
      "Sampling 4 chains:  50%|█████     | 1024/2040 [05:56<05:38,  3.00draws/s]"
     ]
    },
    {
     "name": "stderr",
     "output_type": "stream",
     "text": [
      "\r",
      "Sampling 4 chains:  50%|█████     | 1025/2040 [05:56<06:49,  2.48draws/s]"
     ]
    },
    {
     "name": "stderr",
     "output_type": "stream",
     "text": [
      "\r",
      "Sampling 4 chains:  50%|█████     | 1027/2040 [05:57<06:29,  2.60draws/s]"
     ]
    },
    {
     "name": "stderr",
     "output_type": "stream",
     "text": [
      "\r",
      "Sampling 4 chains:  50%|█████     | 1028/2040 [05:57<05:19,  3.16draws/s]"
     ]
    },
    {
     "name": "stderr",
     "output_type": "stream",
     "text": [
      "\r",
      "Sampling 4 chains:  50%|█████     | 1029/2040 [05:58<06:45,  2.49draws/s]"
     ]
    },
    {
     "name": "stderr",
     "output_type": "stream",
     "text": [
      "\r",
      "Sampling 4 chains:  51%|█████     | 1031/2040 [05:59<06:36,  2.55draws/s]"
     ]
    },
    {
     "name": "stderr",
     "output_type": "stream",
     "text": [
      "\r",
      "Sampling 4 chains:  51%|█████     | 1033/2040 [05:59<06:02,  2.77draws/s]"
     ]
    },
    {
     "name": "stderr",
     "output_type": "stream",
     "text": [
      "\r",
      "Sampling 4 chains:  51%|█████     | 1034/2040 [05:59<05:16,  3.18draws/s]"
     ]
    },
    {
     "name": "stderr",
     "output_type": "stream",
     "text": [
      "\r",
      "Sampling 4 chains:  51%|█████     | 1035/2040 [06:00<06:51,  2.44draws/s]"
     ]
    },
    {
     "name": "stderr",
     "output_type": "stream",
     "text": [
      "\r",
      "Sampling 4 chains:  51%|█████     | 1036/2040 [06:00<05:20,  3.13draws/s]"
     ]
    },
    {
     "name": "stderr",
     "output_type": "stream",
     "text": [
      "\r",
      "Sampling 4 chains:  51%|█████     | 1037/2040 [06:01<06:08,  2.72draws/s]"
     ]
    },
    {
     "name": "stderr",
     "output_type": "stream",
     "text": [
      "\r",
      "Sampling 4 chains:  51%|█████     | 1038/2040 [06:01<04:56,  3.38draws/s]"
     ]
    },
    {
     "name": "stderr",
     "output_type": "stream",
     "text": [
      "\r",
      "Sampling 4 chains:  51%|█████     | 1039/2040 [06:01<07:33,  2.21draws/s]"
     ]
    },
    {
     "name": "stderr",
     "output_type": "stream",
     "text": [
      "\r",
      "Sampling 4 chains:  51%|█████     | 1041/2040 [06:02<06:06,  2.72draws/s]"
     ]
    },
    {
     "name": "stderr",
     "output_type": "stream",
     "text": [
      "\r",
      "Sampling 4 chains:  51%|█████     | 1042/2040 [06:02<06:05,  2.73draws/s]"
     ]
    },
    {
     "name": "stderr",
     "output_type": "stream",
     "text": [
      "\r",
      "Sampling 4 chains:  51%|█████     | 1043/2040 [06:03<08:01,  2.07draws/s]"
     ]
    },
    {
     "name": "stderr",
     "output_type": "stream",
     "text": [
      "\r",
      "Sampling 4 chains:  51%|█████     | 1044/2040 [06:03<06:20,  2.62draws/s]"
     ]
    },
    {
     "name": "stderr",
     "output_type": "stream",
     "text": [
      "\r",
      "Sampling 4 chains:  51%|█████     | 1045/2040 [06:03<05:25,  3.06draws/s]"
     ]
    },
    {
     "name": "stderr",
     "output_type": "stream",
     "text": [
      "\r",
      "Sampling 4 chains:  51%|█████▏    | 1046/2040 [06:04<05:49,  2.84draws/s]"
     ]
    },
    {
     "name": "stderr",
     "output_type": "stream",
     "text": [
      "\r",
      "Sampling 4 chains:  51%|█████▏    | 1047/2040 [06:04<07:47,  2.12draws/s]"
     ]
    },
    {
     "name": "stderr",
     "output_type": "stream",
     "text": [
      "\r",
      "Sampling 4 chains:  51%|█████▏    | 1048/2040 [06:05<06:09,  2.69draws/s]"
     ]
    },
    {
     "name": "stderr",
     "output_type": "stream",
     "text": [
      "\r",
      "Sampling 4 chains:  51%|█████▏    | 1049/2040 [06:05<05:06,  3.23draws/s]"
     ]
    },
    {
     "name": "stderr",
     "output_type": "stream",
     "text": [
      "\r",
      "Sampling 4 chains:  51%|█████▏    | 1050/2040 [06:05<06:13,  2.65draws/s]"
     ]
    },
    {
     "name": "stderr",
     "output_type": "stream",
     "text": [
      "\r",
      "Sampling 4 chains:  52%|█████▏    | 1051/2040 [06:06<07:38,  2.16draws/s]"
     ]
    },
    {
     "name": "stderr",
     "output_type": "stream",
     "text": [
      "\r",
      "Sampling 4 chains:  52%|█████▏    | 1052/2040 [06:06<05:53,  2.79draws/s]"
     ]
    },
    {
     "name": "stderr",
     "output_type": "stream",
     "text": [
      "\r",
      "Sampling 4 chains:  52%|█████▏    | 1054/2040 [06:07<05:56,  2.77draws/s]"
     ]
    },
    {
     "name": "stderr",
     "output_type": "stream",
     "text": [
      "\r",
      "Sampling 4 chains:  52%|█████▏    | 1055/2040 [06:07<06:39,  2.46draws/s]"
     ]
    },
    {
     "name": "stderr",
     "output_type": "stream",
     "text": [
      "\r",
      "Sampling 4 chains:  52%|█████▏    | 1057/2040 [06:08<05:21,  3.05draws/s]"
     ]
    },
    {
     "name": "stderr",
     "output_type": "stream",
     "text": [
      "\r",
      "Sampling 4 chains:  52%|█████▏    | 1058/2040 [06:08<07:13,  2.26draws/s]"
     ]
    },
    {
     "name": "stderr",
     "output_type": "stream",
     "text": [
      "\r",
      "Sampling 4 chains:  52%|█████▏    | 1059/2040 [06:09<06:48,  2.40draws/s]"
     ]
    },
    {
     "name": "stderr",
     "output_type": "stream",
     "text": [
      "\r",
      "Sampling 4 chains:  52%|█████▏    | 1060/2040 [06:09<05:42,  2.86draws/s]"
     ]
    },
    {
     "name": "stderr",
     "output_type": "stream",
     "text": [
      "\r",
      "Sampling 4 chains:  52%|█████▏    | 1061/2040 [06:09<05:12,  3.14draws/s]"
     ]
    },
    {
     "name": "stderr",
     "output_type": "stream",
     "text": [
      "\r",
      "Sampling 4 chains:  52%|█████▏    | 1062/2040 [06:10<07:20,  2.22draws/s]"
     ]
    },
    {
     "name": "stderr",
     "output_type": "stream",
     "text": [
      "\r",
      "Sampling 4 chains:  52%|█████▏    | 1063/2040 [06:10<05:56,  2.74draws/s]"
     ]
    },
    {
     "name": "stderr",
     "output_type": "stream",
     "text": [
      "\r",
      "Sampling 4 chains:  52%|█████▏    | 1064/2040 [06:10<05:45,  2.83draws/s]"
     ]
    },
    {
     "name": "stderr",
     "output_type": "stream",
     "text": [
      "\r",
      "Sampling 4 chains:  52%|█████▏    | 1065/2040 [06:11<05:14,  3.10draws/s]"
     ]
    },
    {
     "name": "stderr",
     "output_type": "stream",
     "text": [
      "\r",
      "Sampling 4 chains:  52%|█████▏    | 1066/2040 [06:11<07:06,  2.29draws/s]"
     ]
    },
    {
     "name": "stderr",
     "output_type": "stream",
     "text": [
      "\r",
      "Sampling 4 chains:  52%|█████▏    | 1067/2040 [06:12<05:54,  2.74draws/s]"
     ]
    },
    {
     "name": "stderr",
     "output_type": "stream",
     "text": [
      "\r",
      "Sampling 4 chains:  52%|█████▏    | 1068/2040 [06:12<05:21,  3.02draws/s]"
     ]
    },
    {
     "name": "stderr",
     "output_type": "stream",
     "text": [
      "\r",
      "Sampling 4 chains:  52%|█████▏    | 1069/2040 [06:12<05:31,  2.92draws/s]"
     ]
    },
    {
     "name": "stderr",
     "output_type": "stream",
     "text": [
      "\r",
      "Sampling 4 chains:  52%|█████▏    | 1070/2040 [06:13<07:08,  2.26draws/s]"
     ]
    },
    {
     "name": "stderr",
     "output_type": "stream",
     "text": [
      "\r",
      "Sampling 4 chains:  53%|█████▎    | 1072/2040 [06:13<06:08,  2.62draws/s]"
     ]
    },
    {
     "name": "stderr",
     "output_type": "stream",
     "text": [
      "\r",
      "Sampling 4 chains:  53%|█████▎    | 1073/2040 [06:14<09:42,  1.66draws/s]"
     ]
    },
    {
     "name": "stderr",
     "output_type": "stream",
     "text": [
      "\r",
      "Sampling 4 chains:  53%|█████▎    | 1075/2040 [06:15<07:25,  2.17draws/s]"
     ]
    },
    {
     "name": "stderr",
     "output_type": "stream",
     "text": [
      "\r",
      "Sampling 4 chains:  53%|█████▎    | 1076/2040 [06:15<05:53,  2.73draws/s]"
     ]
    },
    {
     "name": "stderr",
     "output_type": "stream",
     "text": [
      "\r",
      "Sampling 4 chains:  53%|█████▎    | 1077/2040 [06:16<09:43,  1.65draws/s]"
     ]
    },
    {
     "name": "stderr",
     "output_type": "stream",
     "text": [
      "\r",
      "Sampling 4 chains:  53%|█████▎    | 1078/2040 [06:16<08:39,  1.85draws/s]"
     ]
    },
    {
     "name": "stderr",
     "output_type": "stream",
     "text": [
      "\r",
      "Sampling 4 chains:  53%|█████▎    | 1079/2040 [06:17<09:42,  1.65draws/s]"
     ]
    },
    {
     "name": "stderr",
     "output_type": "stream",
     "text": [
      "\r",
      "Sampling 4 chains:  53%|█████▎    | 1081/2040 [06:18<07:45,  2.06draws/s]"
     ]
    },
    {
     "name": "stderr",
     "output_type": "stream",
     "text": [
      "\r",
      "Sampling 4 chains:  53%|█████▎    | 1082/2040 [06:18<07:02,  2.27draws/s]"
     ]
    },
    {
     "name": "stderr",
     "output_type": "stream",
     "text": [
      "\r",
      "Sampling 4 chains:  53%|█████▎    | 1083/2040 [06:19<10:40,  1.49draws/s]"
     ]
    },
    {
     "name": "stderr",
     "output_type": "stream",
     "text": [
      "\r",
      "Sampling 4 chains:  53%|█████▎    | 1084/2040 [06:19<08:28,  1.88draws/s]"
     ]
    },
    {
     "name": "stderr",
     "output_type": "stream",
     "text": [
      "\r",
      "Sampling 4 chains:  53%|█████▎    | 1087/2040 [06:21<07:51,  2.02draws/s]"
     ]
    },
    {
     "name": "stderr",
     "output_type": "stream",
     "text": [
      "\r",
      "Sampling 4 chains:  53%|█████▎    | 1088/2040 [06:21<06:18,  2.52draws/s]"
     ]
    },
    {
     "name": "stderr",
     "output_type": "stream",
     "text": [
      "\r",
      "Sampling 4 chains:  53%|█████▎    | 1089/2040 [06:21<04:57,  3.20draws/s]"
     ]
    },
    {
     "name": "stderr",
     "output_type": "stream",
     "text": [
      "\r",
      "Sampling 4 chains:  53%|█████▎    | 1091/2040 [06:22<06:14,  2.53draws/s]"
     ]
    },
    {
     "name": "stderr",
     "output_type": "stream",
     "text": [
      "\r",
      "Sampling 4 chains:  54%|█████▎    | 1093/2040 [06:22<04:59,  3.16draws/s]"
     ]
    },
    {
     "name": "stderr",
     "output_type": "stream",
     "text": [
      "\r",
      "Sampling 4 chains:  54%|█████▎    | 1095/2040 [06:23<06:03,  2.60draws/s]"
     ]
    },
    {
     "name": "stderr",
     "output_type": "stream",
     "text": [
      "\r",
      "Sampling 4 chains:  54%|█████▍    | 1097/2040 [06:24<05:10,  3.03draws/s]"
     ]
    },
    {
     "name": "stderr",
     "output_type": "stream",
     "text": [
      "\r",
      "Sampling 4 chains:  54%|█████▍    | 1099/2040 [06:25<06:00,  2.61draws/s]"
     ]
    },
    {
     "name": "stderr",
     "output_type": "stream",
     "text": [
      "\r",
      "Sampling 4 chains:  54%|█████▍    | 1101/2040 [06:25<05:08,  3.04draws/s]"
     ]
    },
    {
     "name": "stderr",
     "output_type": "stream",
     "text": [
      "\r",
      "Sampling 4 chains:  54%|█████▍    | 1103/2040 [06:26<05:35,  2.79draws/s]"
     ]
    },
    {
     "name": "stderr",
     "output_type": "stream",
     "text": [
      "\r",
      "Sampling 4 chains:  54%|█████▍    | 1104/2040 [06:26<04:53,  3.19draws/s]"
     ]
    },
    {
     "name": "stderr",
     "output_type": "stream",
     "text": [
      "\r",
      "Sampling 4 chains:  54%|█████▍    | 1105/2040 [06:27<05:13,  2.98draws/s]"
     ]
    },
    {
     "name": "stderr",
     "output_type": "stream",
     "text": [
      "\r",
      "Sampling 4 chains:  54%|█████▍    | 1107/2040 [06:27<05:41,  2.73draws/s]"
     ]
    },
    {
     "name": "stderr",
     "output_type": "stream",
     "text": [
      "\r",
      "Sampling 4 chains:  54%|█████▍    | 1108/2040 [06:28<04:40,  3.32draws/s]"
     ]
    },
    {
     "name": "stderr",
     "output_type": "stream",
     "text": [
      "\r",
      "Sampling 4 chains:  54%|█████▍    | 1109/2040 [06:28<05:04,  3.06draws/s]"
     ]
    },
    {
     "name": "stderr",
     "output_type": "stream",
     "text": [
      "\r",
      "Sampling 4 chains:  54%|█████▍    | 1110/2040 [06:28<04:22,  3.54draws/s]"
     ]
    },
    {
     "name": "stderr",
     "output_type": "stream",
     "text": [
      "\r",
      "Sampling 4 chains:  54%|█████▍    | 1111/2040 [06:29<06:20,  2.44draws/s]"
     ]
    },
    {
     "name": "stderr",
     "output_type": "stream",
     "text": [
      "\r",
      "Sampling 4 chains:  55%|█████▍    | 1112/2040 [06:29<05:34,  2.78draws/s]"
     ]
    },
    {
     "name": "stderr",
     "output_type": "stream",
     "text": [
      "\r",
      "Sampling 4 chains:  55%|█████▍    | 1113/2040 [06:30<05:38,  2.74draws/s]"
     ]
    },
    {
     "name": "stderr",
     "output_type": "stream",
     "text": [
      "\r",
      "Sampling 4 chains:  55%|█████▍    | 1114/2040 [06:30<04:45,  3.24draws/s]"
     ]
    },
    {
     "name": "stderr",
     "output_type": "stream",
     "text": [
      "\r",
      "Sampling 4 chains:  55%|█████▍    | 1115/2040 [06:30<06:11,  2.49draws/s]"
     ]
    },
    {
     "name": "stderr",
     "output_type": "stream",
     "text": [
      "\r",
      "Sampling 4 chains:  55%|█████▍    | 1116/2040 [06:31<05:56,  2.59draws/s]"
     ]
    },
    {
     "name": "stderr",
     "output_type": "stream",
     "text": [
      "\r",
      "Sampling 4 chains:  55%|█████▍    | 1117/2040 [06:31<05:48,  2.65draws/s]"
     ]
    },
    {
     "name": "stderr",
     "output_type": "stream",
     "text": [
      "\r",
      "Sampling 4 chains:  55%|█████▍    | 1118/2040 [06:31<04:38,  3.31draws/s]"
     ]
    },
    {
     "name": "stderr",
     "output_type": "stream",
     "text": [
      "\r",
      "Sampling 4 chains:  55%|█████▍    | 1119/2040 [06:32<05:11,  2.96draws/s]"
     ]
    },
    {
     "name": "stderr",
     "output_type": "stream",
     "text": [
      "\r",
      "Sampling 4 chains:  55%|█████▍    | 1120/2040 [06:32<06:30,  2.36draws/s]"
     ]
    },
    {
     "name": "stderr",
     "output_type": "stream",
     "text": [
      "\r",
      "Sampling 4 chains:  55%|█████▍    | 1121/2040 [06:32<05:47,  2.64draws/s]"
     ]
    },
    {
     "name": "stderr",
     "output_type": "stream",
     "text": [
      "\r",
      "Sampling 4 chains:  55%|█████▌    | 1123/2040 [06:33<05:14,  2.92draws/s]"
     ]
    },
    {
     "name": "stderr",
     "output_type": "stream",
     "text": [
      "\r",
      "Sampling 4 chains:  55%|█████▌    | 1124/2040 [06:34<06:42,  2.27draws/s]"
     ]
    },
    {
     "name": "stderr",
     "output_type": "stream",
     "text": [
      "\r",
      "Sampling 4 chains:  55%|█████▌    | 1125/2040 [06:34<05:37,  2.71draws/s]"
     ]
    },
    {
     "name": "stderr",
     "output_type": "stream",
     "text": [
      "\r",
      "Sampling 4 chains:  55%|█████▌    | 1127/2040 [06:34<05:12,  2.92draws/s]"
     ]
    },
    {
     "name": "stderr",
     "output_type": "stream",
     "text": [
      "\r",
      "Sampling 4 chains:  55%|█████▌    | 1128/2040 [06:35<06:47,  2.24draws/s]"
     ]
    },
    {
     "name": "stderr",
     "output_type": "stream",
     "text": [
      "\r",
      "Sampling 4 chains:  55%|█████▌    | 1129/2040 [06:35<05:36,  2.71draws/s]"
     ]
    },
    {
     "name": "stderr",
     "output_type": "stream",
     "text": [
      "\r",
      "Sampling 4 chains:  55%|█████▌    | 1130/2040 [06:35<04:38,  3.27draws/s]"
     ]
    },
    {
     "name": "stderr",
     "output_type": "stream",
     "text": [
      "\r",
      "Sampling 4 chains:  55%|█████▌    | 1131/2040 [06:36<04:45,  3.18draws/s]"
     ]
    },
    {
     "name": "stderr",
     "output_type": "stream",
     "text": [
      "\r",
      "Sampling 4 chains:  55%|█████▌    | 1132/2040 [06:37<07:08,  2.12draws/s]"
     ]
    },
    {
     "name": "stderr",
     "output_type": "stream",
     "text": [
      "\r",
      "Sampling 4 chains:  56%|█████▌    | 1133/2040 [06:37<05:33,  2.72draws/s]"
     ]
    },
    {
     "name": "stderr",
     "output_type": "stream",
     "text": [
      "\r",
      "Sampling 4 chains:  56%|█████▌    | 1134/2040 [06:37<04:36,  3.27draws/s]"
     ]
    },
    {
     "name": "stderr",
     "output_type": "stream",
     "text": [
      "\r",
      "Sampling 4 chains:  56%|█████▌    | 1135/2040 [06:37<04:32,  3.33draws/s]"
     ]
    },
    {
     "name": "stderr",
     "output_type": "stream",
     "text": [
      "\r",
      "Sampling 4 chains:  56%|█████▌    | 1136/2040 [06:38<07:22,  2.04draws/s]"
     ]
    },
    {
     "name": "stderr",
     "output_type": "stream",
     "text": [
      "\r",
      "Sampling 4 chains:  56%|█████▌    | 1138/2040 [06:38<05:47,  2.60draws/s]"
     ]
    },
    {
     "name": "stderr",
     "output_type": "stream",
     "text": [
      "\r",
      "Sampling 4 chains:  56%|█████▌    | 1139/2040 [06:39<04:42,  3.19draws/s]"
     ]
    },
    {
     "name": "stderr",
     "output_type": "stream",
     "text": [
      "\r",
      "Sampling 4 chains:  56%|█████▌    | 1140/2040 [06:40<07:57,  1.88draws/s]"
     ]
    },
    {
     "name": "stderr",
     "output_type": "stream",
     "text": [
      "\r",
      "Sampling 4 chains:  56%|█████▌    | 1142/2040 [06:40<06:17,  2.38draws/s]"
     ]
    },
    {
     "name": "stderr",
     "output_type": "stream",
     "text": [
      "\r",
      "Sampling 4 chains:  56%|█████▌    | 1144/2040 [06:41<06:53,  2.16draws/s]"
     ]
    },
    {
     "name": "stderr",
     "output_type": "stream",
     "text": [
      "\r",
      "Sampling 4 chains:  56%|█████▌    | 1146/2040 [06:41<05:29,  2.71draws/s]"
     ]
    },
    {
     "name": "stderr",
     "output_type": "stream",
     "text": [
      "\r",
      "Sampling 4 chains:  56%|█████▋    | 1148/2040 [06:43<06:30,  2.29draws/s]"
     ]
    },
    {
     "name": "stderr",
     "output_type": "stream",
     "text": [
      "\r",
      "Sampling 4 chains:  56%|█████▋    | 1150/2040 [06:43<05:00,  2.96draws/s]"
     ]
    },
    {
     "name": "stderr",
     "output_type": "stream",
     "text": [
      "\r",
      "Sampling 4 chains:  56%|█████▋    | 1151/2040 [06:43<04:08,  3.57draws/s]"
     ]
    },
    {
     "name": "stderr",
     "output_type": "stream",
     "text": [
      "\r",
      "Sampling 4 chains:  56%|█████▋    | 1152/2040 [06:44<07:41,  1.92draws/s]"
     ]
    },
    {
     "name": "stderr",
     "output_type": "stream",
     "text": [
      "\r",
      "Sampling 4 chains:  57%|█████▋    | 1153/2040 [06:44<05:55,  2.49draws/s]"
     ]
    },
    {
     "name": "stderr",
     "output_type": "stream",
     "text": [
      "\r",
      "Sampling 4 chains:  57%|█████▋    | 1155/2040 [06:44<04:48,  3.07draws/s]"
     ]
    },
    {
     "name": "stderr",
     "output_type": "stream",
     "text": [
      "\r",
      "Sampling 4 chains:  57%|█████▋    | 1156/2040 [06:45<07:37,  1.93draws/s]"
     ]
    },
    {
     "name": "stderr",
     "output_type": "stream",
     "text": [
      "\r",
      "Sampling 4 chains:  57%|█████▋    | 1157/2040 [06:45<05:47,  2.54draws/s]"
     ]
    },
    {
     "name": "stderr",
     "output_type": "stream",
     "text": [
      "\r",
      "Sampling 4 chains:  57%|█████▋    | 1159/2040 [06:46<05:01,  2.92draws/s]"
     ]
    },
    {
     "name": "stderr",
     "output_type": "stream",
     "text": [
      "\r",
      "Sampling 4 chains:  57%|█████▋    | 1160/2040 [06:47<07:25,  1.97draws/s]"
     ]
    },
    {
     "name": "stderr",
     "output_type": "stream",
     "text": [
      "\r",
      "Sampling 4 chains:  57%|█████▋    | 1161/2040 [06:47<05:59,  2.45draws/s]"
     ]
    },
    {
     "name": "stderr",
     "output_type": "stream",
     "text": [
      "\r",
      "Sampling 4 chains:  57%|█████▋    | 1163/2040 [06:48<05:25,  2.70draws/s]"
     ]
    },
    {
     "name": "stderr",
     "output_type": "stream",
     "text": [
      "\r",
      "Sampling 4 chains:  57%|█████▋    | 1164/2040 [06:49<08:18,  1.76draws/s]"
     ]
    },
    {
     "name": "stderr",
     "output_type": "stream",
     "text": [
      "\r",
      "Sampling 4 chains:  57%|█████▋    | 1165/2040 [06:49<06:41,  2.18draws/s]"
     ]
    },
    {
     "name": "stderr",
     "output_type": "stream",
     "text": [
      "\r",
      "Sampling 4 chains:  57%|█████▋    | 1167/2040 [06:49<05:37,  2.58draws/s]"
     ]
    },
    {
     "name": "stderr",
     "output_type": "stream",
     "text": [
      "\r",
      "Sampling 4 chains:  57%|█████▋    | 1168/2040 [06:50<07:45,  1.87draws/s]"
     ]
    },
    {
     "name": "stderr",
     "output_type": "stream",
     "text": [
      "\r",
      "Sampling 4 chains:  57%|█████▋    | 1169/2040 [06:50<06:17,  2.31draws/s]"
     ]
    },
    {
     "name": "stderr",
     "output_type": "stream",
     "text": [
      "\r",
      "Sampling 4 chains:  57%|█████▋    | 1170/2040 [06:51<05:53,  2.46draws/s]"
     ]
    },
    {
     "name": "stderr",
     "output_type": "stream",
     "text": [
      "\r",
      "Sampling 4 chains:  57%|█████▋    | 1171/2040 [06:51<05:32,  2.61draws/s]"
     ]
    },
    {
     "name": "stderr",
     "output_type": "stream",
     "text": [
      "\r",
      "Sampling 4 chains:  57%|█████▋    | 1172/2040 [06:52<06:51,  2.11draws/s]"
     ]
    },
    {
     "name": "stderr",
     "output_type": "stream",
     "text": [
      "\r",
      "Sampling 4 chains:  57%|█████▊    | 1173/2040 [06:52<05:21,  2.69draws/s]"
     ]
    },
    {
     "name": "stderr",
     "output_type": "stream",
     "text": [
      "\r",
      "Sampling 4 chains:  58%|█████▊    | 1174/2040 [06:52<05:01,  2.87draws/s]"
     ]
    },
    {
     "name": "stderr",
     "output_type": "stream",
     "text": [
      "\r",
      "Sampling 4 chains:  58%|█████▊    | 1175/2040 [06:53<05:25,  2.66draws/s]"
     ]
    },
    {
     "name": "stderr",
     "output_type": "stream",
     "text": [
      "\r",
      "Sampling 4 chains:  58%|█████▊    | 1176/2040 [06:53<06:46,  2.12draws/s]"
     ]
    },
    {
     "name": "stderr",
     "output_type": "stream",
     "text": [
      "\r",
      "Sampling 4 chains:  58%|█████▊    | 1178/2040 [06:54<05:41,  2.52draws/s]"
     ]
    },
    {
     "name": "stderr",
     "output_type": "stream",
     "text": [
      "\r",
      "Sampling 4 chains:  58%|█████▊    | 1179/2040 [06:54<05:38,  2.54draws/s]"
     ]
    },
    {
     "name": "stderr",
     "output_type": "stream",
     "text": [
      "\r",
      "Sampling 4 chains:  58%|█████▊    | 1180/2040 [06:55<06:13,  2.30draws/s]"
     ]
    },
    {
     "name": "stderr",
     "output_type": "stream",
     "text": [
      "\r",
      "Sampling 4 chains:  58%|█████▊    | 1181/2040 [06:55<05:09,  2.77draws/s]"
     ]
    },
    {
     "name": "stderr",
     "output_type": "stream",
     "text": [
      "\r",
      "Sampling 4 chains:  58%|█████▊    | 1182/2040 [06:55<05:30,  2.59draws/s]"
     ]
    },
    {
     "name": "stderr",
     "output_type": "stream",
     "text": [
      "\r",
      "Sampling 4 chains:  58%|█████▊    | 1183/2040 [06:56<05:25,  2.64draws/s]"
     ]
    },
    {
     "name": "stderr",
     "output_type": "stream",
     "text": [
      "\r",
      "Sampling 4 chains:  58%|█████▊    | 1184/2040 [06:56<05:46,  2.47draws/s]"
     ]
    },
    {
     "name": "stderr",
     "output_type": "stream",
     "text": [
      "\r",
      "Sampling 4 chains:  58%|█████▊    | 1185/2040 [06:56<04:55,  2.90draws/s]"
     ]
    },
    {
     "name": "stderr",
     "output_type": "stream",
     "text": [
      "\r",
      "Sampling 4 chains:  58%|█████▊    | 1186/2040 [06:57<05:20,  2.67draws/s]"
     ]
    },
    {
     "name": "stderr",
     "output_type": "stream",
     "text": [
      "\r",
      "Sampling 4 chains:  58%|█████▊    | 1187/2040 [06:57<05:03,  2.81draws/s]"
     ]
    },
    {
     "name": "stderr",
     "output_type": "stream",
     "text": [
      "\r",
      "Sampling 4 chains:  58%|█████▊    | 1188/2040 [06:58<05:49,  2.44draws/s]"
     ]
    },
    {
     "name": "stderr",
     "output_type": "stream",
     "text": [
      "\r",
      "Sampling 4 chains:  58%|█████▊    | 1190/2040 [06:58<05:30,  2.57draws/s]"
     ]
    },
    {
     "name": "stderr",
     "output_type": "stream",
     "text": [
      "\r",
      "Sampling 4 chains:  58%|█████▊    | 1191/2040 [06:58<04:44,  2.99draws/s]"
     ]
    },
    {
     "name": "stderr",
     "output_type": "stream",
     "text": [
      "\r",
      "Sampling 4 chains:  58%|█████▊    | 1192/2040 [06:59<05:36,  2.52draws/s]"
     ]
    },
    {
     "name": "stderr",
     "output_type": "stream",
     "text": [
      "\r",
      "Sampling 4 chains:  58%|█████▊    | 1193/2040 [06:59<04:22,  3.22draws/s]"
     ]
    },
    {
     "name": "stderr",
     "output_type": "stream",
     "text": [
      "\r",
      "Sampling 4 chains:  59%|█████▊    | 1194/2040 [07:00<05:40,  2.48draws/s]"
     ]
    },
    {
     "name": "stderr",
     "output_type": "stream",
     "text": [
      "\r",
      "Sampling 4 chains:  59%|█████▊    | 1195/2040 [07:00<05:12,  2.70draws/s]"
     ]
    },
    {
     "name": "stderr",
     "output_type": "stream",
     "text": [
      "\r",
      "Sampling 4 chains:  59%|█████▊    | 1196/2040 [07:00<05:35,  2.52draws/s]"
     ]
    },
    {
     "name": "stderr",
     "output_type": "stream",
     "text": [
      "\r",
      "Sampling 4 chains:  59%|█████▊    | 1197/2040 [07:01<04:27,  3.15draws/s]"
     ]
    },
    {
     "name": "stderr",
     "output_type": "stream",
     "text": [
      "\r",
      "Sampling 4 chains:  59%|█████▊    | 1198/2040 [07:01<06:23,  2.19draws/s]"
     ]
    },
    {
     "name": "stderr",
     "output_type": "stream",
     "text": [
      "\r",
      "Sampling 4 chains:  59%|█████▉    | 1199/2040 [07:02<05:29,  2.55draws/s]"
     ]
    },
    {
     "name": "stderr",
     "output_type": "stream",
     "text": [
      "\r",
      "Sampling 4 chains:  59%|█████▉    | 1200/2040 [07:02<05:03,  2.77draws/s]"
     ]
    },
    {
     "name": "stderr",
     "output_type": "stream",
     "text": [
      "\r",
      "Sampling 4 chains:  59%|█████▉    | 1201/2040 [07:02<04:40,  2.99draws/s]"
     ]
    },
    {
     "name": "stderr",
     "output_type": "stream",
     "text": [
      "\r",
      "Sampling 4 chains:  59%|█████▉    | 1202/2040 [07:03<06:23,  2.19draws/s]"
     ]
    },
    {
     "name": "stderr",
     "output_type": "stream",
     "text": [
      "\r",
      "Sampling 4 chains:  59%|█████▉    | 1203/2040 [07:03<05:28,  2.55draws/s]"
     ]
    },
    {
     "name": "stderr",
     "output_type": "stream",
     "text": [
      "\r",
      "Sampling 4 chains:  59%|█████▉    | 1204/2040 [07:03<05:04,  2.74draws/s]"
     ]
    },
    {
     "name": "stderr",
     "output_type": "stream",
     "text": [
      "\r",
      "Sampling 4 chains:  59%|█████▉    | 1205/2040 [07:04<04:34,  3.04draws/s]"
     ]
    },
    {
     "name": "stderr",
     "output_type": "stream",
     "text": [
      "\r",
      "Sampling 4 chains:  59%|█████▉    | 1206/2040 [07:04<06:16,  2.21draws/s]"
     ]
    },
    {
     "name": "stderr",
     "output_type": "stream",
     "text": [
      "\r",
      "Sampling 4 chains:  59%|█████▉    | 1207/2040 [07:05<05:23,  2.57draws/s]"
     ]
    },
    {
     "name": "stderr",
     "output_type": "stream",
     "text": [
      "\r",
      "Sampling 4 chains:  59%|█████▉    | 1208/2040 [07:05<05:06,  2.71draws/s]"
     ]
    },
    {
     "name": "stderr",
     "output_type": "stream",
     "text": [
      "\r",
      "Sampling 4 chains:  59%|█████▉    | 1209/2040 [07:05<04:33,  3.03draws/s]"
     ]
    },
    {
     "name": "stderr",
     "output_type": "stream",
     "text": [
      "\r",
      "Sampling 4 chains:  59%|█████▉    | 1210/2040 [07:06<06:16,  2.20draws/s]"
     ]
    },
    {
     "name": "stderr",
     "output_type": "stream",
     "text": [
      "\r",
      "Sampling 4 chains:  59%|█████▉    | 1211/2040 [07:06<05:23,  2.57draws/s]"
     ]
    },
    {
     "name": "stderr",
     "output_type": "stream",
     "text": [
      "\r",
      "Sampling 4 chains:  59%|█████▉    | 1212/2040 [07:07<05:02,  2.74draws/s]"
     ]
    },
    {
     "name": "stderr",
     "output_type": "stream",
     "text": [
      "\r",
      "Sampling 4 chains:  59%|█████▉    | 1213/2040 [07:07<04:00,  3.45draws/s]"
     ]
    },
    {
     "name": "stderr",
     "output_type": "stream",
     "text": [
      "\r",
      "Sampling 4 chains:  60%|█████▉    | 1214/2040 [07:07<06:07,  2.25draws/s]"
     ]
    },
    {
     "name": "stderr",
     "output_type": "stream",
     "text": [
      "\r",
      "Sampling 4 chains:  60%|█████▉    | 1215/2040 [07:08<05:27,  2.52draws/s]"
     ]
    },
    {
     "name": "stderr",
     "output_type": "stream",
     "text": [
      "\r",
      "Sampling 4 chains:  60%|█████▉    | 1216/2040 [07:08<05:09,  2.66draws/s]"
     ]
    },
    {
     "name": "stderr",
     "output_type": "stream",
     "text": [
      "\r",
      "Sampling 4 chains:  60%|█████▉    | 1218/2040 [07:09<05:27,  2.51draws/s]"
     ]
    },
    {
     "name": "stderr",
     "output_type": "stream",
     "text": [
      "\r",
      "Sampling 4 chains:  60%|█████▉    | 1219/2040 [07:09<04:55,  2.78draws/s]"
     ]
    },
    {
     "name": "stderr",
     "output_type": "stream",
     "text": [
      "\r",
      "Sampling 4 chains:  60%|█████▉    | 1220/2040 [07:10<04:36,  2.97draws/s]"
     ]
    },
    {
     "name": "stderr",
     "output_type": "stream",
     "text": [
      "\r",
      "Sampling 4 chains:  60%|█████▉    | 1222/2040 [07:10<05:11,  2.62draws/s]"
     ]
    },
    {
     "name": "stderr",
     "output_type": "stream",
     "text": [
      "\r",
      "Sampling 4 chains:  60%|█████▉    | 1223/2040 [07:11<04:17,  3.17draws/s]"
     ]
    },
    {
     "name": "stderr",
     "output_type": "stream",
     "text": [
      "\r",
      "Sampling 4 chains:  60%|██████    | 1224/2040 [07:11<03:54,  3.47draws/s]"
     ]
    },
    {
     "name": "stderr",
     "output_type": "stream",
     "text": [
      "\r",
      "Sampling 4 chains:  60%|██████    | 1225/2040 [07:11<03:50,  3.54draws/s]"
     ]
    },
    {
     "name": "stderr",
     "output_type": "stream",
     "text": [
      "\r",
      "Sampling 4 chains:  60%|██████    | 1226/2040 [07:12<06:09,  2.21draws/s]"
     ]
    },
    {
     "name": "stderr",
     "output_type": "stream",
     "text": [
      "\r",
      "Sampling 4 chains:  60%|██████    | 1227/2040 [07:12<05:07,  2.65draws/s]"
     ]
    },
    {
     "name": "stderr",
     "output_type": "stream",
     "text": [
      "\r",
      "Sampling 4 chains:  60%|██████    | 1228/2040 [07:12<04:11,  3.23draws/s]"
     ]
    },
    {
     "name": "stderr",
     "output_type": "stream",
     "text": [
      "\r",
      "Sampling 4 chains:  60%|██████    | 1229/2040 [07:13<03:36,  3.74draws/s]"
     ]
    },
    {
     "name": "stderr",
     "output_type": "stream",
     "text": [
      "\r",
      "Sampling 4 chains:  60%|██████    | 1230/2040 [07:13<06:18,  2.14draws/s]"
     ]
    },
    {
     "name": "stderr",
     "output_type": "stream",
     "text": [
      "\r",
      "Sampling 4 chains:  60%|██████    | 1231/2040 [07:14<05:13,  2.58draws/s]"
     ]
    },
    {
     "name": "stderr",
     "output_type": "stream",
     "text": [
      "\r",
      "Sampling 4 chains:  60%|██████    | 1232/2040 [07:14<04:12,  3.20draws/s]"
     ]
    },
    {
     "name": "stderr",
     "output_type": "stream",
     "text": [
      "\r",
      "Sampling 4 chains:  60%|██████    | 1233/2040 [07:14<03:41,  3.64draws/s]"
     ]
    },
    {
     "name": "stderr",
     "output_type": "stream",
     "text": [
      "\r",
      "Sampling 4 chains:  60%|██████    | 1234/2040 [07:15<07:09,  1.88draws/s]"
     ]
    },
    {
     "name": "stderr",
     "output_type": "stream",
     "text": [
      "\r",
      "Sampling 4 chains:  61%|██████    | 1236/2040 [07:15<05:16,  2.54draws/s]"
     ]
    },
    {
     "name": "stderr",
     "output_type": "stream",
     "text": [
      "\r",
      "Sampling 4 chains:  61%|██████    | 1238/2040 [07:17<06:32,  2.04draws/s]"
     ]
    },
    {
     "name": "stderr",
     "output_type": "stream",
     "text": [
      "\r",
      "Sampling 4 chains:  61%|██████    | 1241/2040 [07:17<04:49,  2.76draws/s]"
     ]
    },
    {
     "name": "stderr",
     "output_type": "stream",
     "text": [
      "\r",
      "Sampling 4 chains:  61%|██████    | 1242/2040 [07:18<08:57,  1.48draws/s]"
     ]
    },
    {
     "name": "stderr",
     "output_type": "stream",
     "text": [
      "\r",
      "Sampling 4 chains:  61%|██████    | 1244/2040 [07:18<06:30,  2.04draws/s]"
     ]
    },
    {
     "name": "stderr",
     "output_type": "stream",
     "text": [
      "\r",
      "Sampling 4 chains:  61%|██████    | 1246/2040 [07:20<07:23,  1.79draws/s]"
     ]
    },
    {
     "name": "stderr",
     "output_type": "stream",
     "text": [
      "\r",
      "Sampling 4 chains:  61%|██████    | 1248/2040 [07:20<05:27,  2.42draws/s]"
     ]
    },
    {
     "name": "stderr",
     "output_type": "stream",
     "text": [
      "\r",
      "Sampling 4 chains:  61%|██████    | 1249/2040 [07:21<06:16,  2.10draws/s]"
     ]
    },
    {
     "name": "stderr",
     "output_type": "stream",
     "text": [
      "\r",
      "Sampling 4 chains:  61%|██████▏   | 1250/2040 [07:21<07:18,  1.80draws/s]"
     ]
    },
    {
     "name": "stderr",
     "output_type": "stream",
     "text": [
      "\r",
      "Sampling 4 chains:  61%|██████▏   | 1252/2040 [07:22<05:28,  2.40draws/s]"
     ]
    },
    {
     "name": "stderr",
     "output_type": "stream",
     "text": [
      "\r",
      "Sampling 4 chains:  61%|██████▏   | 1253/2040 [07:23<08:09,  1.61draws/s]"
     ]
    },
    {
     "name": "stderr",
     "output_type": "stream",
     "text": [
      "\r",
      "Sampling 4 chains:  61%|██████▏   | 1254/2040 [07:23<07:26,  1.76draws/s]"
     ]
    },
    {
     "name": "stderr",
     "output_type": "stream",
     "text": [
      "\r",
      "Sampling 4 chains:  62%|██████▏   | 1255/2040 [07:23<05:35,  2.34draws/s]"
     ]
    },
    {
     "name": "stderr",
     "output_type": "stream",
     "text": [
      "\r",
      "Sampling 4 chains:  62%|██████▏   | 1256/2040 [07:24<06:23,  2.04draws/s]"
     ]
    },
    {
     "name": "stderr",
     "output_type": "stream",
     "text": [
      "\r",
      "Sampling 4 chains:  62%|██████▏   | 1257/2040 [07:24<06:59,  1.86draws/s]"
     ]
    },
    {
     "name": "stderr",
     "output_type": "stream",
     "text": [
      "\r",
      "Sampling 4 chains:  62%|██████▏   | 1258/2040 [07:25<06:26,  2.02draws/s]"
     ]
    },
    {
     "name": "stderr",
     "output_type": "stream",
     "text": [
      "\r",
      "Sampling 4 chains:  62%|██████▏   | 1260/2040 [07:26<06:55,  1.88draws/s]"
     ]
    },
    {
     "name": "stderr",
     "output_type": "stream",
     "text": [
      "\r",
      "Sampling 4 chains:  62%|██████▏   | 1261/2040 [07:26<05:50,  2.22draws/s]"
     ]
    },
    {
     "name": "stderr",
     "output_type": "stream",
     "text": [
      "\r",
      "Sampling 4 chains:  62%|██████▏   | 1263/2040 [07:26<04:19,  2.99draws/s]"
     ]
    },
    {
     "name": "stderr",
     "output_type": "stream",
     "text": [
      "\r",
      "Sampling 4 chains:  62%|██████▏   | 1264/2040 [07:28<07:41,  1.68draws/s]"
     ]
    },
    {
     "name": "stderr",
     "output_type": "stream",
     "text": [
      "\r",
      "Sampling 4 chains:  62%|██████▏   | 1265/2040 [07:28<07:06,  1.82draws/s]"
     ]
    },
    {
     "name": "stderr",
     "output_type": "stream",
     "text": [
      "\r",
      "Sampling 4 chains:  62%|██████▏   | 1267/2040 [07:29<05:55,  2.17draws/s]"
     ]
    },
    {
     "name": "stderr",
     "output_type": "stream",
     "text": [
      "\r",
      "Sampling 4 chains:  62%|██████▏   | 1268/2040 [07:29<06:01,  2.14draws/s]"
     ]
    },
    {
     "name": "stderr",
     "output_type": "stream",
     "text": [
      "\r",
      "Sampling 4 chains:  62%|██████▏   | 1269/2040 [07:30<06:09,  2.09draws/s]"
     ]
    },
    {
     "name": "stderr",
     "output_type": "stream",
     "text": [
      "\r",
      "Sampling 4 chains:  62%|██████▏   | 1271/2040 [07:30<04:58,  2.57draws/s]"
     ]
    },
    {
     "name": "stderr",
     "output_type": "stream",
     "text": [
      "\r",
      "Sampling 4 chains:  62%|██████▏   | 1272/2040 [07:31<05:49,  2.20draws/s]"
     ]
    },
    {
     "name": "stderr",
     "output_type": "stream",
     "text": [
      "\r",
      "Sampling 4 chains:  62%|██████▏   | 1273/2040 [07:31<05:52,  2.18draws/s]"
     ]
    },
    {
     "name": "stderr",
     "output_type": "stream",
     "text": [
      "\r",
      "Sampling 4 chains:  62%|██████▎   | 1275/2040 [07:31<04:48,  2.65draws/s]"
     ]
    },
    {
     "name": "stderr",
     "output_type": "stream",
     "text": [
      "\r",
      "Sampling 4 chains:  63%|██████▎   | 1276/2040 [07:32<06:07,  2.08draws/s]"
     ]
    },
    {
     "name": "stderr",
     "output_type": "stream",
     "text": [
      "\r",
      "Sampling 4 chains:  63%|██████▎   | 1277/2040 [07:33<05:46,  2.20draws/s]"
     ]
    },
    {
     "name": "stderr",
     "output_type": "stream",
     "text": [
      "\r",
      "Sampling 4 chains:  63%|██████▎   | 1279/2040 [07:33<04:51,  2.61draws/s]"
     ]
    },
    {
     "name": "stderr",
     "output_type": "stream",
     "text": [
      "\r",
      "Sampling 4 chains:  63%|██████▎   | 1280/2040 [07:33<05:12,  2.43draws/s]"
     ]
    },
    {
     "name": "stderr",
     "output_type": "stream",
     "text": [
      "\r",
      "Sampling 4 chains:  63%|██████▎   | 1281/2040 [07:34<05:29,  2.30draws/s]"
     ]
    },
    {
     "name": "stderr",
     "output_type": "stream",
     "text": [
      "\r",
      "Sampling 4 chains:  63%|██████▎   | 1282/2040 [07:34<04:34,  2.76draws/s]"
     ]
    },
    {
     "name": "stderr",
     "output_type": "stream",
     "text": [
      "\r",
      "Sampling 4 chains:  63%|██████▎   | 1283/2040 [07:34<04:16,  2.95draws/s]"
     ]
    },
    {
     "name": "stderr",
     "output_type": "stream",
     "text": [
      "\r",
      "Sampling 4 chains:  63%|██████▎   | 1284/2040 [07:35<04:01,  3.12draws/s]"
     ]
    },
    {
     "name": "stderr",
     "output_type": "stream",
     "text": [
      "\r",
      "Sampling 4 chains:  63%|██████▎   | 1285/2040 [07:35<05:27,  2.31draws/s]"
     ]
    },
    {
     "name": "stderr",
     "output_type": "stream",
     "text": [
      "\r",
      "Sampling 4 chains:  63%|██████▎   | 1286/2040 [07:36<04:20,  2.89draws/s]"
     ]
    },
    {
     "name": "stderr",
     "output_type": "stream",
     "text": [
      "\r",
      "Sampling 4 chains:  63%|██████▎   | 1287/2040 [07:36<04:36,  2.72draws/s]"
     ]
    },
    {
     "name": "stderr",
     "output_type": "stream",
     "text": [
      "\r",
      "Sampling 4 chains:  63%|██████▎   | 1289/2040 [07:37<04:55,  2.54draws/s]"
     ]
    },
    {
     "name": "stderr",
     "output_type": "stream",
     "text": [
      "\r",
      "Sampling 4 chains:  63%|██████▎   | 1290/2040 [07:37<04:08,  3.02draws/s]"
     ]
    },
    {
     "name": "stderr",
     "output_type": "stream",
     "text": [
      "\r",
      "Sampling 4 chains:  63%|██████▎   | 1291/2040 [07:37<03:59,  3.13draws/s]"
     ]
    },
    {
     "name": "stderr",
     "output_type": "stream",
     "text": [
      "\r",
      "Sampling 4 chains:  63%|██████▎   | 1292/2040 [07:37<03:15,  3.82draws/s]"
     ]
    },
    {
     "name": "stderr",
     "output_type": "stream",
     "text": [
      "\r",
      "Sampling 4 chains:  63%|██████▎   | 1293/2040 [07:38<05:18,  2.34draws/s]"
     ]
    },
    {
     "name": "stderr",
     "output_type": "stream",
     "text": [
      "\r",
      "Sampling 4 chains:  63%|██████▎   | 1294/2040 [07:38<04:08,  3.01draws/s]"
     ]
    },
    {
     "name": "stderr",
     "output_type": "stream",
     "text": [
      "\r",
      "Sampling 4 chains:  63%|██████▎   | 1295/2040 [07:39<04:35,  2.70draws/s]"
     ]
    },
    {
     "name": "stderr",
     "output_type": "stream",
     "text": [
      "\r",
      "Sampling 4 chains:  64%|██████▎   | 1297/2040 [07:40<04:51,  2.55draws/s]"
     ]
    },
    {
     "name": "stderr",
     "output_type": "stream",
     "text": [
      "\r",
      "Sampling 4 chains:  64%|██████▎   | 1298/2040 [07:40<03:48,  3.25draws/s]"
     ]
    },
    {
     "name": "stderr",
     "output_type": "stream",
     "text": [
      "\r",
      "Sampling 4 chains:  64%|██████▎   | 1299/2040 [07:40<04:21,  2.83draws/s]"
     ]
    },
    {
     "name": "stderr",
     "output_type": "stream",
     "text": [
      "\r",
      "Sampling 4 chains:  64%|██████▍   | 1301/2040 [07:41<04:52,  2.53draws/s]"
     ]
    },
    {
     "name": "stderr",
     "output_type": "stream",
     "text": [
      "\r",
      "Sampling 4 chains:  64%|██████▍   | 1303/2040 [07:42<04:19,  2.84draws/s]"
     ]
    },
    {
     "name": "stderr",
     "output_type": "stream",
     "text": [
      "\r",
      "Sampling 4 chains:  64%|██████▍   | 1305/2040 [07:43<04:48,  2.55draws/s]"
     ]
    },
    {
     "name": "stderr",
     "output_type": "stream",
     "text": [
      "\r",
      "Sampling 4 chains:  64%|██████▍   | 1307/2040 [07:43<04:10,  2.92draws/s]"
     ]
    },
    {
     "name": "stderr",
     "output_type": "stream",
     "text": [
      "\r",
      "Sampling 4 chains:  64%|██████▍   | 1308/2040 [07:43<03:34,  3.41draws/s]"
     ]
    },
    {
     "name": "stderr",
     "output_type": "stream",
     "text": [
      "\r",
      "Sampling 4 chains:  64%|██████▍   | 1309/2040 [07:44<05:18,  2.29draws/s]"
     ]
    },
    {
     "name": "stderr",
     "output_type": "stream",
     "text": [
      "\r",
      "Sampling 4 chains:  64%|██████▍   | 1310/2040 [07:44<04:22,  2.78draws/s]"
     ]
    },
    {
     "name": "stderr",
     "output_type": "stream",
     "text": [
      "\r",
      "Sampling 4 chains:  64%|██████▍   | 1311/2040 [07:45<04:12,  2.89draws/s]"
     ]
    },
    {
     "name": "stderr",
     "output_type": "stream",
     "text": [
      "\r",
      "Sampling 4 chains:  64%|██████▍   | 1312/2040 [07:45<03:49,  3.17draws/s]"
     ]
    },
    {
     "name": "stderr",
     "output_type": "stream",
     "text": [
      "\r",
      "Sampling 4 chains:  64%|██████▍   | 1313/2040 [07:46<05:13,  2.32draws/s]"
     ]
    },
    {
     "name": "stderr",
     "output_type": "stream",
     "text": [
      "\r",
      "Sampling 4 chains:  64%|██████▍   | 1314/2040 [07:46<04:10,  2.90draws/s]"
     ]
    },
    {
     "name": "stderr",
     "output_type": "stream",
     "text": [
      "\r",
      "Sampling 4 chains:  64%|██████▍   | 1315/2040 [07:46<04:23,  2.76draws/s]"
     ]
    },
    {
     "name": "stderr",
     "output_type": "stream",
     "text": [
      "\r",
      "Sampling 4 chains:  65%|██████▍   | 1316/2040 [07:46<03:57,  3.05draws/s]"
     ]
    },
    {
     "name": "stderr",
     "output_type": "stream",
     "text": [
      "\r",
      "Sampling 4 chains:  65%|██████▍   | 1317/2040 [07:47<04:56,  2.44draws/s]"
     ]
    },
    {
     "name": "stderr",
     "output_type": "stream",
     "text": [
      "\r",
      "Sampling 4 chains:  65%|██████▍   | 1318/2040 [07:47<04:22,  2.75draws/s]"
     ]
    },
    {
     "name": "stderr",
     "output_type": "stream",
     "text": [
      "\r",
      "Sampling 4 chains:  65%|██████▍   | 1319/2040 [07:48<04:31,  2.66draws/s]"
     ]
    },
    {
     "name": "stderr",
     "output_type": "stream",
     "text": [
      "\r",
      "Sampling 4 chains:  65%|██████▍   | 1320/2040 [07:48<04:01,  2.99draws/s]"
     ]
    },
    {
     "name": "stderr",
     "output_type": "stream",
     "text": [
      "\r",
      "Sampling 4 chains:  65%|██████▍   | 1321/2040 [07:48<04:37,  2.59draws/s]"
     ]
    },
    {
     "name": "stderr",
     "output_type": "stream",
     "text": [
      "\r",
      "Sampling 4 chains:  65%|██████▍   | 1322/2040 [07:49<04:20,  2.76draws/s]"
     ]
    },
    {
     "name": "stderr",
     "output_type": "stream",
     "text": [
      "\r",
      "Sampling 4 chains:  65%|██████▍   | 1323/2040 [07:49<04:27,  2.68draws/s]"
     ]
    },
    {
     "name": "stderr",
     "output_type": "stream",
     "text": [
      "\r",
      "Sampling 4 chains:  65%|██████▍   | 1324/2040 [07:49<04:01,  2.97draws/s]"
     ]
    },
    {
     "name": "stderr",
     "output_type": "stream",
     "text": [
      "\r",
      "Sampling 4 chains:  65%|██████▍   | 1325/2040 [07:50<04:33,  2.62draws/s]"
     ]
    },
    {
     "name": "stderr",
     "output_type": "stream",
     "text": [
      "\r",
      "Sampling 4 chains:  65%|██████▌   | 1326/2040 [07:50<04:30,  2.64draws/s]"
     ]
    },
    {
     "name": "stderr",
     "output_type": "stream",
     "text": [
      "\r",
      "Sampling 4 chains:  65%|██████▌   | 1327/2040 [07:51<04:32,  2.62draws/s]"
     ]
    },
    {
     "name": "stderr",
     "output_type": "stream",
     "text": [
      "\r",
      "Sampling 4 chains:  65%|██████▌   | 1328/2040 [07:51<03:54,  3.03draws/s]"
     ]
    },
    {
     "name": "stderr",
     "output_type": "stream",
     "text": [
      "\r",
      "Sampling 4 chains:  65%|██████▌   | 1329/2040 [07:51<04:29,  2.64draws/s]"
     ]
    },
    {
     "name": "stderr",
     "output_type": "stream",
     "text": [
      "\r",
      "Sampling 4 chains:  65%|██████▌   | 1330/2040 [07:52<04:28,  2.65draws/s]"
     ]
    },
    {
     "name": "stderr",
     "output_type": "stream",
     "text": [
      "\r",
      "Sampling 4 chains:  65%|██████▌   | 1331/2040 [07:52<04:38,  2.54draws/s]"
     ]
    },
    {
     "name": "stderr",
     "output_type": "stream",
     "text": [
      "\r",
      "Sampling 4 chains:  65%|██████▌   | 1332/2040 [07:52<04:03,  2.90draws/s]"
     ]
    },
    {
     "name": "stderr",
     "output_type": "stream",
     "text": [
      "\r",
      "Sampling 4 chains:  65%|██████▌   | 1333/2040 [07:53<04:22,  2.70draws/s]"
     ]
    },
    {
     "name": "stderr",
     "output_type": "stream",
     "text": [
      "\r",
      "Sampling 4 chains:  65%|██████▌   | 1334/2040 [07:53<04:33,  2.58draws/s]"
     ]
    },
    {
     "name": "stderr",
     "output_type": "stream",
     "text": [
      "\r",
      "Sampling 4 chains:  65%|██████▌   | 1335/2040 [07:54<04:39,  2.52draws/s]"
     ]
    },
    {
     "name": "stderr",
     "output_type": "stream",
     "text": [
      "\r",
      "Sampling 4 chains:  65%|██████▌   | 1336/2040 [07:54<03:38,  3.21draws/s]"
     ]
    },
    {
     "name": "stderr",
     "output_type": "stream",
     "text": [
      "\r",
      "Sampling 4 chains:  66%|██████▌   | 1337/2040 [07:54<04:06,  2.85draws/s]"
     ]
    },
    {
     "name": "stderr",
     "output_type": "stream",
     "text": [
      "\r",
      "Sampling 4 chains:  66%|██████▌   | 1338/2040 [07:55<04:45,  2.46draws/s]"
     ]
    },
    {
     "name": "stderr",
     "output_type": "stream",
     "text": [
      "\r",
      "Sampling 4 chains:  66%|██████▌   | 1339/2040 [07:55<04:25,  2.64draws/s]"
     ]
    },
    {
     "name": "stderr",
     "output_type": "stream",
     "text": [
      "\r",
      "Sampling 4 chains:  66%|██████▌   | 1340/2040 [07:55<04:00,  2.91draws/s]"
     ]
    },
    {
     "name": "stderr",
     "output_type": "stream",
     "text": [
      "\r",
      "Sampling 4 chains:  66%|██████▌   | 1341/2040 [07:56<03:58,  2.93draws/s]"
     ]
    },
    {
     "name": "stderr",
     "output_type": "stream",
     "text": [
      "\r",
      "Sampling 4 chains:  66%|██████▌   | 1342/2040 [07:56<04:40,  2.49draws/s]"
     ]
    },
    {
     "name": "stderr",
     "output_type": "stream",
     "text": [
      "\r",
      "Sampling 4 chains:  66%|██████▌   | 1343/2040 [07:56<04:08,  2.80draws/s]"
     ]
    },
    {
     "name": "stderr",
     "output_type": "stream",
     "text": [
      "\r",
      "Sampling 4 chains:  66%|██████▌   | 1344/2040 [07:57<04:02,  2.87draws/s]"
     ]
    },
    {
     "name": "stderr",
     "output_type": "stream",
     "text": [
      "\r",
      "Sampling 4 chains:  66%|██████▌   | 1345/2040 [07:57<04:05,  2.83draws/s]"
     ]
    },
    {
     "name": "stderr",
     "output_type": "stream",
     "text": [
      "\r",
      "Sampling 4 chains:  66%|██████▌   | 1346/2040 [07:58<04:46,  2.42draws/s]"
     ]
    },
    {
     "name": "stderr",
     "output_type": "stream",
     "text": [
      "\r",
      "Sampling 4 chains:  66%|██████▌   | 1347/2040 [07:58<04:15,  2.71draws/s]"
     ]
    },
    {
     "name": "stderr",
     "output_type": "stream",
     "text": [
      "\r",
      "Sampling 4 chains:  66%|██████▌   | 1348/2040 [07:58<04:06,  2.81draws/s]"
     ]
    },
    {
     "name": "stderr",
     "output_type": "stream",
     "text": [
      "\r",
      "Sampling 4 chains:  66%|██████▌   | 1349/2040 [07:59<04:05,  2.81draws/s]"
     ]
    },
    {
     "name": "stderr",
     "output_type": "stream",
     "text": [
      "\r",
      "Sampling 4 chains:  66%|██████▌   | 1350/2040 [07:59<04:46,  2.41draws/s]"
     ]
    },
    {
     "name": "stderr",
     "output_type": "stream",
     "text": [
      "\r",
      "Sampling 4 chains:  66%|██████▌   | 1351/2040 [07:59<04:04,  2.82draws/s]"
     ]
    },
    {
     "name": "stderr",
     "output_type": "stream",
     "text": [
      "\r",
      "Sampling 4 chains:  66%|██████▋   | 1352/2040 [08:00<03:47,  3.03draws/s]"
     ]
    },
    {
     "name": "stderr",
     "output_type": "stream",
     "text": [
      "\r",
      "Sampling 4 chains:  66%|██████▋   | 1353/2040 [08:00<04:03,  2.82draws/s]"
     ]
    },
    {
     "name": "stderr",
     "output_type": "stream",
     "text": [
      "\r",
      "Sampling 4 chains:  66%|██████▋   | 1354/2040 [08:01<04:48,  2.38draws/s]"
     ]
    },
    {
     "name": "stderr",
     "output_type": "stream",
     "text": [
      "\r",
      "Sampling 4 chains:  66%|██████▋   | 1356/2040 [08:01<04:18,  2.65draws/s]"
     ]
    },
    {
     "name": "stderr",
     "output_type": "stream",
     "text": [
      "\r",
      "Sampling 4 chains:  67%|██████▋   | 1357/2040 [08:02<04:22,  2.60draws/s]"
     ]
    },
    {
     "name": "stderr",
     "output_type": "stream",
     "text": [
      "\r",
      "Sampling 4 chains:  67%|██████▋   | 1358/2040 [08:02<04:57,  2.30draws/s]"
     ]
    },
    {
     "name": "stderr",
     "output_type": "stream",
     "text": [
      "\r",
      "Sampling 4 chains:  67%|██████▋   | 1360/2040 [08:03<04:13,  2.68draws/s]"
     ]
    },
    {
     "name": "stderr",
     "output_type": "stream",
     "text": [
      "\r",
      "Sampling 4 chains:  67%|██████▋   | 1361/2040 [08:03<04:40,  2.42draws/s]"
     ]
    },
    {
     "name": "stderr",
     "output_type": "stream",
     "text": [
      "\r",
      "Sampling 4 chains:  67%|██████▋   | 1362/2040 [08:04<04:58,  2.27draws/s]"
     ]
    },
    {
     "name": "stderr",
     "output_type": "stream",
     "text": [
      "\r",
      "Sampling 4 chains:  67%|██████▋   | 1364/2040 [08:04<04:18,  2.61draws/s]"
     ]
    },
    {
     "name": "stderr",
     "output_type": "stream",
     "text": [
      "\r",
      "Sampling 4 chains:  67%|██████▋   | 1365/2040 [08:05<04:42,  2.39draws/s]"
     ]
    },
    {
     "name": "stderr",
     "output_type": "stream",
     "text": [
      "\r",
      "Sampling 4 chains:  67%|██████▋   | 1366/2040 [08:05<04:37,  2.43draws/s]"
     ]
    },
    {
     "name": "stderr",
     "output_type": "stream",
     "text": [
      "\r",
      "Sampling 4 chains:  67%|██████▋   | 1367/2040 [08:05<03:50,  2.93draws/s]"
     ]
    },
    {
     "name": "stderr",
     "output_type": "stream",
     "text": [
      "\r",
      "Sampling 4 chains:  67%|██████▋   | 1368/2040 [08:06<03:48,  2.94draws/s]"
     ]
    },
    {
     "name": "stderr",
     "output_type": "stream",
     "text": [
      "\r",
      "Sampling 4 chains:  67%|██████▋   | 1369/2040 [08:06<04:28,  2.50draws/s]"
     ]
    },
    {
     "name": "stderr",
     "output_type": "stream",
     "text": [
      "\r",
      "Sampling 4 chains:  67%|██████▋   | 1370/2040 [08:06<04:37,  2.42draws/s]"
     ]
    },
    {
     "name": "stderr",
     "output_type": "stream",
     "text": [
      "\r",
      "Sampling 4 chains:  67%|██████▋   | 1371/2040 [08:07<03:50,  2.90draws/s]"
     ]
    },
    {
     "name": "stderr",
     "output_type": "stream",
     "text": [
      "\r",
      "Sampling 4 chains:  67%|██████▋   | 1372/2040 [08:07<03:48,  2.92draws/s]"
     ]
    },
    {
     "name": "stderr",
     "output_type": "stream",
     "text": [
      "\r",
      "Sampling 4 chains:  67%|██████▋   | 1373/2040 [08:07<03:55,  2.84draws/s]"
     ]
    },
    {
     "name": "stderr",
     "output_type": "stream",
     "text": [
      "\r",
      "Sampling 4 chains:  67%|██████▋   | 1374/2040 [08:08<04:35,  2.42draws/s]"
     ]
    },
    {
     "name": "stderr",
     "output_type": "stream",
     "text": [
      "\r",
      "Sampling 4 chains:  67%|██████▋   | 1375/2040 [08:08<03:50,  2.89draws/s]"
     ]
    },
    {
     "name": "stderr",
     "output_type": "stream",
     "text": [
      "\r",
      "Sampling 4 chains:  67%|██████▋   | 1376/2040 [08:08<03:37,  3.06draws/s]"
     ]
    },
    {
     "name": "stderr",
     "output_type": "stream",
     "text": [
      "\r",
      "Sampling 4 chains:  68%|██████▊   | 1377/2040 [08:09<04:05,  2.70draws/s]"
     ]
    },
    {
     "name": "stderr",
     "output_type": "stream",
     "text": [
      "\r",
      "Sampling 4 chains:  68%|██████▊   | 1378/2040 [08:09<04:40,  2.36draws/s]"
     ]
    },
    {
     "name": "stderr",
     "output_type": "stream",
     "text": [
      "\r",
      "Sampling 4 chains:  68%|██████▊   | 1379/2040 [08:10<03:54,  2.82draws/s]"
     ]
    },
    {
     "name": "stderr",
     "output_type": "stream",
     "text": [
      "\r",
      "Sampling 4 chains:  68%|██████▊   | 1380/2040 [08:10<03:33,  3.09draws/s]"
     ]
    },
    {
     "name": "stderr",
     "output_type": "stream",
     "text": [
      "\r",
      "Sampling 4 chains:  68%|██████▊   | 1381/2040 [08:10<04:08,  2.65draws/s]"
     ]
    },
    {
     "name": "stderr",
     "output_type": "stream",
     "text": [
      "\r",
      "Sampling 4 chains:  68%|██████▊   | 1382/2040 [08:11<04:42,  2.33draws/s]"
     ]
    },
    {
     "name": "stderr",
     "output_type": "stream",
     "text": [
      "\r",
      "Sampling 4 chains:  68%|██████▊   | 1383/2040 [08:11<03:47,  2.89draws/s]"
     ]
    },
    {
     "name": "stderr",
     "output_type": "stream",
     "text": [
      "\r",
      "Sampling 4 chains:  68%|██████▊   | 1384/2040 [08:11<03:28,  3.15draws/s]"
     ]
    },
    {
     "name": "stderr",
     "output_type": "stream",
     "text": [
      "\r",
      "Sampling 4 chains:  68%|██████▊   | 1385/2040 [08:12<04:11,  2.61draws/s]"
     ]
    },
    {
     "name": "stderr",
     "output_type": "stream",
     "text": [
      "\r",
      "Sampling 4 chains:  68%|██████▊   | 1386/2040 [08:12<04:28,  2.43draws/s]"
     ]
    },
    {
     "name": "stderr",
     "output_type": "stream",
     "text": [
      "\r",
      "Sampling 4 chains:  68%|██████▊   | 1387/2040 [08:13<03:46,  2.88draws/s]"
     ]
    },
    {
     "name": "stderr",
     "output_type": "stream",
     "text": [
      "\r",
      "Sampling 4 chains:  68%|██████▊   | 1388/2040 [08:13<03:18,  3.28draws/s]"
     ]
    },
    {
     "name": "stderr",
     "output_type": "stream",
     "text": [
      "\r",
      "Sampling 4 chains:  68%|██████▊   | 1389/2040 [08:13<04:11,  2.59draws/s]"
     ]
    },
    {
     "name": "stderr",
     "output_type": "stream",
     "text": [
      "\r",
      "Sampling 4 chains:  68%|██████▊   | 1390/2040 [08:14<04:24,  2.46draws/s]"
     ]
    },
    {
     "name": "stderr",
     "output_type": "stream",
     "text": [
      "\r",
      "Sampling 4 chains:  68%|██████▊   | 1391/2040 [08:14<03:59,  2.71draws/s]"
     ]
    },
    {
     "name": "stderr",
     "output_type": "stream",
     "text": [
      "\r",
      "Sampling 4 chains:  68%|██████▊   | 1392/2040 [08:14<03:16,  3.29draws/s]"
     ]
    },
    {
     "name": "stderr",
     "output_type": "stream",
     "text": [
      "\r",
      "Sampling 4 chains:  68%|██████▊   | 1393/2040 [08:15<04:17,  2.51draws/s]"
     ]
    },
    {
     "name": "stderr",
     "output_type": "stream",
     "text": [
      "\r",
      "Sampling 4 chains:  68%|██████▊   | 1394/2040 [08:15<04:17,  2.50draws/s]"
     ]
    },
    {
     "name": "stderr",
     "output_type": "stream",
     "text": [
      "\r",
      "Sampling 4 chains:  68%|██████▊   | 1395/2040 [08:16<03:56,  2.73draws/s]"
     ]
    },
    {
     "name": "stderr",
     "output_type": "stream",
     "text": [
      "\r",
      "Sampling 4 chains:  68%|██████▊   | 1397/2040 [08:16<04:02,  2.65draws/s]"
     ]
    },
    {
     "name": "stderr",
     "output_type": "stream",
     "text": [
      "\r",
      "Sampling 4 chains:  69%|██████▊   | 1398/2040 [08:17<04:08,  2.58draws/s]"
     ]
    },
    {
     "name": "stderr",
     "output_type": "stream",
     "text": [
      "\r",
      "Sampling 4 chains:  69%|██████▊   | 1400/2040 [08:17<03:17,  3.25draws/s]"
     ]
    },
    {
     "name": "stderr",
     "output_type": "stream",
     "text": [
      "\r",
      "Sampling 4 chains:  69%|██████▊   | 1401/2040 [08:18<05:00,  2.12draws/s]"
     ]
    },
    {
     "name": "stderr",
     "output_type": "stream",
     "text": [
      "\r",
      "Sampling 4 chains:  69%|██████▊   | 1402/2040 [08:18<04:40,  2.27draws/s]"
     ]
    },
    {
     "name": "stderr",
     "output_type": "stream",
     "text": [
      "\r",
      "Sampling 4 chains:  69%|██████▉   | 1404/2040 [08:18<03:41,  2.87draws/s]"
     ]
    },
    {
     "name": "stderr",
     "output_type": "stream",
     "text": [
      "\r",
      "Sampling 4 chains:  69%|██████▉   | 1405/2040 [08:19<05:18,  1.99draws/s]"
     ]
    },
    {
     "name": "stderr",
     "output_type": "stream",
     "text": [
      "\r",
      "Sampling 4 chains:  69%|██████▉   | 1406/2040 [08:20<04:34,  2.31draws/s]"
     ]
    },
    {
     "name": "stderr",
     "output_type": "stream",
     "text": [
      "\r",
      "Sampling 4 chains:  69%|██████▉   | 1408/2040 [08:20<03:47,  2.78draws/s]"
     ]
    },
    {
     "name": "stderr",
     "output_type": "stream",
     "text": [
      "\r",
      "Sampling 4 chains:  69%|██████▉   | 1409/2040 [08:21<05:19,  1.97draws/s]"
     ]
    },
    {
     "name": "stderr",
     "output_type": "stream",
     "text": [
      "\r",
      "Sampling 4 chains:  69%|██████▉   | 1410/2040 [08:21<04:18,  2.43draws/s]"
     ]
    },
    {
     "name": "stderr",
     "output_type": "stream",
     "text": [
      "\r",
      "Sampling 4 chains:  69%|██████▉   | 1412/2040 [08:21<03:45,  2.79draws/s]"
     ]
    },
    {
     "name": "stderr",
     "output_type": "stream",
     "text": [
      "\r",
      "Sampling 4 chains:  69%|██████▉   | 1413/2040 [08:22<04:56,  2.12draws/s]"
     ]
    },
    {
     "name": "stderr",
     "output_type": "stream",
     "text": [
      "\r",
      "Sampling 4 chains:  69%|██████▉   | 1414/2040 [08:22<03:59,  2.62draws/s]"
     ]
    },
    {
     "name": "stderr",
     "output_type": "stream",
     "text": [
      "\r",
      "Sampling 4 chains:  69%|██████▉   | 1415/2040 [08:23<03:09,  3.30draws/s]"
     ]
    },
    {
     "name": "stderr",
     "output_type": "stream",
     "text": [
      "\r",
      "Sampling 4 chains:  69%|██████▉   | 1416/2040 [08:23<03:22,  3.08draws/s]"
     ]
    },
    {
     "name": "stderr",
     "output_type": "stream",
     "text": [
      "\r",
      "Sampling 4 chains:  69%|██████▉   | 1417/2040 [08:24<04:55,  2.11draws/s]"
     ]
    },
    {
     "name": "stderr",
     "output_type": "stream",
     "text": [
      "\r",
      "Sampling 4 chains:  70%|██████▉   | 1419/2040 [08:24<03:49,  2.71draws/s]"
     ]
    },
    {
     "name": "stderr",
     "output_type": "stream",
     "text": [
      "\r",
      "Sampling 4 chains:  70%|██████▉   | 1420/2040 [08:24<03:59,  2.59draws/s]"
     ]
    },
    {
     "name": "stderr",
     "output_type": "stream",
     "text": [
      "\r",
      "Sampling 4 chains:  70%|██████▉   | 1421/2040 [08:25<05:00,  2.06draws/s]"
     ]
    },
    {
     "name": "stderr",
     "output_type": "stream",
     "text": [
      "\r",
      "Sampling 4 chains:  70%|██████▉   | 1422/2040 [08:25<04:02,  2.55draws/s]"
     ]
    },
    {
     "name": "stderr",
     "output_type": "stream",
     "text": [
      "\r",
      "Sampling 4 chains:  70%|██████▉   | 1423/2040 [08:25<03:12,  3.21draws/s]"
     ]
    },
    {
     "name": "stderr",
     "output_type": "stream",
     "text": [
      "\r",
      "Sampling 4 chains:  70%|██████▉   | 1424/2040 [08:26<03:44,  2.75draws/s]"
     ]
    },
    {
     "name": "stderr",
     "output_type": "stream",
     "text": [
      "\r",
      "Sampling 4 chains:  70%|██████▉   | 1425/2040 [08:27<04:29,  2.28draws/s]"
     ]
    },
    {
     "name": "stderr",
     "output_type": "stream",
     "text": [
      "\r",
      "Sampling 4 chains:  70%|██████▉   | 1426/2040 [08:27<03:50,  2.66draws/s]"
     ]
    },
    {
     "name": "stderr",
     "output_type": "stream",
     "text": [
      "\r",
      "Sampling 4 chains:  70%|██████▉   | 1427/2040 [08:27<03:04,  3.33draws/s]"
     ]
    },
    {
     "name": "stderr",
     "output_type": "stream",
     "text": [
      "\r",
      "Sampling 4 chains:  70%|███████   | 1428/2040 [08:27<03:29,  2.93draws/s]"
     ]
    },
    {
     "name": "stderr",
     "output_type": "stream",
     "text": [
      "\r",
      "Sampling 4 chains:  70%|███████   | 1429/2040 [08:28<04:31,  2.25draws/s]"
     ]
    },
    {
     "name": "stderr",
     "output_type": "stream",
     "text": [
      "\r",
      "Sampling 4 chains:  70%|███████   | 1430/2040 [08:28<03:48,  2.67draws/s]"
     ]
    },
    {
     "name": "stderr",
     "output_type": "stream",
     "text": [
      "\r",
      "Sampling 4 chains:  70%|███████   | 1432/2040 [08:29<03:32,  2.87draws/s]"
     ]
    },
    {
     "name": "stderr",
     "output_type": "stream",
     "text": [
      "\r",
      "Sampling 4 chains:  70%|███████   | 1433/2040 [08:30<04:42,  2.15draws/s]"
     ]
    },
    {
     "name": "stderr",
     "output_type": "stream",
     "text": [
      "\r",
      "Sampling 4 chains:  70%|███████   | 1434/2040 [08:30<03:56,  2.56draws/s]"
     ]
    },
    {
     "name": "stderr",
     "output_type": "stream",
     "text": [
      "\r",
      "Sampling 4 chains:  70%|███████   | 1435/2040 [08:30<04:33,  2.21draws/s]"
     ]
    },
    {
     "name": "stderr",
     "output_type": "stream",
     "text": [
      "\r",
      "Sampling 4 chains:  70%|███████   | 1437/2040 [08:31<04:15,  2.36draws/s]"
     ]
    },
    {
     "name": "stderr",
     "output_type": "stream",
     "text": [
      "\r",
      "Sampling 4 chains:  70%|███████   | 1438/2040 [08:31<03:19,  3.01draws/s]"
     ]
    },
    {
     "name": "stderr",
     "output_type": "stream",
     "text": [
      "\r",
      "Sampling 4 chains:  71%|███████   | 1439/2040 [08:32<04:21,  2.30draws/s]"
     ]
    },
    {
     "name": "stderr",
     "output_type": "stream",
     "text": [
      "\r",
      "Sampling 4 chains:  71%|███████   | 1440/2040 [08:33<05:27,  1.83draws/s]"
     ]
    },
    {
     "name": "stderr",
     "output_type": "stream",
     "text": [
      "\r",
      "Sampling 4 chains:  71%|███████   | 1441/2040 [08:33<04:52,  2.05draws/s]"
     ]
    },
    {
     "name": "stderr",
     "output_type": "stream",
     "text": [
      "\r",
      "Sampling 4 chains:  71%|███████   | 1442/2040 [08:33<04:35,  2.17draws/s]"
     ]
    },
    {
     "name": "stderr",
     "output_type": "stream",
     "text": [
      "\r",
      "Sampling 4 chains:  71%|███████   | 1443/2040 [08:34<04:26,  2.24draws/s]"
     ]
    },
    {
     "name": "stderr",
     "output_type": "stream",
     "text": [
      "\r",
      "Sampling 4 chains:  71%|███████   | 1444/2040 [08:34<04:13,  2.35draws/s]"
     ]
    },
    {
     "name": "stderr",
     "output_type": "stream",
     "text": [
      "\r",
      "Sampling 4 chains:  71%|███████   | 1445/2040 [08:35<05:21,  1.85draws/s]"
     ]
    },
    {
     "name": "stderr",
     "output_type": "stream",
     "text": [
      "\r",
      "Sampling 4 chains:  71%|███████   | 1446/2040 [08:36<05:18,  1.87draws/s]"
     ]
    },
    {
     "name": "stderr",
     "output_type": "stream",
     "text": [
      "\r",
      "Sampling 4 chains:  71%|███████   | 1447/2040 [08:36<04:14,  2.33draws/s]"
     ]
    },
    {
     "name": "stderr",
     "output_type": "stream",
     "text": [
      "\r",
      "Sampling 4 chains:  71%|███████   | 1448/2040 [08:36<03:24,  2.90draws/s]"
     ]
    },
    {
     "name": "stderr",
     "output_type": "stream",
     "text": [
      "\r",
      "Sampling 4 chains:  71%|███████   | 1449/2040 [08:37<04:22,  2.25draws/s]"
     ]
    },
    {
     "name": "stderr",
     "output_type": "stream",
     "text": [
      "\r",
      "Sampling 4 chains:  71%|███████   | 1450/2040 [08:37<04:12,  2.34draws/s]"
     ]
    },
    {
     "name": "stderr",
     "output_type": "stream",
     "text": [
      "\r",
      "Sampling 4 chains:  71%|███████   | 1451/2040 [08:37<03:38,  2.70draws/s]"
     ]
    },
    {
     "name": "stderr",
     "output_type": "stream",
     "text": [
      "\r",
      "Sampling 4 chains:  71%|███████   | 1452/2040 [08:37<02:58,  3.30draws/s]"
     ]
    },
    {
     "name": "stderr",
     "output_type": "stream",
     "text": [
      "\r",
      "Sampling 4 chains:  71%|███████   | 1453/2040 [08:38<04:00,  2.44draws/s]"
     ]
    },
    {
     "name": "stderr",
     "output_type": "stream",
     "text": [
      "\r",
      "Sampling 4 chains:  71%|███████▏  | 1454/2040 [08:38<03:48,  2.57draws/s]"
     ]
    },
    {
     "name": "stderr",
     "output_type": "stream",
     "text": [
      "\r",
      "Sampling 4 chains:  71%|███████▏  | 1455/2040 [08:39<03:32,  2.75draws/s]"
     ]
    },
    {
     "name": "stderr",
     "output_type": "stream",
     "text": [
      "\r",
      "Sampling 4 chains:  71%|███████▏  | 1457/2040 [08:39<03:43,  2.61draws/s]"
     ]
    },
    {
     "name": "stderr",
     "output_type": "stream",
     "text": [
      "\r",
      "Sampling 4 chains:  71%|███████▏  | 1458/2040 [08:40<03:25,  2.83draws/s]"
     ]
    },
    {
     "name": "stderr",
     "output_type": "stream",
     "text": [
      "\r",
      "Sampling 4 chains:  72%|███████▏  | 1459/2040 [08:40<03:27,  2.79draws/s]"
     ]
    },
    {
     "name": "stderr",
     "output_type": "stream",
     "text": [
      "\r",
      "Sampling 4 chains:  72%|███████▏  | 1461/2040 [08:41<03:34,  2.70draws/s]"
     ]
    },
    {
     "name": "stderr",
     "output_type": "stream",
     "text": [
      "\r",
      "Sampling 4 chains:  72%|███████▏  | 1462/2040 [08:41<03:34,  2.69draws/s]"
     ]
    },
    {
     "name": "stderr",
     "output_type": "stream",
     "text": [
      "\r",
      "Sampling 4 chains:  72%|███████▏  | 1463/2040 [08:42<03:18,  2.91draws/s]"
     ]
    },
    {
     "name": "stderr",
     "output_type": "stream",
     "text": [
      "\r",
      "Sampling 4 chains:  72%|███████▏  | 1465/2040 [08:42<03:31,  2.72draws/s]"
     ]
    },
    {
     "name": "stderr",
     "output_type": "stream",
     "text": [
      "\r",
      "Sampling 4 chains:  72%|███████▏  | 1466/2040 [08:43<03:32,  2.70draws/s]"
     ]
    },
    {
     "name": "stderr",
     "output_type": "stream",
     "text": [
      "\r",
      "Sampling 4 chains:  72%|███████▏  | 1467/2040 [08:43<03:16,  2.91draws/s]"
     ]
    },
    {
     "name": "stderr",
     "output_type": "stream",
     "text": [
      "\r",
      "Sampling 4 chains:  72%|███████▏  | 1469/2040 [08:44<03:30,  2.71draws/s]"
     ]
    },
    {
     "name": "stderr",
     "output_type": "stream",
     "text": [
      "\r",
      "Sampling 4 chains:  72%|███████▏  | 1470/2040 [08:44<03:30,  2.71draws/s]"
     ]
    },
    {
     "name": "stderr",
     "output_type": "stream",
     "text": [
      "\r",
      "Sampling 4 chains:  72%|███████▏  | 1471/2040 [08:45<03:15,  2.91draws/s]"
     ]
    },
    {
     "name": "stderr",
     "output_type": "stream",
     "text": [
      "\r",
      "Sampling 4 chains:  72%|███████▏  | 1473/2040 [08:45<03:28,  2.72draws/s]"
     ]
    },
    {
     "name": "stderr",
     "output_type": "stream",
     "text": [
      "\r",
      "Sampling 4 chains:  72%|███████▏  | 1474/2040 [08:46<03:24,  2.76draws/s]"
     ]
    },
    {
     "name": "stderr",
     "output_type": "stream",
     "text": [
      "\r",
      "Sampling 4 chains:  72%|███████▏  | 1475/2040 [08:46<02:48,  3.36draws/s]"
     ]
    },
    {
     "name": "stderr",
     "output_type": "stream",
     "text": [
      "\r",
      "Sampling 4 chains:  72%|███████▏  | 1476/2040 [08:46<02:32,  3.70draws/s]"
     ]
    },
    {
     "name": "stderr",
     "output_type": "stream",
     "text": [
      "\r",
      "Sampling 4 chains:  72%|███████▏  | 1477/2040 [08:47<04:04,  2.30draws/s]"
     ]
    },
    {
     "name": "stderr",
     "output_type": "stream",
     "text": [
      "\r",
      "Sampling 4 chains:  72%|███████▏  | 1478/2040 [08:47<03:38,  2.58draws/s]"
     ]
    },
    {
     "name": "stderr",
     "output_type": "stream",
     "text": [
      "\r",
      "Sampling 4 chains:  72%|███████▎  | 1479/2040 [08:47<02:49,  3.31draws/s]"
     ]
    },
    {
     "name": "stderr",
     "output_type": "stream",
     "text": [
      "\r",
      "Sampling 4 chains:  73%|███████▎  | 1480/2040 [08:48<02:41,  3.47draws/s]"
     ]
    },
    {
     "name": "stderr",
     "output_type": "stream",
     "text": [
      "\r",
      "Sampling 4 chains:  73%|███████▎  | 1481/2040 [08:48<04:00,  2.32draws/s]"
     ]
    },
    {
     "name": "stderr",
     "output_type": "stream",
     "text": [
      "\r",
      "Sampling 4 chains:  73%|███████▎  | 1482/2040 [08:49<03:43,  2.49draws/s]"
     ]
    },
    {
     "name": "stderr",
     "output_type": "stream",
     "text": [
      "\r",
      "Sampling 4 chains:  73%|███████▎  | 1483/2040 [08:49<03:03,  3.04draws/s]"
     ]
    },
    {
     "name": "stderr",
     "output_type": "stream",
     "text": [
      "\r",
      "Sampling 4 chains:  73%|███████▎  | 1484/2040 [08:49<02:40,  3.47draws/s]"
     ]
    },
    {
     "name": "stderr",
     "output_type": "stream",
     "text": [
      "\r",
      "Sampling 4 chains:  73%|███████▎  | 1485/2040 [08:50<03:49,  2.41draws/s]"
     ]
    },
    {
     "name": "stderr",
     "output_type": "stream",
     "text": [
      "\r",
      "Sampling 4 chains:  73%|███████▎  | 1486/2040 [08:50<03:45,  2.45draws/s]"
     ]
    },
    {
     "name": "stderr",
     "output_type": "stream",
     "text": [
      "\r",
      "Sampling 4 chains:  73%|███████▎  | 1487/2040 [08:50<03:05,  2.98draws/s]"
     ]
    },
    {
     "name": "stderr",
     "output_type": "stream",
     "text": [
      "\r",
      "Sampling 4 chains:  73%|███████▎  | 1488/2040 [08:51<02:47,  3.30draws/s]"
     ]
    },
    {
     "name": "stderr",
     "output_type": "stream",
     "text": [
      "\r",
      "Sampling 4 chains:  73%|███████▎  | 1489/2040 [08:51<03:57,  2.32draws/s]"
     ]
    },
    {
     "name": "stderr",
     "output_type": "stream",
     "text": [
      "\r",
      "Sampling 4 chains:  73%|███████▎  | 1490/2040 [08:52<03:31,  2.60draws/s]"
     ]
    },
    {
     "name": "stderr",
     "output_type": "stream",
     "text": [
      "\r",
      "Sampling 4 chains:  73%|███████▎  | 1491/2040 [08:52<02:47,  3.28draws/s]"
     ]
    },
    {
     "name": "stderr",
     "output_type": "stream",
     "text": [
      "\r",
      "Sampling 4 chains:  73%|███████▎  | 1492/2040 [08:52<03:00,  3.04draws/s]"
     ]
    },
    {
     "name": "stderr",
     "output_type": "stream",
     "text": [
      "\r",
      "Sampling 4 chains:  73%|███████▎  | 1493/2040 [08:53<03:57,  2.30draws/s]"
     ]
    },
    {
     "name": "stderr",
     "output_type": "stream",
     "text": [
      "\r",
      "Sampling 4 chains:  73%|███████▎  | 1494/2040 [08:53<03:19,  2.73draws/s]"
     ]
    },
    {
     "name": "stderr",
     "output_type": "stream",
     "text": [
      "\r",
      "Sampling 4 chains:  73%|███████▎  | 1495/2040 [08:53<02:58,  3.06draws/s]"
     ]
    },
    {
     "name": "stderr",
     "output_type": "stream",
     "text": [
      "\r",
      "Sampling 4 chains:  73%|███████▎  | 1496/2040 [08:53<02:43,  3.33draws/s]"
     ]
    },
    {
     "name": "stderr",
     "output_type": "stream",
     "text": [
      "\r",
      "Sampling 4 chains:  73%|███████▎  | 1497/2040 [08:54<04:00,  2.26draws/s]"
     ]
    },
    {
     "name": "stderr",
     "output_type": "stream",
     "text": [
      "\r",
      "Sampling 4 chains:  73%|███████▎  | 1499/2040 [08:55<03:24,  2.65draws/s]"
     ]
    },
    {
     "name": "stderr",
     "output_type": "stream",
     "text": [
      "\r",
      "Sampling 4 chains:  74%|███████▎  | 1500/2040 [08:55<02:58,  3.03draws/s]"
     ]
    },
    {
     "name": "stderr",
     "output_type": "stream",
     "text": [
      "\r",
      "Sampling 4 chains:  74%|███████▎  | 1501/2040 [08:56<04:12,  2.14draws/s]"
     ]
    },
    {
     "name": "stderr",
     "output_type": "stream",
     "text": [
      "\r",
      "Sampling 4 chains:  74%|███████▎  | 1503/2040 [08:56<03:36,  2.48draws/s]"
     ]
    },
    {
     "name": "stderr",
     "output_type": "stream",
     "text": [
      "\r",
      "Sampling 4 chains:  74%|███████▎  | 1504/2040 [08:56<02:57,  3.02draws/s]"
     ]
    },
    {
     "name": "stderr",
     "output_type": "stream",
     "text": [
      "\r",
      "Sampling 4 chains:  74%|███████▍  | 1505/2040 [08:57<04:16,  2.09draws/s]"
     ]
    },
    {
     "name": "stderr",
     "output_type": "stream",
     "text": [
      "\r",
      "Sampling 4 chains:  74%|███████▍  | 1507/2040 [08:58<03:31,  2.52draws/s]"
     ]
    },
    {
     "name": "stderr",
     "output_type": "stream",
     "text": [
      "\r",
      "Sampling 4 chains:  74%|███████▍  | 1508/2040 [08:58<03:06,  2.86draws/s]"
     ]
    },
    {
     "name": "stderr",
     "output_type": "stream",
     "text": [
      "\r",
      "Sampling 4 chains:  74%|███████▍  | 1509/2040 [08:59<04:17,  2.06draws/s]"
     ]
    },
    {
     "name": "stderr",
     "output_type": "stream",
     "text": [
      "\r",
      "Sampling 4 chains:  74%|███████▍  | 1511/2040 [08:59<03:20,  2.64draws/s]"
     ]
    },
    {
     "name": "stderr",
     "output_type": "stream",
     "text": [
      "\r",
      "Sampling 4 chains:  74%|███████▍  | 1512/2040 [08:59<03:19,  2.65draws/s]"
     ]
    },
    {
     "name": "stderr",
     "output_type": "stream",
     "text": [
      "\r",
      "Sampling 4 chains:  74%|███████▍  | 1513/2040 [09:00<04:20,  2.02draws/s]"
     ]
    },
    {
     "name": "stderr",
     "output_type": "stream",
     "text": [
      "\r",
      "Sampling 4 chains:  74%|███████▍  | 1514/2040 [09:00<03:23,  2.59draws/s]"
     ]
    },
    {
     "name": "stderr",
     "output_type": "stream",
     "text": [
      "\r",
      "Sampling 4 chains:  74%|███████▍  | 1515/2040 [09:00<02:51,  3.06draws/s]"
     ]
    },
    {
     "name": "stderr",
     "output_type": "stream",
     "text": [
      "\r",
      "Sampling 4 chains:  74%|███████▍  | 1516/2040 [09:01<02:55,  2.98draws/s]"
     ]
    },
    {
     "name": "stderr",
     "output_type": "stream",
     "text": [
      "\r",
      "Sampling 4 chains:  74%|███████▍  | 1517/2040 [09:01<04:16,  2.04draws/s]"
     ]
    },
    {
     "name": "stderr",
     "output_type": "stream",
     "text": [
      "\r",
      "Sampling 4 chains:  74%|███████▍  | 1518/2040 [09:02<03:18,  2.63draws/s]"
     ]
    },
    {
     "name": "stderr",
     "output_type": "stream",
     "text": [
      "\r",
      "Sampling 4 chains:  75%|███████▍  | 1520/2040 [09:02<03:00,  2.88draws/s]"
     ]
    },
    {
     "name": "stderr",
     "output_type": "stream",
     "text": [
      "\r",
      "Sampling 4 chains:  75%|███████▍  | 1521/2040 [09:03<04:16,  2.02draws/s]"
     ]
    },
    {
     "name": "stderr",
     "output_type": "stream",
     "text": [
      "\r",
      "Sampling 4 chains:  75%|███████▍  | 1523/2040 [09:03<03:09,  2.73draws/s]"
     ]
    },
    {
     "name": "stderr",
     "output_type": "stream",
     "text": [
      "\r",
      "Sampling 4 chains:  75%|███████▍  | 1524/2040 [09:04<03:34,  2.41draws/s]"
     ]
    },
    {
     "name": "stderr",
     "output_type": "stream",
     "text": [
      "\r",
      "Sampling 4 chains:  75%|███████▍  | 1525/2040 [09:04<04:39,  1.85draws/s]"
     ]
    },
    {
     "name": "stderr",
     "output_type": "stream",
     "text": [
      "\r",
      "Sampling 4 chains:  75%|███████▍  | 1528/2040 [09:05<03:48,  2.24draws/s]"
     ]
    },
    {
     "name": "stderr",
     "output_type": "stream",
     "text": [
      "\r",
      "Sampling 4 chains:  75%|███████▍  | 1529/2040 [09:06<04:34,  1.86draws/s]"
     ]
    },
    {
     "name": "stderr",
     "output_type": "stream",
     "text": [
      "\r",
      "Sampling 4 chains:  75%|███████▌  | 1532/2040 [09:07<03:43,  2.27draws/s]"
     ]
    },
    {
     "name": "stderr",
     "output_type": "stream",
     "text": [
      "\r",
      "Sampling 4 chains:  75%|███████▌  | 1533/2040 [09:07<04:34,  1.85draws/s]"
     ]
    },
    {
     "name": "stderr",
     "output_type": "stream",
     "text": [
      "\r",
      "Sampling 4 chains:  75%|███████▌  | 1534/2040 [09:07<03:37,  2.32draws/s]"
     ]
    },
    {
     "name": "stderr",
     "output_type": "stream",
     "text": [
      "\r",
      "Sampling 4 chains:  75%|███████▌  | 1536/2040 [09:08<03:02,  2.76draws/s]"
     ]
    },
    {
     "name": "stderr",
     "output_type": "stream",
     "text": [
      "\r",
      "Sampling 4 chains:  75%|███████▌  | 1537/2040 [09:09<04:22,  1.92draws/s]"
     ]
    },
    {
     "name": "stderr",
     "output_type": "stream",
     "text": [
      "\r",
      "Sampling 4 chains:  75%|███████▌  | 1538/2040 [09:09<03:29,  2.40draws/s]"
     ]
    },
    {
     "name": "stderr",
     "output_type": "stream",
     "text": [
      "\r",
      "Sampling 4 chains:  75%|███████▌  | 1540/2040 [09:09<02:43,  3.06draws/s]"
     ]
    },
    {
     "name": "stderr",
     "output_type": "stream",
     "text": [
      "\r",
      "Sampling 4 chains:  76%|███████▌  | 1541/2040 [09:10<04:40,  1.78draws/s]"
     ]
    },
    {
     "name": "stderr",
     "output_type": "stream",
     "text": [
      "\r",
      "Sampling 4 chains:  76%|███████▌  | 1542/2040 [09:10<03:32,  2.34draws/s]"
     ]
    },
    {
     "name": "stderr",
     "output_type": "stream",
     "text": [
      "\r",
      "Sampling 4 chains:  76%|███████▌  | 1544/2040 [09:11<02:37,  3.14draws/s]"
     ]
    },
    {
     "name": "stderr",
     "output_type": "stream",
     "text": [
      "\r",
      "Sampling 4 chains:  76%|███████▌  | 1545/2040 [09:12<04:42,  1.75draws/s]"
     ]
    },
    {
     "name": "stderr",
     "output_type": "stream",
     "text": [
      "\r",
      "Sampling 4 chains:  76%|███████▌  | 1546/2040 [09:12<03:37,  2.27draws/s]"
     ]
    },
    {
     "name": "stderr",
     "output_type": "stream",
     "text": [
      "\r",
      "Sampling 4 chains:  76%|███████▌  | 1549/2040 [09:13<03:33,  2.30draws/s]"
     ]
    },
    {
     "name": "stderr",
     "output_type": "stream",
     "text": [
      "\r",
      "Sampling 4 chains:  76%|███████▌  | 1550/2040 [09:13<02:58,  2.74draws/s]"
     ]
    },
    {
     "name": "stderr",
     "output_type": "stream",
     "text": [
      "\r",
      "Sampling 4 chains:  76%|███████▌  | 1553/2040 [09:15<03:02,  2.66draws/s]"
     ]
    },
    {
     "name": "stderr",
     "output_type": "stream",
     "text": [
      "\r",
      "Sampling 4 chains:  76%|███████▌  | 1554/2040 [09:15<02:38,  3.07draws/s]"
     ]
    },
    {
     "name": "stderr",
     "output_type": "stream",
     "text": [
      "\r",
      "Sampling 4 chains:  76%|███████▋  | 1556/2040 [09:15<01:58,  4.08draws/s]"
     ]
    },
    {
     "name": "stderr",
     "output_type": "stream",
     "text": [
      "\r",
      "Sampling 4 chains:  76%|███████▋  | 1557/2040 [09:16<04:06,  1.96draws/s]"
     ]
    },
    {
     "name": "stderr",
     "output_type": "stream",
     "text": [
      "\r",
      "Sampling 4 chains:  76%|███████▋  | 1558/2040 [09:16<03:15,  2.47draws/s]"
     ]
    },
    {
     "name": "stderr",
     "output_type": "stream",
     "text": [
      "\r",
      "Sampling 4 chains:  76%|███████▋  | 1559/2040 [09:16<02:34,  3.12draws/s]"
     ]
    },
    {
     "name": "stderr",
     "output_type": "stream",
     "text": [
      "\r",
      "Sampling 4 chains:  77%|███████▋  | 1561/2040 [09:17<03:11,  2.50draws/s]"
     ]
    },
    {
     "name": "stderr",
     "output_type": "stream",
     "text": [
      "\r",
      "Sampling 4 chains:  77%|███████▋  | 1562/2040 [09:18<02:36,  3.06draws/s]"
     ]
    },
    {
     "name": "stderr",
     "output_type": "stream",
     "text": [
      "\r",
      "Sampling 4 chains:  77%|███████▋  | 1563/2040 [09:18<02:15,  3.53draws/s]"
     ]
    },
    {
     "name": "stderr",
     "output_type": "stream",
     "text": [
      "\r",
      "Sampling 4 chains:  77%|███████▋  | 1565/2040 [09:19<02:53,  2.74draws/s]"
     ]
    },
    {
     "name": "stderr",
     "output_type": "stream",
     "text": [
      "\r",
      "Sampling 4 chains:  77%|███████▋  | 1566/2040 [09:19<02:15,  3.49draws/s]"
     ]
    },
    {
     "name": "stderr",
     "output_type": "stream",
     "text": [
      "\r",
      "Sampling 4 chains:  77%|███████▋  | 1567/2040 [09:19<02:11,  3.61draws/s]"
     ]
    },
    {
     "name": "stderr",
     "output_type": "stream",
     "text": [
      "\r",
      "Sampling 4 chains:  77%|███████▋  | 1569/2040 [09:20<02:45,  2.85draws/s]"
     ]
    },
    {
     "name": "stderr",
     "output_type": "stream",
     "text": [
      "\r",
      "Sampling 4 chains:  77%|███████▋  | 1570/2040 [09:20<02:21,  3.32draws/s]"
     ]
    },
    {
     "name": "stderr",
     "output_type": "stream",
     "text": [
      "\r",
      "Sampling 4 chains:  77%|███████▋  | 1571/2040 [09:21<02:10,  3.60draws/s]"
     ]
    },
    {
     "name": "stderr",
     "output_type": "stream",
     "text": [
      "\r",
      "Sampling 4 chains:  77%|███████▋  | 1573/2040 [09:22<02:44,  2.84draws/s]"
     ]
    },
    {
     "name": "stderr",
     "output_type": "stream",
     "text": [
      "\r",
      "Sampling 4 chains:  77%|███████▋  | 1574/2040 [09:22<02:21,  3.30draws/s]"
     ]
    },
    {
     "name": "stderr",
     "output_type": "stream",
     "text": [
      "\r",
      "Sampling 4 chains:  77%|███████▋  | 1575/2040 [09:22<01:53,  4.09draws/s]"
     ]
    },
    {
     "name": "stderr",
     "output_type": "stream",
     "text": [
      "\r",
      "Sampling 4 chains:  77%|███████▋  | 1576/2040 [09:22<01:43,  4.47draws/s]"
     ]
    },
    {
     "name": "stderr",
     "output_type": "stream",
     "text": [
      "\r",
      "Sampling 4 chains:  77%|███████▋  | 1577/2040 [09:23<03:09,  2.45draws/s]"
     ]
    },
    {
     "name": "stderr",
     "output_type": "stream",
     "text": [
      "\r",
      "Sampling 4 chains:  77%|███████▋  | 1578/2040 [09:23<03:05,  2.48draws/s]"
     ]
    },
    {
     "name": "stderr",
     "output_type": "stream",
     "text": [
      "\r",
      "Sampling 4 chains:  77%|███████▋  | 1580/2040 [09:24<02:28,  3.09draws/s]"
     ]
    },
    {
     "name": "stderr",
     "output_type": "stream",
     "text": [
      "\r",
      "Sampling 4 chains:  78%|███████▊  | 1581/2040 [09:25<03:31,  2.17draws/s]"
     ]
    },
    {
     "name": "stderr",
     "output_type": "stream",
     "text": [
      "\r",
      "Sampling 4 chains:  78%|███████▊  | 1582/2040 [09:25<03:29,  2.18draws/s]"
     ]
    },
    {
     "name": "stderr",
     "output_type": "stream",
     "text": [
      "\r",
      "Sampling 4 chains:  78%|███████▊  | 1584/2040 [09:25<02:41,  2.82draws/s]"
     ]
    },
    {
     "name": "stderr",
     "output_type": "stream",
     "text": [
      "\r",
      "Sampling 4 chains:  78%|███████▊  | 1585/2040 [09:26<03:47,  2.00draws/s]"
     ]
    },
    {
     "name": "stderr",
     "output_type": "stream",
     "text": [
      "\r",
      "Sampling 4 chains:  78%|███████▊  | 1586/2040 [09:26<03:21,  2.25draws/s]"
     ]
    },
    {
     "name": "stderr",
     "output_type": "stream",
     "text": [
      "\r",
      "Sampling 4 chains:  78%|███████▊  | 1587/2040 [09:26<02:37,  2.87draws/s]"
     ]
    },
    {
     "name": "stderr",
     "output_type": "stream",
     "text": [
      "\r",
      "Sampling 4 chains:  78%|███████▊  | 1588/2040 [09:27<02:21,  3.20draws/s]"
     ]
    },
    {
     "name": "stderr",
     "output_type": "stream",
     "text": [
      "\r",
      "Sampling 4 chains:  78%|███████▊  | 1589/2040 [09:28<03:32,  2.12draws/s]"
     ]
    },
    {
     "name": "stderr",
     "output_type": "stream",
     "text": [
      "\r",
      "Sampling 4 chains:  78%|███████▊  | 1590/2040 [09:28<03:04,  2.44draws/s]"
     ]
    },
    {
     "name": "stderr",
     "output_type": "stream",
     "text": [
      "\r",
      "Sampling 4 chains:  78%|███████▊  | 1591/2040 [09:28<02:31,  2.96draws/s]"
     ]
    },
    {
     "name": "stderr",
     "output_type": "stream",
     "text": [
      "\r",
      "Sampling 4 chains:  78%|███████▊  | 1592/2040 [09:28<02:17,  3.26draws/s]"
     ]
    },
    {
     "name": "stderr",
     "output_type": "stream",
     "text": [
      "\r",
      "Sampling 4 chains:  78%|███████▊  | 1593/2040 [09:29<03:28,  2.15draws/s]"
     ]
    },
    {
     "name": "stderr",
     "output_type": "stream",
     "text": [
      "\r",
      "Sampling 4 chains:  78%|███████▊  | 1594/2040 [09:29<03:02,  2.44draws/s]"
     ]
    },
    {
     "name": "stderr",
     "output_type": "stream",
     "text": [
      "\r",
      "Sampling 4 chains:  78%|███████▊  | 1595/2040 [09:29<02:29,  2.98draws/s]"
     ]
    },
    {
     "name": "stderr",
     "output_type": "stream",
     "text": [
      "\r",
      "Sampling 4 chains:  78%|███████▊  | 1596/2040 [09:30<02:14,  3.30draws/s]"
     ]
    },
    {
     "name": "stderr",
     "output_type": "stream",
     "text": [
      "\r",
      "Sampling 4 chains:  78%|███████▊  | 1597/2040 [09:30<03:19,  2.22draws/s]"
     ]
    },
    {
     "name": "stderr",
     "output_type": "stream",
     "text": [
      "\r",
      "Sampling 4 chains:  78%|███████▊  | 1598/2040 [09:31<02:49,  2.61draws/s]"
     ]
    },
    {
     "name": "stderr",
     "output_type": "stream",
     "text": [
      "\r",
      "Sampling 4 chains:  78%|███████▊  | 1599/2040 [09:31<02:26,  3.00draws/s]"
     ]
    },
    {
     "name": "stderr",
     "output_type": "stream",
     "text": [
      "\r",
      "Sampling 4 chains:  78%|███████▊  | 1600/2040 [09:31<02:20,  3.13draws/s]"
     ]
    },
    {
     "name": "stderr",
     "output_type": "stream",
     "text": [
      "\r",
      "Sampling 4 chains:  78%|███████▊  | 1601/2040 [09:32<03:07,  2.34draws/s]"
     ]
    },
    {
     "name": "stderr",
     "output_type": "stream",
     "text": [
      "\r",
      "Sampling 4 chains:  79%|███████▊  | 1602/2040 [09:32<02:41,  2.71draws/s]"
     ]
    },
    {
     "name": "stderr",
     "output_type": "stream",
     "text": [
      "\r",
      "Sampling 4 chains:  79%|███████▊  | 1603/2040 [09:32<02:20,  3.12draws/s]"
     ]
    },
    {
     "name": "stderr",
     "output_type": "stream",
     "text": [
      "\r",
      "Sampling 4 chains:  79%|███████▊  | 1604/2040 [09:33<02:20,  3.11draws/s]"
     ]
    },
    {
     "name": "stderr",
     "output_type": "stream",
     "text": [
      "\r",
      "Sampling 4 chains:  79%|███████▊  | 1605/2040 [09:33<02:57,  2.45draws/s]"
     ]
    },
    {
     "name": "stderr",
     "output_type": "stream",
     "text": [
      "\r",
      "Sampling 4 chains:  79%|███████▊  | 1606/2040 [09:34<02:46,  2.60draws/s]"
     ]
    },
    {
     "name": "stderr",
     "output_type": "stream",
     "text": [
      "\r",
      "Sampling 4 chains:  79%|███████▉  | 1607/2040 [09:34<02:28,  2.92draws/s]"
     ]
    },
    {
     "name": "stderr",
     "output_type": "stream",
     "text": [
      "\r",
      "Sampling 4 chains:  79%|███████▉  | 1608/2040 [09:34<02:20,  3.08draws/s]"
     ]
    },
    {
     "name": "stderr",
     "output_type": "stream",
     "text": [
      "\r",
      "Sampling 4 chains:  79%|███████▉  | 1609/2040 [09:35<03:02,  2.37draws/s]"
     ]
    },
    {
     "name": "stderr",
     "output_type": "stream",
     "text": [
      "\r",
      "Sampling 4 chains:  79%|███████▉  | 1611/2040 [09:35<02:40,  2.67draws/s]"
     ]
    },
    {
     "name": "stderr",
     "output_type": "stream",
     "text": [
      "\r",
      "Sampling 4 chains:  79%|███████▉  | 1612/2040 [09:36<02:59,  2.38draws/s]"
     ]
    },
    {
     "name": "stderr",
     "output_type": "stream",
     "text": [
      "\r",
      "Sampling 4 chains:  79%|███████▉  | 1613/2040 [09:36<02:47,  2.55draws/s]"
     ]
    },
    {
     "name": "stderr",
     "output_type": "stream",
     "text": [
      "\r",
      "Sampling 4 chains:  79%|███████▉  | 1614/2040 [09:36<02:11,  3.24draws/s]"
     ]
    },
    {
     "name": "stderr",
     "output_type": "stream",
     "text": [
      "\r",
      "Sampling 4 chains:  79%|███████▉  | 1615/2040 [09:37<02:48,  2.53draws/s]"
     ]
    },
    {
     "name": "stderr",
     "output_type": "stream",
     "text": [
      "\r",
      "Sampling 4 chains:  79%|███████▉  | 1616/2040 [09:38<03:18,  2.13draws/s]"
     ]
    },
    {
     "name": "stderr",
     "output_type": "stream",
     "text": [
      "\r",
      "Sampling 4 chains:  79%|███████▉  | 1617/2040 [09:38<02:47,  2.52draws/s]"
     ]
    },
    {
     "name": "stderr",
     "output_type": "stream",
     "text": [
      "\r",
      "Sampling 4 chains:  79%|███████▉  | 1618/2040 [09:38<02:48,  2.50draws/s]"
     ]
    },
    {
     "name": "stderr",
     "output_type": "stream",
     "text": [
      "\r",
      "Sampling 4 chains:  79%|███████▉  | 1619/2040 [09:38<02:34,  2.72draws/s]"
     ]
    },
    {
     "name": "stderr",
     "output_type": "stream",
     "text": [
      "\r",
      "Sampling 4 chains:  79%|███████▉  | 1620/2040 [09:39<03:03,  2.28draws/s]"
     ]
    },
    {
     "name": "stderr",
     "output_type": "stream",
     "text": [
      "\r",
      "Sampling 4 chains:  79%|███████▉  | 1621/2040 [09:39<02:27,  2.84draws/s]"
     ]
    },
    {
     "name": "stderr",
     "output_type": "stream",
     "text": [
      "\r",
      "Sampling 4 chains:  80%|███████▉  | 1622/2040 [09:40<03:25,  2.04draws/s]"
     ]
    },
    {
     "name": "stderr",
     "output_type": "stream",
     "text": [
      "\r",
      "Sampling 4 chains:  80%|███████▉  | 1623/2040 [09:41<03:37,  1.92draws/s]"
     ]
    },
    {
     "name": "stderr",
     "output_type": "stream",
     "text": [
      "\r",
      "Sampling 4 chains:  80%|███████▉  | 1624/2040 [09:41<02:46,  2.50draws/s]"
     ]
    },
    {
     "name": "stderr",
     "output_type": "stream",
     "text": [
      "\r",
      "Sampling 4 chains:  80%|███████▉  | 1626/2040 [09:42<02:49,  2.44draws/s]"
     ]
    },
    {
     "name": "stderr",
     "output_type": "stream",
     "text": [
      "\r",
      "Sampling 4 chains:  80%|███████▉  | 1627/2040 [09:42<03:22,  2.03draws/s]"
     ]
    },
    {
     "name": "stderr",
     "output_type": "stream",
     "text": [
      "\r",
      "Sampling 4 chains:  80%|███████▉  | 1628/2040 [09:43<02:51,  2.41draws/s]"
     ]
    },
    {
     "name": "stderr",
     "output_type": "stream",
     "text": [
      "\r",
      "Sampling 4 chains:  80%|███████▉  | 1629/2040 [09:43<03:03,  2.24draws/s]"
     ]
    },
    {
     "name": "stderr",
     "output_type": "stream",
     "text": [
      "\r",
      "Sampling 4 chains:  80%|███████▉  | 1630/2040 [09:43<02:42,  2.52draws/s]"
     ]
    },
    {
     "name": "stderr",
     "output_type": "stream",
     "text": [
      "\r",
      "Sampling 4 chains:  80%|███████▉  | 1631/2040 [09:44<02:46,  2.46draws/s]"
     ]
    },
    {
     "name": "stderr",
     "output_type": "stream",
     "text": [
      "\r",
      "Sampling 4 chains:  80%|████████  | 1632/2040 [09:44<03:16,  2.07draws/s]"
     ]
    },
    {
     "name": "stderr",
     "output_type": "stream",
     "text": [
      "\r",
      "Sampling 4 chains:  80%|████████  | 1634/2040 [09:45<02:40,  2.54draws/s]"
     ]
    },
    {
     "name": "stderr",
     "output_type": "stream",
     "text": [
      "\r",
      "Sampling 4 chains:  80%|████████  | 1635/2040 [09:45<02:40,  2.52draws/s]"
     ]
    },
    {
     "name": "stderr",
     "output_type": "stream",
     "text": [
      "\r",
      "Sampling 4 chains:  80%|████████  | 1636/2040 [09:46<03:01,  2.22draws/s]"
     ]
    },
    {
     "name": "stderr",
     "output_type": "stream",
     "text": [
      "\r",
      "Sampling 4 chains:  80%|████████  | 1638/2040 [09:46<02:34,  2.60draws/s]"
     ]
    },
    {
     "name": "stderr",
     "output_type": "stream",
     "text": [
      "\r",
      "Sampling 4 chains:  80%|████████  | 1639/2040 [09:47<02:43,  2.45draws/s]"
     ]
    },
    {
     "name": "stderr",
     "output_type": "stream",
     "text": [
      "\r",
      "Sampling 4 chains:  80%|████████  | 1640/2040 [09:47<02:42,  2.46draws/s]"
     ]
    },
    {
     "name": "stderr",
     "output_type": "stream",
     "text": [
      "\r",
      "Sampling 4 chains:  80%|████████  | 1641/2040 [09:47<02:08,  3.11draws/s]"
     ]
    },
    {
     "name": "stderr",
     "output_type": "stream",
     "text": [
      "\r",
      "Sampling 4 chains:  80%|████████  | 1642/2040 [09:48<02:24,  2.75draws/s]"
     ]
    },
    {
     "name": "stderr",
     "output_type": "stream",
     "text": [
      "\r",
      "Sampling 4 chains:  81%|████████  | 1643/2040 [09:48<02:30,  2.64draws/s]"
     ]
    },
    {
     "name": "stderr",
     "output_type": "stream",
     "text": [
      "\r",
      "Sampling 4 chains:  81%|████████  | 1644/2040 [09:48<02:32,  2.60draws/s]"
     ]
    },
    {
     "name": "stderr",
     "output_type": "stream",
     "text": [
      "\r",
      "Sampling 4 chains:  81%|████████  | 1645/2040 [09:49<02:02,  3.23draws/s]"
     ]
    },
    {
     "name": "stderr",
     "output_type": "stream",
     "text": [
      "\r",
      "Sampling 4 chains:  81%|████████  | 1646/2040 [09:49<02:30,  2.61draws/s]"
     ]
    },
    {
     "name": "stderr",
     "output_type": "stream",
     "text": [
      "\r",
      "Sampling 4 chains:  81%|████████  | 1647/2040 [09:49<02:22,  2.76draws/s]"
     ]
    },
    {
     "name": "stderr",
     "output_type": "stream",
     "text": [
      "\r",
      "Sampling 4 chains:  81%|████████  | 1648/2040 [09:50<02:20,  2.79draws/s]"
     ]
    },
    {
     "name": "stderr",
     "output_type": "stream",
     "text": [
      "\r",
      "Sampling 4 chains:  81%|████████  | 1649/2040 [09:50<02:05,  3.11draws/s]"
     ]
    },
    {
     "name": "stderr",
     "output_type": "stream",
     "text": [
      "\r",
      "Sampling 4 chains:  81%|████████  | 1650/2040 [09:51<02:38,  2.46draws/s]"
     ]
    },
    {
     "name": "stderr",
     "output_type": "stream",
     "text": [
      "\r",
      "Sampling 4 chains:  81%|████████  | 1651/2040 [09:51<02:22,  2.73draws/s]"
     ]
    },
    {
     "name": "stderr",
     "output_type": "stream",
     "text": [
      "\r",
      "Sampling 4 chains:  81%|████████  | 1652/2040 [09:51<02:14,  2.88draws/s]"
     ]
    },
    {
     "name": "stderr",
     "output_type": "stream",
     "text": [
      "\r",
      "Sampling 4 chains:  81%|████████  | 1653/2040 [09:52<02:11,  2.94draws/s]"
     ]
    },
    {
     "name": "stderr",
     "output_type": "stream",
     "text": [
      "\r",
      "Sampling 4 chains:  81%|████████  | 1654/2040 [09:52<02:41,  2.39draws/s]"
     ]
    },
    {
     "name": "stderr",
     "output_type": "stream",
     "text": [
      "\r",
      "Sampling 4 chains:  81%|████████  | 1655/2040 [09:52<02:06,  3.03draws/s]"
     ]
    },
    {
     "name": "stderr",
     "output_type": "stream",
     "text": [
      "\r",
      "Sampling 4 chains:  81%|████████  | 1656/2040 [09:53<02:24,  2.66draws/s]"
     ]
    },
    {
     "name": "stderr",
     "output_type": "stream",
     "text": [
      "\r",
      "Sampling 4 chains:  81%|████████  | 1657/2040 [09:53<02:15,  2.84draws/s]"
     ]
    },
    {
     "name": "stderr",
     "output_type": "stream",
     "text": [
      "\r",
      "Sampling 4 chains:  81%|████████▏ | 1658/2040 [09:54<02:39,  2.40draws/s]"
     ]
    },
    {
     "name": "stderr",
     "output_type": "stream",
     "text": [
      "\r",
      "Sampling 4 chains:  81%|████████▏ | 1660/2040 [09:54<02:25,  2.62draws/s]"
     ]
    },
    {
     "name": "stderr",
     "output_type": "stream",
     "text": [
      "\r",
      "Sampling 4 chains:  81%|████████▏ | 1661/2040 [09:55<02:19,  2.72draws/s]"
     ]
    },
    {
     "name": "stderr",
     "output_type": "stream",
     "text": [
      "\r",
      "Sampling 4 chains:  81%|████████▏ | 1662/2040 [09:55<02:41,  2.34draws/s]"
     ]
    },
    {
     "name": "stderr",
     "output_type": "stream",
     "text": [
      "\r",
      "Sampling 4 chains:  82%|████████▏ | 1664/2040 [09:56<02:21,  2.66draws/s]"
     ]
    },
    {
     "name": "stderr",
     "output_type": "stream",
     "text": [
      "\r",
      "Sampling 4 chains:  82%|████████▏ | 1665/2040 [09:56<02:21,  2.65draws/s]"
     ]
    },
    {
     "name": "stderr",
     "output_type": "stream",
     "text": [
      "\r",
      "Sampling 4 chains:  82%|████████▏ | 1666/2040 [09:56<02:24,  2.58draws/s]"
     ]
    },
    {
     "name": "stderr",
     "output_type": "stream",
     "text": [
      "\r",
      "Sampling 4 chains:  82%|████████▏ | 1667/2040 [09:57<02:03,  3.02draws/s]"
     ]
    },
    {
     "name": "stderr",
     "output_type": "stream",
     "text": [
      "\r",
      "Sampling 4 chains:  82%|████████▏ | 1668/2040 [09:57<02:22,  2.60draws/s]"
     ]
    },
    {
     "name": "stderr",
     "output_type": "stream",
     "text": [
      "\r",
      "Sampling 4 chains:  82%|████████▏ | 1669/2040 [09:57<02:07,  2.92draws/s]"
     ]
    },
    {
     "name": "stderr",
     "output_type": "stream",
     "text": [
      "\r",
      "Sampling 4 chains:  82%|████████▏ | 1670/2040 [09:58<02:19,  2.65draws/s]"
     ]
    },
    {
     "name": "stderr",
     "output_type": "stream",
     "text": [
      "\r",
      "Sampling 4 chains:  82%|████████▏ | 1671/2040 [09:58<02:05,  2.94draws/s]"
     ]
    },
    {
     "name": "stderr",
     "output_type": "stream",
     "text": [
      "\r",
      "Sampling 4 chains:  82%|████████▏ | 1672/2040 [09:59<02:30,  2.44draws/s]"
     ]
    },
    {
     "name": "stderr",
     "output_type": "stream",
     "text": [
      "\r",
      "Sampling 4 chains:  82%|████████▏ | 1674/2040 [09:59<02:16,  2.68draws/s]"
     ]
    },
    {
     "name": "stderr",
     "output_type": "stream",
     "text": [
      "\r",
      "Sampling 4 chains:  82%|████████▏ | 1675/2040 [10:00<02:14,  2.72draws/s]"
     ]
    },
    {
     "name": "stderr",
     "output_type": "stream",
     "text": [
      "\r",
      "Sampling 4 chains:  82%|████████▏ | 1676/2040 [10:00<02:34,  2.36draws/s]"
     ]
    },
    {
     "name": "stderr",
     "output_type": "stream",
     "text": [
      "\r",
      "Sampling 4 chains:  82%|████████▏ | 1677/2040 [10:00<02:00,  3.00draws/s]"
     ]
    },
    {
     "name": "stderr",
     "output_type": "stream",
     "text": [
      "\r",
      "Sampling 4 chains:  82%|████████▏ | 1678/2040 [10:01<02:13,  2.70draws/s]"
     ]
    },
    {
     "name": "stderr",
     "output_type": "stream",
     "text": [
      "\r",
      "Sampling 4 chains:  82%|████████▏ | 1679/2040 [10:01<02:21,  2.54draws/s]"
     ]
    },
    {
     "name": "stderr",
     "output_type": "stream",
     "text": [
      "\r",
      "Sampling 4 chains:  82%|████████▏ | 1680/2040 [10:02<03:13,  1.86draws/s]"
     ]
    },
    {
     "name": "stderr",
     "output_type": "stream",
     "text": [
      "\r",
      "Sampling 4 chains:  82%|████████▏ | 1682/2040 [10:02<02:25,  2.45draws/s]"
     ]
    },
    {
     "name": "stderr",
     "output_type": "stream",
     "text": [
      "\r",
      "Sampling 4 chains:  82%|████████▎ | 1683/2040 [10:03<02:17,  2.60draws/s]"
     ]
    },
    {
     "name": "stderr",
     "output_type": "stream",
     "text": [
      "\r",
      "Sampling 4 chains:  83%|████████▎ | 1684/2040 [10:04<03:15,  1.83draws/s]"
     ]
    },
    {
     "name": "stderr",
     "output_type": "stream",
     "text": [
      "\r",
      "Sampling 4 chains:  83%|████████▎ | 1687/2040 [10:04<02:31,  2.33draws/s]"
     ]
    },
    {
     "name": "stderr",
     "output_type": "stream",
     "text": [
      "\r",
      "Sampling 4 chains:  83%|████████▎ | 1688/2040 [10:05<03:24,  1.72draws/s]"
     ]
    },
    {
     "name": "stderr",
     "output_type": "stream",
     "text": [
      "\r",
      "Sampling 4 chains:  83%|████████▎ | 1690/2040 [10:05<02:28,  2.36draws/s]"
     ]
    },
    {
     "name": "stderr",
     "output_type": "stream",
     "text": [
      "\r",
      "Sampling 4 chains:  83%|████████▎ | 1691/2040 [10:05<02:26,  2.38draws/s]"
     ]
    },
    {
     "name": "stderr",
     "output_type": "stream",
     "text": [
      "\r",
      "Sampling 4 chains:  83%|████████▎ | 1692/2040 [10:06<03:20,  1.73draws/s]"
     ]
    },
    {
     "name": "stderr",
     "output_type": "stream",
     "text": [
      "\r",
      "Sampling 4 chains:  83%|████████▎ | 1694/2040 [10:07<02:25,  2.38draws/s]"
     ]
    },
    {
     "name": "stderr",
     "output_type": "stream",
     "text": [
      "\r",
      "Sampling 4 chains:  83%|████████▎ | 1695/2040 [10:07<02:23,  2.41draws/s]"
     ]
    },
    {
     "name": "stderr",
     "output_type": "stream",
     "text": [
      "\r",
      "Sampling 4 chains:  83%|████████▎ | 1696/2040 [10:08<03:18,  1.73draws/s]"
     ]
    },
    {
     "name": "stderr",
     "output_type": "stream",
     "text": [
      "\r",
      "Sampling 4 chains:  83%|████████▎ | 1699/2040 [10:08<02:31,  2.25draws/s]"
     ]
    },
    {
     "name": "stderr",
     "output_type": "stream",
     "text": [
      "\r",
      "Sampling 4 chains:  83%|████████▎ | 1700/2040 [10:09<03:33,  1.59draws/s]"
     ]
    },
    {
     "name": "stderr",
     "output_type": "stream",
     "text": [
      "\r",
      "Sampling 4 chains:  83%|████████▎ | 1702/2040 [10:09<02:33,  2.20draws/s]"
     ]
    },
    {
     "name": "stderr",
     "output_type": "stream",
     "text": [
      "\r",
      "Sampling 4 chains:  83%|████████▎ | 1703/2040 [10:10<02:22,  2.37draws/s]"
     ]
    },
    {
     "name": "stderr",
     "output_type": "stream",
     "text": [
      "\r",
      "Sampling 4 chains:  84%|████████▎ | 1704/2040 [10:11<03:19,  1.68draws/s]"
     ]
    },
    {
     "name": "stderr",
     "output_type": "stream",
     "text": [
      "\r",
      "Sampling 4 chains:  84%|████████▎ | 1707/2040 [10:11<02:35,  2.14draws/s]"
     ]
    },
    {
     "name": "stderr",
     "output_type": "stream",
     "text": [
      "\r",
      "Sampling 4 chains:  84%|████████▎ | 1708/2040 [10:12<03:21,  1.65draws/s]"
     ]
    },
    {
     "name": "stderr",
     "output_type": "stream",
     "text": [
      "\r",
      "Sampling 4 chains:  84%|████████▍ | 1711/2040 [10:13<02:38,  2.07draws/s]"
     ]
    },
    {
     "name": "stderr",
     "output_type": "stream",
     "text": [
      "\r",
      "Sampling 4 chains:  84%|████████▍ | 1712/2040 [10:14<03:22,  1.62draws/s]"
     ]
    },
    {
     "name": "stderr",
     "output_type": "stream",
     "text": [
      "\r",
      "Sampling 4 chains:  84%|████████▍ | 1715/2040 [10:14<02:38,  2.05draws/s]"
     ]
    },
    {
     "name": "stderr",
     "output_type": "stream",
     "text": [
      "\r",
      "Sampling 4 chains:  84%|████████▍ | 1716/2040 [10:15<03:02,  1.77draws/s]"
     ]
    },
    {
     "name": "stderr",
     "output_type": "stream",
     "text": [
      "\r",
      "Sampling 4 chains:  84%|████████▍ | 1717/2040 [10:15<02:21,  2.28draws/s]"
     ]
    },
    {
     "name": "stderr",
     "output_type": "stream",
     "text": [
      "\r",
      "Sampling 4 chains:  84%|████████▍ | 1719/2040 [10:16<02:08,  2.50draws/s]"
     ]
    },
    {
     "name": "stderr",
     "output_type": "stream",
     "text": [
      "\r",
      "Sampling 4 chains:  84%|████████▍ | 1720/2040 [10:16<02:26,  2.18draws/s]"
     ]
    },
    {
     "name": "stderr",
     "output_type": "stream",
     "text": [
      "\r",
      "Sampling 4 chains:  84%|████████▍ | 1721/2040 [10:17<02:07,  2.50draws/s]"
     ]
    },
    {
     "name": "stderr",
     "output_type": "stream",
     "text": [
      "\r",
      "Sampling 4 chains:  84%|████████▍ | 1723/2040 [10:17<01:58,  2.66draws/s]"
     ]
    },
    {
     "name": "stderr",
     "output_type": "stream",
     "text": [
      "\r",
      "Sampling 4 chains:  85%|████████▍ | 1724/2040 [10:18<02:01,  2.60draws/s]"
     ]
    },
    {
     "name": "stderr",
     "output_type": "stream",
     "text": [
      "\r",
      "Sampling 4 chains:  85%|████████▍ | 1725/2040 [10:18<02:02,  2.58draws/s]"
     ]
    },
    {
     "name": "stderr",
     "output_type": "stream",
     "text": [
      "\r",
      "Sampling 4 chains:  85%|████████▍ | 1727/2040 [10:19<01:57,  2.65draws/s]"
     ]
    },
    {
     "name": "stderr",
     "output_type": "stream",
     "text": [
      "\r",
      "Sampling 4 chains:  85%|████████▍ | 1728/2040 [10:19<01:47,  2.90draws/s]"
     ]
    },
    {
     "name": "stderr",
     "output_type": "stream",
     "text": [
      "\r",
      "Sampling 4 chains:  85%|████████▍ | 1729/2040 [10:19<01:41,  3.06draws/s]"
     ]
    },
    {
     "name": "stderr",
     "output_type": "stream",
     "text": [
      "\r",
      "Sampling 4 chains:  85%|████████▍ | 1730/2040 [10:20<01:38,  3.15draws/s]"
     ]
    },
    {
     "name": "stderr",
     "output_type": "stream",
     "text": [
      "\r",
      "Sampling 4 chains:  85%|████████▍ | 1731/2040 [10:20<02:09,  2.38draws/s]"
     ]
    },
    {
     "name": "stderr",
     "output_type": "stream",
     "text": [
      "\r",
      "Sampling 4 chains:  85%|████████▍ | 1732/2040 [10:20<01:41,  3.05draws/s]"
     ]
    },
    {
     "name": "stderr",
     "output_type": "stream",
     "text": [
      "\r",
      "Sampling 4 chains:  85%|████████▍ | 1733/2040 [10:21<01:36,  3.17draws/s]"
     ]
    },
    {
     "name": "stderr",
     "output_type": "stream",
     "text": [
      "\r",
      "Sampling 4 chains:  85%|████████▌ | 1734/2040 [10:21<01:39,  3.08draws/s]"
     ]
    },
    {
     "name": "stderr",
     "output_type": "stream",
     "text": [
      "\r",
      "Sampling 4 chains:  85%|████████▌ | 1735/2040 [10:22<02:09,  2.35draws/s]"
     ]
    },
    {
     "name": "stderr",
     "output_type": "stream",
     "text": [
      "\r",
      "Sampling 4 chains:  85%|████████▌ | 1736/2040 [10:22<01:47,  2.84draws/s]"
     ]
    },
    {
     "name": "stderr",
     "output_type": "stream",
     "text": [
      "\r",
      "Sampling 4 chains:  85%|████████▌ | 1737/2040 [10:22<01:40,  3.03draws/s]"
     ]
    },
    {
     "name": "stderr",
     "output_type": "stream",
     "text": [
      "\r",
      "Sampling 4 chains:  85%|████████▌ | 1738/2040 [10:23<01:43,  2.92draws/s]"
     ]
    },
    {
     "name": "stderr",
     "output_type": "stream",
     "text": [
      "\r",
      "Sampling 4 chains:  85%|████████▌ | 1739/2040 [10:23<02:09,  2.33draws/s]"
     ]
    },
    {
     "name": "stderr",
     "output_type": "stream",
     "text": [
      "\r",
      "Sampling 4 chains:  85%|████████▌ | 1740/2040 [10:23<01:41,  2.95draws/s]"
     ]
    },
    {
     "name": "stderr",
     "output_type": "stream",
     "text": [
      "\r",
      "Sampling 4 chains:  85%|████████▌ | 1741/2040 [10:23<01:21,  3.65draws/s]"
     ]
    },
    {
     "name": "stderr",
     "output_type": "stream",
     "text": [
      "\r",
      "Sampling 4 chains:  85%|████████▌ | 1742/2040 [10:24<01:35,  3.11draws/s]"
     ]
    },
    {
     "name": "stderr",
     "output_type": "stream",
     "text": [
      "\r",
      "Sampling 4 chains:  85%|████████▌ | 1743/2040 [10:25<02:21,  2.10draws/s]"
     ]
    },
    {
     "name": "stderr",
     "output_type": "stream",
     "text": [
      "\r",
      "Sampling 4 chains:  85%|████████▌ | 1744/2040 [10:25<01:49,  2.71draws/s]"
     ]
    },
    {
     "name": "stderr",
     "output_type": "stream",
     "text": [
      "\r",
      "Sampling 4 chains:  86%|████████▌ | 1746/2040 [10:25<01:36,  3.05draws/s]"
     ]
    },
    {
     "name": "stderr",
     "output_type": "stream",
     "text": [
      "\r",
      "Sampling 4 chains:  86%|████████▌ | 1747/2040 [10:26<02:28,  1.97draws/s]"
     ]
    },
    {
     "name": "stderr",
     "output_type": "stream",
     "text": [
      "\r",
      "Sampling 4 chains:  86%|████████▌ | 1749/2040 [10:26<01:50,  2.64draws/s]"
     ]
    },
    {
     "name": "stderr",
     "output_type": "stream",
     "text": [
      "\r",
      "Sampling 4 chains:  86%|████████▌ | 1750/2040 [10:27<01:39,  2.92draws/s]"
     ]
    },
    {
     "name": "stderr",
     "output_type": "stream",
     "text": [
      "\r",
      "Sampling 4 chains:  86%|████████▌ | 1751/2040 [10:28<02:29,  1.94draws/s]"
     ]
    },
    {
     "name": "stderr",
     "output_type": "stream",
     "text": [
      "\r",
      "Sampling 4 chains:  86%|████████▌ | 1752/2040 [10:28<01:58,  2.43draws/s]"
     ]
    },
    {
     "name": "stderr",
     "output_type": "stream",
     "text": [
      "\r",
      "Sampling 4 chains:  86%|████████▌ | 1753/2040 [10:28<01:36,  2.97draws/s]"
     ]
    },
    {
     "name": "stderr",
     "output_type": "stream",
     "text": [
      "\r",
      "Sampling 4 chains:  86%|████████▌ | 1754/2040 [10:28<01:16,  3.73draws/s]"
     ]
    },
    {
     "name": "stderr",
     "output_type": "stream",
     "text": [
      "\r",
      "Sampling 4 chains:  86%|████████▌ | 1755/2040 [10:29<02:21,  2.02draws/s]"
     ]
    },
    {
     "name": "stderr",
     "output_type": "stream",
     "text": [
      "\r",
      "Sampling 4 chains:  86%|████████▌ | 1756/2040 [10:29<01:56,  2.43draws/s]"
     ]
    },
    {
     "name": "stderr",
     "output_type": "stream",
     "text": [
      "\r",
      "Sampling 4 chains:  86%|████████▌ | 1757/2040 [10:29<01:38,  2.87draws/s]"
     ]
    },
    {
     "name": "stderr",
     "output_type": "stream",
     "text": [
      "\r",
      "Sampling 4 chains:  86%|████████▌ | 1759/2040 [10:30<01:53,  2.49draws/s]"
     ]
    },
    {
     "name": "stderr",
     "output_type": "stream",
     "text": [
      "\r",
      "Sampling 4 chains:  86%|████████▋ | 1760/2040 [10:31<01:40,  2.80draws/s]"
     ]
    },
    {
     "name": "stderr",
     "output_type": "stream",
     "text": [
      "\r",
      "Sampling 4 chains:  86%|████████▋ | 1762/2040 [10:31<01:21,  3.40draws/s]"
     ]
    },
    {
     "name": "stderr",
     "output_type": "stream",
     "text": [
      "\r",
      "Sampling 4 chains:  86%|████████▋ | 1763/2040 [10:32<02:17,  2.02draws/s]"
     ]
    },
    {
     "name": "stderr",
     "output_type": "stream",
     "text": [
      "\r",
      "Sampling 4 chains:  86%|████████▋ | 1764/2040 [10:32<01:55,  2.39draws/s]"
     ]
    },
    {
     "name": "stderr",
     "output_type": "stream",
     "text": [
      "\r",
      "Sampling 4 chains:  87%|████████▋ | 1766/2040 [10:33<01:31,  3.00draws/s]"
     ]
    },
    {
     "name": "stderr",
     "output_type": "stream",
     "text": [
      "\r",
      "Sampling 4 chains:  87%|████████▋ | 1767/2040 [10:33<02:21,  1.92draws/s]"
     ]
    },
    {
     "name": "stderr",
     "output_type": "stream",
     "text": [
      "\r",
      "Sampling 4 chains:  87%|████████▋ | 1768/2040 [10:34<01:58,  2.30draws/s]"
     ]
    },
    {
     "name": "stderr",
     "output_type": "stream",
     "text": [
      "\r",
      "Sampling 4 chains:  87%|████████▋ | 1770/2040 [10:34<01:30,  2.99draws/s]"
     ]
    },
    {
     "name": "stderr",
     "output_type": "stream",
     "text": [
      "\r",
      "Sampling 4 chains:  87%|████████▋ | 1771/2040 [10:35<02:25,  1.85draws/s]"
     ]
    },
    {
     "name": "stderr",
     "output_type": "stream",
     "text": [
      "\r",
      "Sampling 4 chains:  87%|████████▋ | 1772/2040 [10:35<02:00,  2.22draws/s]"
     ]
    },
    {
     "name": "stderr",
     "output_type": "stream",
     "text": [
      "\r",
      "Sampling 4 chains:  87%|████████▋ | 1775/2040 [10:36<01:57,  2.26draws/s]"
     ]
    },
    {
     "name": "stderr",
     "output_type": "stream",
     "text": [
      "\r",
      "Sampling 4 chains:  87%|████████▋ | 1777/2040 [10:37<01:28,  2.96draws/s]"
     ]
    },
    {
     "name": "stderr",
     "output_type": "stream",
     "text": [
      "\r",
      "Sampling 4 chains:  87%|████████▋ | 1779/2040 [10:38<01:51,  2.35draws/s]"
     ]
    },
    {
     "name": "stderr",
     "output_type": "stream",
     "text": [
      "\r",
      "Sampling 4 chains:  87%|████████▋ | 1781/2040 [10:38<01:22,  3.14draws/s]"
     ]
    },
    {
     "name": "stderr",
     "output_type": "stream",
     "text": [
      "\r",
      "Sampling 4 chains:  87%|████████▋ | 1782/2040 [10:38<01:13,  3.49draws/s]"
     ]
    },
    {
     "name": "stderr",
     "output_type": "stream",
     "text": [
      "\r",
      "Sampling 4 chains:  87%|████████▋ | 1783/2040 [10:40<02:37,  1.63draws/s]"
     ]
    },
    {
     "name": "stderr",
     "output_type": "stream",
     "text": [
      "\r",
      "Sampling 4 chains:  87%|████████▋ | 1784/2040 [10:40<02:01,  2.11draws/s]"
     ]
    },
    {
     "name": "stderr",
     "output_type": "stream",
     "text": [
      "\r",
      "Sampling 4 chains:  88%|████████▊ | 1786/2040 [10:40<01:34,  2.70draws/s]"
     ]
    },
    {
     "name": "stderr",
     "output_type": "stream",
     "text": [
      "\r",
      "Sampling 4 chains:  88%|████████▊ | 1787/2040 [10:41<02:42,  1.55draws/s]"
     ]
    },
    {
     "name": "stderr",
     "output_type": "stream",
     "text": [
      "\r",
      "Sampling 4 chains:  88%|████████▊ | 1789/2040 [10:41<01:57,  2.13draws/s]"
     ]
    },
    {
     "name": "stderr",
     "output_type": "stream",
     "text": [
      "\r",
      "Sampling 4 chains:  88%|████████▊ | 1790/2040 [10:42<01:34,  2.65draws/s]"
     ]
    },
    {
     "name": "stderr",
     "output_type": "stream",
     "text": [
      "\r",
      "Sampling 4 chains:  88%|████████▊ | 1791/2040 [10:43<02:31,  1.65draws/s]"
     ]
    },
    {
     "name": "stderr",
     "output_type": "stream",
     "text": [
      "\r",
      "Sampling 4 chains:  88%|████████▊ | 1793/2040 [10:43<01:55,  2.15draws/s]"
     ]
    },
    {
     "name": "stderr",
     "output_type": "stream",
     "text": [
      "\r",
      "Sampling 4 chains:  88%|████████▊ | 1794/2040 [10:43<01:31,  2.69draws/s]"
     ]
    },
    {
     "name": "stderr",
     "output_type": "stream",
     "text": [
      "\r",
      "Sampling 4 chains:  88%|████████▊ | 1795/2040 [10:44<02:32,  1.61draws/s]"
     ]
    },
    {
     "name": "stderr",
     "output_type": "stream",
     "text": [
      "\r",
      "Sampling 4 chains:  88%|████████▊ | 1796/2040 [10:45<02:02,  1.99draws/s]"
     ]
    },
    {
     "name": "stderr",
     "output_type": "stream",
     "text": [
      "\r",
      "Sampling 4 chains:  88%|████████▊ | 1797/2040 [10:45<01:41,  2.39draws/s]"
     ]
    },
    {
     "name": "stderr",
     "output_type": "stream",
     "text": [
      "\r",
      "Sampling 4 chains:  88%|████████▊ | 1798/2040 [10:45<01:32,  2.62draws/s]"
     ]
    },
    {
     "name": "stderr",
     "output_type": "stream",
     "text": [
      "\r",
      "Sampling 4 chains:  88%|████████▊ | 1799/2040 [10:46<02:17,  1.76draws/s]"
     ]
    },
    {
     "name": "stderr",
     "output_type": "stream",
     "text": [
      "\r",
      "Sampling 4 chains:  88%|████████▊ | 1801/2040 [10:47<02:05,  1.91draws/s]"
     ]
    },
    {
     "name": "stderr",
     "output_type": "stream",
     "text": [
      "\r",
      "Sampling 4 chains:  88%|████████▊ | 1802/2040 [10:47<01:51,  2.13draws/s]"
     ]
    },
    {
     "name": "stderr",
     "output_type": "stream",
     "text": [
      "\r",
      "Sampling 4 chains:  88%|████████▊ | 1803/2040 [10:48<02:12,  1.79draws/s]"
     ]
    },
    {
     "name": "stderr",
     "output_type": "stream",
     "text": [
      "\r",
      "Sampling 4 chains:  88%|████████▊ | 1804/2040 [10:48<01:53,  2.08draws/s]"
     ]
    },
    {
     "name": "stderr",
     "output_type": "stream",
     "text": [
      "\r",
      "Sampling 4 chains:  88%|████████▊ | 1805/2040 [10:49<01:36,  2.45draws/s]"
     ]
    },
    {
     "name": "stderr",
     "output_type": "stream",
     "text": [
      "\r",
      "Sampling 4 chains:  89%|████████▊ | 1806/2040 [10:50<02:18,  1.69draws/s]"
     ]
    },
    {
     "name": "stderr",
     "output_type": "stream",
     "text": [
      "\r",
      "Sampling 4 chains:  89%|████████▊ | 1808/2040 [10:50<02:03,  1.88draws/s]"
     ]
    },
    {
     "name": "stderr",
     "output_type": "stream",
     "text": [
      "\r",
      "Sampling 4 chains:  89%|████████▊ | 1809/2040 [10:51<02:10,  1.78draws/s]"
     ]
    },
    {
     "name": "stderr",
     "output_type": "stream",
     "text": [
      "\r",
      "Sampling 4 chains:  89%|████████▊ | 1810/2040 [10:52<02:22,  1.61draws/s]"
     ]
    },
    {
     "name": "stderr",
     "output_type": "stream",
     "text": [
      "\r",
      "Sampling 4 chains:  89%|████████▉ | 1811/2040 [10:52<02:00,  1.90draws/s]"
     ]
    },
    {
     "name": "stderr",
     "output_type": "stream",
     "text": [
      "\r",
      "Sampling 4 chains:  89%|████████▉ | 1812/2040 [10:52<01:32,  2.45draws/s]"
     ]
    },
    {
     "name": "stderr",
     "output_type": "stream",
     "text": [
      "\r",
      "Sampling 4 chains:  89%|████████▉ | 1813/2040 [10:53<01:53,  1.99draws/s]"
     ]
    },
    {
     "name": "stderr",
     "output_type": "stream",
     "text": [
      "\r",
      "Sampling 4 chains:  89%|████████▉ | 1814/2040 [10:53<01:46,  2.13draws/s]"
     ]
    },
    {
     "name": "stderr",
     "output_type": "stream",
     "text": [
      "\r",
      "Sampling 4 chains:  89%|████████▉ | 1815/2040 [10:54<01:40,  2.23draws/s]"
     ]
    },
    {
     "name": "stderr",
     "output_type": "stream",
     "text": [
      "\r",
      "Sampling 4 chains:  89%|████████▉ | 1816/2040 [10:54<01:17,  2.88draws/s]"
     ]
    },
    {
     "name": "stderr",
     "output_type": "stream",
     "text": [
      "\r",
      "Sampling 4 chains:  89%|████████▉ | 1817/2040 [10:55<01:49,  2.04draws/s]"
     ]
    },
    {
     "name": "stderr",
     "output_type": "stream",
     "text": [
      "\r",
      "Sampling 4 chains:  89%|████████▉ | 1818/2040 [10:55<01:32,  2.41draws/s]"
     ]
    },
    {
     "name": "stderr",
     "output_type": "stream",
     "text": [
      "\r",
      "Sampling 4 chains:  89%|████████▉ | 1819/2040 [10:55<01:38,  2.25draws/s]"
     ]
    },
    {
     "name": "stderr",
     "output_type": "stream",
     "text": [
      "\r",
      "Sampling 4 chains:  89%|████████▉ | 1820/2040 [10:56<01:20,  2.72draws/s]"
     ]
    },
    {
     "name": "stderr",
     "output_type": "stream",
     "text": [
      "\r",
      "Sampling 4 chains:  89%|████████▉ | 1821/2040 [10:56<01:46,  2.06draws/s]"
     ]
    },
    {
     "name": "stderr",
     "output_type": "stream",
     "text": [
      "\r",
      "Sampling 4 chains:  89%|████████▉ | 1822/2040 [10:57<01:44,  2.09draws/s]"
     ]
    },
    {
     "name": "stderr",
     "output_type": "stream",
     "text": [
      "\r",
      "Sampling 4 chains:  89%|████████▉ | 1823/2040 [10:57<01:33,  2.33draws/s]"
     ]
    },
    {
     "name": "stderr",
     "output_type": "stream",
     "text": [
      "\r",
      "Sampling 4 chains:  89%|████████▉ | 1824/2040 [10:57<01:18,  2.76draws/s]"
     ]
    },
    {
     "name": "stderr",
     "output_type": "stream",
     "text": [
      "\r",
      "Sampling 4 chains:  89%|████████▉ | 1825/2040 [10:58<01:40,  2.14draws/s]"
     ]
    },
    {
     "name": "stderr",
     "output_type": "stream",
     "text": [
      "\r",
      "Sampling 4 chains:  90%|████████▉ | 1826/2040 [10:58<01:34,  2.27draws/s]"
     ]
    },
    {
     "name": "stderr",
     "output_type": "stream",
     "text": [
      "\r",
      "Sampling 4 chains:  90%|████████▉ | 1827/2040 [10:59<01:26,  2.46draws/s]"
     ]
    },
    {
     "name": "stderr",
     "output_type": "stream",
     "text": [
      "\r",
      "Sampling 4 chains:  90%|████████▉ | 1828/2040 [10:59<01:10,  3.02draws/s]"
     ]
    },
    {
     "name": "stderr",
     "output_type": "stream",
     "text": [
      "\r",
      "Sampling 4 chains:  90%|████████▉ | 1829/2040 [11:00<01:35,  2.21draws/s]"
     ]
    },
    {
     "name": "stderr",
     "output_type": "stream",
     "text": [
      "\r",
      "Sampling 4 chains:  90%|████████▉ | 1830/2040 [11:00<01:26,  2.43draws/s]"
     ]
    },
    {
     "name": "stderr",
     "output_type": "stream",
     "text": [
      "\r",
      "Sampling 4 chains:  90%|████████▉ | 1831/2040 [11:00<01:21,  2.56draws/s]"
     ]
    },
    {
     "name": "stderr",
     "output_type": "stream",
     "text": [
      "\r",
      "Sampling 4 chains:  90%|████████▉ | 1832/2040 [11:00<01:06,  3.15draws/s]"
     ]
    },
    {
     "name": "stderr",
     "output_type": "stream",
     "text": [
      "\r",
      "Sampling 4 chains:  90%|████████▉ | 1833/2040 [11:01<01:30,  2.28draws/s]"
     ]
    },
    {
     "name": "stderr",
     "output_type": "stream",
     "text": [
      "\r",
      "Sampling 4 chains:  90%|████████▉ | 1834/2040 [11:01<01:17,  2.66draws/s]"
     ]
    },
    {
     "name": "stderr",
     "output_type": "stream",
     "text": [
      "\r",
      "Sampling 4 chains:  90%|████████▉ | 1835/2040 [11:02<01:16,  2.69draws/s]"
     ]
    },
    {
     "name": "stderr",
     "output_type": "stream",
     "text": [
      "\r",
      "Sampling 4 chains:  90%|█████████ | 1836/2040 [11:02<01:09,  2.94draws/s]"
     ]
    },
    {
     "name": "stderr",
     "output_type": "stream",
     "text": [
      "\r",
      "Sampling 4 chains:  90%|█████████ | 1837/2040 [11:03<01:25,  2.39draws/s]"
     ]
    },
    {
     "name": "stderr",
     "output_type": "stream",
     "text": [
      "\r",
      "Sampling 4 chains:  90%|█████████ | 1838/2040 [11:03<01:17,  2.59draws/s]"
     ]
    },
    {
     "name": "stderr",
     "output_type": "stream",
     "text": [
      "\r",
      "Sampling 4 chains:  90%|█████████ | 1839/2040 [11:03<01:18,  2.56draws/s]"
     ]
    },
    {
     "name": "stderr",
     "output_type": "stream",
     "text": [
      "\r",
      "Sampling 4 chains:  90%|█████████ | 1840/2040 [11:04<01:06,  3.03draws/s]"
     ]
    },
    {
     "name": "stderr",
     "output_type": "stream",
     "text": [
      "\r",
      "Sampling 4 chains:  90%|█████████ | 1841/2040 [11:04<01:30,  2.20draws/s]"
     ]
    },
    {
     "name": "stderr",
     "output_type": "stream",
     "text": [
      "\r",
      "Sampling 4 chains:  90%|█████████ | 1842/2040 [11:04<01:12,  2.73draws/s]"
     ]
    },
    {
     "name": "stderr",
     "output_type": "stream",
     "text": [
      "\r",
      "Sampling 4 chains:  90%|█████████ | 1843/2040 [11:05<01:41,  1.94draws/s]"
     ]
    },
    {
     "name": "stderr",
     "output_type": "stream",
     "text": [
      "\r",
      "Sampling 4 chains:  90%|█████████ | 1844/2040 [11:05<01:21,  2.41draws/s]"
     ]
    },
    {
     "name": "stderr",
     "output_type": "stream",
     "text": [
      "\r",
      "Sampling 4 chains:  90%|█████████ | 1845/2040 [11:06<01:25,  2.28draws/s]"
     ]
    },
    {
     "name": "stderr",
     "output_type": "stream",
     "text": [
      "\r",
      "Sampling 4 chains:  90%|█████████ | 1846/2040 [11:06<01:09,  2.79draws/s]"
     ]
    },
    {
     "name": "stderr",
     "output_type": "stream",
     "text": [
      "\r",
      "Sampling 4 chains:  91%|█████████ | 1847/2040 [11:07<01:37,  1.97draws/s]"
     ]
    },
    {
     "name": "stderr",
     "output_type": "stream",
     "text": [
      "\r",
      "Sampling 4 chains:  91%|█████████ | 1849/2040 [11:07<01:17,  2.46draws/s]"
     ]
    },
    {
     "name": "stderr",
     "output_type": "stream",
     "text": [
      "\r",
      "Sampling 4 chains:  91%|█████████ | 1850/2040 [11:08<01:13,  2.59draws/s]"
     ]
    },
    {
     "name": "stderr",
     "output_type": "stream",
     "text": [
      "\r",
      "Sampling 4 chains:  91%|█████████ | 1851/2040 [11:08<01:35,  1.98draws/s]"
     ]
    },
    {
     "name": "stderr",
     "output_type": "stream",
     "text": [
      "\r",
      "Sampling 4 chains:  91%|█████████ | 1852/2040 [11:09<01:19,  2.35draws/s]"
     ]
    },
    {
     "name": "stderr",
     "output_type": "stream",
     "text": [
      "\r",
      "Sampling 4 chains:  91%|█████████ | 1854/2040 [11:09<01:15,  2.47draws/s]"
     ]
    },
    {
     "name": "stderr",
     "output_type": "stream",
     "text": [
      "\r",
      "Sampling 4 chains:  91%|█████████ | 1855/2040 [11:10<01:32,  2.00draws/s]"
     ]
    },
    {
     "name": "stderr",
     "output_type": "stream",
     "text": [
      "\r",
      "Sampling 4 chains:  91%|█████████ | 1856/2040 [11:10<01:14,  2.47draws/s]"
     ]
    },
    {
     "name": "stderr",
     "output_type": "stream",
     "text": [
      "\r",
      "Sampling 4 chains:  91%|█████████ | 1858/2040 [11:11<01:10,  2.57draws/s]"
     ]
    },
    {
     "name": "stderr",
     "output_type": "stream",
     "text": [
      "\r",
      "Sampling 4 chains:  91%|█████████ | 1859/2040 [11:12<01:20,  2.25draws/s]"
     ]
    },
    {
     "name": "stderr",
     "output_type": "stream",
     "text": [
      "\r",
      "Sampling 4 chains:  91%|█████████ | 1860/2040 [11:12<01:11,  2.52draws/s]"
     ]
    },
    {
     "name": "stderr",
     "output_type": "stream",
     "text": [
      "\r",
      "Sampling 4 chains:  91%|█████████ | 1861/2040 [11:12<01:17,  2.30draws/s]"
     ]
    },
    {
     "name": "stderr",
     "output_type": "stream",
     "text": [
      "\r",
      "Sampling 4 chains:  91%|█████████▏| 1862/2040 [11:13<01:04,  2.77draws/s]"
     ]
    },
    {
     "name": "stderr",
     "output_type": "stream",
     "text": [
      "\r",
      "Sampling 4 chains:  91%|█████████▏| 1863/2040 [11:13<01:24,  2.09draws/s]"
     ]
    },
    {
     "name": "stderr",
     "output_type": "stream",
     "text": [
      "\r",
      "Sampling 4 chains:  91%|█████████▏| 1864/2040 [11:14<01:11,  2.48draws/s]"
     ]
    },
    {
     "name": "stderr",
     "output_type": "stream",
     "text": [
      "\r",
      "Sampling 4 chains:  91%|█████████▏| 1865/2040 [11:14<01:14,  2.36draws/s]"
     ]
    },
    {
     "name": "stderr",
     "output_type": "stream",
     "text": [
      "\r",
      "Sampling 4 chains:  92%|█████████▏| 1867/2040 [11:15<01:12,  2.40draws/s]"
     ]
    },
    {
     "name": "stderr",
     "output_type": "stream",
     "text": [
      "\r",
      "Sampling 4 chains:  92%|█████████▏| 1868/2040 [11:15<01:08,  2.52draws/s]"
     ]
    },
    {
     "name": "stderr",
     "output_type": "stream",
     "text": [
      "\r",
      "Sampling 4 chains:  92%|█████████▏| 1869/2040 [11:16<01:04,  2.66draws/s]"
     ]
    },
    {
     "name": "stderr",
     "output_type": "stream",
     "text": [
      "\r",
      "Sampling 4 chains:  92%|█████████▏| 1871/2040 [11:16<01:07,  2.52draws/s]"
     ]
    },
    {
     "name": "stderr",
     "output_type": "stream",
     "text": [
      "\r",
      "Sampling 4 chains:  92%|█████████▏| 1872/2040 [11:17<00:57,  2.91draws/s]"
     ]
    },
    {
     "name": "stderr",
     "output_type": "stream",
     "text": [
      "\r",
      "Sampling 4 chains:  92%|█████████▏| 1873/2040 [11:17<00:58,  2.87draws/s]"
     ]
    },
    {
     "name": "stderr",
     "output_type": "stream",
     "text": [
      "\r",
      "Sampling 4 chains:  92%|█████████▏| 1875/2040 [11:18<01:02,  2.63draws/s]"
     ]
    },
    {
     "name": "stderr",
     "output_type": "stream",
     "text": [
      "\r",
      "Sampling 4 chains:  92%|█████████▏| 1876/2040 [11:18<00:51,  3.22draws/s]"
     ]
    },
    {
     "name": "stderr",
     "output_type": "stream",
     "text": [
      "\r",
      "Sampling 4 chains:  92%|█████████▏| 1877/2040 [11:18<00:54,  3.01draws/s]"
     ]
    },
    {
     "name": "stderr",
     "output_type": "stream",
     "text": [
      "\r",
      "Sampling 4 chains:  92%|█████████▏| 1878/2040 [11:19<00:44,  3.64draws/s]"
     ]
    },
    {
     "name": "stderr",
     "output_type": "stream",
     "text": [
      "\r",
      "Sampling 4 chains:  92%|█████████▏| 1879/2040 [11:19<01:07,  2.39draws/s]"
     ]
    },
    {
     "name": "stderr",
     "output_type": "stream",
     "text": [
      "\r",
      "Sampling 4 chains:  92%|█████████▏| 1880/2040 [11:20<00:54,  2.93draws/s]"
     ]
    },
    {
     "name": "stderr",
     "output_type": "stream",
     "text": [
      "\r",
      "Sampling 4 chains:  92%|█████████▏| 1881/2040 [11:20<00:55,  2.87draws/s]"
     ]
    },
    {
     "name": "stderr",
     "output_type": "stream",
     "text": [
      "\r",
      "Sampling 4 chains:  92%|█████████▏| 1882/2040 [11:20<00:48,  3.27draws/s]"
     ]
    },
    {
     "name": "stderr",
     "output_type": "stream",
     "text": [
      "\r",
      "Sampling 4 chains:  92%|█████████▏| 1883/2040 [11:21<01:09,  2.26draws/s]"
     ]
    },
    {
     "name": "stderr",
     "output_type": "stream",
     "text": [
      "\r",
      "Sampling 4 chains:  92%|█████████▏| 1885/2040 [11:21<01:02,  2.49draws/s]"
     ]
    },
    {
     "name": "stderr",
     "output_type": "stream",
     "text": [
      "\r",
      "Sampling 4 chains:  92%|█████████▎| 1887/2040 [11:22<01:00,  2.52draws/s]"
     ]
    },
    {
     "name": "stderr",
     "output_type": "stream",
     "text": [
      "\r",
      "Sampling 4 chains:  93%|█████████▎| 1888/2040 [11:22<00:48,  3.11draws/s]"
     ]
    },
    {
     "name": "stderr",
     "output_type": "stream",
     "text": [
      "\r",
      "Sampling 4 chains:  93%|█████████▎| 1889/2040 [11:23<00:59,  2.53draws/s]"
     ]
    },
    {
     "name": "stderr",
     "output_type": "stream",
     "text": [
      "\r",
      "Sampling 4 chains:  93%|█████████▎| 1890/2040 [11:23<00:46,  3.22draws/s]"
     ]
    },
    {
     "name": "stderr",
     "output_type": "stream",
     "text": [
      "\r",
      "Sampling 4 chains:  93%|█████████▎| 1891/2040 [11:24<00:59,  2.51draws/s]"
     ]
    },
    {
     "name": "stderr",
     "output_type": "stream",
     "text": [
      "\r",
      "Sampling 4 chains:  93%|█████████▎| 1892/2040 [11:24<00:49,  3.00draws/s]"
     ]
    },
    {
     "name": "stderr",
     "output_type": "stream",
     "text": [
      "\r",
      "Sampling 4 chains:  93%|█████████▎| 1893/2040 [11:25<01:03,  2.31draws/s]"
     ]
    },
    {
     "name": "stderr",
     "output_type": "stream",
     "text": [
      "\r",
      "Sampling 4 chains:  93%|█████████▎| 1895/2040 [11:25<00:58,  2.47draws/s]"
     ]
    },
    {
     "name": "stderr",
     "output_type": "stream",
     "text": [
      "\r",
      "Sampling 4 chains:  93%|█████████▎| 1896/2040 [11:25<00:49,  2.93draws/s]"
     ]
    },
    {
     "name": "stderr",
     "output_type": "stream",
     "text": [
      "\r",
      "Sampling 4 chains:  93%|█████████▎| 1897/2040 [11:26<01:01,  2.31draws/s]"
     ]
    },
    {
     "name": "stderr",
     "output_type": "stream",
     "text": [
      "\r",
      "Sampling 4 chains:  93%|█████████▎| 1899/2040 [11:27<00:56,  2.48draws/s]"
     ]
    },
    {
     "name": "stderr",
     "output_type": "stream",
     "text": [
      "\r",
      "Sampling 4 chains:  93%|█████████▎| 1900/2040 [11:27<00:50,  2.76draws/s]"
     ]
    },
    {
     "name": "stderr",
     "output_type": "stream",
     "text": [
      "\r",
      "Sampling 4 chains:  93%|█████████▎| 1901/2040 [11:27<00:56,  2.44draws/s]"
     ]
    },
    {
     "name": "stderr",
     "output_type": "stream",
     "text": [
      "\r",
      "Sampling 4 chains:  93%|█████████▎| 1903/2040 [11:28<00:54,  2.53draws/s]"
     ]
    },
    {
     "name": "stderr",
     "output_type": "stream",
     "text": [
      "\r",
      "Sampling 4 chains:  93%|█████████▎| 1904/2040 [11:28<00:48,  2.80draws/s]"
     ]
    },
    {
     "name": "stderr",
     "output_type": "stream",
     "text": [
      "\r",
      "Sampling 4 chains:  93%|█████████▎| 1905/2040 [11:29<00:56,  2.39draws/s]"
     ]
    },
    {
     "name": "stderr",
     "output_type": "stream",
     "text": [
      "\r",
      "Sampling 4 chains:  93%|█████████▎| 1906/2040 [11:29<00:45,  2.95draws/s]"
     ]
    },
    {
     "name": "stderr",
     "output_type": "stream",
     "text": [
      "\r",
      "Sampling 4 chains:  93%|█████████▎| 1907/2040 [11:30<00:47,  2.82draws/s]"
     ]
    },
    {
     "name": "stderr",
     "output_type": "stream",
     "text": [
      "\r",
      "Sampling 4 chains:  94%|█████████▎| 1908/2040 [11:30<00:43,  3.05draws/s]"
     ]
    },
    {
     "name": "stderr",
     "output_type": "stream",
     "text": [
      "\r",
      "Sampling 4 chains:  94%|█████████▎| 1909/2040 [11:30<00:54,  2.42draws/s]"
     ]
    },
    {
     "name": "stderr",
     "output_type": "stream",
     "text": [
      "\r",
      "Sampling 4 chains:  94%|█████████▎| 1910/2040 [11:31<00:48,  2.66draws/s]"
     ]
    },
    {
     "name": "stderr",
     "output_type": "stream",
     "text": [
      "\r",
      "Sampling 4 chains:  94%|█████████▎| 1911/2040 [11:31<00:49,  2.62draws/s]"
     ]
    },
    {
     "name": "stderr",
     "output_type": "stream",
     "text": [
      "\r",
      "Sampling 4 chains:  94%|█████████▎| 1912/2040 [11:31<00:43,  2.93draws/s]"
     ]
    },
    {
     "name": "stderr",
     "output_type": "stream",
     "text": [
      "\r",
      "Sampling 4 chains:  94%|█████████▍| 1913/2040 [11:32<00:49,  2.57draws/s]"
     ]
    },
    {
     "name": "stderr",
     "output_type": "stream",
     "text": [
      "\r",
      "Sampling 4 chains:  94%|█████████▍| 1914/2040 [11:32<00:53,  2.37draws/s]"
     ]
    },
    {
     "name": "stderr",
     "output_type": "stream",
     "text": [
      "\r",
      "Sampling 4 chains:  94%|█████████▍| 1915/2040 [11:33<00:49,  2.52draws/s]"
     ]
    },
    {
     "name": "stderr",
     "output_type": "stream",
     "text": [
      "\r",
      "Sampling 4 chains:  94%|█████████▍| 1916/2040 [11:33<00:44,  2.79draws/s]"
     ]
    },
    {
     "name": "stderr",
     "output_type": "stream",
     "text": [
      "\r",
      "Sampling 4 chains:  94%|█████████▍| 1917/2040 [11:33<00:45,  2.68draws/s]"
     ]
    },
    {
     "name": "stderr",
     "output_type": "stream",
     "text": [
      "\r",
      "Sampling 4 chains:  94%|█████████▍| 1918/2040 [11:34<00:46,  2.64draws/s]"
     ]
    },
    {
     "name": "stderr",
     "output_type": "stream",
     "text": [
      "\r",
      "Sampling 4 chains:  94%|█████████▍| 1919/2040 [11:34<00:44,  2.75draws/s]"
     ]
    },
    {
     "name": "stderr",
     "output_type": "stream",
     "text": [
      "\r",
      "Sampling 4 chains:  94%|█████████▍| 1920/2040 [11:34<00:43,  2.78draws/s]"
     ]
    },
    {
     "name": "stderr",
     "output_type": "stream",
     "text": [
      "\r",
      "Sampling 4 chains:  94%|█████████▍| 1921/2040 [11:35<00:41,  2.89draws/s]"
     ]
    },
    {
     "name": "stderr",
     "output_type": "stream",
     "text": [
      "\r",
      "Sampling 4 chains:  94%|█████████▍| 1922/2040 [11:36<00:54,  2.17draws/s]"
     ]
    },
    {
     "name": "stderr",
     "output_type": "stream",
     "text": [
      "\r",
      "Sampling 4 chains:  94%|█████████▍| 1923/2040 [11:36<00:53,  2.17draws/s]"
     ]
    },
    {
     "name": "stderr",
     "output_type": "stream",
     "text": [
      "\r",
      "Sampling 4 chains:  94%|█████████▍| 1924/2040 [11:36<00:48,  2.41draws/s]"
     ]
    },
    {
     "name": "stderr",
     "output_type": "stream",
     "text": [
      "\r",
      "Sampling 4 chains:  94%|█████████▍| 1925/2040 [11:37<00:56,  2.04draws/s]"
     ]
    },
    {
     "name": "stderr",
     "output_type": "stream",
     "text": [
      "\r",
      "Sampling 4 chains:  94%|█████████▍| 1926/2040 [11:37<00:48,  2.33draws/s]"
     ]
    },
    {
     "name": "stderr",
     "output_type": "stream",
     "text": [
      "\r",
      "Sampling 4 chains:  94%|█████████▍| 1927/2040 [11:38<00:49,  2.27draws/s]"
     ]
    },
    {
     "name": "stderr",
     "output_type": "stream",
     "text": [
      "\r",
      "Sampling 4 chains:  95%|█████████▍| 1928/2040 [11:38<00:57,  1.95draws/s]"
     ]
    },
    {
     "name": "stderr",
     "output_type": "stream",
     "text": [
      "\r",
      "Sampling 4 chains:  95%|█████████▍| 1929/2040 [11:39<00:52,  2.13draws/s]"
     ]
    },
    {
     "name": "stderr",
     "output_type": "stream",
     "text": [
      "\r",
      "Sampling 4 chains:  95%|█████████▍| 1930/2040 [11:39<00:48,  2.26draws/s]"
     ]
    },
    {
     "name": "stderr",
     "output_type": "stream",
     "text": [
      "\r",
      "Sampling 4 chains:  95%|█████████▍| 1931/2040 [11:40<00:54,  2.02draws/s]"
     ]
    },
    {
     "name": "stderr",
     "output_type": "stream",
     "text": [
      "\r",
      "Sampling 4 chains:  95%|█████████▍| 1932/2040 [11:40<00:46,  2.30draws/s]"
     ]
    },
    {
     "name": "stderr",
     "output_type": "stream",
     "text": [
      "\r",
      "Sampling 4 chains:  95%|█████████▍| 1933/2040 [11:40<00:46,  2.32draws/s]"
     ]
    },
    {
     "name": "stderr",
     "output_type": "stream",
     "text": [
      "\r",
      "Sampling 4 chains:  95%|█████████▍| 1934/2040 [11:41<00:50,  2.08draws/s]"
     ]
    },
    {
     "name": "stderr",
     "output_type": "stream",
     "text": [
      "\r",
      "Sampling 4 chains:  95%|█████████▍| 1935/2040 [11:41<00:45,  2.31draws/s]"
     ]
    },
    {
     "name": "stderr",
     "output_type": "stream",
     "text": [
      "\r",
      "Sampling 4 chains:  95%|█████████▍| 1936/2040 [11:42<00:48,  2.15draws/s]"
     ]
    },
    {
     "name": "stderr",
     "output_type": "stream",
     "text": [
      "\r",
      "Sampling 4 chains:  95%|█████████▍| 1937/2040 [11:43<00:52,  1.95draws/s]"
     ]
    },
    {
     "name": "stderr",
     "output_type": "stream",
     "text": [
      "\r",
      "Sampling 4 chains:  95%|█████████▌| 1938/2040 [11:43<00:42,  2.41draws/s]"
     ]
    },
    {
     "name": "stderr",
     "output_type": "stream",
     "text": [
      "\r",
      "Sampling 4 chains:  95%|█████████▌| 1939/2040 [11:43<00:48,  2.09draws/s]"
     ]
    },
    {
     "name": "stderr",
     "output_type": "stream",
     "text": [
      "\r",
      "Sampling 4 chains:  95%|█████████▌| 1940/2040 [11:44<00:50,  1.99draws/s]"
     ]
    },
    {
     "name": "stderr",
     "output_type": "stream",
     "text": [
      "\r",
      "Sampling 4 chains:  95%|█████████▌| 1941/2040 [11:44<00:39,  2.53draws/s]"
     ]
    },
    {
     "name": "stderr",
     "output_type": "stream",
     "text": [
      "\r",
      "Sampling 4 chains:  95%|█████████▌| 1942/2040 [11:45<00:46,  2.11draws/s]"
     ]
    },
    {
     "name": "stderr",
     "output_type": "stream",
     "text": [
      "\r",
      "Sampling 4 chains:  95%|█████████▌| 1943/2040 [11:45<00:50,  1.94draws/s]"
     ]
    },
    {
     "name": "stderr",
     "output_type": "stream",
     "text": [
      "\r",
      "Sampling 4 chains:  95%|█████████▌| 1944/2040 [11:45<00:37,  2.55draws/s]"
     ]
    },
    {
     "name": "stderr",
     "output_type": "stream",
     "text": [
      "\r",
      "Sampling 4 chains:  95%|█████████▌| 1945/2040 [11:46<00:44,  2.12draws/s]"
     ]
    },
    {
     "name": "stderr",
     "output_type": "stream",
     "text": [
      "\r",
      "Sampling 4 chains:  95%|█████████▌| 1946/2040 [11:47<00:46,  2.02draws/s]"
     ]
    },
    {
     "name": "stderr",
     "output_type": "stream",
     "text": [
      "\r",
      "Sampling 4 chains:  95%|█████████▌| 1947/2040 [11:47<00:38,  2.44draws/s]"
     ]
    },
    {
     "name": "stderr",
     "output_type": "stream",
     "text": [
      "\r",
      "Sampling 4 chains:  95%|█████████▌| 1948/2040 [11:48<00:44,  2.08draws/s]"
     ]
    },
    {
     "name": "stderr",
     "output_type": "stream",
     "text": [
      "\r",
      "Sampling 4 chains:  96%|█████████▌| 1949/2040 [11:48<00:44,  2.05draws/s]"
     ]
    },
    {
     "name": "stderr",
     "output_type": "stream",
     "text": [
      "\r",
      "Sampling 4 chains:  96%|█████████▌| 1950/2040 [11:48<00:35,  2.57draws/s]"
     ]
    },
    {
     "name": "stderr",
     "output_type": "stream",
     "text": [
      "\r",
      "Sampling 4 chains:  96%|█████████▌| 1951/2040 [11:49<00:43,  2.07draws/s]"
     ]
    },
    {
     "name": "stderr",
     "output_type": "stream",
     "text": [
      "\r",
      "Sampling 4 chains:  96%|█████████▌| 1952/2040 [11:49<00:43,  2.04draws/s]"
     ]
    },
    {
     "name": "stderr",
     "output_type": "stream",
     "text": [
      "\r",
      "Sampling 4 chains:  96%|█████████▌| 1953/2040 [11:50<00:34,  2.53draws/s]"
     ]
    },
    {
     "name": "stderr",
     "output_type": "stream",
     "text": [
      "\r",
      "Sampling 4 chains:  96%|█████████▌| 1954/2040 [11:50<00:40,  2.11draws/s]"
     ]
    },
    {
     "name": "stderr",
     "output_type": "stream",
     "text": [
      "\r",
      "Sampling 4 chains:  96%|█████████▌| 1955/2040 [11:51<00:41,  2.02draws/s]"
     ]
    },
    {
     "name": "stderr",
     "output_type": "stream",
     "text": [
      "\r",
      "Sampling 4 chains:  96%|█████████▌| 1956/2040 [11:51<00:33,  2.53draws/s]"
     ]
    },
    {
     "name": "stderr",
     "output_type": "stream",
     "text": [
      "\r",
      "Sampling 4 chains:  96%|█████████▌| 1957/2040 [11:52<00:39,  2.11draws/s]"
     ]
    },
    {
     "name": "stderr",
     "output_type": "stream",
     "text": [
      "\r",
      "Sampling 4 chains:  96%|█████████▌| 1958/2040 [11:52<00:41,  1.98draws/s]"
     ]
    },
    {
     "name": "stderr",
     "output_type": "stream",
     "text": [
      "\r",
      "Sampling 4 chains:  96%|█████████▌| 1960/2040 [11:53<00:37,  2.11draws/s]"
     ]
    },
    {
     "name": "stderr",
     "output_type": "stream",
     "text": [
      "\r",
      "Sampling 4 chains:  96%|█████████▌| 1961/2040 [11:54<00:40,  1.93draws/s]"
     ]
    },
    {
     "name": "stderr",
     "output_type": "stream",
     "text": [
      "\r",
      "Sampling 4 chains:  96%|█████████▌| 1963/2040 [11:54<00:37,  2.04draws/s]"
     ]
    },
    {
     "name": "stderr",
     "output_type": "stream",
     "text": [
      "\r",
      "Sampling 4 chains:  96%|█████████▋| 1964/2040 [11:55<00:39,  1.95draws/s]"
     ]
    },
    {
     "name": "stderr",
     "output_type": "stream",
     "text": [
      "\r",
      "Sampling 4 chains:  96%|█████████▋| 1966/2040 [11:56<00:35,  2.08draws/s]"
     ]
    },
    {
     "name": "stderr",
     "output_type": "stream",
     "text": [
      "\r",
      "Sampling 4 chains:  96%|█████████▋| 1967/2040 [11:56<00:36,  1.99draws/s]"
     ]
    },
    {
     "name": "stderr",
     "output_type": "stream",
     "text": [
      "\r",
      "Sampling 4 chains:  96%|█████████▋| 1968/2040 [11:56<00:27,  2.60draws/s]"
     ]
    },
    {
     "name": "stderr",
     "output_type": "stream",
     "text": [
      "\r",
      "Sampling 4 chains:  97%|█████████▋| 1969/2040 [11:57<00:33,  2.15draws/s]"
     ]
    },
    {
     "name": "stderr",
     "output_type": "stream",
     "text": [
      "\r",
      "Sampling 4 chains:  97%|█████████▋| 1970/2040 [11:58<00:36,  1.94draws/s]"
     ]
    },
    {
     "name": "stderr",
     "output_type": "stream",
     "text": [
      "\r",
      "Sampling 4 chains:  97%|█████████▋| 1971/2040 [11:58<00:27,  2.55draws/s]"
     ]
    },
    {
     "name": "stderr",
     "output_type": "stream",
     "text": [
      "\r",
      "Sampling 4 chains:  97%|█████████▋| 1972/2040 [11:59<00:32,  2.10draws/s]"
     ]
    },
    {
     "name": "stderr",
     "output_type": "stream",
     "text": [
      "\r",
      "Sampling 4 chains:  97%|█████████▋| 1973/2040 [11:59<00:35,  1.91draws/s]"
     ]
    },
    {
     "name": "stderr",
     "output_type": "stream",
     "text": [
      "\r",
      "Sampling 4 chains:  97%|█████████▋| 1974/2040 [11:59<00:26,  2.52draws/s]"
     ]
    },
    {
     "name": "stderr",
     "output_type": "stream",
     "text": [
      "\r",
      "Sampling 4 chains:  97%|█████████▋| 1975/2040 [12:00<00:29,  2.20draws/s]"
     ]
    },
    {
     "name": "stderr",
     "output_type": "stream",
     "text": [
      "\r",
      "Sampling 4 chains:  97%|█████████▋| 1976/2040 [12:01<00:33,  1.91draws/s]"
     ]
    },
    {
     "name": "stderr",
     "output_type": "stream",
     "text": [
      "\r",
      "Sampling 4 chains:  97%|█████████▋| 1978/2040 [12:01<00:29,  2.12draws/s]"
     ]
    },
    {
     "name": "stderr",
     "output_type": "stream",
     "text": [
      "\r",
      "Sampling 4 chains:  97%|█████████▋| 1979/2040 [12:02<00:30,  1.99draws/s]"
     ]
    },
    {
     "name": "stderr",
     "output_type": "stream",
     "text": [
      "\r",
      "Sampling 4 chains:  97%|█████████▋| 1980/2040 [12:02<00:23,  2.60draws/s]"
     ]
    },
    {
     "name": "stderr",
     "output_type": "stream",
     "text": [
      "\r",
      "Sampling 4 chains:  97%|█████████▋| 1981/2040 [12:03<00:27,  2.18draws/s]"
     ]
    },
    {
     "name": "stderr",
     "output_type": "stream",
     "text": [
      "\r",
      "Sampling 4 chains:  97%|█████████▋| 1982/2040 [12:03<00:28,  2.06draws/s]"
     ]
    },
    {
     "name": "stderr",
     "output_type": "stream",
     "text": [
      "\r",
      "Sampling 4 chains:  97%|█████████▋| 1983/2040 [12:03<00:22,  2.52draws/s]"
     ]
    },
    {
     "name": "stderr",
     "output_type": "stream",
     "text": [
      "\r",
      "Sampling 4 chains:  97%|█████████▋| 1984/2040 [12:04<00:26,  2.14draws/s]"
     ]
    },
    {
     "name": "stderr",
     "output_type": "stream",
     "text": [
      "\r",
      "Sampling 4 chains:  97%|█████████▋| 1985/2040 [12:04<00:24,  2.24draws/s]"
     ]
    },
    {
     "name": "stderr",
     "output_type": "stream",
     "text": [
      "\r",
      "Sampling 4 chains:  97%|█████████▋| 1986/2040 [12:05<00:22,  2.42draws/s]"
     ]
    },
    {
     "name": "stderr",
     "output_type": "stream",
     "text": [
      "\r",
      "Sampling 4 chains:  97%|█████████▋| 1987/2040 [12:05<00:24,  2.13draws/s]"
     ]
    },
    {
     "name": "stderr",
     "output_type": "stream",
     "text": [
      "\r",
      "Sampling 4 chains:  97%|█████████▋| 1988/2040 [12:06<00:29,  1.79draws/s]"
     ]
    },
    {
     "name": "stderr",
     "output_type": "stream",
     "text": [
      "\r",
      "Sampling 4 chains:  98%|█████████▊| 1989/2040 [12:07<00:28,  1.77draws/s]"
     ]
    },
    {
     "name": "stderr",
     "output_type": "stream",
     "text": [
      "\r",
      "Sampling 4 chains:  98%|█████████▊| 1990/2040 [12:07<00:30,  1.65draws/s]"
     ]
    },
    {
     "name": "stderr",
     "output_type": "stream",
     "text": [
      "\r",
      "Sampling 4 chains:  98%|█████████▊| 1991/2040 [12:08<00:28,  1.74draws/s]"
     ]
    },
    {
     "name": "stderr",
     "output_type": "stream",
     "text": [
      "\r",
      "Sampling 4 chains:  98%|█████████▊| 1992/2040 [12:09<00:30,  1.56draws/s]"
     ]
    },
    {
     "name": "stderr",
     "output_type": "stream",
     "text": [
      "\r",
      "Sampling 4 chains:  98%|█████████▊| 1993/2040 [12:09<00:27,  1.68draws/s]"
     ]
    },
    {
     "name": "stderr",
     "output_type": "stream",
     "text": [
      "\r",
      "Sampling 4 chains:  98%|█████████▊| 1994/2040 [12:10<00:28,  1.59draws/s]"
     ]
    },
    {
     "name": "stderr",
     "output_type": "stream",
     "text": [
      "\r",
      "Sampling 4 chains:  98%|█████████▊| 1995/2040 [12:10<00:26,  1.67draws/s]"
     ]
    },
    {
     "name": "stderr",
     "output_type": "stream",
     "text": [
      "\r",
      "Sampling 4 chains:  98%|█████████▊| 1996/2040 [12:11<00:27,  1.59draws/s]"
     ]
    },
    {
     "name": "stderr",
     "output_type": "stream",
     "text": [
      "\r",
      "Sampling 4 chains:  98%|█████████▊| 1997/2040 [12:12<00:27,  1.59draws/s]"
     ]
    },
    {
     "name": "stderr",
     "output_type": "stream",
     "text": [
      "\r",
      "Sampling 4 chains:  98%|█████████▊| 1998/2040 [12:12<00:26,  1.58draws/s]"
     ]
    },
    {
     "name": "stderr",
     "output_type": "stream",
     "text": [
      "\r",
      "Sampling 4 chains:  98%|█████████▊| 1999/2040 [12:13<00:26,  1.57draws/s]"
     ]
    },
    {
     "name": "stderr",
     "output_type": "stream",
     "text": [
      "\r",
      "Sampling 4 chains:  98%|█████████▊| 2000/2040 [12:14<00:25,  1.54draws/s]"
     ]
    },
    {
     "name": "stderr",
     "output_type": "stream",
     "text": [
      "\r",
      "Sampling 4 chains:  98%|█████████▊| 2001/2040 [12:14<00:25,  1.55draws/s]"
     ]
    },
    {
     "name": "stderr",
     "output_type": "stream",
     "text": [
      "\r",
      "Sampling 4 chains:  98%|█████████▊| 2002/2040 [12:15<00:24,  1.53draws/s]"
     ]
    },
    {
     "name": "stderr",
     "output_type": "stream",
     "text": [
      "\r",
      "Sampling 4 chains:  98%|█████████▊| 2003/2040 [12:16<00:23,  1.57draws/s]"
     ]
    },
    {
     "name": "stderr",
     "output_type": "stream",
     "text": [
      "\r",
      "Sampling 4 chains:  98%|█████████▊| 2004/2040 [12:16<00:22,  1.62draws/s]"
     ]
    },
    {
     "name": "stderr",
     "output_type": "stream",
     "text": [
      "\r",
      "Sampling 4 chains:  98%|█████████▊| 2005/2040 [12:17<00:21,  1.63draws/s]"
     ]
    },
    {
     "name": "stderr",
     "output_type": "stream",
     "text": [
      "\r",
      "Sampling 4 chains:  98%|█████████▊| 2006/2040 [12:17<00:19,  1.71draws/s]"
     ]
    },
    {
     "name": "stderr",
     "output_type": "stream",
     "text": [
      "\r",
      "Sampling 4 chains:  98%|█████████▊| 2007/2040 [12:18<00:20,  1.62draws/s]"
     ]
    },
    {
     "name": "stderr",
     "output_type": "stream",
     "text": [
      "\r",
      "Sampling 4 chains:  98%|█████████▊| 2008/2040 [12:18<00:19,  1.67draws/s]"
     ]
    },
    {
     "name": "stderr",
     "output_type": "stream",
     "text": [
      "\r",
      "Sampling 4 chains:  98%|█████████▊| 2009/2040 [12:19<00:19,  1.63draws/s]"
     ]
    },
    {
     "name": "stderr",
     "output_type": "stream",
     "text": [
      "\r",
      "Sampling 4 chains:  99%|█████████▊| 2010/2040 [12:20<00:17,  1.68draws/s]"
     ]
    },
    {
     "name": "stderr",
     "output_type": "stream",
     "text": [
      "\r",
      "Sampling 4 chains:  99%|█████████▊| 2011/2040 [12:20<00:18,  1.60draws/s]"
     ]
    },
    {
     "name": "stderr",
     "output_type": "stream",
     "text": [
      "\r",
      "Sampling 4 chains:  99%|█████████▊| 2012/2040 [12:21<00:17,  1.62draws/s]"
     ]
    },
    {
     "name": "stderr",
     "output_type": "stream",
     "text": [
      "\r",
      "Sampling 4 chains:  99%|█████████▊| 2013/2040 [12:22<00:16,  1.60draws/s]"
     ]
    },
    {
     "name": "stderr",
     "output_type": "stream",
     "text": [
      "\r",
      "Sampling 4 chains:  99%|█████████▊| 2014/2040 [12:22<00:15,  1.69draws/s]"
     ]
    },
    {
     "name": "stderr",
     "output_type": "stream",
     "text": [
      "\r",
      "Sampling 4 chains:  99%|█████████▉| 2015/2040 [12:23<00:15,  1.58draws/s]"
     ]
    },
    {
     "name": "stderr",
     "output_type": "stream",
     "text": [
      "\r",
      "Sampling 4 chains:  99%|█████████▉| 2016/2040 [12:23<00:14,  1.64draws/s]"
     ]
    },
    {
     "name": "stderr",
     "output_type": "stream",
     "text": [
      "\r",
      "Sampling 4 chains:  99%|█████████▉| 2017/2040 [12:24<00:14,  1.61draws/s]"
     ]
    },
    {
     "name": "stderr",
     "output_type": "stream",
     "text": [
      "\r",
      "Sampling 4 chains:  99%|█████████▉| 2018/2040 [12:25<00:12,  1.70draws/s]"
     ]
    },
    {
     "name": "stderr",
     "output_type": "stream",
     "text": [
      "\r",
      "Sampling 4 chains:  99%|█████████▉| 2019/2040 [12:25<00:12,  1.66draws/s]"
     ]
    },
    {
     "name": "stderr",
     "output_type": "stream",
     "text": [
      "\r",
      "Sampling 4 chains:  99%|█████████▉| 2020/2040 [12:26<00:11,  1.78draws/s]"
     ]
    },
    {
     "name": "stderr",
     "output_type": "stream",
     "text": [
      "\r",
      "Sampling 4 chains:  99%|█████████▉| 2021/2040 [12:26<00:11,  1.60draws/s]"
     ]
    },
    {
     "name": "stderr",
     "output_type": "stream",
     "text": [
      "\r",
      "Sampling 4 chains:  99%|█████████▉| 2022/2040 [12:27<00:10,  1.73draws/s]"
     ]
    },
    {
     "name": "stderr",
     "output_type": "stream",
     "text": [
      "\r",
      "Sampling 4 chains:  99%|█████████▉| 2023/2040 [12:28<00:10,  1.60draws/s]"
     ]
    },
    {
     "name": "stderr",
     "output_type": "stream",
     "text": [
      "\r",
      "Sampling 4 chains:  99%|█████████▉| 2024/2040 [12:28<00:09,  1.78draws/s]"
     ]
    },
    {
     "name": "stderr",
     "output_type": "stream",
     "text": [
      "\r",
      "Sampling 4 chains:  99%|█████████▉| 2025/2040 [12:29<00:09,  1.60draws/s]"
     ]
    },
    {
     "name": "stderr",
     "output_type": "stream",
     "text": [
      "\r",
      "Sampling 4 chains:  99%|█████████▉| 2026/2040 [12:29<00:07,  1.76draws/s]"
     ]
    },
    {
     "name": "stderr",
     "output_type": "stream",
     "text": [
      "\r",
      "Sampling 4 chains:  99%|█████████▉| 2027/2040 [12:30<00:07,  1.70draws/s]"
     ]
    },
    {
     "name": "stderr",
     "output_type": "stream",
     "text": [
      "\r",
      "Sampling 4 chains:  99%|█████████▉| 2028/2040 [12:30<00:06,  1.76draws/s]"
     ]
    },
    {
     "name": "stderr",
     "output_type": "stream",
     "text": [
      "\r",
      "Sampling 4 chains:  99%|█████████▉| 2029/2040 [12:31<00:06,  1.63draws/s]"
     ]
    },
    {
     "name": "stderr",
     "output_type": "stream",
     "text": [
      "\r",
      "Sampling 4 chains: 100%|█████████▉| 2030/2040 [12:32<00:05,  1.74draws/s]"
     ]
    },
    {
     "name": "stderr",
     "output_type": "stream",
     "text": [
      "\r",
      "Sampling 4 chains: 100%|█████████▉| 2031/2040 [12:32<00:05,  1.61draws/s]"
     ]
    },
    {
     "name": "stderr",
     "output_type": "stream",
     "text": [
      "\r",
      "Sampling 4 chains: 100%|█████████▉| 2032/2040 [12:33<00:04,  1.69draws/s]"
     ]
    },
    {
     "name": "stderr",
     "output_type": "stream",
     "text": [
      "\r",
      "Sampling 4 chains: 100%|█████████▉| 2033/2040 [12:34<00:04,  1.66draws/s]"
     ]
    },
    {
     "name": "stderr",
     "output_type": "stream",
     "text": [
      "\r",
      "Sampling 4 chains: 100%|█████████▉| 2034/2040 [12:35<00:04,  1.30draws/s]"
     ]
    },
    {
     "name": "stderr",
     "output_type": "stream",
     "text": [
      "\r",
      "Sampling 4 chains: 100%|█████████▉| 2035/2040 [12:36<00:04,  1.13draws/s]"
     ]
    },
    {
     "name": "stderr",
     "output_type": "stream",
     "text": [
      "\r",
      "Sampling 4 chains: 100%|█████████▉| 2036/2040 [12:37<00:03,  1.02draws/s]"
     ]
    },
    {
     "name": "stderr",
     "output_type": "stream",
     "text": [
      "\r",
      "Sampling 4 chains: 100%|█████████▉| 2037/2040 [12:38<00:03,  1.02s/draws]"
     ]
    },
    {
     "name": "stderr",
     "output_type": "stream",
     "text": [
      "\r",
      "Sampling 4 chains: 100%|█████████▉| 2038/2040 [12:39<00:02,  1.04s/draws]"
     ]
    },
    {
     "name": "stderr",
     "output_type": "stream",
     "text": [
      "\r",
      "Sampling 4 chains: 100%|█████████▉| 2039/2040 [12:40<00:01,  1.07s/draws]"
     ]
    },
    {
     "name": "stderr",
     "output_type": "stream",
     "text": [
      "\r",
      "Sampling 4 chains: 100%|██████████| 2040/2040 [12:41<00:00,  1.09s/draws]"
     ]
    },
    {
     "name": "stderr",
     "output_type": "stream",
     "text": [
      "\n",
      "/home/raul/.local/lib/python3.6/site-packages/pymc3/sampling.py:464: UserWarning: The number of samples is too small to check convergence reliably.\n",
      "  warnings.warn(\"The number of samples is too small to check convergence reliably.\")\n"
     ]
    }
   ],
   "source": [
    "with pm.Model() as model:\n",
    "        xl1 = pm.DiscreteUniform('xl1', lower=50,upper=150)\n",
    "        yl1 = pm.DiscreteUniform('yl1', lower=250,upper=451)\n",
    "        θl1 = pm.DiscreteUniform('θl1', lower=-30,upper=-10)\n",
    "\n",
    "        xl2 = pm.DiscreteUniform('xl2', lower=0,upper=500)\n",
    "        yl2 = pm.DiscreteUniform('yl2', lower=180,upper=350)\n",
    "        θl2 = pm.DiscreteUniform('θl2', lower=-5,upper=5)\n",
    "\n",
    "        # sim = pm.Deterministic('sim', simulation(xl1, yl1, θl1, xl2, yl2, θl2))\n",
    "        \n",
    "        obs = pm.Normal('obs',\n",
    "                        mu=simulation(xl1, yl1, θl1, xl2, yl2, θl2),\n",
    "                        sigma=.001, observed=484)\n",
    "\n",
    "        trace = pm.sample(10)\n"
   ]
  },
  {
   "cell_type": "code",
   "execution_count": 3,
   "metadata": {
    "collapsed": false
   },
   "outputs": [
    {
     "data": {
      "text/plain": [
       "[{'xl1': 139, 'yl1': 359, 'θl1': -16, 'xl2': 243, 'yl2': 305, 'θl2': -5},\n",
       " {'xl1': 132, 'yl1': 422, 'θl1': -18, 'xl2': 259, 'yl2': 291, 'θl2': -5},\n",
       " {'xl1': 144, 'yl1': 422, 'θl1': -14, 'xl2': 265, 'yl2': 278, 'θl2': 1},\n",
       " {'xl1': 134, 'yl1': 422, 'θl1': -10, 'xl2': 271, 'yl2': 293, 'θl2': 1},\n",
       " {'xl1': 134, 'yl1': 367, 'θl1': -12, 'xl2': 284, 'yl2': 293, 'θl2': 1},\n",
       " {'xl1': 134, 'yl1': 367, 'θl1': -12, 'xl2': 277, 'yl2': 289, 'θl2': -3},\n",
       " {'xl1': 141, 'yl1': 359, 'θl1': -28, 'xl2': 261, 'yl2': 307, 'θl2': -2},\n",
       " {'xl1': 141, 'yl1': 359, 'θl1': -22, 'xl2': 273, 'yl2': 284, 'θl2': -5},\n",
       " {'xl1': 144, 'yl1': 394, 'θl1': -24, 'xl2': 244, 'yl2': 277, 'θl2': -5},\n",
       " {'xl1': 144, 'yl1': 394, 'θl1': -24, 'xl2': 241, 'yl2': 277, 'θl2': 0}]"
      ]
     },
     "execution_count": 3,
     "metadata": {},
     "output_type": "execute_result"
    }
   ],
   "source": [
    "[t for t in trace]  # Some solutions"
   ]
  }
 ],
 "metadata": {
  "kernelspec": {
   "argv": [
    "python",
    "-m",
    "ipykernel_launcher",
    "-f",
    "{connection_file}"
   ],
   "display_name": "Python 3",
   "env": null,
   "interrupt_mode": "signal",
   "language": "python",
   "metadata": null,
   "name": "python3"
  },
  "name": "ball-in-the-bucket-game.ipynb"
 },
 "nbformat": 4,
 "nbformat_minor": 2
}
