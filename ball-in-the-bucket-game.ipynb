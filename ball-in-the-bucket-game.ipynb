{
 "cells": [
  {
   "cell_type": "code",
   "execution_count": 6,
   "metadata": {
    "collapsed": false
   },
   "outputs": [],
   "source": [
    "## Example inspired by Oregon summer school lectures on probabilistic programming\n",
    "## Code for simulation and visualization inspired from getting started tutorial in pymunk website\n",
    "\n",
    "# import sys, random\n",
    "# import pygame\n",
    "# from pygame.locals import *\n",
    "import pymunk\n",
    "# from pymunk.pygame_util import DrawOptions\n",
    "import pymc3 as pm\n",
    "# import matplotlib.pyplot as plt\n",
    "# import arviz as az\n",
    "import theano\n",
    "import theano.tensor as tt\n",
    "import numpy as np\n",
    "\n",
    "def add_ball(space):\n",
    "    mass = 1\n",
    "    radius = 14\n",
    "    moment = pymunk.moment_for_circle(mass, 0, radius) # 1\n",
    "    body = pymunk.Body(mass, moment) # 2\n",
    "    x = random.randint(120, 480)\n",
    "    body.position = x, 550 # 3\n",
    "    shape = pymunk.Circle(body, radius) # 4\n",
    "    space.add(body, shape) # 5\n",
    "    return shape\n",
    "\n",
    "def add_static_L(space,x,y,θ):\n",
    "    body = pymunk.Body(body_type = pymunk.Body.STATIC)\n",
    "    body.position = (x, y)\n",
    "    l1 = pymunk.Segment(body, (0, 0), (100, 0+θ), 2)\n",
    "    space.add(l1)\n",
    "def add_bucket(space):\n",
    "    floor = pymunk.Body(body_type = pymunk.Body.STATIC)\n",
    "    floor.position = (400, 200)\n",
    "\n",
    "    left_wall = pymunk.Body(body_type = pymunk.Body.STATIC)\n",
    "    left_wall.position = (400, 200)\n",
    "    \n",
    "    right_wall = pymunk.Body(body_type = pymunk.Body.STATIC)\n",
    "    right_wall.position = (500, 200)\n",
    "    \n",
    "    l1 = pymunk.Segment(floor, (0, 0), (100, 0), 2)\n",
    "    l2 = pymunk.Segment(left_wall, (0, 0), (0, 50), 2)\n",
    "    l3 = pymunk.Segment(right_wall, (0, 50), (0, 0), 2)\n",
    "\n",
    "    space.add(l1, l2, l3) # 3\n",
    "    return l1,l2,l3\n",
    "\n",
    "\n",
    "@theano.compile.ops.as_op(itypes=[tt.lscalar, tt.lscalar, tt.lscalar,\n",
    "                                  tt.lscalar, tt.lscalar, tt.lscalar],\n",
    "                          otypes=[tt.lscalar])\n",
    "def simulation(xl1, yl1, θl1,\n",
    "               xl2, yl2, θl2):\n",
    "\n",
    "    space = pymunk.Space()\n",
    "    space.gravity = (0.0, -900.0)\n",
    "    \n",
    "    add_static_L(space, xl1, yl1, θl1)\n",
    "    add_static_L(space, xl2, yl2, θl2)\n",
    "    add_bucket(space)\n",
    "    ball = add_ball_static(space)\n",
    "    \n",
    "    [space.step(1/50.0) for i in range(0,50000)]\n",
    "    return np.array(ball.body.position.x, dtype=np.int64) if ball.body.position.y > 210 else np.array(0, dtype=np.int64)"
   ]
  },
  {
   "cell_type": "code",
   "execution_count": 7,
   "metadata": {
    "collapsed": false
   },
   "outputs": [
    {
     "name": "stderr",
     "output_type": "stream",
     "text": [
      "Only 10 samples in chain.\n"
     ]
    },
    {
     "name": "stderr",
     "output_type": "stream",
     "text": [
      "Multiprocess sampling (4 chains in 4 jobs)\n"
     ]
    },
    {
     "name": "stderr",
     "output_type": "stream",
     "text": [
      "CompoundStep\n"
     ]
    },
    {
     "name": "stderr",
     "output_type": "stream",
     "text": [
      ">Metropolis: [θl2]\n"
     ]
    },
    {
     "name": "stderr",
     "output_type": "stream",
     "text": [
      ">Metropolis: [yl2]\n"
     ]
    },
    {
     "name": "stderr",
     "output_type": "stream",
     "text": [
      ">Metropolis: [xl2]\n"
     ]
    },
    {
     "name": "stderr",
     "output_type": "stream",
     "text": [
      ">Metropolis: [θl1]\n"
     ]
    },
    {
     "name": "stderr",
     "output_type": "stream",
     "text": [
      ">Metropolis: [yl1]\n"
     ]
    },
    {
     "name": "stderr",
     "output_type": "stream",
     "text": [
      ">Metropolis: [xl1]\n"
     ]
    },
    {
     "name": "stderr",
     "output_type": "stream",
     "text": [
      "\r",
      "Sampling 4 chains:   0%|          | 0/2040 [00:00<?, ?draws/s]"
     ]
    },
    {
     "name": "stderr",
     "output_type": "stream",
     "text": [
      "\r",
      "Sampling 4 chains:   0%|          | 1/2040 [00:00<26:05,  1.30draws/s]"
     ]
    },
    {
     "name": "stderr",
     "output_type": "stream",
     "text": [
      "\r",
      "Sampling 4 chains:   0%|          | 5/2040 [00:01<20:10,  1.68draws/s]"
     ]
    },
    {
     "name": "stderr",
     "output_type": "stream",
     "text": [
      "\r",
      "Sampling 4 chains:   0%|          | 9/2040 [00:02<16:03,  2.11draws/s]"
     ]
    },
    {
     "name": "stderr",
     "output_type": "stream",
     "text": [
      "\r",
      "Sampling 4 chains:   1%|          | 13/2040 [00:03<13:11,  2.56draws/s]"
     ]
    },
    {
     "name": "stderr",
     "output_type": "stream",
     "text": [
      "\r",
      "Sampling 4 chains:   1%|          | 17/2040 [00:03<11:09,  3.02draws/s]"
     ]
    },
    {
     "name": "stderr",
     "output_type": "stream",
     "text": [
      "\r",
      "Sampling 4 chains:   1%|          | 21/2040 [00:04<09:45,  3.45draws/s]"
     ]
    },
    {
     "name": "stderr",
     "output_type": "stream",
     "text": [
      "\r",
      "Sampling 4 chains:   1%|          | 25/2040 [00:05<08:45,  3.84draws/s]"
     ]
    },
    {
     "name": "stderr",
     "output_type": "stream",
     "text": [
      "\r",
      "Sampling 4 chains:   1%|▏         | 29/2040 [00:06<08:03,  4.16draws/s]"
     ]
    },
    {
     "name": "stderr",
     "output_type": "stream",
     "text": [
      "\r",
      "Sampling 4 chains:   2%|▏         | 33/2040 [00:06<07:34,  4.41draws/s]"
     ]
    },
    {
     "name": "stderr",
     "output_type": "stream",
     "text": [
      "\r",
      "Sampling 4 chains:   2%|▏         | 37/2040 [00:07<07:14,  4.61draws/s]"
     ]
    },
    {
     "name": "stderr",
     "output_type": "stream",
     "text": [
      "\r",
      "Sampling 4 chains:   2%|▏         | 40/2040 [00:07<05:24,  6.16draws/s]"
     ]
    },
    {
     "name": "stderr",
     "output_type": "stream",
     "text": [
      "\r",
      "Sampling 4 chains:   2%|▏         | 42/2040 [00:08<07:28,  4.45draws/s]"
     ]
    },
    {
     "name": "stderr",
     "output_type": "stream",
     "text": [
      "\r",
      "Sampling 4 chains:   2%|▏         | 45/2040 [00:09<07:41,  4.32draws/s]"
     ]
    },
    {
     "name": "stderr",
     "output_type": "stream",
     "text": [
      "\r",
      "Sampling 4 chains:   2%|▏         | 48/2040 [00:09<05:43,  5.80draws/s]"
     ]
    },
    {
     "name": "stderr",
     "output_type": "stream",
     "text": [
      "\r",
      "Sampling 4 chains:   2%|▏         | 50/2040 [00:10<07:49,  4.24draws/s]"
     ]
    },
    {
     "name": "stderr",
     "output_type": "stream",
     "text": [
      "\r",
      "Sampling 4 chains:   3%|▎         | 53/2040 [00:10<07:57,  4.16draws/s]"
     ]
    },
    {
     "name": "stderr",
     "output_type": "stream",
     "text": [
      "\r",
      "Sampling 4 chains:   3%|▎         | 56/2040 [00:11<05:56,  5.57draws/s]"
     ]
    },
    {
     "name": "stderr",
     "output_type": "stream",
     "text": [
      "\r",
      "Sampling 4 chains:   3%|▎         | 58/2040 [00:11<07:53,  4.19draws/s]"
     ]
    },
    {
     "name": "stderr",
     "output_type": "stream",
     "text": [
      "\r",
      "Sampling 4 chains:   3%|▎         | 61/2040 [00:12<08:00,  4.12draws/s]"
     ]
    },
    {
     "name": "stderr",
     "output_type": "stream",
     "text": [
      "\r",
      "Sampling 4 chains:   3%|▎         | 64/2040 [00:12<06:02,  5.45draws/s]"
     ]
    },
    {
     "name": "stderr",
     "output_type": "stream",
     "text": [
      "\r",
      "Sampling 4 chains:   3%|▎         | 66/2040 [00:13<07:55,  4.15draws/s]"
     ]
    },
    {
     "name": "stderr",
     "output_type": "stream",
     "text": [
      "\r",
      "Sampling 4 chains:   3%|▎         | 69/2040 [00:14<08:08,  4.04draws/s]"
     ]
    },
    {
     "name": "stderr",
     "output_type": "stream",
     "text": [
      "\r",
      "Sampling 4 chains:   4%|▎         | 72/2040 [00:14<06:07,  5.35draws/s]"
     ]
    },
    {
     "name": "stderr",
     "output_type": "stream",
     "text": [
      "\r",
      "Sampling 4 chains:   4%|▎         | 74/2040 [00:15<08:07,  4.03draws/s]"
     ]
    },
    {
     "name": "stderr",
     "output_type": "stream",
     "text": [
      "\r",
      "Sampling 4 chains:   4%|▍         | 77/2040 [00:15<08:08,  4.02draws/s]"
     ]
    },
    {
     "name": "stderr",
     "output_type": "stream",
     "text": [
      "\r",
      "Sampling 4 chains:   4%|▍         | 79/2040 [00:16<06:16,  5.20draws/s]"
     ]
    },
    {
     "name": "stderr",
     "output_type": "stream",
     "text": [
      "\r",
      "Sampling 4 chains:   4%|▍         | 81/2040 [00:16<07:55,  4.12draws/s]"
     ]
    },
    {
     "name": "stderr",
     "output_type": "stream",
     "text": [
      "\r",
      "Sampling 4 chains:   4%|▍         | 83/2040 [00:16<06:08,  5.31draws/s]"
     ]
    },
    {
     "name": "stderr",
     "output_type": "stream",
     "text": [
      "\r",
      "Sampling 4 chains:   4%|▍         | 85/2040 [00:17<07:51,  4.14draws/s]"
     ]
    },
    {
     "name": "stderr",
     "output_type": "stream",
     "text": [
      "\r",
      "Sampling 4 chains:   4%|▍         | 87/2040 [00:17<06:07,  5.32draws/s]"
     ]
    },
    {
     "name": "stderr",
     "output_type": "stream",
     "text": [
      "\r",
      "Sampling 4 chains:   4%|▍         | 89/2040 [00:18<07:53,  4.12draws/s]"
     ]
    },
    {
     "name": "stderr",
     "output_type": "stream",
     "text": [
      "\r",
      "Sampling 4 chains:   4%|▍         | 91/2040 [00:18<06:01,  5.39draws/s]"
     ]
    },
    {
     "name": "stderr",
     "output_type": "stream",
     "text": [
      "\r",
      "Sampling 4 chains:   5%|▍         | 93/2040 [00:19<07:48,  4.16draws/s]"
     ]
    },
    {
     "name": "stderr",
     "output_type": "stream",
     "text": [
      "\r",
      "Sampling 4 chains:   5%|▍         | 95/2040 [00:19<05:57,  5.45draws/s]"
     ]
    },
    {
     "name": "stderr",
     "output_type": "stream",
     "text": [
      "\r",
      "Sampling 4 chains:   5%|▍         | 97/2040 [00:20<07:48,  4.15draws/s]"
     ]
    },
    {
     "name": "stderr",
     "output_type": "stream",
     "text": [
      "\r",
      "Sampling 4 chains:   5%|▍         | 99/2040 [00:20<05:57,  5.43draws/s]"
     ]
    },
    {
     "name": "stderr",
     "output_type": "stream",
     "text": [
      "\r",
      "Sampling 4 chains:   5%|▍         | 101/2040 [00:21<07:46,  4.15draws/s]"
     ]
    },
    {
     "name": "stderr",
     "output_type": "stream",
     "text": [
      "\r",
      "Sampling 4 chains:   5%|▌         | 103/2040 [00:21<05:57,  5.42draws/s]"
     ]
    },
    {
     "name": "stderr",
     "output_type": "stream",
     "text": [
      "\r",
      "Sampling 4 chains:   5%|▌         | 105/2040 [00:21<07:46,  4.15draws/s]"
     ]
    },
    {
     "name": "stderr",
     "output_type": "stream",
     "text": [
      "\r",
      "Sampling 4 chains:   5%|▌         | 107/2040 [00:21<05:55,  5.44draws/s]"
     ]
    },
    {
     "name": "stderr",
     "output_type": "stream",
     "text": [
      "\r",
      "Sampling 4 chains:   5%|▌         | 109/2040 [00:22<07:45,  4.15draws/s]"
     ]
    },
    {
     "name": "stderr",
     "output_type": "stream",
     "text": [
      "\r",
      "Sampling 4 chains:   5%|▌         | 111/2040 [00:22<05:59,  5.37draws/s]"
     ]
    },
    {
     "name": "stderr",
     "output_type": "stream",
     "text": [
      "\r",
      "Sampling 4 chains:   6%|▌         | 113/2040 [00:23<07:45,  4.14draws/s]"
     ]
    },
    {
     "name": "stderr",
     "output_type": "stream",
     "text": [
      "\r",
      "Sampling 4 chains:   6%|▌         | 115/2040 [00:23<05:57,  5.38draws/s]"
     ]
    },
    {
     "name": "stderr",
     "output_type": "stream",
     "text": [
      "\r",
      "Sampling 4 chains:   6%|▌         | 117/2040 [00:24<07:45,  4.13draws/s]"
     ]
    },
    {
     "name": "stderr",
     "output_type": "stream",
     "text": [
      "\r",
      "Sampling 4 chains:   6%|▌         | 119/2040 [00:24<06:17,  5.09draws/s]"
     ]
    },
    {
     "name": "stderr",
     "output_type": "stream",
     "text": [
      "\r",
      "Sampling 4 chains:   6%|▌         | 121/2040 [00:25<07:39,  4.17draws/s]"
     ]
    },
    {
     "name": "stderr",
     "output_type": "stream",
     "text": [
      "\r",
      "Sampling 4 chains:   6%|▌         | 123/2040 [00:25<06:29,  4.92draws/s]"
     ]
    },
    {
     "name": "stderr",
     "output_type": "stream",
     "text": [
      "\r",
      "Sampling 4 chains:   6%|▌         | 124/2040 [00:25<07:44,  4.13draws/s]"
     ]
    },
    {
     "name": "stderr",
     "output_type": "stream",
     "text": [
      "\r",
      "Sampling 4 chains:   6%|▌         | 125/2040 [00:26<08:47,  3.63draws/s]"
     ]
    },
    {
     "name": "stderr",
     "output_type": "stream",
     "text": [
      "\r",
      "Sampling 4 chains:   6%|▌         | 126/2040 [00:26<07:59,  3.99draws/s]"
     ]
    },
    {
     "name": "stderr",
     "output_type": "stream",
     "text": [
      "\r",
      "Sampling 4 chains:   6%|▌         | 127/2040 [00:26<08:45,  3.64draws/s]"
     ]
    },
    {
     "name": "stderr",
     "output_type": "stream",
     "text": [
      "\r",
      "Sampling 4 chains:   6%|▋         | 129/2040 [00:27<07:51,  4.05draws/s]"
     ]
    },
    {
     "name": "stderr",
     "output_type": "stream",
     "text": [
      "\r",
      "Sampling 4 chains:   6%|▋         | 130/2040 [00:27<07:15,  4.39draws/s]"
     ]
    },
    {
     "name": "stderr",
     "output_type": "stream",
     "text": [
      "\r",
      "Sampling 4 chains:   6%|▋         | 131/2040 [00:27<08:09,  3.90draws/s]"
     ]
    },
    {
     "name": "stderr",
     "output_type": "stream",
     "text": [
      "\r",
      "Sampling 4 chains:   6%|▋         | 132/2040 [00:27<09:18,  3.42draws/s]"
     ]
    },
    {
     "name": "stderr",
     "output_type": "stream",
     "text": [
      "\r",
      "Sampling 4 chains:   7%|▋         | 133/2040 [00:28<08:19,  3.82draws/s]"
     ]
    },
    {
     "name": "stderr",
     "output_type": "stream",
     "text": [
      "\r",
      "Sampling 4 chains:   7%|▋         | 134/2040 [00:28<07:29,  4.24draws/s]"
     ]
    },
    {
     "name": "stderr",
     "output_type": "stream",
     "text": [
      "\r",
      "Sampling 4 chains:   7%|▋         | 135/2040 [00:28<06:29,  4.89draws/s]"
     ]
    },
    {
     "name": "stderr",
     "output_type": "stream",
     "text": [
      "\r",
      "Sampling 4 chains:   7%|▋         | 136/2040 [00:28<08:08,  3.90draws/s]"
     ]
    },
    {
     "name": "stderr",
     "output_type": "stream",
     "text": [
      "\r",
      "Sampling 4 chains:   7%|▋         | 137/2040 [00:29<08:13,  3.86draws/s]"
     ]
    },
    {
     "name": "stderr",
     "output_type": "stream",
     "text": [
      "\r",
      "Sampling 4 chains:   7%|▋         | 138/2040 [00:29<08:02,  3.94draws/s]"
     ]
    },
    {
     "name": "stderr",
     "output_type": "stream",
     "text": [
      "\r",
      "Sampling 4 chains:   7%|▋         | 139/2040 [00:29<09:00,  3.52draws/s]"
     ]
    },
    {
     "name": "stderr",
     "output_type": "stream",
     "text": [
      "\r",
      "Sampling 4 chains:   7%|▋         | 140/2040 [00:29<07:54,  4.01draws/s]"
     ]
    },
    {
     "name": "stderr",
     "output_type": "stream",
     "text": [
      "\r",
      "Sampling 4 chains:   7%|▋         | 141/2040 [00:30<08:47,  3.60draws/s]"
     ]
    },
    {
     "name": "stderr",
     "output_type": "stream",
     "text": [
      "\r",
      "Sampling 4 chains:   7%|▋         | 142/2040 [00:30<09:33,  3.31draws/s]"
     ]
    },
    {
     "name": "stderr",
     "output_type": "stream",
     "text": [
      "\r",
      "Sampling 4 chains:   7%|▋         | 144/2040 [00:31<09:14,  3.42draws/s]"
     ]
    },
    {
     "name": "stderr",
     "output_type": "stream",
     "text": [
      "\r",
      "Sampling 4 chains:   7%|▋         | 145/2040 [00:31<09:29,  3.33draws/s]"
     ]
    },
    {
     "name": "stderr",
     "output_type": "stream",
     "text": [
      "\r",
      "Sampling 4 chains:   7%|▋         | 147/2040 [00:32<09:21,  3.37draws/s]"
     ]
    },
    {
     "name": "stderr",
     "output_type": "stream",
     "text": [
      "\r",
      "Sampling 4 chains:   7%|▋         | 149/2040 [00:32<08:52,  3.55draws/s]"
     ]
    },
    {
     "name": "stderr",
     "output_type": "stream",
     "text": [
      "\r",
      "Sampling 4 chains:   7%|▋         | 151/2040 [00:32<08:06,  3.88draws/s]"
     ]
    },
    {
     "name": "stderr",
     "output_type": "stream",
     "text": [
      "\r",
      "Sampling 4 chains:   8%|▊         | 153/2040 [00:33<08:00,  3.93draws/s]"
     ]
    },
    {
     "name": "stderr",
     "output_type": "stream",
     "text": [
      "\r",
      "Sampling 4 chains:   8%|▊         | 154/2040 [00:33<09:27,  3.32draws/s]"
     ]
    },
    {
     "name": "stderr",
     "output_type": "stream",
     "text": [
      "\r",
      "Sampling 4 chains:   8%|▊         | 156/2040 [00:34<08:08,  3.86draws/s]"
     ]
    },
    {
     "name": "stderr",
     "output_type": "stream",
     "text": [
      "\r",
      "Sampling 4 chains:   8%|▊         | 157/2040 [00:34<07:15,  4.32draws/s]"
     ]
    },
    {
     "name": "stderr",
     "output_type": "stream",
     "text": [
      "\r",
      "Sampling 4 chains:   8%|▊         | 158/2040 [00:34<08:54,  3.52draws/s]"
     ]
    },
    {
     "name": "stderr",
     "output_type": "stream",
     "text": [
      "\r",
      "Sampling 4 chains:   8%|▊         | 160/2040 [00:35<08:32,  3.67draws/s]"
     ]
    },
    {
     "name": "stderr",
     "output_type": "stream",
     "text": [
      "\r",
      "Sampling 4 chains:   8%|▊         | 161/2040 [00:35<10:19,  3.03draws/s]"
     ]
    },
    {
     "name": "stderr",
     "output_type": "stream",
     "text": [
      "\r",
      "Sampling 4 chains:   8%|▊         | 163/2040 [00:35<08:33,  3.65draws/s]"
     ]
    },
    {
     "name": "stderr",
     "output_type": "stream",
     "text": [
      "\r",
      "Sampling 4 chains:   8%|▊         | 164/2040 [00:36<07:05,  4.40draws/s]"
     ]
    },
    {
     "name": "stderr",
     "output_type": "stream",
     "text": [
      "\r",
      "Sampling 4 chains:   8%|▊         | 165/2040 [00:36<09:19,  3.35draws/s]"
     ]
    },
    {
     "name": "stderr",
     "output_type": "stream",
     "text": [
      "\r",
      "Sampling 4 chains:   8%|▊         | 166/2040 [00:36<10:10,  3.07draws/s]"
     ]
    },
    {
     "name": "stderr",
     "output_type": "stream",
     "text": [
      "\r",
      "Sampling 4 chains:   8%|▊         | 167/2040 [00:37<10:16,  3.04draws/s]"
     ]
    },
    {
     "name": "stderr",
     "output_type": "stream",
     "text": [
      "\r",
      "Sampling 4 chains:   8%|▊         | 168/2040 [00:37<08:29,  3.67draws/s]"
     ]
    },
    {
     "name": "stderr",
     "output_type": "stream",
     "text": [
      "\r",
      "Sampling 4 chains:   8%|▊         | 169/2040 [00:37<06:56,  4.49draws/s]"
     ]
    },
    {
     "name": "stderr",
     "output_type": "stream",
     "text": [
      "\r",
      "Sampling 4 chains:   8%|▊         | 170/2040 [00:37<07:29,  4.16draws/s]"
     ]
    },
    {
     "name": "stderr",
     "output_type": "stream",
     "text": [
      "\r",
      "Sampling 4 chains:   8%|▊         | 171/2040 [00:38<09:48,  3.18draws/s]"
     ]
    },
    {
     "name": "stderr",
     "output_type": "stream",
     "text": [
      "\r",
      "Sampling 4 chains:   8%|▊         | 172/2040 [00:38<11:13,  2.77draws/s]"
     ]
    },
    {
     "name": "stderr",
     "output_type": "stream",
     "text": [
      "\r",
      "Sampling 4 chains:   9%|▊         | 174/2040 [00:39<09:25,  3.30draws/s]"
     ]
    },
    {
     "name": "stderr",
     "output_type": "stream",
     "text": [
      "\r",
      "Sampling 4 chains:   9%|▊         | 175/2040 [00:39<07:48,  3.98draws/s]"
     ]
    },
    {
     "name": "stderr",
     "output_type": "stream",
     "text": [
      "\r",
      "Sampling 4 chains:   9%|▊         | 176/2040 [00:39<09:42,  3.20draws/s]"
     ]
    },
    {
     "name": "stderr",
     "output_type": "stream",
     "text": [
      "\r",
      "Sampling 4 chains:   9%|▊         | 177/2040 [00:39<08:47,  3.53draws/s]"
     ]
    },
    {
     "name": "stderr",
     "output_type": "stream",
     "text": [
      "\r",
      "Sampling 4 chains:   9%|▊         | 178/2040 [00:40<07:47,  3.98draws/s]"
     ]
    },
    {
     "name": "stderr",
     "output_type": "stream",
     "text": [
      "\r",
      "Sampling 4 chains:   9%|▉         | 180/2040 [00:40<07:47,  3.98draws/s]"
     ]
    },
    {
     "name": "stderr",
     "output_type": "stream",
     "text": [
      "\r",
      "Sampling 4 chains:   9%|▉         | 181/2040 [00:40<07:28,  4.14draws/s]"
     ]
    },
    {
     "name": "stderr",
     "output_type": "stream",
     "text": [
      "\r",
      "Sampling 4 chains:   9%|▉         | 182/2040 [00:41<07:06,  4.35draws/s]"
     ]
    },
    {
     "name": "stderr",
     "output_type": "stream",
     "text": [
      "\r",
      "Sampling 4 chains:   9%|▉         | 184/2040 [00:41<07:24,  4.18draws/s]"
     ]
    },
    {
     "name": "stderr",
     "output_type": "stream",
     "text": [
      "\r",
      "Sampling 4 chains:   9%|▉         | 185/2040 [00:41<07:22,  4.19draws/s]"
     ]
    },
    {
     "name": "stderr",
     "output_type": "stream",
     "text": [
      "\r",
      "Sampling 4 chains:   9%|▉         | 186/2040 [00:41<06:54,  4.47draws/s]"
     ]
    },
    {
     "name": "stderr",
     "output_type": "stream",
     "text": [
      "\r",
      "Sampling 4 chains:   9%|▉         | 187/2040 [00:42<06:13,  4.97draws/s]"
     ]
    },
    {
     "name": "stderr",
     "output_type": "stream",
     "text": [
      "\r",
      "Sampling 4 chains:   9%|▉         | 188/2040 [00:42<09:13,  3.35draws/s]"
     ]
    },
    {
     "name": "stderr",
     "output_type": "stream",
     "text": [
      "\r",
      "Sampling 4 chains:   9%|▉         | 189/2040 [00:42<07:47,  3.96draws/s]"
     ]
    },
    {
     "name": "stderr",
     "output_type": "stream",
     "text": [
      "\r",
      "Sampling 4 chains:   9%|▉         | 190/2040 [00:42<07:18,  4.22draws/s]"
     ]
    },
    {
     "name": "stderr",
     "output_type": "stream",
     "text": [
      "\r",
      "Sampling 4 chains:   9%|▉         | 191/2040 [00:43<07:45,  3.97draws/s]"
     ]
    },
    {
     "name": "stderr",
     "output_type": "stream",
     "text": [
      "\r",
      "Sampling 4 chains:   9%|▉         | 192/2040 [00:43<08:17,  3.71draws/s]"
     ]
    },
    {
     "name": "stderr",
     "output_type": "stream",
     "text": [
      "\r",
      "Sampling 4 chains:   9%|▉         | 193/2040 [00:43<07:38,  4.03draws/s]"
     ]
    },
    {
     "name": "stderr",
     "output_type": "stream",
     "text": [
      "\r",
      "Sampling 4 chains:  10%|▉         | 194/2040 [00:43<06:46,  4.54draws/s]"
     ]
    },
    {
     "name": "stderr",
     "output_type": "stream",
     "text": [
      "\r",
      "Sampling 4 chains:  10%|▉         | 195/2040 [00:44<07:35,  4.05draws/s]"
     ]
    },
    {
     "name": "stderr",
     "output_type": "stream",
     "text": [
      "\r",
      "Sampling 4 chains:  10%|▉         | 196/2040 [00:44<09:29,  3.24draws/s]"
     ]
    },
    {
     "name": "stderr",
     "output_type": "stream",
     "text": [
      "\r",
      "Sampling 4 chains:  10%|▉         | 197/2040 [00:44<07:57,  3.86draws/s]"
     ]
    },
    {
     "name": "stderr",
     "output_type": "stream",
     "text": [
      "\r",
      "Sampling 4 chains:  10%|▉         | 198/2040 [00:45<07:27,  4.12draws/s]"
     ]
    },
    {
     "name": "stderr",
     "output_type": "stream",
     "text": [
      "\r",
      "Sampling 4 chains:  10%|▉         | 199/2040 [00:45<10:53,  2.82draws/s]"
     ]
    },
    {
     "name": "stderr",
     "output_type": "stream",
     "text": [
      "\r",
      "Sampling 4 chains:  10%|▉         | 200/2040 [00:45<08:40,  3.54draws/s]"
     ]
    },
    {
     "name": "stderr",
     "output_type": "stream",
     "text": [
      "\r",
      "Sampling 4 chains:  10%|▉         | 201/2040 [00:46<10:15,  2.99draws/s]"
     ]
    },
    {
     "name": "stderr",
     "output_type": "stream",
     "text": [
      "\r",
      "Sampling 4 chains:  10%|▉         | 202/2040 [00:46<08:10,  3.75draws/s]"
     ]
    },
    {
     "name": "stderr",
     "output_type": "stream",
     "text": [
      "\r",
      "Sampling 4 chains:  10%|▉         | 203/2040 [00:47<11:57,  2.56draws/s]"
     ]
    },
    {
     "name": "stderr",
     "output_type": "stream",
     "text": [
      "\r",
      "Sampling 4 chains:  10%|█         | 204/2040 [00:47<09:55,  3.09draws/s]"
     ]
    },
    {
     "name": "stderr",
     "output_type": "stream",
     "text": [
      "\r",
      "Sampling 4 chains:  10%|█         | 205/2040 [00:47<09:53,  3.09draws/s]"
     ]
    },
    {
     "name": "stderr",
     "output_type": "stream",
     "text": [
      "\r",
      "Sampling 4 chains:  10%|█         | 206/2040 [00:47<08:22,  3.65draws/s]"
     ]
    },
    {
     "name": "stderr",
     "output_type": "stream",
     "text": [
      "\r",
      "Sampling 4 chains:  10%|█         | 207/2040 [00:48<12:27,  2.45draws/s]"
     ]
    },
    {
     "name": "stderr",
     "output_type": "stream",
     "text": [
      "\r",
      "Sampling 4 chains:  10%|█         | 209/2040 [00:48<10:01,  3.04draws/s]"
     ]
    },
    {
     "name": "stderr",
     "output_type": "stream",
     "text": [
      "\r",
      "Sampling 4 chains:  10%|█         | 210/2040 [00:48<08:08,  3.75draws/s]"
     ]
    },
    {
     "name": "stderr",
     "output_type": "stream",
     "text": [
      "\r",
      "Sampling 4 chains:  10%|█         | 211/2040 [00:49<12:56,  2.35draws/s]"
     ]
    },
    {
     "name": "stderr",
     "output_type": "stream",
     "text": [
      "\r",
      "Sampling 4 chains:  10%|█         | 213/2040 [00:49<09:36,  3.17draws/s]"
     ]
    },
    {
     "name": "stderr",
     "output_type": "stream",
     "text": [
      "\r",
      "Sampling 4 chains:  10%|█         | 214/2040 [00:50<10:10,  2.99draws/s]"
     ]
    },
    {
     "name": "stderr",
     "output_type": "stream",
     "text": [
      "\r",
      "Sampling 4 chains:  11%|█         | 215/2040 [00:50<14:20,  2.12draws/s]"
     ]
    },
    {
     "name": "stderr",
     "output_type": "stream",
     "text": [
      "\r",
      "Sampling 4 chains:  11%|█         | 218/2040 [00:51<12:25,  2.45draws/s]"
     ]
    },
    {
     "name": "stderr",
     "output_type": "stream",
     "text": [
      "\r",
      "Sampling 4 chains:  11%|█         | 219/2040 [00:51<10:28,  2.90draws/s]"
     ]
    },
    {
     "name": "stderr",
     "output_type": "stream",
     "text": [
      "\r",
      "Sampling 4 chains:  11%|█         | 221/2040 [00:52<08:05,  3.74draws/s]"
     ]
    },
    {
     "name": "stderr",
     "output_type": "stream",
     "text": [
      "\r",
      "Sampling 4 chains:  11%|█         | 222/2040 [00:52<11:27,  2.65draws/s]"
     ]
    },
    {
     "name": "stderr",
     "output_type": "stream",
     "text": [
      "\r",
      "Sampling 4 chains:  11%|█         | 223/2040 [00:52<09:40,  3.13draws/s]"
     ]
    },
    {
     "name": "stderr",
     "output_type": "stream",
     "text": [
      "\r",
      "Sampling 4 chains:  11%|█         | 224/2040 [00:52<08:07,  3.72draws/s]"
     ]
    },
    {
     "name": "stderr",
     "output_type": "stream",
     "text": [
      "\r",
      "Sampling 4 chains:  11%|█         | 226/2040 [00:53<08:52,  3.41draws/s]"
     ]
    },
    {
     "name": "stderr",
     "output_type": "stream",
     "text": [
      "\r",
      "Sampling 4 chains:  11%|█         | 227/2040 [00:53<07:29,  4.03draws/s]"
     ]
    },
    {
     "name": "stderr",
     "output_type": "stream",
     "text": [
      "\r",
      "Sampling 4 chains:  11%|█         | 228/2040 [00:53<06:19,  4.78draws/s]"
     ]
    },
    {
     "name": "stderr",
     "output_type": "stream",
     "text": [
      "\r",
      "Sampling 4 chains:  11%|█▏        | 230/2040 [00:54<07:35,  3.97draws/s]"
     ]
    },
    {
     "name": "stderr",
     "output_type": "stream",
     "text": [
      "\r",
      "Sampling 4 chains:  11%|█▏        | 231/2040 [00:54<06:39,  4.53draws/s]"
     ]
    },
    {
     "name": "stderr",
     "output_type": "stream",
     "text": [
      "\r",
      "Sampling 4 chains:  11%|█▏        | 233/2040 [00:54<05:12,  5.79draws/s]"
     ]
    },
    {
     "name": "stderr",
     "output_type": "stream",
     "text": [
      "\r",
      "Sampling 4 chains:  11%|█▏        | 234/2040 [00:55<09:25,  3.19draws/s]"
     ]
    },
    {
     "name": "stderr",
     "output_type": "stream",
     "text": [
      "\r",
      "Sampling 4 chains:  12%|█▏        | 235/2040 [00:55<08:02,  3.74draws/s]"
     ]
    },
    {
     "name": "stderr",
     "output_type": "stream",
     "text": [
      "\r",
      "Sampling 4 chains:  12%|█▏        | 237/2040 [00:55<06:05,  4.93draws/s]"
     ]
    },
    {
     "name": "stderr",
     "output_type": "stream",
     "text": [
      "\r",
      "Sampling 4 chains:  12%|█▏        | 239/2040 [00:56<08:01,  3.74draws/s]"
     ]
    },
    {
     "name": "stderr",
     "output_type": "stream",
     "text": [
      "\r",
      "Sampling 4 chains:  12%|█▏        | 241/2040 [00:56<06:20,  4.73draws/s]"
     ]
    },
    {
     "name": "stderr",
     "output_type": "stream",
     "text": [
      "\r",
      "Sampling 4 chains:  12%|█▏        | 242/2040 [00:57<11:32,  2.60draws/s]"
     ]
    },
    {
     "name": "stderr",
     "output_type": "stream",
     "text": [
      "\r",
      "Sampling 4 chains:  12%|█▏        | 244/2040 [00:57<08:36,  3.47draws/s]"
     ]
    },
    {
     "name": "stderr",
     "output_type": "stream",
     "text": [
      "\r",
      "Sampling 4 chains:  12%|█▏        | 246/2040 [00:58<09:41,  3.08draws/s]"
     ]
    },
    {
     "name": "stderr",
     "output_type": "stream",
     "text": [
      "\r",
      "Sampling 4 chains:  12%|█▏        | 250/2040 [00:59<08:48,  3.39draws/s]"
     ]
    },
    {
     "name": "stderr",
     "output_type": "stream",
     "text": [
      "\r",
      "Sampling 4 chains:  12%|█▏        | 252/2040 [00:59<06:40,  4.46draws/s]"
     ]
    },
    {
     "name": "stderr",
     "output_type": "stream",
     "text": [
      "\r",
      "Sampling 4 chains:  12%|█▏        | 254/2040 [01:00<08:17,  3.59draws/s]"
     ]
    },
    {
     "name": "stderr",
     "output_type": "stream",
     "text": [
      "\r",
      "Sampling 4 chains:  13%|█▎        | 257/2040 [01:00<06:09,  4.82draws/s]"
     ]
    },
    {
     "name": "stderr",
     "output_type": "stream",
     "text": [
      "\r",
      "Sampling 4 chains:  13%|█▎        | 259/2040 [01:01<07:42,  3.85draws/s]"
     ]
    },
    {
     "name": "stderr",
     "output_type": "stream",
     "text": [
      "\r",
      "Sampling 4 chains:  13%|█▎        | 261/2040 [01:01<05:55,  5.01draws/s]"
     ]
    },
    {
     "name": "stderr",
     "output_type": "stream",
     "text": [
      "\r",
      "Sampling 4 chains:  13%|█▎        | 263/2040 [01:02<07:47,  3.80draws/s]"
     ]
    },
    {
     "name": "stderr",
     "output_type": "stream",
     "text": [
      "\r",
      "Sampling 4 chains:  13%|█▎        | 265/2040 [01:02<06:25,  4.60draws/s]"
     ]
    },
    {
     "name": "stderr",
     "output_type": "stream",
     "text": [
      "\r",
      "Sampling 4 chains:  13%|█▎        | 266/2040 [01:03<10:04,  2.94draws/s]"
     ]
    },
    {
     "name": "stderr",
     "output_type": "stream",
     "text": [
      "\r",
      "Sampling 4 chains:  13%|█▎        | 268/2040 [01:03<07:32,  3.92draws/s]"
     ]
    },
    {
     "name": "stderr",
     "output_type": "stream",
     "text": [
      "\r",
      "Sampling 4 chains:  13%|█▎        | 270/2040 [01:03<08:40,  3.40draws/s]"
     ]
    },
    {
     "name": "stderr",
     "output_type": "stream",
     "text": [
      "\r",
      "Sampling 4 chains:  13%|█▎        | 272/2040 [01:04<06:36,  4.46draws/s]"
     ]
    },
    {
     "name": "stderr",
     "output_type": "stream",
     "text": [
      "\r",
      "Sampling 4 chains:  13%|█▎        | 274/2040 [01:04<08:01,  3.67draws/s]"
     ]
    },
    {
     "name": "stderr",
     "output_type": "stream",
     "text": [
      "\r",
      "Sampling 4 chains:  14%|█▎        | 276/2040 [01:04<06:09,  4.78draws/s]"
     ]
    },
    {
     "name": "stderr",
     "output_type": "stream",
     "text": [
      "\r",
      "Sampling 4 chains:  14%|█▎        | 278/2040 [01:05<07:40,  3.83draws/s]"
     ]
    },
    {
     "name": "stderr",
     "output_type": "stream",
     "text": [
      "\r",
      "Sampling 4 chains:  14%|█▎        | 280/2040 [01:05<05:54,  4.96draws/s]"
     ]
    },
    {
     "name": "stderr",
     "output_type": "stream",
     "text": [
      "\r",
      "Sampling 4 chains:  14%|█▍        | 282/2040 [01:06<07:27,  3.93draws/s]"
     ]
    },
    {
     "name": "stderr",
     "output_type": "stream",
     "text": [
      "\r",
      "Sampling 4 chains:  14%|█▍        | 283/2040 [01:06<06:20,  4.61draws/s]"
     ]
    },
    {
     "name": "stderr",
     "output_type": "stream",
     "text": [
      "\r",
      "Sampling 4 chains:  14%|█▍        | 284/2040 [01:06<05:28,  5.34draws/s]"
     ]
    },
    {
     "name": "stderr",
     "output_type": "stream",
     "text": [
      "\r",
      "Sampling 4 chains:  14%|█▍        | 286/2040 [01:07<06:36,  4.43draws/s]"
     ]
    },
    {
     "name": "stderr",
     "output_type": "stream",
     "text": [
      "\r",
      "Sampling 4 chains:  14%|█▍        | 287/2040 [01:07<05:52,  4.98draws/s]"
     ]
    },
    {
     "name": "stderr",
     "output_type": "stream",
     "text": [
      "\r",
      "Sampling 4 chains:  14%|█▍        | 288/2040 [01:07<05:07,  5.70draws/s]"
     ]
    },
    {
     "name": "stderr",
     "output_type": "stream",
     "text": [
      "\r",
      "Sampling 4 chains:  14%|█▍        | 290/2040 [01:08<06:18,  4.63draws/s]"
     ]
    },
    {
     "name": "stderr",
     "output_type": "stream",
     "text": [
      "\r",
      "Sampling 4 chains:  14%|█▍        | 291/2040 [01:08<05:41,  5.12draws/s]"
     ]
    },
    {
     "name": "stderr",
     "output_type": "stream",
     "text": [
      "\r",
      "Sampling 4 chains:  14%|█▍        | 292/2040 [01:08<05:03,  5.76draws/s]"
     ]
    },
    {
     "name": "stderr",
     "output_type": "stream",
     "text": [
      "\r",
      "Sampling 4 chains:  14%|█▍        | 294/2040 [01:09<06:20,  4.59draws/s]"
     ]
    },
    {
     "name": "stderr",
     "output_type": "stream",
     "text": [
      "\r",
      "Sampling 4 chains:  14%|█▍        | 295/2040 [01:09<05:34,  5.21draws/s]"
     ]
    },
    {
     "name": "stderr",
     "output_type": "stream",
     "text": [
      "\r",
      "Sampling 4 chains:  15%|█▍        | 296/2040 [01:09<04:54,  5.91draws/s]"
     ]
    },
    {
     "name": "stderr",
     "output_type": "stream",
     "text": [
      "\r",
      "Sampling 4 chains:  15%|█▍        | 298/2040 [01:10<06:19,  4.60draws/s]"
     ]
    },
    {
     "name": "stderr",
     "output_type": "stream",
     "text": [
      "\r",
      "Sampling 4 chains:  15%|█▍        | 299/2040 [01:10<05:35,  5.18draws/s]"
     ]
    },
    {
     "name": "stderr",
     "output_type": "stream",
     "text": [
      "\r",
      "Sampling 4 chains:  15%|█▍        | 301/2040 [01:10<04:39,  6.23draws/s]"
     ]
    },
    {
     "name": "stderr",
     "output_type": "stream",
     "text": [
      "\r",
      "Sampling 4 chains:  15%|█▍        | 302/2040 [01:11<08:14,  3.51draws/s]"
     ]
    },
    {
     "name": "stderr",
     "output_type": "stream",
     "text": [
      "\r",
      "Sampling 4 chains:  15%|█▍        | 303/2040 [01:11<07:05,  4.08draws/s]"
     ]
    },
    {
     "name": "stderr",
     "output_type": "stream",
     "text": [
      "\r",
      "Sampling 4 chains:  15%|█▍        | 305/2040 [01:11<05:38,  5.12draws/s]"
     ]
    },
    {
     "name": "stderr",
     "output_type": "stream",
     "text": [
      "\r",
      "Sampling 4 chains:  15%|█▌        | 306/2040 [01:12<09:20,  3.09draws/s]"
     ]
    },
    {
     "name": "stderr",
     "output_type": "stream",
     "text": [
      "\r",
      "Sampling 4 chains:  15%|█▌        | 307/2040 [01:12<07:57,  3.63draws/s]"
     ]
    },
    {
     "name": "stderr",
     "output_type": "stream",
     "text": [
      "\r",
      "Sampling 4 chains:  15%|█▌        | 309/2040 [01:12<06:06,  4.72draws/s]"
     ]
    },
    {
     "name": "stderr",
     "output_type": "stream",
     "text": [
      "\r",
      "Sampling 4 chains:  15%|█▌        | 310/2040 [01:12<09:45,  2.95draws/s]"
     ]
    },
    {
     "name": "stderr",
     "output_type": "stream",
     "text": [
      "\r",
      "Sampling 4 chains:  15%|█▌        | 311/2040 [01:13<08:06,  3.56draws/s]"
     ]
    },
    {
     "name": "stderr",
     "output_type": "stream",
     "text": [
      "\r",
      "Sampling 4 chains:  15%|█▌        | 313/2040 [01:13<06:13,  4.63draws/s]"
     ]
    },
    {
     "name": "stderr",
     "output_type": "stream",
     "text": [
      "\r",
      "Sampling 4 chains:  15%|█▌        | 314/2040 [01:13<09:50,  2.93draws/s]"
     ]
    },
    {
     "name": "stderr",
     "output_type": "stream",
     "text": [
      "\r",
      "Sampling 4 chains:  15%|█▌        | 315/2040 [01:13<08:06,  3.55draws/s]"
     ]
    },
    {
     "name": "stderr",
     "output_type": "stream",
     "text": [
      "\r",
      "Sampling 4 chains:  16%|█▌        | 317/2040 [01:14<06:13,  4.61draws/s]"
     ]
    },
    {
     "name": "stderr",
     "output_type": "stream",
     "text": [
      "\r",
      "Sampling 4 chains:  16%|█▌        | 318/2040 [01:14<09:47,  2.93draws/s]"
     ]
    },
    {
     "name": "stderr",
     "output_type": "stream",
     "text": [
      "\r",
      "Sampling 4 chains:  16%|█▌        | 319/2040 [01:14<07:59,  3.59draws/s]"
     ]
    },
    {
     "name": "stderr",
     "output_type": "stream",
     "text": [
      "\r",
      "Sampling 4 chains:  16%|█▌        | 321/2040 [01:15<06:06,  4.70draws/s]"
     ]
    },
    {
     "name": "stderr",
     "output_type": "stream",
     "text": [
      "\r",
      "Sampling 4 chains:  16%|█▌        | 323/2040 [01:15<07:34,  3.78draws/s]"
     ]
    },
    {
     "name": "stderr",
     "output_type": "stream",
     "text": [
      "\r",
      "Sampling 4 chains:  16%|█▌        | 325/2040 [01:15<05:47,  4.94draws/s]"
     ]
    },
    {
     "name": "stderr",
     "output_type": "stream",
     "text": [
      "\r",
      "Sampling 4 chains:  16%|█▌        | 327/2040 [01:16<07:21,  3.88draws/s]"
     ]
    },
    {
     "name": "stderr",
     "output_type": "stream",
     "text": [
      "\r",
      "Sampling 4 chains:  16%|█▌        | 329/2040 [01:16<05:36,  5.08draws/s]"
     ]
    },
    {
     "name": "stderr",
     "output_type": "stream",
     "text": [
      "\r",
      "Sampling 4 chains:  16%|█▌        | 331/2040 [01:17<07:13,  3.94draws/s]"
     ]
    },
    {
     "name": "stderr",
     "output_type": "stream",
     "text": [
      "\r",
      "Sampling 4 chains:  16%|█▋        | 333/2040 [01:17<05:30,  5.16draws/s]"
     ]
    },
    {
     "name": "stderr",
     "output_type": "stream",
     "text": [
      "\r",
      "Sampling 4 chains:  16%|█▋        | 335/2040 [01:18<07:08,  3.98draws/s]"
     ]
    },
    {
     "name": "stderr",
     "output_type": "stream",
     "text": [
      "\r",
      "Sampling 4 chains:  17%|█▋        | 337/2040 [01:18<05:27,  5.20draws/s]"
     ]
    },
    {
     "name": "stderr",
     "output_type": "stream",
     "text": [
      "\r",
      "Sampling 4 chains:  17%|█▋        | 339/2040 [01:19<07:07,  3.98draws/s]"
     ]
    },
    {
     "name": "stderr",
     "output_type": "stream",
     "text": [
      "\r",
      "Sampling 4 chains:  17%|█▋        | 341/2040 [01:19<05:24,  5.23draws/s]"
     ]
    },
    {
     "name": "stderr",
     "output_type": "stream",
     "text": [
      "\r",
      "Sampling 4 chains:  17%|█▋        | 343/2040 [01:20<07:07,  3.97draws/s]"
     ]
    },
    {
     "name": "stderr",
     "output_type": "stream",
     "text": [
      "\r",
      "Sampling 4 chains:  17%|█▋        | 345/2040 [01:20<05:25,  5.21draws/s]"
     ]
    },
    {
     "name": "stderr",
     "output_type": "stream",
     "text": [
      "\r",
      "Sampling 4 chains:  17%|█▋        | 347/2040 [01:21<07:06,  3.97draws/s]"
     ]
    },
    {
     "name": "stderr",
     "output_type": "stream",
     "text": [
      "\r",
      "Sampling 4 chains:  17%|█▋        | 350/2040 [01:21<06:53,  4.09draws/s]"
     ]
    },
    {
     "name": "stderr",
     "output_type": "stream",
     "text": [
      "\r",
      "Sampling 4 chains:  17%|█▋        | 351/2040 [01:21<06:33,  4.29draws/s]"
     ]
    },
    {
     "name": "stderr",
     "output_type": "stream",
     "text": [
      "\r",
      "Sampling 4 chains:  17%|█▋        | 354/2040 [01:22<06:28,  4.34draws/s]"
     ]
    },
    {
     "name": "stderr",
     "output_type": "stream",
     "text": [
      "\r",
      "Sampling 4 chains:  17%|█▋        | 355/2040 [01:22<06:23,  4.40draws/s]"
     ]
    },
    {
     "name": "stderr",
     "output_type": "stream",
     "text": [
      "\r",
      "Sampling 4 chains:  18%|█▊        | 357/2040 [01:22<04:55,  5.70draws/s]"
     ]
    },
    {
     "name": "stderr",
     "output_type": "stream",
     "text": [
      "\r",
      "Sampling 4 chains:  18%|█▊        | 358/2040 [01:23<08:08,  3.44draws/s]"
     ]
    },
    {
     "name": "stderr",
     "output_type": "stream",
     "text": [
      "\r",
      "Sampling 4 chains:  18%|█▊        | 359/2040 [01:23<07:40,  3.65draws/s]"
     ]
    },
    {
     "name": "stderr",
     "output_type": "stream",
     "text": [
      "\r",
      "Sampling 4 chains:  18%|█▊        | 362/2040 [01:24<07:10,  3.90draws/s]"
     ]
    },
    {
     "name": "stderr",
     "output_type": "stream",
     "text": [
      "\r",
      "Sampling 4 chains:  18%|█▊        | 363/2040 [01:24<07:03,  3.96draws/s]"
     ]
    },
    {
     "name": "stderr",
     "output_type": "stream",
     "text": [
      "\r",
      "Sampling 4 chains:  18%|█▊        | 366/2040 [01:25<06:41,  4.16draws/s]"
     ]
    },
    {
     "name": "stderr",
     "output_type": "stream",
     "text": [
      "\r",
      "Sampling 4 chains:  18%|█▊        | 367/2040 [01:25<06:48,  4.09draws/s]"
     ]
    },
    {
     "name": "stderr",
     "output_type": "stream",
     "text": [
      "\r",
      "Sampling 4 chains:  18%|█▊        | 370/2040 [01:26<06:30,  4.27draws/s]"
     ]
    },
    {
     "name": "stderr",
     "output_type": "stream",
     "text": [
      "\r",
      "Sampling 4 chains:  18%|█▊        | 371/2040 [01:26<06:45,  4.12draws/s]"
     ]
    },
    {
     "name": "stderr",
     "output_type": "stream",
     "text": [
      "\r",
      "Sampling 4 chains:  18%|█▊        | 373/2040 [01:26<05:11,  5.35draws/s]"
     ]
    },
    {
     "name": "stderr",
     "output_type": "stream",
     "text": [
      "\r",
      "Sampling 4 chains:  18%|█▊        | 374/2040 [01:27<07:50,  3.54draws/s]"
     ]
    },
    {
     "name": "stderr",
     "output_type": "stream",
     "text": [
      "\r",
      "Sampling 4 chains:  18%|█▊        | 375/2040 [01:27<07:42,  3.60draws/s]"
     ]
    },
    {
     "name": "stderr",
     "output_type": "stream",
     "text": [
      "\r",
      "Sampling 4 chains:  18%|█▊        | 377/2040 [01:27<05:52,  4.72draws/s]"
     ]
    },
    {
     "name": "stderr",
     "output_type": "stream",
     "text": [
      "\r",
      "Sampling 4 chains:  19%|█▊        | 378/2040 [01:27<08:10,  3.39draws/s]"
     ]
    },
    {
     "name": "stderr",
     "output_type": "stream",
     "text": [
      "\r",
      "Sampling 4 chains:  19%|█▊        | 379/2040 [01:28<08:01,  3.45draws/s]"
     ]
    },
    {
     "name": "stderr",
     "output_type": "stream",
     "text": [
      "\r",
      "Sampling 4 chains:  19%|█▊        | 381/2040 [01:28<06:05,  4.54draws/s]"
     ]
    },
    {
     "name": "stderr",
     "output_type": "stream",
     "text": [
      "\r",
      "Sampling 4 chains:  19%|█▊        | 382/2040 [01:28<08:19,  3.32draws/s]"
     ]
    },
    {
     "name": "stderr",
     "output_type": "stream",
     "text": [
      "\r",
      "Sampling 4 chains:  19%|█▉        | 383/2040 [01:29<08:09,  3.39draws/s]"
     ]
    },
    {
     "name": "stderr",
     "output_type": "stream",
     "text": [
      "\r",
      "Sampling 4 chains:  19%|█▉        | 385/2040 [01:29<06:19,  4.36draws/s]"
     ]
    },
    {
     "name": "stderr",
     "output_type": "stream",
     "text": [
      "\r",
      "Sampling 4 chains:  19%|█▉        | 386/2040 [01:29<08:36,  3.20draws/s]"
     ]
    },
    {
     "name": "stderr",
     "output_type": "stream",
     "text": [
      "\r",
      "Sampling 4 chains:  19%|█▉        | 387/2040 [01:30<08:29,  3.24draws/s]"
     ]
    },
    {
     "name": "stderr",
     "output_type": "stream",
     "text": [
      "\r",
      "Sampling 4 chains:  19%|█▉        | 389/2040 [01:30<06:31,  4.21draws/s]"
     ]
    },
    {
     "name": "stderr",
     "output_type": "stream",
     "text": [
      "\r",
      "Sampling 4 chains:  19%|█▉        | 390/2040 [01:30<09:45,  2.82draws/s]"
     ]
    },
    {
     "name": "stderr",
     "output_type": "stream",
     "text": [
      "\r",
      "Sampling 4 chains:  19%|█▉        | 391/2040 [01:31<08:45,  3.14draws/s]"
     ]
    },
    {
     "name": "stderr",
     "output_type": "stream",
     "text": [
      "\r",
      "Sampling 4 chains:  19%|█▉        | 393/2040 [01:31<07:07,  3.85draws/s]"
     ]
    },
    {
     "name": "stderr",
     "output_type": "stream",
     "text": [
      "\r",
      "Sampling 4 chains:  19%|█▉        | 394/2040 [01:31<08:59,  3.05draws/s]"
     ]
    },
    {
     "name": "stderr",
     "output_type": "stream",
     "text": [
      "\r",
      "Sampling 4 chains:  19%|█▉        | 395/2040 [01:32<08:00,  3.42draws/s]"
     ]
    },
    {
     "name": "stderr",
     "output_type": "stream",
     "text": [
      "\r",
      "Sampling 4 chains:  19%|█▉        | 397/2040 [01:32<06:37,  4.14draws/s]"
     ]
    },
    {
     "name": "stderr",
     "output_type": "stream",
     "text": [
      "\r",
      "Sampling 4 chains:  20%|█▉        | 398/2040 [01:32<09:03,  3.02draws/s]"
     ]
    },
    {
     "name": "stderr",
     "output_type": "stream",
     "text": [
      "\r",
      "Sampling 4 chains:  20%|█▉        | 399/2040 [01:33<08:10,  3.34draws/s]"
     ]
    },
    {
     "name": "stderr",
     "output_type": "stream",
     "text": [
      "\r",
      "Sampling 4 chains:  20%|█▉        | 401/2040 [01:33<06:37,  4.13draws/s]"
     ]
    },
    {
     "name": "stderr",
     "output_type": "stream",
     "text": [
      "\r",
      "Sampling 4 chains:  20%|█▉        | 402/2040 [01:33<08:17,  3.29draws/s]"
     ]
    },
    {
     "name": "stderr",
     "output_type": "stream",
     "text": [
      "\r",
      "Sampling 4 chains:  20%|█▉        | 403/2040 [01:33<07:41,  3.55draws/s]"
     ]
    },
    {
     "name": "stderr",
     "output_type": "stream",
     "text": [
      "\r",
      "Sampling 4 chains:  20%|█▉        | 405/2040 [01:34<06:21,  4.29draws/s]"
     ]
    },
    {
     "name": "stderr",
     "output_type": "stream",
     "text": [
      "\r",
      "Sampling 4 chains:  20%|█▉        | 406/2040 [01:34<08:04,  3.38draws/s]"
     ]
    },
    {
     "name": "stderr",
     "output_type": "stream",
     "text": [
      "\r",
      "Sampling 4 chains:  20%|█▉        | 407/2040 [01:34<07:54,  3.44draws/s]"
     ]
    },
    {
     "name": "stderr",
     "output_type": "stream",
     "text": [
      "\r",
      "Sampling 4 chains:  20%|██        | 409/2040 [01:35<06:25,  4.23draws/s]"
     ]
    },
    {
     "name": "stderr",
     "output_type": "stream",
     "text": [
      "\r",
      "Sampling 4 chains:  20%|██        | 410/2040 [01:35<07:46,  3.49draws/s]"
     ]
    },
    {
     "name": "stderr",
     "output_type": "stream",
     "text": [
      "\r",
      "Sampling 4 chains:  20%|██        | 411/2040 [01:35<07:45,  3.50draws/s]"
     ]
    },
    {
     "name": "stderr",
     "output_type": "stream",
     "text": [
      "\r",
      "Sampling 4 chains:  20%|██        | 413/2040 [01:35<06:15,  4.33draws/s]"
     ]
    },
    {
     "name": "stderr",
     "output_type": "stream",
     "text": [
      "\r",
      "Sampling 4 chains:  20%|██        | 414/2040 [01:36<07:38,  3.55draws/s]"
     ]
    },
    {
     "name": "stderr",
     "output_type": "stream",
     "text": [
      "\r",
      "Sampling 4 chains:  20%|██        | 415/2040 [01:36<07:38,  3.55draws/s]"
     ]
    },
    {
     "name": "stderr",
     "output_type": "stream",
     "text": [
      "\r",
      "Sampling 4 chains:  20%|██        | 417/2040 [01:36<06:11,  4.37draws/s]"
     ]
    },
    {
     "name": "stderr",
     "output_type": "stream",
     "text": [
      "\r",
      "Sampling 4 chains:  20%|██        | 418/2040 [01:37<07:56,  3.41draws/s]"
     ]
    },
    {
     "name": "stderr",
     "output_type": "stream",
     "text": [
      "\r",
      "Sampling 4 chains:  21%|██        | 419/2040 [01:37<07:49,  3.45draws/s]"
     ]
    },
    {
     "name": "stderr",
     "output_type": "stream",
     "text": [
      "\r",
      "Sampling 4 chains:  21%|██        | 421/2040 [01:37<06:20,  4.25draws/s]"
     ]
    },
    {
     "name": "stderr",
     "output_type": "stream",
     "text": [
      "\r",
      "Sampling 4 chains:  21%|██        | 422/2040 [01:38<07:54,  3.41draws/s]"
     ]
    },
    {
     "name": "stderr",
     "output_type": "stream",
     "text": [
      "\r",
      "Sampling 4 chains:  21%|██        | 423/2040 [01:38<07:52,  3.42draws/s]"
     ]
    },
    {
     "name": "stderr",
     "output_type": "stream",
     "text": [
      "\r",
      "Sampling 4 chains:  21%|██        | 425/2040 [01:38<06:27,  4.16draws/s]"
     ]
    },
    {
     "name": "stderr",
     "output_type": "stream",
     "text": [
      "\r",
      "Sampling 4 chains:  21%|██        | 426/2040 [01:39<07:48,  3.44draws/s]"
     ]
    },
    {
     "name": "stderr",
     "output_type": "stream",
     "text": [
      "\r",
      "Sampling 4 chains:  21%|██        | 427/2040 [01:39<07:40,  3.51draws/s]"
     ]
    },
    {
     "name": "stderr",
     "output_type": "stream",
     "text": [
      "\r",
      "Sampling 4 chains:  21%|██        | 429/2040 [01:40<07:42,  3.48draws/s]"
     ]
    },
    {
     "name": "stderr",
     "output_type": "stream",
     "text": [
      "\r",
      "Sampling 4 chains:  21%|██        | 431/2040 [01:40<06:41,  4.00draws/s]"
     ]
    },
    {
     "name": "stderr",
     "output_type": "stream",
     "text": [
      "\r",
      "Sampling 4 chains:  21%|██        | 433/2040 [01:41<07:12,  3.71draws/s]"
     ]
    },
    {
     "name": "stderr",
     "output_type": "stream",
     "text": [
      "\r",
      "Sampling 4 chains:  21%|██▏       | 434/2040 [01:41<07:17,  3.67draws/s]"
     ]
    },
    {
     "name": "stderr",
     "output_type": "stream",
     "text": [
      "\r",
      "Sampling 4 chains:  21%|██▏       | 436/2040 [01:41<06:29,  4.12draws/s]"
     ]
    },
    {
     "name": "stderr",
     "output_type": "stream",
     "text": [
      "\r",
      "Sampling 4 chains:  21%|██▏       | 437/2040 [01:41<06:43,  3.97draws/s]"
     ]
    },
    {
     "name": "stderr",
     "output_type": "stream",
     "text": [
      "\r",
      "Sampling 4 chains:  21%|██▏       | 438/2040 [01:42<07:02,  3.79draws/s]"
     ]
    },
    {
     "name": "stderr",
     "output_type": "stream",
     "text": [
      "\r",
      "Sampling 4 chains:  22%|██▏       | 440/2040 [01:42<07:18,  3.65draws/s]"
     ]
    },
    {
     "name": "stderr",
     "output_type": "stream",
     "text": [
      "\r",
      "Sampling 4 chains:  22%|██▏       | 441/2040 [01:43<07:36,  3.51draws/s]"
     ]
    },
    {
     "name": "stderr",
     "output_type": "stream",
     "text": [
      "\r",
      "Sampling 4 chains:  22%|██▏       | 443/2040 [01:43<05:43,  4.64draws/s]"
     ]
    },
    {
     "name": "stderr",
     "output_type": "stream",
     "text": [
      "\r",
      "Sampling 4 chains:  22%|██▏       | 444/2040 [01:43<07:57,  3.34draws/s]"
     ]
    },
    {
     "name": "stderr",
     "output_type": "stream",
     "text": [
      "\r",
      "Sampling 4 chains:  22%|██▏       | 445/2040 [01:44<08:36,  3.09draws/s]"
     ]
    },
    {
     "name": "stderr",
     "output_type": "stream",
     "text": [
      "\r",
      "Sampling 4 chains:  22%|██▏       | 446/2040 [01:44<08:51,  3.00draws/s]"
     ]
    },
    {
     "name": "stderr",
     "output_type": "stream",
     "text": [
      "\r",
      "Sampling 4 chains:  22%|██▏       | 447/2040 [01:44<07:34,  3.51draws/s]"
     ]
    },
    {
     "name": "stderr",
     "output_type": "stream",
     "text": [
      "\r",
      "Sampling 4 chains:  22%|██▏       | 448/2040 [01:44<06:58,  3.80draws/s]"
     ]
    },
    {
     "name": "stderr",
     "output_type": "stream",
     "text": [
      "\r",
      "Sampling 4 chains:  22%|██▏       | 449/2040 [01:44<06:13,  4.26draws/s]"
     ]
    },
    {
     "name": "stderr",
     "output_type": "stream",
     "text": [
      "\r",
      "Sampling 4 chains:  22%|██▏       | 450/2040 [01:45<08:28,  3.13draws/s]"
     ]
    },
    {
     "name": "stderr",
     "output_type": "stream",
     "text": [
      "\r",
      "Sampling 4 chains:  22%|██▏       | 451/2040 [01:45<09:03,  2.92draws/s]"
     ]
    },
    {
     "name": "stderr",
     "output_type": "stream",
     "text": [
      "\r",
      "Sampling 4 chains:  22%|██▏       | 452/2040 [01:46<07:37,  3.47draws/s]"
     ]
    },
    {
     "name": "stderr",
     "output_type": "stream",
     "text": [
      "\r",
      "Sampling 4 chains:  22%|██▏       | 453/2040 [01:46<08:04,  3.28draws/s]"
     ]
    },
    {
     "name": "stderr",
     "output_type": "stream",
     "text": [
      "\r",
      "Sampling 4 chains:  22%|██▏       | 455/2040 [01:46<07:14,  3.65draws/s]"
     ]
    },
    {
     "name": "stderr",
     "output_type": "stream",
     "text": [
      "\r",
      "Sampling 4 chains:  22%|██▏       | 456/2040 [01:47<07:51,  3.36draws/s]"
     ]
    },
    {
     "name": "stderr",
     "output_type": "stream",
     "text": [
      "\r",
      "Sampling 4 chains:  22%|██▏       | 457/2040 [01:47<06:36,  3.99draws/s]"
     ]
    },
    {
     "name": "stderr",
     "output_type": "stream",
     "text": [
      "\r",
      "Sampling 4 chains:  22%|██▎       | 459/2040 [01:47<06:22,  4.13draws/s]"
     ]
    },
    {
     "name": "stderr",
     "output_type": "stream",
     "text": [
      "\r",
      "Sampling 4 chains:  23%|██▎       | 460/2040 [01:48<06:53,  3.82draws/s]"
     ]
    },
    {
     "name": "stderr",
     "output_type": "stream",
     "text": [
      "\r",
      "Sampling 4 chains:  23%|██▎       | 461/2040 [01:48<05:57,  4.42draws/s]"
     ]
    },
    {
     "name": "stderr",
     "output_type": "stream",
     "text": [
      "\r",
      "Sampling 4 chains:  23%|██▎       | 463/2040 [01:48<05:59,  4.39draws/s]"
     ]
    },
    {
     "name": "stderr",
     "output_type": "stream",
     "text": [
      "\r",
      "Sampling 4 chains:  23%|██▎       | 464/2040 [01:48<06:26,  4.08draws/s]"
     ]
    },
    {
     "name": "stderr",
     "output_type": "stream",
     "text": [
      "\r",
      "Sampling 4 chains:  23%|██▎       | 465/2040 [01:49<05:40,  4.63draws/s]"
     ]
    },
    {
     "name": "stderr",
     "output_type": "stream",
     "text": [
      "\r",
      "Sampling 4 chains:  23%|██▎       | 467/2040 [01:49<05:47,  4.52draws/s]"
     ]
    },
    {
     "name": "stderr",
     "output_type": "stream",
     "text": [
      "\r",
      "Sampling 4 chains:  23%|██▎       | 468/2040 [01:49<06:11,  4.23draws/s]"
     ]
    },
    {
     "name": "stderr",
     "output_type": "stream",
     "text": [
      "\r",
      "Sampling 4 chains:  23%|██▎       | 469/2040 [01:49<05:30,  4.75draws/s]"
     ]
    },
    {
     "name": "stderr",
     "output_type": "stream",
     "text": [
      "\r",
      "Sampling 4 chains:  23%|██▎       | 471/2040 [01:50<05:44,  4.56draws/s]"
     ]
    },
    {
     "name": "stderr",
     "output_type": "stream",
     "text": [
      "\r",
      "Sampling 4 chains:  23%|██▎       | 472/2040 [01:50<06:01,  4.33draws/s]"
     ]
    },
    {
     "name": "stderr",
     "output_type": "stream",
     "text": [
      "\r",
      "Sampling 4 chains:  23%|██▎       | 473/2040 [01:50<05:25,  4.81draws/s]"
     ]
    },
    {
     "name": "stderr",
     "output_type": "stream",
     "text": [
      "\r",
      "Sampling 4 chains:  23%|██▎       | 475/2040 [01:51<05:42,  4.57draws/s]"
     ]
    },
    {
     "name": "stderr",
     "output_type": "stream",
     "text": [
      "\r",
      "Sampling 4 chains:  23%|██▎       | 476/2040 [01:51<05:55,  4.40draws/s]"
     ]
    },
    {
     "name": "stderr",
     "output_type": "stream",
     "text": [
      "\r",
      "Sampling 4 chains:  23%|██▎       | 477/2040 [01:51<05:19,  4.89draws/s]"
     ]
    },
    {
     "name": "stderr",
     "output_type": "stream",
     "text": [
      "\r",
      "Sampling 4 chains:  23%|██▎       | 479/2040 [01:52<05:39,  4.59draws/s]"
     ]
    },
    {
     "name": "stderr",
     "output_type": "stream",
     "text": [
      "\r",
      "Sampling 4 chains:  24%|██▎       | 480/2040 [01:52<05:51,  4.44draws/s]"
     ]
    },
    {
     "name": "stderr",
     "output_type": "stream",
     "text": [
      "\r",
      "Sampling 4 chains:  24%|██▎       | 481/2040 [01:52<05:22,  4.84draws/s]"
     ]
    },
    {
     "name": "stderr",
     "output_type": "stream",
     "text": [
      "\r",
      "Sampling 4 chains:  24%|██▎       | 483/2040 [01:53<05:38,  4.59draws/s]"
     ]
    },
    {
     "name": "stderr",
     "output_type": "stream",
     "text": [
      "\r",
      "Sampling 4 chains:  24%|██▎       | 484/2040 [01:53<05:46,  4.49draws/s]"
     ]
    },
    {
     "name": "stderr",
     "output_type": "stream",
     "text": [
      "\r",
      "Sampling 4 chains:  24%|██▍       | 485/2040 [01:53<05:19,  4.86draws/s]"
     ]
    },
    {
     "name": "stderr",
     "output_type": "stream",
     "text": [
      "\r",
      "Sampling 4 chains:  24%|██▍       | 487/2040 [01:54<05:37,  4.60draws/s]"
     ]
    },
    {
     "name": "stderr",
     "output_type": "stream",
     "text": [
      "\r",
      "Sampling 4 chains:  24%|██▍       | 488/2040 [01:54<05:45,  4.49draws/s]"
     ]
    },
    {
     "name": "stderr",
     "output_type": "stream",
     "text": [
      "\r",
      "Sampling 4 chains:  24%|██▍       | 489/2040 [01:54<05:19,  4.85draws/s]"
     ]
    },
    {
     "name": "stderr",
     "output_type": "stream",
     "text": [
      "\r",
      "Sampling 4 chains:  24%|██▍       | 491/2040 [01:54<05:36,  4.60draws/s]"
     ]
    },
    {
     "name": "stderr",
     "output_type": "stream",
     "text": [
      "\r",
      "Sampling 4 chains:  24%|██▍       | 492/2040 [01:55<05:43,  4.50draws/s]"
     ]
    },
    {
     "name": "stderr",
     "output_type": "stream",
     "text": [
      "\r",
      "Sampling 4 chains:  24%|██▍       | 493/2040 [01:55<05:15,  4.91draws/s]"
     ]
    },
    {
     "name": "stderr",
     "output_type": "stream",
     "text": [
      "\r",
      "Sampling 4 chains:  24%|██▍       | 495/2040 [01:55<05:34,  4.62draws/s]"
     ]
    },
    {
     "name": "stderr",
     "output_type": "stream",
     "text": [
      "\r",
      "Sampling 4 chains:  24%|██▍       | 496/2040 [01:56<05:41,  4.52draws/s]"
     ]
    },
    {
     "name": "stderr",
     "output_type": "stream",
     "text": [
      "\r",
      "Sampling 4 chains:  24%|██▍       | 497/2040 [01:56<05:16,  4.88draws/s]"
     ]
    },
    {
     "name": "stderr",
     "output_type": "stream",
     "text": [
      "\r",
      "Sampling 4 chains:  24%|██▍       | 499/2040 [01:56<05:34,  4.61draws/s]"
     ]
    },
    {
     "name": "stderr",
     "output_type": "stream",
     "text": [
      "\r",
      "Sampling 4 chains:  25%|██▍       | 500/2040 [01:56<05:40,  4.52draws/s]"
     ]
    },
    {
     "name": "stderr",
     "output_type": "stream",
     "text": [
      "\r",
      "Sampling 4 chains:  25%|██▍       | 501/2040 [01:57<05:13,  4.92draws/s]"
     ]
    },
    {
     "name": "stderr",
     "output_type": "stream",
     "text": [
      "\r",
      "Sampling 4 chains:  25%|██▍       | 503/2040 [01:57<05:33,  4.61draws/s]"
     ]
    },
    {
     "name": "stderr",
     "output_type": "stream",
     "text": [
      "\r",
      "Sampling 4 chains:  25%|██▍       | 504/2040 [01:57<05:40,  4.51draws/s]"
     ]
    },
    {
     "name": "stderr",
     "output_type": "stream",
     "text": [
      "\r",
      "Sampling 4 chains:  25%|██▍       | 505/2040 [01:57<05:09,  4.96draws/s]"
     ]
    },
    {
     "name": "stderr",
     "output_type": "stream",
     "text": [
      "\r",
      "Sampling 4 chains:  25%|██▍       | 507/2040 [01:58<05:32,  4.61draws/s]"
     ]
    },
    {
     "name": "stderr",
     "output_type": "stream",
     "text": [
      "\r",
      "Sampling 4 chains:  25%|██▍       | 508/2040 [01:58<05:35,  4.57draws/s]"
     ]
    },
    {
     "name": "stderr",
     "output_type": "stream",
     "text": [
      "\r",
      "Sampling 4 chains:  25%|██▍       | 509/2040 [01:58<05:04,  5.03draws/s]"
     ]
    },
    {
     "name": "stderr",
     "output_type": "stream",
     "text": [
      "\r",
      "Sampling 4 chains:  25%|██▌       | 511/2040 [01:59<05:32,  4.60draws/s]"
     ]
    },
    {
     "name": "stderr",
     "output_type": "stream",
     "text": [
      "\r",
      "Sampling 4 chains:  25%|██▌       | 512/2040 [01:59<05:30,  4.62draws/s]"
     ]
    },
    {
     "name": "stderr",
     "output_type": "stream",
     "text": [
      "\r",
      "Sampling 4 chains:  25%|██▌       | 513/2040 [01:59<05:00,  5.08draws/s]"
     ]
    },
    {
     "name": "stderr",
     "output_type": "stream",
     "text": [
      "\r",
      "Sampling 4 chains:  25%|██▌       | 514/2040 [02:00<05:52,  4.33draws/s]"
     ]
    },
    {
     "name": "stderr",
     "output_type": "stream",
     "text": [
      "\r",
      "Sampling 4 chains:  25%|██▌       | 515/2040 [02:00<05:45,  4.41draws/s]"
     ]
    },
    {
     "name": "stderr",
     "output_type": "stream",
     "text": [
      "\r",
      "Sampling 4 chains:  25%|██▌       | 516/2040 [02:00<05:39,  4.49draws/s]"
     ]
    },
    {
     "name": "stderr",
     "output_type": "stream",
     "text": [
      "\r",
      "Sampling 4 chains:  25%|██▌       | 517/2040 [02:00<05:03,  5.01draws/s]"
     ]
    },
    {
     "name": "stderr",
     "output_type": "stream",
     "text": [
      "\r",
      "Sampling 4 chains:  25%|██▌       | 518/2040 [02:01<07:31,  3.37draws/s]"
     ]
    },
    {
     "name": "stderr",
     "output_type": "stream",
     "text": [
      "\r",
      "Sampling 4 chains:  25%|██▌       | 519/2040 [02:01<06:03,  4.18draws/s]"
     ]
    },
    {
     "name": "stderr",
     "output_type": "stream",
     "text": [
      "\r",
      "Sampling 4 chains:  25%|██▌       | 520/2040 [02:01<05:05,  4.97draws/s]"
     ]
    },
    {
     "name": "stderr",
     "output_type": "stream",
     "text": [
      "\r",
      "Sampling 4 chains:  26%|██▌       | 521/2040 [02:01<04:41,  5.39draws/s]"
     ]
    },
    {
     "name": "stderr",
     "output_type": "stream",
     "text": [
      "\r",
      "Sampling 4 chains:  26%|██▌       | 522/2040 [02:02<07:16,  3.48draws/s]"
     ]
    },
    {
     "name": "stderr",
     "output_type": "stream",
     "text": [
      "\r",
      "Sampling 4 chains:  26%|██▌       | 523/2040 [02:02<06:49,  3.71draws/s]"
     ]
    },
    {
     "name": "stderr",
     "output_type": "stream",
     "text": [
      "\r",
      "Sampling 4 chains:  26%|██▌       | 524/2040 [02:02<06:16,  4.02draws/s]"
     ]
    },
    {
     "name": "stderr",
     "output_type": "stream",
     "text": [
      "\r",
      "Sampling 4 chains:  26%|██▌       | 525/2040 [02:02<05:51,  4.31draws/s]"
     ]
    },
    {
     "name": "stderr",
     "output_type": "stream",
     "text": [
      "\r",
      "Sampling 4 chains:  26%|██▌       | 526/2040 [02:03<08:35,  2.94draws/s]"
     ]
    },
    {
     "name": "stderr",
     "output_type": "stream",
     "text": [
      "\r",
      "Sampling 4 chains:  26%|██▌       | 527/2040 [02:03<07:01,  3.59draws/s]"
     ]
    },
    {
     "name": "stderr",
     "output_type": "stream",
     "text": [
      "\r",
      "Sampling 4 chains:  26%|██▌       | 528/2040 [02:03<05:44,  4.39draws/s]"
     ]
    },
    {
     "name": "stderr",
     "output_type": "stream",
     "text": [
      "\r",
      "Sampling 4 chains:  26%|██▌       | 529/2040 [02:03<07:17,  3.46draws/s]"
     ]
    },
    {
     "name": "stderr",
     "output_type": "stream",
     "text": [
      "\r",
      "Sampling 4 chains:  26%|██▌       | 530/2040 [02:04<07:58,  3.15draws/s]"
     ]
    },
    {
     "name": "stderr",
     "output_type": "stream",
     "text": [
      "\r",
      "Sampling 4 chains:  26%|██▌       | 531/2040 [02:04<06:22,  3.95draws/s]"
     ]
    },
    {
     "name": "stderr",
     "output_type": "stream",
     "text": [
      "\r",
      "Sampling 4 chains:  26%|██▌       | 532/2040 [02:04<08:39,  2.90draws/s]"
     ]
    },
    {
     "name": "stderr",
     "output_type": "stream",
     "text": [
      "\r",
      "Sampling 4 chains:  26%|██▌       | 533/2040 [02:05<07:29,  3.35draws/s]"
     ]
    },
    {
     "name": "stderr",
     "output_type": "stream",
     "text": [
      "\r",
      "Sampling 4 chains:  26%|██▌       | 535/2040 [02:05<05:47,  4.34draws/s]"
     ]
    },
    {
     "name": "stderr",
     "output_type": "stream",
     "text": [
      "\r",
      "Sampling 4 chains:  26%|██▋       | 536/2040 [02:05<08:12,  3.05draws/s]"
     ]
    },
    {
     "name": "stderr",
     "output_type": "stream",
     "text": [
      "\r",
      "Sampling 4 chains:  26%|██▋       | 537/2040 [02:06<07:43,  3.25draws/s]"
     ]
    },
    {
     "name": "stderr",
     "output_type": "stream",
     "text": [
      "\r",
      "Sampling 4 chains:  26%|██▋       | 539/2040 [02:06<06:37,  3.77draws/s]"
     ]
    },
    {
     "name": "stderr",
     "output_type": "stream",
     "text": [
      "\r",
      "Sampling 4 chains:  26%|██▋       | 540/2040 [02:06<06:55,  3.61draws/s]"
     ]
    },
    {
     "name": "stderr",
     "output_type": "stream",
     "text": [
      "\r",
      "Sampling 4 chains:  27%|██▋       | 541/2040 [02:07<07:15,  3.44draws/s]"
     ]
    },
    {
     "name": "stderr",
     "output_type": "stream",
     "text": [
      "\r",
      "Sampling 4 chains:  27%|██▋       | 543/2040 [02:07<07:16,  3.43draws/s]"
     ]
    },
    {
     "name": "stderr",
     "output_type": "stream",
     "text": [
      "\r",
      "Sampling 4 chains:  27%|██▋       | 544/2040 [02:07<06:44,  3.70draws/s]"
     ]
    },
    {
     "name": "stderr",
     "output_type": "stream",
     "text": [
      "\r",
      "Sampling 4 chains:  27%|██▋       | 547/2040 [02:08<06:22,  3.90draws/s]"
     ]
    },
    {
     "name": "stderr",
     "output_type": "stream",
     "text": [
      "\r",
      "Sampling 4 chains:  27%|██▋       | 548/2040 [02:08<06:39,  3.74draws/s]"
     ]
    },
    {
     "name": "stderr",
     "output_type": "stream",
     "text": [
      "\r",
      "Sampling 4 chains:  27%|██▋       | 550/2040 [02:09<05:56,  4.18draws/s]"
     ]
    },
    {
     "name": "stderr",
     "output_type": "stream",
     "text": [
      "\r",
      "Sampling 4 chains:  27%|██▋       | 551/2040 [02:09<06:02,  4.11draws/s]"
     ]
    },
    {
     "name": "stderr",
     "output_type": "stream",
     "text": [
      "\r",
      "Sampling 4 chains:  27%|██▋       | 552/2040 [02:09<06:35,  3.76draws/s]"
     ]
    },
    {
     "name": "stderr",
     "output_type": "stream",
     "text": [
      "\r",
      "Sampling 4 chains:  27%|██▋       | 554/2040 [02:10<06:48,  3.64draws/s]"
     ]
    },
    {
     "name": "stderr",
     "output_type": "stream",
     "text": [
      "\r",
      "Sampling 4 chains:  27%|██▋       | 555/2040 [02:10<06:55,  3.57draws/s]"
     ]
    },
    {
     "name": "stderr",
     "output_type": "stream",
     "text": [
      "\r",
      "Sampling 4 chains:  27%|██▋       | 558/2040 [02:11<06:19,  3.91draws/s]"
     ]
    },
    {
     "name": "stderr",
     "output_type": "stream",
     "text": [
      "\r",
      "Sampling 4 chains:  27%|██▋       | 559/2040 [02:11<06:32,  3.77draws/s]"
     ]
    },
    {
     "name": "stderr",
     "output_type": "stream",
     "text": [
      "\r",
      "Sampling 4 chains:  28%|██▊       | 561/2040 [02:12<06:48,  3.62draws/s]"
     ]
    },
    {
     "name": "stderr",
     "output_type": "stream",
     "text": [
      "\r",
      "Sampling 4 chains:  28%|██▊       | 563/2040 [02:12<05:47,  4.25draws/s]"
     ]
    },
    {
     "name": "stderr",
     "output_type": "stream",
     "text": [
      "\r",
      "Sampling 4 chains:  28%|██▊       | 565/2040 [02:13<06:17,  3.91draws/s]"
     ]
    },
    {
     "name": "stderr",
     "output_type": "stream",
     "text": [
      "\r",
      "Sampling 4 chains:  28%|██▊       | 566/2040 [02:13<06:26,  3.81draws/s]"
     ]
    },
    {
     "name": "stderr",
     "output_type": "stream",
     "text": [
      "\r",
      "Sampling 4 chains:  28%|██▊       | 568/2040 [02:13<06:03,  4.05draws/s]"
     ]
    },
    {
     "name": "stderr",
     "output_type": "stream",
     "text": [
      "\r",
      "Sampling 4 chains:  28%|██▊       | 569/2040 [02:13<05:40,  4.32draws/s]"
     ]
    },
    {
     "name": "stderr",
     "output_type": "stream",
     "text": [
      "\r",
      "Sampling 4 chains:  28%|██▊       | 570/2040 [02:14<05:58,  4.11draws/s]"
     ]
    },
    {
     "name": "stderr",
     "output_type": "stream",
     "text": [
      "\r",
      "Sampling 4 chains:  28%|██▊       | 572/2040 [02:14<06:26,  3.80draws/s]"
     ]
    },
    {
     "name": "stderr",
     "output_type": "stream",
     "text": [
      "\r",
      "Sampling 4 chains:  28%|██▊       | 573/2040 [02:15<05:53,  4.15draws/s]"
     ]
    },
    {
     "name": "stderr",
     "output_type": "stream",
     "text": [
      "\r",
      "Sampling 4 chains:  28%|██▊       | 575/2040 [02:15<04:31,  5.40draws/s]"
     ]
    },
    {
     "name": "stderr",
     "output_type": "stream",
     "text": [
      "\r",
      "Sampling 4 chains:  28%|██▊       | 576/2040 [02:15<07:32,  3.24draws/s]"
     ]
    },
    {
     "name": "stderr",
     "output_type": "stream",
     "text": [
      "\r",
      "Sampling 4 chains:  28%|██▊       | 577/2040 [02:15<07:09,  3.41draws/s]"
     ]
    },
    {
     "name": "stderr",
     "output_type": "stream",
     "text": [
      "\r",
      "Sampling 4 chains:  28%|██▊       | 579/2040 [02:16<07:04,  3.44draws/s]"
     ]
    },
    {
     "name": "stderr",
     "output_type": "stream",
     "text": [
      "\r",
      "Sampling 4 chains:  28%|██▊       | 581/2040 [02:16<06:07,  3.97draws/s]"
     ]
    },
    {
     "name": "stderr",
     "output_type": "stream",
     "text": [
      "\r",
      "Sampling 4 chains:  29%|██▊       | 583/2040 [02:17<06:37,  3.67draws/s]"
     ]
    },
    {
     "name": "stderr",
     "output_type": "stream",
     "text": [
      "\r",
      "Sampling 4 chains:  29%|██▊       | 584/2040 [02:17<06:25,  3.78draws/s]"
     ]
    },
    {
     "name": "stderr",
     "output_type": "stream",
     "text": [
      "\r",
      "Sampling 4 chains:  29%|██▊       | 586/2040 [02:18<05:40,  4.27draws/s]"
     ]
    },
    {
     "name": "stderr",
     "output_type": "stream",
     "text": [
      "\r",
      "Sampling 4 chains:  29%|██▉       | 587/2040 [02:18<06:17,  3.85draws/s]"
     ]
    },
    {
     "name": "stderr",
     "output_type": "stream",
     "text": [
      "\r",
      "Sampling 4 chains:  29%|██▉       | 588/2040 [02:18<06:10,  3.92draws/s]"
     ]
    },
    {
     "name": "stderr",
     "output_type": "stream",
     "text": [
      "\r",
      "Sampling 4 chains:  29%|██▉       | 590/2040 [02:19<06:37,  3.65draws/s]"
     ]
    },
    {
     "name": "stderr",
     "output_type": "stream",
     "text": [
      "\r",
      "Sampling 4 chains:  29%|██▉       | 591/2040 [02:19<06:13,  3.88draws/s]"
     ]
    },
    {
     "name": "stderr",
     "output_type": "stream",
     "text": [
      "\r",
      "Sampling 4 chains:  29%|██▉       | 594/2040 [02:20<05:57,  4.05draws/s]"
     ]
    },
    {
     "name": "stderr",
     "output_type": "stream",
     "text": [
      "\r",
      "Sampling 4 chains:  29%|██▉       | 595/2040 [02:20<05:57,  4.04draws/s]"
     ]
    },
    {
     "name": "stderr",
     "output_type": "stream",
     "text": [
      "\r",
      "Sampling 4 chains:  29%|██▉       | 597/2040 [02:21<06:23,  3.76draws/s]"
     ]
    },
    {
     "name": "stderr",
     "output_type": "stream",
     "text": [
      "\r",
      "Sampling 4 chains:  29%|██▉       | 599/2040 [02:21<05:25,  4.43draws/s]"
     ]
    },
    {
     "name": "stderr",
     "output_type": "stream",
     "text": [
      "\r",
      "Sampling 4 chains:  29%|██▉       | 601/2040 [02:21<06:06,  3.93draws/s]"
     ]
    },
    {
     "name": "stderr",
     "output_type": "stream",
     "text": [
      "\r",
      "Sampling 4 chains:  30%|██▉       | 602/2040 [02:22<05:58,  4.01draws/s]"
     ]
    },
    {
     "name": "stderr",
     "output_type": "stream",
     "text": [
      "\r",
      "Sampling 4 chains:  30%|██▉       | 604/2040 [02:22<05:33,  4.31draws/s]"
     ]
    },
    {
     "name": "stderr",
     "output_type": "stream",
     "text": [
      "\r",
      "Sampling 4 chains:  30%|██▉       | 605/2040 [02:22<05:56,  4.03draws/s]"
     ]
    },
    {
     "name": "stderr",
     "output_type": "stream",
     "text": [
      "\r",
      "Sampling 4 chains:  30%|██▉       | 606/2040 [02:23<05:46,  4.14draws/s]"
     ]
    },
    {
     "name": "stderr",
     "output_type": "stream",
     "text": [
      "\r",
      "Sampling 4 chains:  30%|██▉       | 608/2040 [02:23<06:25,  3.72draws/s]"
     ]
    },
    {
     "name": "stderr",
     "output_type": "stream",
     "text": [
      "\r",
      "Sampling 4 chains:  30%|██▉       | 609/2040 [02:23<06:04,  3.92draws/s]"
     ]
    },
    {
     "name": "stderr",
     "output_type": "stream",
     "text": [
      "\r",
      "Sampling 4 chains:  30%|███       | 612/2040 [02:24<05:50,  4.07draws/s]"
     ]
    },
    {
     "name": "stderr",
     "output_type": "stream",
     "text": [
      "\r",
      "Sampling 4 chains:  30%|███       | 613/2040 [02:24<05:38,  4.21draws/s]"
     ]
    },
    {
     "name": "stderr",
     "output_type": "stream",
     "text": [
      "\r",
      "Sampling 4 chains:  30%|███       | 615/2040 [02:25<05:59,  3.97draws/s]"
     ]
    },
    {
     "name": "stderr",
     "output_type": "stream",
     "text": [
      "\r",
      "Sampling 4 chains:  30%|███       | 616/2040 [02:25<04:53,  4.84draws/s]"
     ]
    },
    {
     "name": "stderr",
     "output_type": "stream",
     "text": [
      "\r",
      "Sampling 4 chains:  30%|███       | 617/2040 [02:25<04:59,  4.75draws/s]"
     ]
    },
    {
     "name": "stderr",
     "output_type": "stream",
     "text": [
      "\r",
      "Sampling 4 chains:  30%|███       | 619/2040 [02:26<05:52,  4.04draws/s]"
     ]
    },
    {
     "name": "stderr",
     "output_type": "stream",
     "text": [
      "\r",
      "Sampling 4 chains:  30%|███       | 620/2040 [02:26<05:41,  4.16draws/s]"
     ]
    },
    {
     "name": "stderr",
     "output_type": "stream",
     "text": [
      "\r",
      "Sampling 4 chains:  30%|███       | 622/2040 [02:26<04:55,  4.81draws/s]"
     ]
    },
    {
     "name": "stderr",
     "output_type": "stream",
     "text": [
      "\r",
      "Sampling 4 chains:  31%|███       | 623/2040 [02:27<06:17,  3.75draws/s]"
     ]
    },
    {
     "name": "stderr",
     "output_type": "stream",
     "text": [
      "\r",
      "Sampling 4 chains:  31%|███       | 624/2040 [02:27<05:58,  3.95draws/s]"
     ]
    },
    {
     "name": "stderr",
     "output_type": "stream",
     "text": [
      "\r",
      "Sampling 4 chains:  31%|███       | 626/2040 [02:28<06:26,  3.66draws/s]"
     ]
    },
    {
     "name": "stderr",
     "output_type": "stream",
     "text": [
      "\r",
      "Sampling 4 chains:  31%|███       | 628/2040 [02:28<05:24,  4.35draws/s]"
     ]
    },
    {
     "name": "stderr",
     "output_type": "stream",
     "text": [
      "\r",
      "Sampling 4 chains:  31%|███       | 630/2040 [02:29<06:08,  3.82draws/s]"
     ]
    },
    {
     "name": "stderr",
     "output_type": "stream",
     "text": [
      "\r",
      "Sampling 4 chains:  31%|███       | 631/2040 [02:29<05:49,  4.03draws/s]"
     ]
    },
    {
     "name": "stderr",
     "output_type": "stream",
     "text": [
      "\r",
      "Sampling 4 chains:  31%|███       | 633/2040 [02:29<04:54,  4.77draws/s]"
     ]
    },
    {
     "name": "stderr",
     "output_type": "stream",
     "text": [
      "\r",
      "Sampling 4 chains:  31%|███       | 634/2040 [02:30<06:32,  3.58draws/s]"
     ]
    },
    {
     "name": "stderr",
     "output_type": "stream",
     "text": [
      "\r",
      "Sampling 4 chains:  31%|███       | 635/2040 [02:30<05:59,  3.91draws/s]"
     ]
    },
    {
     "name": "stderr",
     "output_type": "stream",
     "text": [
      "\r",
      "Sampling 4 chains:  31%|███       | 637/2040 [02:30<06:23,  3.66draws/s]"
     ]
    },
    {
     "name": "stderr",
     "output_type": "stream",
     "text": [
      "\r",
      "Sampling 4 chains:  31%|███▏      | 639/2040 [02:31<05:22,  4.34draws/s]"
     ]
    },
    {
     "name": "stderr",
     "output_type": "stream",
     "text": [
      "\r",
      "Sampling 4 chains:  31%|███▏      | 641/2040 [02:31<06:12,  3.75draws/s]"
     ]
    },
    {
     "name": "stderr",
     "output_type": "stream",
     "text": [
      "\r",
      "Sampling 4 chains:  31%|███▏      | 642/2040 [02:31<05:37,  4.14draws/s]"
     ]
    },
    {
     "name": "stderr",
     "output_type": "stream",
     "text": [
      "\r",
      "Sampling 4 chains:  32%|███▏      | 644/2040 [02:32<04:47,  4.86draws/s]"
     ]
    },
    {
     "name": "stderr",
     "output_type": "stream",
     "text": [
      "\r",
      "Sampling 4 chains:  32%|███▏      | 645/2040 [02:32<06:37,  3.51draws/s]"
     ]
    },
    {
     "name": "stderr",
     "output_type": "stream",
     "text": [
      "\r",
      "Sampling 4 chains:  32%|███▏      | 646/2040 [02:32<05:49,  3.98draws/s]"
     ]
    },
    {
     "name": "stderr",
     "output_type": "stream",
     "text": [
      "\r",
      "Sampling 4 chains:  32%|███▏      | 648/2040 [02:33<06:35,  3.52draws/s]"
     ]
    },
    {
     "name": "stderr",
     "output_type": "stream",
     "text": [
      "\r",
      "Sampling 4 chains:  32%|███▏      | 650/2040 [02:33<05:11,  4.47draws/s]"
     ]
    },
    {
     "name": "stderr",
     "output_type": "stream",
     "text": [
      "\r",
      "Sampling 4 chains:  32%|███▏      | 652/2040 [02:34<06:09,  3.75draws/s]"
     ]
    },
    {
     "name": "stderr",
     "output_type": "stream",
     "text": [
      "\r",
      "Sampling 4 chains:  32%|███▏      | 653/2040 [02:34<05:25,  4.26draws/s]"
     ]
    },
    {
     "name": "stderr",
     "output_type": "stream",
     "text": [
      "\r",
      "Sampling 4 chains:  32%|███▏      | 655/2040 [02:35<05:19,  4.34draws/s]"
     ]
    },
    {
     "name": "stderr",
     "output_type": "stream",
     "text": [
      "\r",
      "Sampling 4 chains:  32%|███▏      | 656/2040 [02:35<05:44,  4.02draws/s]"
     ]
    },
    {
     "name": "stderr",
     "output_type": "stream",
     "text": [
      "\r",
      "Sampling 4 chains:  32%|███▏      | 657/2040 [02:35<05:05,  4.52draws/s]"
     ]
    },
    {
     "name": "stderr",
     "output_type": "stream",
     "text": [
      "\r",
      "Sampling 4 chains:  32%|███▏      | 659/2040 [02:36<06:07,  3.75draws/s]"
     ]
    },
    {
     "name": "stderr",
     "output_type": "stream",
     "text": [
      "\r",
      "Sampling 4 chains:  32%|███▏      | 660/2040 [02:36<05:30,  4.17draws/s]"
     ]
    },
    {
     "name": "stderr",
     "output_type": "stream",
     "text": [
      "\r",
      "Sampling 4 chains:  32%|███▎      | 663/2040 [02:37<05:36,  4.10draws/s]"
     ]
    },
    {
     "name": "stderr",
     "output_type": "stream",
     "text": [
      "\r",
      "Sampling 4 chains:  33%|███▎      | 664/2040 [02:37<04:53,  4.69draws/s]"
     ]
    },
    {
     "name": "stderr",
     "output_type": "stream",
     "text": [
      "\r",
      "Sampling 4 chains:  33%|███▎      | 666/2040 [02:37<05:31,  4.14draws/s]"
     ]
    },
    {
     "name": "stderr",
     "output_type": "stream",
     "text": [
      "\r",
      "Sampling 4 chains:  33%|███▎      | 667/2040 [02:38<04:54,  4.67draws/s]"
     ]
    },
    {
     "name": "stderr",
     "output_type": "stream",
     "text": [
      "\r",
      "Sampling 4 chains:  33%|███▎      | 668/2040 [02:38<04:19,  5.28draws/s]"
     ]
    },
    {
     "name": "stderr",
     "output_type": "stream",
     "text": [
      "\r",
      "Sampling 4 chains:  33%|███▎      | 670/2040 [02:39<05:41,  4.01draws/s]"
     ]
    },
    {
     "name": "stderr",
     "output_type": "stream",
     "text": [
      "\r",
      "Sampling 4 chains:  33%|███▎      | 671/2040 [02:39<04:47,  4.77draws/s]"
     ]
    },
    {
     "name": "stderr",
     "output_type": "stream",
     "text": [
      "\r",
      "Sampling 4 chains:  33%|███▎      | 673/2040 [02:39<04:23,  5.18draws/s]"
     ]
    },
    {
     "name": "stderr",
     "output_type": "stream",
     "text": [
      "\r",
      "Sampling 4 chains:  33%|███▎      | 674/2040 [02:39<06:23,  3.56draws/s]"
     ]
    },
    {
     "name": "stderr",
     "output_type": "stream",
     "text": [
      "\r",
      "Sampling 4 chains:  33%|███▎      | 675/2040 [02:40<05:13,  4.35draws/s]"
     ]
    },
    {
     "name": "stderr",
     "output_type": "stream",
     "text": [
      "\r",
      "Sampling 4 chains:  33%|███▎      | 677/2040 [02:40<06:19,  3.59draws/s]"
     ]
    },
    {
     "name": "stderr",
     "output_type": "stream",
     "text": [
      "\r",
      "Sampling 4 chains:  33%|███▎      | 678/2040 [02:40<05:10,  4.38draws/s]"
     ]
    },
    {
     "name": "stderr",
     "output_type": "stream",
     "text": [
      "\r",
      "Sampling 4 chains:  33%|███▎      | 681/2040 [02:41<05:23,  4.20draws/s]"
     ]
    },
    {
     "name": "stderr",
     "output_type": "stream",
     "text": [
      "\r",
      "Sampling 4 chains:  33%|███▎      | 682/2040 [02:41<04:35,  4.93draws/s]"
     ]
    },
    {
     "name": "stderr",
     "output_type": "stream",
     "text": [
      "\r",
      "Sampling 4 chains:  34%|███▎      | 684/2040 [02:42<05:32,  4.07draws/s]"
     ]
    },
    {
     "name": "stderr",
     "output_type": "stream",
     "text": [
      "\r",
      "Sampling 4 chains:  34%|███▎      | 686/2040 [02:42<04:38,  4.87draws/s]"
     ]
    },
    {
     "name": "stderr",
     "output_type": "stream",
     "text": [
      "\r",
      "Sampling 4 chains:  34%|███▎      | 688/2040 [02:43<06:05,  3.70draws/s]"
     ]
    },
    {
     "name": "stderr",
     "output_type": "stream",
     "text": [
      "\r",
      "Sampling 4 chains:  34%|███▍      | 689/2040 [02:43<05:27,  4.12draws/s]"
     ]
    },
    {
     "name": "stderr",
     "output_type": "stream",
     "text": [
      "\r",
      "Sampling 4 chains:  34%|███▍      | 691/2040 [02:44<05:11,  4.32draws/s]"
     ]
    },
    {
     "name": "stderr",
     "output_type": "stream",
     "text": [
      "\r",
      "Sampling 4 chains:  34%|███▍      | 692/2040 [02:44<06:39,  3.37draws/s]"
     ]
    },
    {
     "name": "stderr",
     "output_type": "stream",
     "text": [
      "\r",
      "Sampling 4 chains:  34%|███▍      | 693/2040 [02:44<05:42,  3.93draws/s]"
     ]
    },
    {
     "name": "stderr",
     "output_type": "stream",
     "text": [
      "\r",
      "Sampling 4 chains:  34%|███▍      | 695/2040 [02:45<06:39,  3.37draws/s]"
     ]
    },
    {
     "name": "stderr",
     "output_type": "stream",
     "text": [
      "\r",
      "Sampling 4 chains:  34%|███▍      | 696/2040 [02:45<05:30,  4.07draws/s]"
     ]
    },
    {
     "name": "stderr",
     "output_type": "stream",
     "text": [
      "\r",
      "Sampling 4 chains:  34%|███▍      | 699/2040 [02:46<05:40,  3.94draws/s]"
     ]
    },
    {
     "name": "stderr",
     "output_type": "stream",
     "text": [
      "\r",
      "Sampling 4 chains:  34%|███▍      | 700/2040 [02:46<04:45,  4.70draws/s]"
     ]
    },
    {
     "name": "stderr",
     "output_type": "stream",
     "text": [
      "\r",
      "Sampling 4 chains:  34%|███▍      | 701/2040 [02:46<04:28,  4.98draws/s]"
     ]
    },
    {
     "name": "stderr",
     "output_type": "stream",
     "text": [
      "\r",
      "Sampling 4 chains:  34%|███▍      | 702/2040 [02:47<06:44,  3.31draws/s]"
     ]
    },
    {
     "name": "stderr",
     "output_type": "stream",
     "text": [
      "\r",
      "Sampling 4 chains:  34%|███▍      | 703/2040 [02:47<06:23,  3.49draws/s]"
     ]
    },
    {
     "name": "stderr",
     "output_type": "stream",
     "text": [
      "\r",
      "Sampling 4 chains:  35%|███▍      | 704/2040 [02:48<07:37,  2.92draws/s]"
     ]
    },
    {
     "name": "stderr",
     "output_type": "stream",
     "text": [
      "\r",
      "Sampling 4 chains:  35%|███▍      | 705/2040 [02:48<08:25,  2.64draws/s]"
     ]
    },
    {
     "name": "stderr",
     "output_type": "stream",
     "text": [
      "\r",
      "Sampling 4 chains:  35%|███▍      | 707/2040 [02:48<07:00,  3.17draws/s]"
     ]
    },
    {
     "name": "stderr",
     "output_type": "stream",
     "text": [
      "\r",
      "Sampling 4 chains:  35%|███▍      | 708/2040 [02:49<08:57,  2.48draws/s]"
     ]
    },
    {
     "name": "stderr",
     "output_type": "stream",
     "text": [
      "\r",
      "Sampling 4 chains:  35%|███▍      | 709/2040 [02:49<08:15,  2.69draws/s]"
     ]
    },
    {
     "name": "stderr",
     "output_type": "stream",
     "text": [
      "\r",
      "Sampling 4 chains:  35%|███▍      | 710/2040 [02:50<08:50,  2.51draws/s]"
     ]
    },
    {
     "name": "stderr",
     "output_type": "stream",
     "text": [
      "\r",
      "Sampling 4 chains:  35%|███▍      | 712/2040 [02:50<06:46,  3.27draws/s]"
     ]
    },
    {
     "name": "stderr",
     "output_type": "stream",
     "text": [
      "\r",
      "Sampling 4 chains:  35%|███▍      | 713/2040 [02:51<10:58,  2.02draws/s]"
     ]
    },
    {
     "name": "stderr",
     "output_type": "stream",
     "text": [
      "\r",
      "Sampling 4 chains:  35%|███▌      | 714/2040 [02:51<09:52,  2.24draws/s]"
     ]
    },
    {
     "name": "stderr",
     "output_type": "stream",
     "text": [
      "\r",
      "Sampling 4 chains:  35%|███▌      | 715/2040 [02:51<08:11,  2.69draws/s]"
     ]
    },
    {
     "name": "stderr",
     "output_type": "stream",
     "text": [
      "\r",
      "Sampling 4 chains:  35%|███▌      | 717/2040 [02:52<07:07,  3.10draws/s]"
     ]
    },
    {
     "name": "stderr",
     "output_type": "stream",
     "text": [
      "\r",
      "Sampling 4 chains:  35%|███▌      | 718/2040 [02:53<10:39,  2.07draws/s]"
     ]
    },
    {
     "name": "stderr",
     "output_type": "stream",
     "text": [
      "\r",
      "Sampling 4 chains:  35%|███▌      | 720/2040 [02:53<07:54,  2.78draws/s]"
     ]
    },
    {
     "name": "stderr",
     "output_type": "stream",
     "text": [
      "\r",
      "Sampling 4 chains:  35%|███▌      | 722/2040 [02:54<08:01,  2.74draws/s]"
     ]
    },
    {
     "name": "stderr",
     "output_type": "stream",
     "text": [
      "\r",
      "Sampling 4 chains:  35%|███▌      | 724/2040 [02:54<07:12,  3.04draws/s]"
     ]
    },
    {
     "name": "stderr",
     "output_type": "stream",
     "text": [
      "\r",
      "Sampling 4 chains:  36%|███▌      | 725/2040 [02:54<07:09,  3.06draws/s]"
     ]
    },
    {
     "name": "stderr",
     "output_type": "stream",
     "text": [
      "\r",
      "Sampling 4 chains:  36%|███▌      | 726/2040 [02:55<05:42,  3.83draws/s]"
     ]
    },
    {
     "name": "stderr",
     "output_type": "stream",
     "text": [
      "\r",
      "Sampling 4 chains:  36%|███▌      | 728/2040 [02:55<06:37,  3.30draws/s]"
     ]
    },
    {
     "name": "stderr",
     "output_type": "stream",
     "text": [
      "\r",
      "Sampling 4 chains:  36%|███▌      | 729/2040 [02:55<05:20,  4.09draws/s]"
     ]
    },
    {
     "name": "stderr",
     "output_type": "stream",
     "text": [
      "\r",
      "Sampling 4 chains:  36%|███▌      | 730/2040 [02:56<06:11,  3.52draws/s]"
     ]
    },
    {
     "name": "stderr",
     "output_type": "stream",
     "text": [
      "\r",
      "Sampling 4 chains:  36%|███▌      | 732/2040 [02:56<06:01,  3.61draws/s]"
     ]
    },
    {
     "name": "stderr",
     "output_type": "stream",
     "text": [
      "\r",
      "Sampling 4 chains:  36%|███▌      | 733/2040 [02:57<05:35,  3.89draws/s]"
     ]
    },
    {
     "name": "stderr",
     "output_type": "stream",
     "text": [
      "\r",
      "Sampling 4 chains:  36%|███▌      | 734/2040 [02:57<07:40,  2.84draws/s]"
     ]
    },
    {
     "name": "stderr",
     "output_type": "stream",
     "text": [
      "\r",
      "Sampling 4 chains:  36%|███▌      | 735/2040 [02:57<06:04,  3.58draws/s]"
     ]
    },
    {
     "name": "stderr",
     "output_type": "stream",
     "text": [
      "\r",
      "Sampling 4 chains:  36%|███▌      | 737/2040 [02:58<06:00,  3.62draws/s]"
     ]
    },
    {
     "name": "stderr",
     "output_type": "stream",
     "text": [
      "\r",
      "Sampling 4 chains:  36%|███▌      | 738/2040 [02:58<06:35,  3.29draws/s]"
     ]
    },
    {
     "name": "stderr",
     "output_type": "stream",
     "text": [
      "\r",
      "Sampling 4 chains:  36%|███▌      | 739/2040 [02:59<07:46,  2.79draws/s]"
     ]
    },
    {
     "name": "stderr",
     "output_type": "stream",
     "text": [
      "\r",
      "Sampling 4 chains:  36%|███▋      | 740/2040 [02:59<06:15,  3.46draws/s]"
     ]
    },
    {
     "name": "stderr",
     "output_type": "stream",
     "text": [
      "\r",
      "Sampling 4 chains:  36%|███▋      | 741/2040 [02:59<06:00,  3.60draws/s]"
     ]
    },
    {
     "name": "stderr",
     "output_type": "stream",
     "text": [
      "\r",
      "Sampling 4 chains:  36%|███▋      | 743/2040 [03:00<07:11,  3.01draws/s]"
     ]
    },
    {
     "name": "stderr",
     "output_type": "stream",
     "text": [
      "\r",
      "Sampling 4 chains:  36%|███▋      | 744/2040 [03:00<06:20,  3.41draws/s]"
     ]
    },
    {
     "name": "stderr",
     "output_type": "stream",
     "text": [
      "\r",
      "Sampling 4 chains:  37%|███▋      | 747/2040 [03:01<05:55,  3.64draws/s]"
     ]
    },
    {
     "name": "stderr",
     "output_type": "stream",
     "text": [
      "\r",
      "Sampling 4 chains:  37%|███▋      | 748/2040 [03:01<08:02,  2.68draws/s]"
     ]
    },
    {
     "name": "stderr",
     "output_type": "stream",
     "text": [
      "\r",
      "Sampling 4 chains:  37%|███▋      | 749/2040 [03:02<06:28,  3.33draws/s]"
     ]
    },
    {
     "name": "stderr",
     "output_type": "stream",
     "text": [
      "\r",
      "Sampling 4 chains:  37%|███▋      | 750/2040 [03:02<05:25,  3.96draws/s]"
     ]
    },
    {
     "name": "stderr",
     "output_type": "stream",
     "text": [
      "\r",
      "Sampling 4 chains:  37%|███▋      | 752/2040 [03:03<06:42,  3.20draws/s]"
     ]
    },
    {
     "name": "stderr",
     "output_type": "stream",
     "text": [
      "\r",
      "Sampling 4 chains:  37%|███▋      | 754/2040 [03:03<06:07,  3.50draws/s]"
     ]
    },
    {
     "name": "stderr",
     "output_type": "stream",
     "text": [
      "\r",
      "Sampling 4 chains:  37%|███▋      | 755/2040 [03:03<04:58,  4.30draws/s]"
     ]
    },
    {
     "name": "stderr",
     "output_type": "stream",
     "text": [
      "\r",
      "Sampling 4 chains:  37%|███▋      | 756/2040 [03:03<05:41,  3.76draws/s]"
     ]
    },
    {
     "name": "stderr",
     "output_type": "stream",
     "text": [
      "\r",
      "Sampling 4 chains:  37%|███▋      | 757/2040 [03:04<06:21,  3.37draws/s]"
     ]
    },
    {
     "name": "stderr",
     "output_type": "stream",
     "text": [
      "\r",
      "Sampling 4 chains:  37%|███▋      | 758/2040 [03:04<07:47,  2.74draws/s]"
     ]
    },
    {
     "name": "stderr",
     "output_type": "stream",
     "text": [
      "\r",
      "Sampling 4 chains:  37%|███▋      | 760/2040 [03:05<06:02,  3.53draws/s]"
     ]
    },
    {
     "name": "stderr",
     "output_type": "stream",
     "text": [
      "\r",
      "Sampling 4 chains:  37%|███▋      | 761/2040 [03:05<07:34,  2.81draws/s]"
     ]
    },
    {
     "name": "stderr",
     "output_type": "stream",
     "text": [
      "\r",
      "Sampling 4 chains:  37%|███▋      | 762/2040 [03:05<06:28,  3.29draws/s]"
     ]
    },
    {
     "name": "stderr",
     "output_type": "stream",
     "text": [
      "\r",
      "Sampling 4 chains:  37%|███▋      | 763/2040 [03:06<08:25,  2.53draws/s]"
     ]
    },
    {
     "name": "stderr",
     "output_type": "stream",
     "text": [
      "\r",
      "Sampling 4 chains:  38%|███▊      | 765/2040 [03:06<06:47,  3.13draws/s]"
     ]
    },
    {
     "name": "stderr",
     "output_type": "stream",
     "text": [
      "\r",
      "Sampling 4 chains:  38%|███▊      | 766/2040 [03:06<05:42,  3.72draws/s]"
     ]
    },
    {
     "name": "stderr",
     "output_type": "stream",
     "text": [
      "\r",
      "Sampling 4 chains:  38%|███▊      | 767/2040 [03:07<08:50,  2.40draws/s]"
     ]
    },
    {
     "name": "stderr",
     "output_type": "stream",
     "text": [
      "\r",
      "Sampling 4 chains:  38%|███▊      | 768/2040 [03:07<08:05,  2.62draws/s]"
     ]
    },
    {
     "name": "stderr",
     "output_type": "stream",
     "text": [
      "\r",
      "Sampling 4 chains:  38%|███▊      | 770/2040 [03:08<06:10,  3.43draws/s]"
     ]
    },
    {
     "name": "stderr",
     "output_type": "stream",
     "text": [
      "\r",
      "Sampling 4 chains:  38%|███▊      | 771/2040 [03:08<07:21,  2.87draws/s]"
     ]
    },
    {
     "name": "stderr",
     "output_type": "stream",
     "text": [
      "\r",
      "Sampling 4 chains:  38%|███▊      | 772/2040 [03:09<09:47,  2.16draws/s]"
     ]
    },
    {
     "name": "stderr",
     "output_type": "stream",
     "text": [
      "\r",
      "Sampling 4 chains:  38%|███▊      | 774/2040 [03:09<07:18,  2.89draws/s]"
     ]
    },
    {
     "name": "stderr",
     "output_type": "stream",
     "text": [
      "\r",
      "Sampling 4 chains:  38%|███▊      | 776/2040 [03:10<08:00,  2.63draws/s]"
     ]
    },
    {
     "name": "stderr",
     "output_type": "stream",
     "text": [
      "\r",
      "Sampling 4 chains:  38%|███▊      | 777/2040 [03:10<06:43,  3.13draws/s]"
     ]
    },
    {
     "name": "stderr",
     "output_type": "stream",
     "text": [
      "\r",
      "Sampling 4 chains:  38%|███▊      | 778/2040 [03:10<06:55,  3.04draws/s]"
     ]
    },
    {
     "name": "stderr",
     "output_type": "stream",
     "text": [
      "\r",
      "Sampling 4 chains:  38%|███▊      | 780/2040 [03:11<05:57,  3.52draws/s]"
     ]
    },
    {
     "name": "stderr",
     "output_type": "stream",
     "text": [
      "\r",
      "Sampling 4 chains:  38%|███▊      | 781/2040 [03:11<07:19,  2.86draws/s]"
     ]
    },
    {
     "name": "stderr",
     "output_type": "stream",
     "text": [
      "\r",
      "Sampling 4 chains:  38%|███▊      | 782/2040 [03:12<07:33,  2.77draws/s]"
     ]
    },
    {
     "name": "stderr",
     "output_type": "stream",
     "text": [
      "\r",
      "Sampling 4 chains:  38%|███▊      | 783/2040 [03:12<06:19,  3.31draws/s]"
     ]
    },
    {
     "name": "stderr",
     "output_type": "stream",
     "text": [
      "\r",
      "Sampling 4 chains:  38%|███▊      | 784/2040 [03:12<05:03,  4.14draws/s]"
     ]
    },
    {
     "name": "stderr",
     "output_type": "stream",
     "text": [
      "\r",
      "Sampling 4 chains:  38%|███▊      | 785/2040 [03:12<06:55,  3.02draws/s]"
     ]
    },
    {
     "name": "stderr",
     "output_type": "stream",
     "text": [
      "\r",
      "Sampling 4 chains:  39%|███▊      | 787/2040 [03:13<07:24,  2.82draws/s]"
     ]
    },
    {
     "name": "stderr",
     "output_type": "stream",
     "text": [
      "\r",
      "Sampling 4 chains:  39%|███▊      | 788/2040 [03:13<06:00,  3.47draws/s]"
     ]
    },
    {
     "name": "stderr",
     "output_type": "stream",
     "text": [
      "\r",
      "Sampling 4 chains:  39%|███▊      | 790/2040 [03:14<04:55,  4.23draws/s]"
     ]
    },
    {
     "name": "stderr",
     "output_type": "stream",
     "text": [
      "\r",
      "Sampling 4 chains:  39%|███▉      | 791/2040 [03:14<07:40,  2.71draws/s]"
     ]
    },
    {
     "name": "stderr",
     "output_type": "stream",
     "text": [
      "\r",
      "Sampling 4 chains:  39%|███▉      | 792/2040 [03:15<07:44,  2.69draws/s]"
     ]
    },
    {
     "name": "stderr",
     "output_type": "stream",
     "text": [
      "\r",
      "Sampling 4 chains:  39%|███▉      | 793/2040 [03:15<06:23,  3.25draws/s]"
     ]
    },
    {
     "name": "stderr",
     "output_type": "stream",
     "text": [
      "\r",
      "Sampling 4 chains:  39%|███▉      | 795/2040 [03:15<06:31,  3.18draws/s]"
     ]
    },
    {
     "name": "stderr",
     "output_type": "stream",
     "text": [
      "\r",
      "Sampling 4 chains:  39%|███▉      | 796/2040 [03:16<07:45,  2.67draws/s]"
     ]
    },
    {
     "name": "stderr",
     "output_type": "stream",
     "text": [
      "\r",
      "Sampling 4 chains:  39%|███▉      | 798/2040 [03:16<06:26,  3.21draws/s]"
     ]
    },
    {
     "name": "stderr",
     "output_type": "stream",
     "text": [
      "\r",
      "Sampling 4 chains:  39%|███▉      | 799/2040 [03:17<06:32,  3.16draws/s]"
     ]
    },
    {
     "name": "stderr",
     "output_type": "stream",
     "text": [
      "\r",
      "Sampling 4 chains:  39%|███▉      | 800/2040 [03:17<07:50,  2.64draws/s]"
     ]
    },
    {
     "name": "stderr",
     "output_type": "stream",
     "text": [
      "\r",
      "Sampling 4 chains:  39%|███▉      | 801/2040 [03:17<06:24,  3.22draws/s]"
     ]
    },
    {
     "name": "stderr",
     "output_type": "stream",
     "text": [
      "\r",
      "Sampling 4 chains:  39%|███▉      | 802/2040 [03:18<07:26,  2.77draws/s]"
     ]
    },
    {
     "name": "stderr",
     "output_type": "stream",
     "text": [
      "\r",
      "Sampling 4 chains:  39%|███▉      | 804/2040 [03:18<06:52,  3.00draws/s]"
     ]
    },
    {
     "name": "stderr",
     "output_type": "stream",
     "text": [
      "\r",
      "Sampling 4 chains:  39%|███▉      | 805/2040 [03:19<06:14,  3.29draws/s]"
     ]
    },
    {
     "name": "stderr",
     "output_type": "stream",
     "text": [
      "\r",
      "Sampling 4 chains:  40%|███▉      | 806/2040 [03:19<07:04,  2.90draws/s]"
     ]
    },
    {
     "name": "stderr",
     "output_type": "stream",
     "text": [
      "\r",
      "Sampling 4 chains:  40%|███▉      | 807/2040 [03:19<06:09,  3.34draws/s]"
     ]
    },
    {
     "name": "stderr",
     "output_type": "stream",
     "text": [
      "\r",
      "Sampling 4 chains:  40%|███▉      | 808/2040 [03:20<06:18,  3.25draws/s]"
     ]
    },
    {
     "name": "stderr",
     "output_type": "stream",
     "text": [
      "\r",
      "Sampling 4 chains:  40%|███▉      | 809/2040 [03:20<07:48,  2.63draws/s]"
     ]
    },
    {
     "name": "stderr",
     "output_type": "stream",
     "text": [
      "\r",
      "Sampling 4 chains:  40%|███▉      | 810/2040 [03:20<06:04,  3.37draws/s]"
     ]
    },
    {
     "name": "stderr",
     "output_type": "stream",
     "text": [
      "\r",
      "Sampling 4 chains:  40%|███▉      | 811/2040 [03:21<06:40,  3.07draws/s]"
     ]
    },
    {
     "name": "stderr",
     "output_type": "stream",
     "text": [
      "\r",
      "Sampling 4 chains:  40%|███▉      | 812/2040 [03:21<05:22,  3.81draws/s]"
     ]
    },
    {
     "name": "stderr",
     "output_type": "stream",
     "text": [
      "\r",
      "Sampling 4 chains:  40%|███▉      | 813/2040 [03:21<07:41,  2.66draws/s]"
     ]
    },
    {
     "name": "stderr",
     "output_type": "stream",
     "text": [
      "\r",
      "Sampling 4 chains:  40%|███▉      | 815/2040 [03:22<07:06,  2.87draws/s]"
     ]
    },
    {
     "name": "stderr",
     "output_type": "stream",
     "text": [
      "\r",
      "Sampling 4 chains:  40%|████      | 817/2040 [03:23<07:04,  2.88draws/s]"
     ]
    },
    {
     "name": "stderr",
     "output_type": "stream",
     "text": [
      "\r",
      "Sampling 4 chains:  40%|████      | 819/2040 [03:23<06:26,  3.16draws/s]"
     ]
    },
    {
     "name": "stderr",
     "output_type": "stream",
     "text": [
      "\r",
      "Sampling 4 chains:  40%|████      | 820/2040 [03:23<06:31,  3.12draws/s]"
     ]
    },
    {
     "name": "stderr",
     "output_type": "stream",
     "text": [
      "\r",
      "Sampling 4 chains:  40%|████      | 821/2040 [03:24<06:41,  3.04draws/s]"
     ]
    },
    {
     "name": "stderr",
     "output_type": "stream",
     "text": [
      "\r",
      "Sampling 4 chains:  40%|████      | 822/2040 [03:24<06:26,  3.15draws/s]"
     ]
    },
    {
     "name": "stderr",
     "output_type": "stream",
     "text": [
      "\r",
      "Sampling 4 chains:  40%|████      | 823/2040 [03:24<05:47,  3.50draws/s]"
     ]
    },
    {
     "name": "stderr",
     "output_type": "stream",
     "text": [
      "\r",
      "Sampling 4 chains:  40%|████      | 824/2040 [03:25<07:33,  2.68draws/s]"
     ]
    },
    {
     "name": "stderr",
     "output_type": "stream",
     "text": [
      "\r",
      "Sampling 4 chains:  40%|████      | 825/2040 [03:25<06:01,  3.36draws/s]"
     ]
    },
    {
     "name": "stderr",
     "output_type": "stream",
     "text": [
      "\r",
      "Sampling 4 chains:  40%|████      | 826/2040 [03:25<06:38,  3.05draws/s]"
     ]
    },
    {
     "name": "stderr",
     "output_type": "stream",
     "text": [
      "\r",
      "Sampling 4 chains:  41%|████      | 827/2040 [03:26<05:37,  3.60draws/s]"
     ]
    },
    {
     "name": "stderr",
     "output_type": "stream",
     "text": [
      "\r",
      "Sampling 4 chains:  41%|████      | 828/2040 [03:26<07:36,  2.65draws/s]"
     ]
    },
    {
     "name": "stderr",
     "output_type": "stream",
     "text": [
      "\r",
      "Sampling 4 chains:  41%|████      | 830/2040 [03:27<07:24,  2.72draws/s]"
     ]
    },
    {
     "name": "stderr",
     "output_type": "stream",
     "text": [
      "\r",
      "Sampling 4 chains:  41%|████      | 832/2040 [03:27<06:47,  2.96draws/s]"
     ]
    },
    {
     "name": "stderr",
     "output_type": "stream",
     "text": [
      "\r",
      "Sampling 4 chains:  41%|████      | 833/2040 [03:28<06:12,  3.24draws/s]"
     ]
    },
    {
     "name": "stderr",
     "output_type": "stream",
     "text": [
      "\r",
      "Sampling 4 chains:  41%|████      | 834/2040 [03:28<07:29,  2.69draws/s]"
     ]
    },
    {
     "name": "stderr",
     "output_type": "stream",
     "text": [
      "\r",
      "Sampling 4 chains:  41%|████      | 835/2040 [03:28<05:53,  3.41draws/s]"
     ]
    },
    {
     "name": "stderr",
     "output_type": "stream",
     "text": [
      "\r",
      "Sampling 4 chains:  41%|████      | 836/2040 [03:29<06:14,  3.22draws/s]"
     ]
    },
    {
     "name": "stderr",
     "output_type": "stream",
     "text": [
      "\r",
      "Sampling 4 chains:  41%|████      | 837/2040 [03:29<07:01,  2.86draws/s]"
     ]
    },
    {
     "name": "stderr",
     "output_type": "stream",
     "text": [
      "\r",
      "Sampling 4 chains:  41%|████      | 838/2040 [03:29<07:26,  2.70draws/s]"
     ]
    },
    {
     "name": "stderr",
     "output_type": "stream",
     "text": [
      "\r",
      "Sampling 4 chains:  41%|████      | 839/2040 [03:30<06:06,  3.28draws/s]"
     ]
    },
    {
     "name": "stderr",
     "output_type": "stream",
     "text": [
      "\r",
      "Sampling 4 chains:  41%|████      | 840/2040 [03:30<05:19,  3.76draws/s]"
     ]
    },
    {
     "name": "stderr",
     "output_type": "stream",
     "text": [
      "\r",
      "Sampling 4 chains:  41%|████      | 841/2040 [03:30<07:27,  2.68draws/s]"
     ]
    },
    {
     "name": "stderr",
     "output_type": "stream",
     "text": [
      "\r",
      "Sampling 4 chains:  41%|████▏     | 842/2040 [03:31<07:34,  2.64draws/s]"
     ]
    },
    {
     "name": "stderr",
     "output_type": "stream",
     "text": [
      "\r",
      "Sampling 4 chains:  41%|████▏     | 844/2040 [03:31<05:45,  3.46draws/s]"
     ]
    },
    {
     "name": "stderr",
     "output_type": "stream",
     "text": [
      "\r",
      "Sampling 4 chains:  41%|████▏     | 845/2040 [03:32<08:56,  2.23draws/s]"
     ]
    },
    {
     "name": "stderr",
     "output_type": "stream",
     "text": [
      "\r",
      "Sampling 4 chains:  41%|████▏     | 846/2040 [03:32<08:15,  2.41draws/s]"
     ]
    },
    {
     "name": "stderr",
     "output_type": "stream",
     "text": [
      "\r",
      "Sampling 4 chains:  42%|████▏     | 848/2040 [03:32<06:16,  3.16draws/s]"
     ]
    },
    {
     "name": "stderr",
     "output_type": "stream",
     "text": [
      "\r",
      "Sampling 4 chains:  42%|████▏     | 849/2040 [03:33<09:59,  1.99draws/s]"
     ]
    },
    {
     "name": "stderr",
     "output_type": "stream",
     "text": [
      "\r",
      "Sampling 4 chains:  42%|████▏     | 851/2040 [03:33<07:35,  2.61draws/s]"
     ]
    },
    {
     "name": "stderr",
     "output_type": "stream",
     "text": [
      "\r",
      "Sampling 4 chains:  42%|████▏     | 852/2040 [03:34<07:15,  2.73draws/s]"
     ]
    },
    {
     "name": "stderr",
     "output_type": "stream",
     "text": [
      "\r",
      "Sampling 4 chains:  42%|████▏     | 853/2040 [03:34<09:26,  2.10draws/s]"
     ]
    },
    {
     "name": "stderr",
     "output_type": "stream",
     "text": [
      "\r",
      "Sampling 4 chains:  42%|████▏     | 854/2040 [03:35<07:13,  2.73draws/s]"
     ]
    },
    {
     "name": "stderr",
     "output_type": "stream",
     "text": [
      "\r",
      "Sampling 4 chains:  42%|████▏     | 856/2040 [03:35<06:26,  3.06draws/s]"
     ]
    },
    {
     "name": "stderr",
     "output_type": "stream",
     "text": [
      "\r",
      "Sampling 4 chains:  42%|████▏     | 857/2040 [03:36<07:58,  2.47draws/s]"
     ]
    },
    {
     "name": "stderr",
     "output_type": "stream",
     "text": [
      "\r",
      "Sampling 4 chains:  42%|████▏     | 858/2040 [03:36<07:37,  2.59draws/s]"
     ]
    },
    {
     "name": "stderr",
     "output_type": "stream",
     "text": [
      "\r",
      "Sampling 4 chains:  42%|████▏     | 860/2040 [03:36<06:43,  2.92draws/s]"
     ]
    },
    {
     "name": "stderr",
     "output_type": "stream",
     "text": [
      "\r",
      "Sampling 4 chains:  42%|████▏     | 861/2040 [03:37<06:56,  2.83draws/s]"
     ]
    },
    {
     "name": "stderr",
     "output_type": "stream",
     "text": [
      "\r",
      "Sampling 4 chains:  42%|████▏     | 862/2040 [03:37<07:36,  2.58draws/s]"
     ]
    },
    {
     "name": "stderr",
     "output_type": "stream",
     "text": [
      "\r",
      "Sampling 4 chains:  42%|████▏     | 863/2040 [03:37<06:28,  3.03draws/s]"
     ]
    },
    {
     "name": "stderr",
     "output_type": "stream",
     "text": [
      "\r",
      "Sampling 4 chains:  42%|████▏     | 864/2040 [03:38<05:47,  3.38draws/s]"
     ]
    },
    {
     "name": "stderr",
     "output_type": "stream",
     "text": [
      "\r",
      "Sampling 4 chains:  42%|████▏     | 865/2040 [03:38<05:55,  3.30draws/s]"
     ]
    },
    {
     "name": "stderr",
     "output_type": "stream",
     "text": [
      "\r",
      "Sampling 4 chains:  42%|████▏     | 866/2040 [03:39<07:53,  2.48draws/s]"
     ]
    },
    {
     "name": "stderr",
     "output_type": "stream",
     "text": [
      "\r",
      "Sampling 4 chains:  42%|████▎     | 867/2040 [03:39<07:35,  2.57draws/s]"
     ]
    },
    {
     "name": "stderr",
     "output_type": "stream",
     "text": [
      "\r",
      "Sampling 4 chains:  43%|████▎     | 869/2040 [03:39<05:48,  3.36draws/s]"
     ]
    },
    {
     "name": "stderr",
     "output_type": "stream",
     "text": [
      "\r",
      "Sampling 4 chains:  43%|████▎     | 870/2040 [03:40<09:21,  2.08draws/s]"
     ]
    },
    {
     "name": "stderr",
     "output_type": "stream",
     "text": [
      "\r",
      "Sampling 4 chains:  43%|████▎     | 871/2040 [03:40<08:05,  2.41draws/s]"
     ]
    },
    {
     "name": "stderr",
     "output_type": "stream",
     "text": [
      "\r",
      "Sampling 4 chains:  43%|████▎     | 873/2040 [03:40<05:57,  3.26draws/s]"
     ]
    },
    {
     "name": "stderr",
     "output_type": "stream",
     "text": [
      "\r",
      "Sampling 4 chains:  43%|████▎     | 874/2040 [03:41<09:04,  2.14draws/s]"
     ]
    },
    {
     "name": "stderr",
     "output_type": "stream",
     "text": [
      "\r",
      "Sampling 4 chains:  43%|████▎     | 875/2040 [03:42<07:38,  2.54draws/s]"
     ]
    },
    {
     "name": "stderr",
     "output_type": "stream",
     "text": [
      "\r",
      "Sampling 4 chains:  43%|████▎     | 876/2040 [03:42<06:45,  2.87draws/s]"
     ]
    },
    {
     "name": "stderr",
     "output_type": "stream",
     "text": [
      "\r",
      "Sampling 4 chains:  43%|████▎     | 878/2040 [03:43<06:53,  2.81draws/s]"
     ]
    },
    {
     "name": "stderr",
     "output_type": "stream",
     "text": [
      "\r",
      "Sampling 4 chains:  43%|████▎     | 879/2040 [03:43<06:00,  3.22draws/s]"
     ]
    },
    {
     "name": "stderr",
     "output_type": "stream",
     "text": [
      "\r",
      "Sampling 4 chains:  43%|████▎     | 880/2040 [03:43<06:17,  3.07draws/s]"
     ]
    },
    {
     "name": "stderr",
     "output_type": "stream",
     "text": [
      "\r",
      "Sampling 4 chains:  43%|████▎     | 881/2040 [03:43<05:24,  3.57draws/s]"
     ]
    },
    {
     "name": "stderr",
     "output_type": "stream",
     "text": [
      "\r",
      "Sampling 4 chains:  43%|████▎     | 882/2040 [03:44<07:10,  2.69draws/s]"
     ]
    },
    {
     "name": "stderr",
     "output_type": "stream",
     "text": [
      "\r",
      "Sampling 4 chains:  43%|████▎     | 884/2040 [03:44<06:36,  2.91draws/s]"
     ]
    },
    {
     "name": "stderr",
     "output_type": "stream",
     "text": [
      "\r",
      "Sampling 4 chains:  43%|████▎     | 885/2040 [03:45<06:18,  3.05draws/s]"
     ]
    },
    {
     "name": "stderr",
     "output_type": "stream",
     "text": [
      "\r",
      "Sampling 4 chains:  43%|████▎     | 886/2040 [03:45<06:33,  2.93draws/s]"
     ]
    },
    {
     "name": "stderr",
     "output_type": "stream",
     "text": [
      "\r",
      "Sampling 4 chains:  44%|████▎     | 888/2040 [03:46<06:43,  2.86draws/s]"
     ]
    },
    {
     "name": "stderr",
     "output_type": "stream",
     "text": [
      "\r",
      "Sampling 4 chains:  44%|████▎     | 889/2040 [03:46<06:34,  2.91draws/s]"
     ]
    },
    {
     "name": "stderr",
     "output_type": "stream",
     "text": [
      "\r",
      "Sampling 4 chains:  44%|████▎     | 891/2040 [03:46<05:19,  3.59draws/s]"
     ]
    },
    {
     "name": "stderr",
     "output_type": "stream",
     "text": [
      "\r",
      "Sampling 4 chains:  44%|████▎     | 892/2040 [03:47<07:50,  2.44draws/s]"
     ]
    },
    {
     "name": "stderr",
     "output_type": "stream",
     "text": [
      "\r",
      "Sampling 4 chains:  44%|████▍     | 893/2040 [03:47<07:11,  2.66draws/s]"
     ]
    },
    {
     "name": "stderr",
     "output_type": "stream",
     "text": [
      "\r",
      "Sampling 4 chains:  44%|████▍     | 894/2040 [03:48<06:25,  2.97draws/s]"
     ]
    },
    {
     "name": "stderr",
     "output_type": "stream",
     "text": [
      "\r",
      "Sampling 4 chains:  44%|████▍     | 896/2040 [03:48<06:48,  2.80draws/s]"
     ]
    },
    {
     "name": "stderr",
     "output_type": "stream",
     "text": [
      "\r",
      "Sampling 4 chains:  44%|████▍     | 897/2040 [03:49<05:26,  3.50draws/s]"
     ]
    },
    {
     "name": "stderr",
     "output_type": "stream",
     "text": [
      "\r",
      "Sampling 4 chains:  44%|████▍     | 898/2040 [03:49<06:12,  3.06draws/s]"
     ]
    },
    {
     "name": "stderr",
     "output_type": "stream",
     "text": [
      "\r",
      "Sampling 4 chains:  44%|████▍     | 900/2040 [03:50<06:28,  2.93draws/s]"
     ]
    },
    {
     "name": "stderr",
     "output_type": "stream",
     "text": [
      "\r",
      "Sampling 4 chains:  44%|████▍     | 901/2040 [03:50<05:15,  3.61draws/s]"
     ]
    },
    {
     "name": "stderr",
     "output_type": "stream",
     "text": [
      "\r",
      "Sampling 4 chains:  44%|████▍     | 902/2040 [03:50<06:28,  2.93draws/s]"
     ]
    },
    {
     "name": "stderr",
     "output_type": "stream",
     "text": [
      "\r",
      "Sampling 4 chains:  44%|████▍     | 904/2040 [03:51<06:10,  3.07draws/s]"
     ]
    },
    {
     "name": "stderr",
     "output_type": "stream",
     "text": [
      "\r",
      "Sampling 4 chains:  44%|████▍     | 905/2040 [03:51<06:15,  3.02draws/s]"
     ]
    },
    {
     "name": "stderr",
     "output_type": "stream",
     "text": [
      "\r",
      "Sampling 4 chains:  44%|████▍     | 906/2040 [03:52<06:39,  2.84draws/s]"
     ]
    },
    {
     "name": "stderr",
     "output_type": "stream",
     "text": [
      "\r",
      "Sampling 4 chains:  44%|████▍     | 907/2040 [03:52<05:52,  3.21draws/s]"
     ]
    },
    {
     "name": "stderr",
     "output_type": "stream",
     "text": [
      "\r",
      "Sampling 4 chains:  45%|████▍     | 908/2040 [03:52<05:19,  3.55draws/s]"
     ]
    },
    {
     "name": "stderr",
     "output_type": "stream",
     "text": [
      "\r",
      "Sampling 4 chains:  45%|████▍     | 909/2040 [03:53<06:51,  2.75draws/s]"
     ]
    },
    {
     "name": "stderr",
     "output_type": "stream",
     "text": [
      "\r",
      "Sampling 4 chains:  45%|████▍     | 910/2040 [03:53<08:30,  2.21draws/s]"
     ]
    },
    {
     "name": "stderr",
     "output_type": "stream",
     "text": [
      "\r",
      "Sampling 4 chains:  45%|████▍     | 912/2040 [03:54<06:29,  2.90draws/s]"
     ]
    },
    {
     "name": "stderr",
     "output_type": "stream",
     "text": [
      "\r",
      "Sampling 4 chains:  45%|████▍     | 913/2040 [03:54<08:00,  2.35draws/s]"
     ]
    },
    {
     "name": "stderr",
     "output_type": "stream",
     "text": [
      "\r",
      "Sampling 4 chains:  45%|████▍     | 914/2040 [03:54<07:36,  2.47draws/s]"
     ]
    },
    {
     "name": "stderr",
     "output_type": "stream",
     "text": [
      "\r",
      "Sampling 4 chains:  45%|████▍     | 915/2040 [03:55<09:14,  2.03draws/s]"
     ]
    },
    {
     "name": "stderr",
     "output_type": "stream",
     "text": [
      "\r",
      "Sampling 4 chains:  45%|████▍     | 916/2040 [03:56<08:25,  2.22draws/s]"
     ]
    },
    {
     "name": "stderr",
     "output_type": "stream",
     "text": [
      "\r",
      "Sampling 4 chains:  45%|████▍     | 917/2040 [03:56<06:49,  2.74draws/s]"
     ]
    },
    {
     "name": "stderr",
     "output_type": "stream",
     "text": [
      "\r",
      "Sampling 4 chains:  45%|████▌     | 918/2040 [03:56<05:38,  3.31draws/s]"
     ]
    },
    {
     "name": "stderr",
     "output_type": "stream",
     "text": [
      "\r",
      "Sampling 4 chains:  45%|████▌     | 919/2040 [03:57<09:38,  1.94draws/s]"
     ]
    },
    {
     "name": "stderr",
     "output_type": "stream",
     "text": [
      "\r",
      "Sampling 4 chains:  45%|████▌     | 921/2040 [03:58<08:36,  2.17draws/s]"
     ]
    },
    {
     "name": "stderr",
     "output_type": "stream",
     "text": [
      "\r",
      "Sampling 4 chains:  45%|████▌     | 922/2040 [03:58<08:53,  2.10draws/s]"
     ]
    },
    {
     "name": "stderr",
     "output_type": "stream",
     "text": [
      "\r",
      "Sampling 4 chains:  45%|████▌     | 923/2040 [03:58<07:05,  2.63draws/s]"
     ]
    },
    {
     "name": "stderr",
     "output_type": "stream",
     "text": [
      "\r",
      "Sampling 4 chains:  45%|████▌     | 924/2040 [03:58<05:57,  3.12draws/s]"
     ]
    },
    {
     "name": "stderr",
     "output_type": "stream",
     "text": [
      "\r",
      "Sampling 4 chains:  45%|████▌     | 925/2040 [03:59<08:54,  2.09draws/s]"
     ]
    },
    {
     "name": "stderr",
     "output_type": "stream",
     "text": [
      "\r",
      "Sampling 4 chains:  45%|████▌     | 926/2040 [03:59<07:11,  2.58draws/s]"
     ]
    },
    {
     "name": "stderr",
     "output_type": "stream",
     "text": [
      "\r",
      "Sampling 4 chains:  45%|████▌     | 927/2040 [04:00<06:53,  2.69draws/s]"
     ]
    },
    {
     "name": "stderr",
     "output_type": "stream",
     "text": [
      "\r",
      "Sampling 4 chains:  46%|████▌     | 929/2040 [04:00<06:41,  2.76draws/s]"
     ]
    },
    {
     "name": "stderr",
     "output_type": "stream",
     "text": [
      "\r",
      "Sampling 4 chains:  46%|████▌     | 930/2040 [04:01<06:22,  2.90draws/s]"
     ]
    },
    {
     "name": "stderr",
     "output_type": "stream",
     "text": [
      "\r",
      "Sampling 4 chains:  46%|████▌     | 931/2040 [04:01<06:17,  2.94draws/s]"
     ]
    },
    {
     "name": "stderr",
     "output_type": "stream",
     "text": [
      "\r",
      "Sampling 4 chains:  46%|████▌     | 933/2040 [04:02<06:12,  2.97draws/s]"
     ]
    },
    {
     "name": "stderr",
     "output_type": "stream",
     "text": [
      "\r",
      "Sampling 4 chains:  46%|████▌     | 934/2040 [04:02<06:30,  2.83draws/s]"
     ]
    },
    {
     "name": "stderr",
     "output_type": "stream",
     "text": [
      "\r",
      "Sampling 4 chains:  46%|████▌     | 935/2040 [04:02<06:09,  2.99draws/s]"
     ]
    },
    {
     "name": "stderr",
     "output_type": "stream",
     "text": [
      "\r",
      "Sampling 4 chains:  46%|████▌     | 937/2040 [04:03<06:13,  2.95draws/s]"
     ]
    },
    {
     "name": "stderr",
     "output_type": "stream",
     "text": [
      "\r",
      "Sampling 4 chains:  46%|████▌     | 938/2040 [04:04<07:01,  2.61draws/s]"
     ]
    },
    {
     "name": "stderr",
     "output_type": "stream",
     "text": [
      "\r",
      "Sampling 4 chains:  46%|████▌     | 939/2040 [04:04<06:25,  2.85draws/s]"
     ]
    },
    {
     "name": "stderr",
     "output_type": "stream",
     "text": [
      "\r",
      "Sampling 4 chains:  46%|████▌     | 941/2040 [04:04<05:57,  3.08draws/s]"
     ]
    },
    {
     "name": "stderr",
     "output_type": "stream",
     "text": [
      "\r",
      "Sampling 4 chains:  46%|████▌     | 942/2040 [04:05<07:46,  2.35draws/s]"
     ]
    },
    {
     "name": "stderr",
     "output_type": "stream",
     "text": [
      "\r",
      "Sampling 4 chains:  46%|████▌     | 943/2040 [04:05<06:29,  2.82draws/s]"
     ]
    },
    {
     "name": "stderr",
     "output_type": "stream",
     "text": [
      "\r",
      "Sampling 4 chains:  46%|████▋     | 945/2040 [04:06<05:48,  3.14draws/s]"
     ]
    },
    {
     "name": "stderr",
     "output_type": "stream",
     "text": [
      "\r",
      "Sampling 4 chains:  46%|████▋     | 946/2040 [04:07<08:44,  2.08draws/s]"
     ]
    },
    {
     "name": "stderr",
     "output_type": "stream",
     "text": [
      "\r",
      "Sampling 4 chains:  46%|████▋     | 948/2040 [04:07<06:24,  2.84draws/s]"
     ]
    },
    {
     "name": "stderr",
     "output_type": "stream",
     "text": [
      "\r",
      "Sampling 4 chains:  47%|████▋     | 949/2040 [04:07<05:51,  3.10draws/s]"
     ]
    },
    {
     "name": "stderr",
     "output_type": "stream",
     "text": [
      "\r",
      "Sampling 4 chains:  47%|████▋     | 950/2040 [04:08<09:50,  1.84draws/s]"
     ]
    },
    {
     "name": "stderr",
     "output_type": "stream",
     "text": [
      "\r",
      "Sampling 4 chains:  47%|████▋     | 953/2040 [04:08<07:33,  2.40draws/s]"
     ]
    },
    {
     "name": "stderr",
     "output_type": "stream",
     "text": [
      "\r",
      "Sampling 4 chains:  47%|████▋     | 954/2040 [04:10<11:35,  1.56draws/s]"
     ]
    },
    {
     "name": "stderr",
     "output_type": "stream",
     "text": [
      "\r",
      "Sampling 4 chains:  47%|████▋     | 957/2040 [04:10<08:27,  2.14draws/s]"
     ]
    },
    {
     "name": "stderr",
     "output_type": "stream",
     "text": [
      "\r",
      "Sampling 4 chains:  47%|████▋     | 958/2040 [04:11<12:17,  1.47draws/s]"
     ]
    },
    {
     "name": "stderr",
     "output_type": "stream",
     "text": [
      "\r",
      "Sampling 4 chains:  47%|████▋     | 961/2040 [04:11<08:54,  2.02draws/s]"
     ]
    },
    {
     "name": "stderr",
     "output_type": "stream",
     "text": [
      "\r",
      "Sampling 4 chains:  47%|████▋     | 962/2040 [04:12<12:16,  1.46draws/s]"
     ]
    },
    {
     "name": "stderr",
     "output_type": "stream",
     "text": [
      "\r",
      "Sampling 4 chains:  47%|████▋     | 964/2040 [04:12<09:05,  1.97draws/s]"
     ]
    },
    {
     "name": "stderr",
     "output_type": "stream",
     "text": [
      "\r",
      "Sampling 4 chains:  47%|████▋     | 966/2040 [04:14<09:22,  1.91draws/s]"
     ]
    },
    {
     "name": "stderr",
     "output_type": "stream",
     "text": [
      "\r",
      "Sampling 4 chains:  47%|████▋     | 967/2040 [04:14<07:15,  2.47draws/s]"
     ]
    },
    {
     "name": "stderr",
     "output_type": "stream",
     "text": [
      "\r",
      "Sampling 4 chains:  48%|████▊     | 969/2040 [04:14<05:36,  3.18draws/s]"
     ]
    },
    {
     "name": "stderr",
     "output_type": "stream",
     "text": [
      "\r",
      "Sampling 4 chains:  48%|████▊     | 970/2040 [04:15<09:09,  1.95draws/s]"
     ]
    },
    {
     "name": "stderr",
     "output_type": "stream",
     "text": [
      "\r",
      "Sampling 4 chains:  48%|████▊     | 971/2040 [04:15<07:05,  2.52draws/s]"
     ]
    },
    {
     "name": "stderr",
     "output_type": "stream",
     "text": [
      "\r",
      "Sampling 4 chains:  48%|████▊     | 973/2040 [04:15<05:37,  3.16draws/s]"
     ]
    },
    {
     "name": "stderr",
     "output_type": "stream",
     "text": [
      "\r",
      "Sampling 4 chains:  48%|████▊     | 974/2040 [04:16<09:08,  1.95draws/s]"
     ]
    },
    {
     "name": "stderr",
     "output_type": "stream",
     "text": [
      "\r",
      "Sampling 4 chains:  48%|████▊     | 976/2040 [04:16<07:01,  2.53draws/s]"
     ]
    },
    {
     "name": "stderr",
     "output_type": "stream",
     "text": [
      "\r",
      "Sampling 4 chains:  48%|████▊     | 977/2040 [04:17<05:59,  2.96draws/s]"
     ]
    },
    {
     "name": "stderr",
     "output_type": "stream",
     "text": [
      "\r",
      "Sampling 4 chains:  48%|████▊     | 978/2040 [04:18<09:39,  1.83draws/s]"
     ]
    },
    {
     "name": "stderr",
     "output_type": "stream",
     "text": [
      "\r",
      "Sampling 4 chains:  48%|████▊     | 981/2040 [04:18<07:37,  2.31draws/s]"
     ]
    },
    {
     "name": "stderr",
     "output_type": "stream",
     "text": [
      "\r",
      "Sampling 4 chains:  48%|████▊     | 982/2040 [04:19<09:34,  1.84draws/s]"
     ]
    },
    {
     "name": "stderr",
     "output_type": "stream",
     "text": [
      "\r",
      "Sampling 4 chains:  48%|████▊     | 984/2040 [04:19<07:20,  2.40draws/s]"
     ]
    },
    {
     "name": "stderr",
     "output_type": "stream",
     "text": [
      "\r",
      "Sampling 4 chains:  48%|████▊     | 985/2040 [04:20<06:50,  2.57draws/s]"
     ]
    },
    {
     "name": "stderr",
     "output_type": "stream",
     "text": [
      "\r",
      "Sampling 4 chains:  48%|████▊     | 986/2040 [04:20<08:26,  2.08draws/s]"
     ]
    },
    {
     "name": "stderr",
     "output_type": "stream",
     "text": [
      "\r",
      "Sampling 4 chains:  48%|████▊     | 988/2040 [04:21<06:56,  2.52draws/s]"
     ]
    },
    {
     "name": "stderr",
     "output_type": "stream",
     "text": [
      "\r",
      "Sampling 4 chains:  48%|████▊     | 989/2040 [04:21<07:11,  2.44draws/s]"
     ]
    },
    {
     "name": "stderr",
     "output_type": "stream",
     "text": [
      "\r",
      "Sampling 4 chains:  49%|████▊     | 990/2040 [04:22<07:29,  2.34draws/s]"
     ]
    },
    {
     "name": "stderr",
     "output_type": "stream",
     "text": [
      "\r",
      "Sampling 4 chains:  49%|████▊     | 991/2040 [04:22<06:07,  2.86draws/s]"
     ]
    },
    {
     "name": "stderr",
     "output_type": "stream",
     "text": [
      "\r",
      "Sampling 4 chains:  49%|████▊     | 992/2040 [04:22<05:33,  3.15draws/s]"
     ]
    },
    {
     "name": "stderr",
     "output_type": "stream",
     "text": [
      "\r",
      "Sampling 4 chains:  49%|████▊     | 993/2040 [04:23<07:06,  2.45draws/s]"
     ]
    },
    {
     "name": "stderr",
     "output_type": "stream",
     "text": [
      "\r",
      "Sampling 4 chains:  49%|████▊     | 994/2040 [04:23<06:30,  2.68draws/s]"
     ]
    },
    {
     "name": "stderr",
     "output_type": "stream",
     "text": [
      "\r",
      "Sampling 4 chains:  49%|████▉     | 995/2040 [04:23<06:07,  2.85draws/s]"
     ]
    },
    {
     "name": "stderr",
     "output_type": "stream",
     "text": [
      "\r",
      "Sampling 4 chains:  49%|████▉     | 997/2040 [04:24<06:27,  2.69draws/s]"
     ]
    },
    {
     "name": "stderr",
     "output_type": "stream",
     "text": [
      "\r",
      "Sampling 4 chains:  49%|████▉     | 998/2040 [04:24<05:12,  3.33draws/s]"
     ]
    },
    {
     "name": "stderr",
     "output_type": "stream",
     "text": [
      "\r",
      "Sampling 4 chains:  49%|████▉     | 999/2040 [04:24<05:28,  3.17draws/s]"
     ]
    },
    {
     "name": "stderr",
     "output_type": "stream",
     "text": [
      "\r",
      "Sampling 4 chains:  49%|████▉     | 1001/2040 [04:25<06:04,  2.85draws/s]"
     ]
    },
    {
     "name": "stderr",
     "output_type": "stream",
     "text": [
      "\r",
      "Sampling 4 chains:  49%|████▉     | 1002/2040 [04:26<05:14,  3.30draws/s]"
     ]
    },
    {
     "name": "stderr",
     "output_type": "stream",
     "text": [
      "\r",
      "Sampling 4 chains:  49%|████▉     | 1003/2040 [04:26<05:16,  3.27draws/s]"
     ]
    },
    {
     "name": "stderr",
     "output_type": "stream",
     "text": [
      "\r",
      "Sampling 4 chains:  49%|████▉     | 1005/2040 [04:27<05:31,  3.12draws/s]"
     ]
    },
    {
     "name": "stderr",
     "output_type": "stream",
     "text": [
      "\r",
      "Sampling 4 chains:  49%|████▉     | 1006/2040 [04:27<06:27,  2.67draws/s]"
     ]
    },
    {
     "name": "stderr",
     "output_type": "stream",
     "text": [
      "\r",
      "Sampling 4 chains:  49%|████▉     | 1007/2040 [04:27<05:17,  3.25draws/s]"
     ]
    },
    {
     "name": "stderr",
     "output_type": "stream",
     "text": [
      "\r",
      "Sampling 4 chains:  49%|████▉     | 1008/2040 [04:27<04:16,  4.02draws/s]"
     ]
    },
    {
     "name": "stderr",
     "output_type": "stream",
     "text": [
      "\r",
      "Sampling 4 chains:  49%|████▉     | 1009/2040 [04:28<05:54,  2.91draws/s]"
     ]
    },
    {
     "name": "stderr",
     "output_type": "stream",
     "text": [
      "\r",
      "Sampling 4 chains:  50%|████▉     | 1010/2040 [04:28<06:55,  2.48draws/s]"
     ]
    },
    {
     "name": "stderr",
     "output_type": "stream",
     "text": [
      "\r",
      "Sampling 4 chains:  50%|████▉     | 1011/2040 [04:29<05:51,  2.93draws/s]"
     ]
    },
    {
     "name": "stderr",
     "output_type": "stream",
     "text": [
      "\r",
      "Sampling 4 chains:  50%|████▉     | 1013/2040 [04:29<05:18,  3.22draws/s]"
     ]
    },
    {
     "name": "stderr",
     "output_type": "stream",
     "text": [
      "\r",
      "Sampling 4 chains:  50%|████▉     | 1014/2040 [04:30<07:31,  2.27draws/s]"
     ]
    },
    {
     "name": "stderr",
     "output_type": "stream",
     "text": [
      "\r",
      "Sampling 4 chains:  50%|████▉     | 1016/2040 [04:30<05:56,  2.88draws/s]"
     ]
    },
    {
     "name": "stderr",
     "output_type": "stream",
     "text": [
      "\r",
      "Sampling 4 chains:  50%|████▉     | 1017/2040 [04:30<06:03,  2.81draws/s]"
     ]
    },
    {
     "name": "stderr",
     "output_type": "stream",
     "text": [
      "\r",
      "Sampling 4 chains:  50%|████▉     | 1018/2040 [04:31<08:24,  2.02draws/s]"
     ]
    },
    {
     "name": "stderr",
     "output_type": "stream",
     "text": [
      "\r",
      "Sampling 4 chains:  50%|█████     | 1020/2040 [04:31<06:21,  2.67draws/s]"
     ]
    },
    {
     "name": "stderr",
     "output_type": "stream",
     "text": [
      "\r",
      "Sampling 4 chains:  50%|█████     | 1021/2040 [04:32<05:46,  2.95draws/s]"
     ]
    },
    {
     "name": "stderr",
     "output_type": "stream",
     "text": [
      "\r",
      "Sampling 4 chains:  50%|█████     | 1022/2040 [04:33<09:23,  1.81draws/s]"
     ]
    },
    {
     "name": "stderr",
     "output_type": "stream",
     "text": [
      "\r",
      "Sampling 4 chains:  50%|█████     | 1025/2040 [04:33<06:56,  2.44draws/s]"
     ]
    },
    {
     "name": "stderr",
     "output_type": "stream",
     "text": [
      "\r",
      "Sampling 4 chains:  50%|█████     | 1026/2040 [04:34<10:58,  1.54draws/s]"
     ]
    },
    {
     "name": "stderr",
     "output_type": "stream",
     "text": [
      "\r",
      "Sampling 4 chains:  50%|█████     | 1030/2040 [04:36<09:19,  1.81draws/s]"
     ]
    },
    {
     "name": "stderr",
     "output_type": "stream",
     "text": [
      "\r",
      "Sampling 4 chains:  51%|█████     | 1032/2040 [04:36<06:55,  2.42draws/s]"
     ]
    },
    {
     "name": "stderr",
     "output_type": "stream",
     "text": [
      "\r",
      "Sampling 4 chains:  51%|█████     | 1034/2040 [04:37<07:37,  2.20draws/s]"
     ]
    },
    {
     "name": "stderr",
     "output_type": "stream",
     "text": [
      "\r",
      "Sampling 4 chains:  51%|█████     | 1036/2040 [04:37<05:59,  2.80draws/s]"
     ]
    },
    {
     "name": "stderr",
     "output_type": "stream",
     "text": [
      "\r",
      "Sampling 4 chains:  51%|█████     | 1038/2040 [04:38<06:58,  2.39draws/s]"
     ]
    },
    {
     "name": "stderr",
     "output_type": "stream",
     "text": [
      "\r",
      "Sampling 4 chains:  51%|█████     | 1040/2040 [04:38<05:23,  3.09draws/s]"
     ]
    },
    {
     "name": "stderr",
     "output_type": "stream",
     "text": [
      "\r",
      "Sampling 4 chains:  51%|█████     | 1042/2040 [04:40<06:40,  2.49draws/s]"
     ]
    },
    {
     "name": "stderr",
     "output_type": "stream",
     "text": [
      "\r",
      "Sampling 4 chains:  51%|█████     | 1044/2040 [04:40<05:24,  3.07draws/s]"
     ]
    },
    {
     "name": "stderr",
     "output_type": "stream",
     "text": [
      "\r",
      "Sampling 4 chains:  51%|█████     | 1045/2040 [04:40<04:26,  3.73draws/s]"
     ]
    },
    {
     "name": "stderr",
     "output_type": "stream",
     "text": [
      "\r",
      "Sampling 4 chains:  51%|█████▏    | 1046/2040 [04:41<07:18,  2.27draws/s]"
     ]
    },
    {
     "name": "stderr",
     "output_type": "stream",
     "text": [
      "\r",
      "Sampling 4 chains:  51%|█████▏    | 1047/2040 [04:41<06:02,  2.74draws/s]"
     ]
    },
    {
     "name": "stderr",
     "output_type": "stream",
     "text": [
      "\r",
      "Sampling 4 chains:  51%|█████▏    | 1048/2040 [04:41<05:28,  3.02draws/s]"
     ]
    },
    {
     "name": "stderr",
     "output_type": "stream",
     "text": [
      "\r",
      "Sampling 4 chains:  51%|█████▏    | 1049/2040 [04:42<05:00,  3.29draws/s]"
     ]
    },
    {
     "name": "stderr",
     "output_type": "stream",
     "text": [
      "\r",
      "Sampling 4 chains:  51%|█████▏    | 1050/2040 [04:42<06:56,  2.38draws/s]"
     ]
    },
    {
     "name": "stderr",
     "output_type": "stream",
     "text": [
      "\r",
      "Sampling 4 chains:  52%|█████▏    | 1051/2040 [04:42<05:48,  2.84draws/s]"
     ]
    },
    {
     "name": "stderr",
     "output_type": "stream",
     "text": [
      "\r",
      "Sampling 4 chains:  52%|█████▏    | 1052/2040 [04:43<05:15,  3.13draws/s]"
     ]
    },
    {
     "name": "stderr",
     "output_type": "stream",
     "text": [
      "\r",
      "Sampling 4 chains:  52%|█████▏    | 1053/2040 [04:43<04:37,  3.56draws/s]"
     ]
    },
    {
     "name": "stderr",
     "output_type": "stream",
     "text": [
      "\r",
      "Sampling 4 chains:  52%|█████▏    | 1054/2040 [04:44<06:43,  2.44draws/s]"
     ]
    },
    {
     "name": "stderr",
     "output_type": "stream",
     "text": [
      "\r",
      "Sampling 4 chains:  52%|█████▏    | 1055/2040 [04:44<06:09,  2.66draws/s]"
     ]
    },
    {
     "name": "stderr",
     "output_type": "stream",
     "text": [
      "\r",
      "Sampling 4 chains:  52%|█████▏    | 1056/2040 [04:44<05:13,  3.13draws/s]"
     ]
    },
    {
     "name": "stderr",
     "output_type": "stream",
     "text": [
      "\r",
      "Sampling 4 chains:  52%|█████▏    | 1057/2040 [04:44<04:58,  3.29draws/s]"
     ]
    },
    {
     "name": "stderr",
     "output_type": "stream",
     "text": [
      "\r",
      "Sampling 4 chains:  52%|█████▏    | 1058/2040 [04:45<06:20,  2.58draws/s]"
     ]
    },
    {
     "name": "stderr",
     "output_type": "stream",
     "text": [
      "\r",
      "Sampling 4 chains:  52%|█████▏    | 1059/2040 [04:45<06:06,  2.68draws/s]"
     ]
    },
    {
     "name": "stderr",
     "output_type": "stream",
     "text": [
      "\r",
      "Sampling 4 chains:  52%|█████▏    | 1060/2040 [04:45<05:25,  3.01draws/s]"
     ]
    },
    {
     "name": "stderr",
     "output_type": "stream",
     "text": [
      "\r",
      "Sampling 4 chains:  52%|█████▏    | 1061/2040 [04:46<05:02,  3.24draws/s]"
     ]
    },
    {
     "name": "stderr",
     "output_type": "stream",
     "text": [
      "\r",
      "Sampling 4 chains:  52%|█████▏    | 1062/2040 [04:46<06:30,  2.50draws/s]"
     ]
    },
    {
     "name": "stderr",
     "output_type": "stream",
     "text": [
      "\r",
      "Sampling 4 chains:  52%|█████▏    | 1063/2040 [04:47<05:51,  2.78draws/s]"
     ]
    },
    {
     "name": "stderr",
     "output_type": "stream",
     "text": [
      "\r",
      "Sampling 4 chains:  52%|█████▏    | 1064/2040 [04:47<05:18,  3.07draws/s]"
     ]
    },
    {
     "name": "stderr",
     "output_type": "stream",
     "text": [
      "\r",
      "Sampling 4 chains:  52%|█████▏    | 1065/2040 [04:47<05:06,  3.18draws/s]"
     ]
    },
    {
     "name": "stderr",
     "output_type": "stream",
     "text": [
      "\r",
      "Sampling 4 chains:  52%|█████▏    | 1066/2040 [04:48<06:24,  2.53draws/s]"
     ]
    },
    {
     "name": "stderr",
     "output_type": "stream",
     "text": [
      "\r",
      "Sampling 4 chains:  52%|█████▏    | 1067/2040 [04:48<05:11,  3.12draws/s]"
     ]
    },
    {
     "name": "stderr",
     "output_type": "stream",
     "text": [
      "\r",
      "Sampling 4 chains:  52%|█████▏    | 1068/2040 [04:48<05:48,  2.79draws/s]"
     ]
    },
    {
     "name": "stderr",
     "output_type": "stream",
     "text": [
      "\r",
      "Sampling 4 chains:  52%|█████▏    | 1069/2040 [04:49<05:37,  2.88draws/s]"
     ]
    },
    {
     "name": "stderr",
     "output_type": "stream",
     "text": [
      "\r",
      "Sampling 4 chains:  52%|█████▏    | 1070/2040 [04:49<05:46,  2.80draws/s]"
     ]
    },
    {
     "name": "stderr",
     "output_type": "stream",
     "text": [
      "\r",
      "Sampling 4 chains:  52%|█████▎    | 1071/2040 [04:49<05:35,  2.89draws/s]"
     ]
    },
    {
     "name": "stderr",
     "output_type": "stream",
     "text": [
      "\r",
      "Sampling 4 chains:  53%|█████▎    | 1072/2040 [04:50<05:45,  2.80draws/s]"
     ]
    },
    {
     "name": "stderr",
     "output_type": "stream",
     "text": [
      "\r",
      "Sampling 4 chains:  53%|█████▎    | 1073/2040 [04:50<05:52,  2.74draws/s]"
     ]
    },
    {
     "name": "stderr",
     "output_type": "stream",
     "text": [
      "\r",
      "Sampling 4 chains:  53%|█████▎    | 1074/2040 [04:50<05:36,  2.87draws/s]"
     ]
    },
    {
     "name": "stderr",
     "output_type": "stream",
     "text": [
      "\r",
      "Sampling 4 chains:  53%|█████▎    | 1075/2040 [04:51<05:17,  3.04draws/s]"
     ]
    },
    {
     "name": "stderr",
     "output_type": "stream",
     "text": [
      "\r",
      "Sampling 4 chains:  53%|█████▎    | 1076/2040 [04:51<06:30,  2.47draws/s]"
     ]
    },
    {
     "name": "stderr",
     "output_type": "stream",
     "text": [
      "\r",
      "Sampling 4 chains:  53%|█████▎    | 1077/2040 [04:52<06:50,  2.35draws/s]"
     ]
    },
    {
     "name": "stderr",
     "output_type": "stream",
     "text": [
      "\r",
      "Sampling 4 chains:  53%|█████▎    | 1078/2040 [04:52<05:35,  2.87draws/s]"
     ]
    },
    {
     "name": "stderr",
     "output_type": "stream",
     "text": [
      "\r",
      "Sampling 4 chains:  53%|█████▎    | 1079/2040 [04:52<05:00,  3.20draws/s]"
     ]
    },
    {
     "name": "stderr",
     "output_type": "stream",
     "text": [
      "\r",
      "Sampling 4 chains:  53%|█████▎    | 1080/2040 [04:53<06:27,  2.48draws/s]"
     ]
    },
    {
     "name": "stderr",
     "output_type": "stream",
     "text": [
      "\r",
      "Sampling 4 chains:  53%|█████▎    | 1081/2040 [04:53<06:42,  2.38draws/s]"
     ]
    },
    {
     "name": "stderr",
     "output_type": "stream",
     "text": [
      "\r",
      "Sampling 4 chains:  53%|█████▎    | 1083/2040 [04:54<05:24,  2.95draws/s]"
     ]
    },
    {
     "name": "stderr",
     "output_type": "stream",
     "text": [
      "\r",
      "Sampling 4 chains:  53%|█████▎    | 1084/2040 [04:54<06:29,  2.46draws/s]"
     ]
    },
    {
     "name": "stderr",
     "output_type": "stream",
     "text": [
      "\r",
      "Sampling 4 chains:  53%|█████▎    | 1085/2040 [04:55<06:59,  2.28draws/s]"
     ]
    },
    {
     "name": "stderr",
     "output_type": "stream",
     "text": [
      "\r",
      "Sampling 4 chains:  53%|█████▎    | 1086/2040 [04:55<05:26,  2.93draws/s]"
     ]
    },
    {
     "name": "stderr",
     "output_type": "stream",
     "text": [
      "\r",
      "Sampling 4 chains:  53%|█████▎    | 1087/2040 [04:55<04:46,  3.33draws/s]"
     ]
    },
    {
     "name": "stderr",
     "output_type": "stream",
     "text": [
      "\r",
      "Sampling 4 chains:  53%|█████▎    | 1088/2040 [04:55<06:00,  2.64draws/s]"
     ]
    },
    {
     "name": "stderr",
     "output_type": "stream",
     "text": [
      "\r",
      "Sampling 4 chains:  53%|█████▎    | 1089/2040 [04:56<06:21,  2.50draws/s]"
     ]
    },
    {
     "name": "stderr",
     "output_type": "stream",
     "text": [
      "\r",
      "Sampling 4 chains:  53%|█████▎    | 1090/2040 [04:56<05:43,  2.77draws/s]"
     ]
    },
    {
     "name": "stderr",
     "output_type": "stream",
     "text": [
      "\r",
      "Sampling 4 chains:  54%|█████▎    | 1092/2040 [04:57<05:32,  2.85draws/s]"
     ]
    },
    {
     "name": "stderr",
     "output_type": "stream",
     "text": [
      "\r",
      "Sampling 4 chains:  54%|█████▎    | 1093/2040 [04:57<05:53,  2.68draws/s]"
     ]
    },
    {
     "name": "stderr",
     "output_type": "stream",
     "text": [
      "\r",
      "Sampling 4 chains:  54%|█████▎    | 1094/2040 [04:58<05:45,  2.74draws/s]"
     ]
    },
    {
     "name": "stderr",
     "output_type": "stream",
     "text": [
      "\r",
      "Sampling 4 chains:  54%|█████▎    | 1095/2040 [04:58<04:29,  3.50draws/s]"
     ]
    },
    {
     "name": "stderr",
     "output_type": "stream",
     "text": [
      "\r",
      "Sampling 4 chains:  54%|█████▎    | 1096/2040 [04:58<05:53,  2.67draws/s]"
     ]
    },
    {
     "name": "stderr",
     "output_type": "stream",
     "text": [
      "\r",
      "Sampling 4 chains:  54%|█████▍    | 1097/2040 [04:59<05:11,  3.02draws/s]"
     ]
    },
    {
     "name": "stderr",
     "output_type": "stream",
     "text": [
      "\r",
      "Sampling 4 chains:  54%|█████▍    | 1098/2040 [04:59<06:03,  2.59draws/s]"
     ]
    },
    {
     "name": "stderr",
     "output_type": "stream",
     "text": [
      "\r",
      "Sampling 4 chains:  54%|█████▍    | 1099/2040 [04:59<05:00,  3.13draws/s]"
     ]
    },
    {
     "name": "stderr",
     "output_type": "stream",
     "text": [
      "\r",
      "Sampling 4 chains:  54%|█████▍    | 1100/2040 [05:00<05:53,  2.66draws/s]"
     ]
    },
    {
     "name": "stderr",
     "output_type": "stream",
     "text": [
      "\r",
      "Sampling 4 chains:  54%|█████▍    | 1101/2040 [05:01<08:01,  1.95draws/s]"
     ]
    },
    {
     "name": "stderr",
     "output_type": "stream",
     "text": [
      "\r",
      "Sampling 4 chains:  54%|█████▍    | 1102/2040 [05:01<06:21,  2.46draws/s]"
     ]
    },
    {
     "name": "stderr",
     "output_type": "stream",
     "text": [
      "\r",
      "Sampling 4 chains:  54%|█████▍    | 1103/2040 [05:01<05:08,  3.03draws/s]"
     ]
    },
    {
     "name": "stderr",
     "output_type": "stream",
     "text": [
      "\r",
      "Sampling 4 chains:  54%|█████▍    | 1104/2040 [05:01<05:40,  2.75draws/s]"
     ]
    },
    {
     "name": "stderr",
     "output_type": "stream",
     "text": [
      "\r",
      "Sampling 4 chains:  54%|█████▍    | 1105/2040 [05:03<09:57,  1.56draws/s]"
     ]
    },
    {
     "name": "stderr",
     "output_type": "stream",
     "text": [
      "\r",
      "Sampling 4 chains:  54%|█████▍    | 1107/2040 [05:03<07:55,  1.96draws/s]"
     ]
    },
    {
     "name": "stderr",
     "output_type": "stream",
     "text": [
      "\r",
      "Sampling 4 chains:  54%|█████▍    | 1109/2040 [05:04<08:01,  1.93draws/s]"
     ]
    },
    {
     "name": "stderr",
     "output_type": "stream",
     "text": [
      "\r",
      "Sampling 4 chains:  54%|█████▍    | 1110/2040 [05:05<08:16,  1.87draws/s]"
     ]
    },
    {
     "name": "stderr",
     "output_type": "stream",
     "text": [
      "\r",
      "Sampling 4 chains:  55%|█████▍    | 1112/2040 [05:05<06:27,  2.39draws/s]"
     ]
    },
    {
     "name": "stderr",
     "output_type": "stream",
     "text": [
      "\r",
      "Sampling 4 chains:  55%|█████▍    | 1113/2040 [05:06<07:27,  2.07draws/s]"
     ]
    },
    {
     "name": "stderr",
     "output_type": "stream",
     "text": [
      "\r",
      "Sampling 4 chains:  55%|█████▍    | 1114/2040 [05:06<08:12,  1.88draws/s]"
     ]
    },
    {
     "name": "stderr",
     "output_type": "stream",
     "text": [
      "\r",
      "Sampling 4 chains:  55%|█████▍    | 1115/2040 [05:06<06:37,  2.33draws/s]"
     ]
    },
    {
     "name": "stderr",
     "output_type": "stream",
     "text": [
      "\r",
      "Sampling 4 chains:  55%|█████▍    | 1116/2040 [05:07<07:39,  2.01draws/s]"
     ]
    },
    {
     "name": "stderr",
     "output_type": "stream",
     "text": [
      "\r",
      "Sampling 4 chains:  55%|█████▍    | 1118/2040 [05:08<07:00,  2.19draws/s]"
     ]
    },
    {
     "name": "stderr",
     "output_type": "stream",
     "text": [
      "\r",
      "Sampling 4 chains:  55%|█████▍    | 1119/2040 [05:08<07:26,  2.06draws/s]"
     ]
    },
    {
     "name": "stderr",
     "output_type": "stream",
     "text": [
      "\r",
      "Sampling 4 chains:  55%|█████▍    | 1120/2040 [05:09<06:37,  2.31draws/s]"
     ]
    },
    {
     "name": "stderr",
     "output_type": "stream",
     "text": [
      "\r",
      "Sampling 4 chains:  55%|█████▍    | 1121/2040 [05:09<06:15,  2.45draws/s]"
     ]
    },
    {
     "name": "stderr",
     "output_type": "stream",
     "text": [
      "\r",
      "Sampling 4 chains:  55%|█████▌    | 1122/2040 [05:09<06:17,  2.43draws/s]"
     ]
    },
    {
     "name": "stderr",
     "output_type": "stream",
     "text": [
      "\r",
      "Sampling 4 chains:  55%|█████▌    | 1123/2040 [05:10<06:44,  2.27draws/s]"
     ]
    },
    {
     "name": "stderr",
     "output_type": "stream",
     "text": [
      "\r",
      "Sampling 4 chains:  55%|█████▌    | 1124/2040 [05:10<05:20,  2.86draws/s]"
     ]
    },
    {
     "name": "stderr",
     "output_type": "stream",
     "text": [
      "\r",
      "Sampling 4 chains:  55%|█████▌    | 1125/2040 [05:10<05:21,  2.84draws/s]"
     ]
    },
    {
     "name": "stderr",
     "output_type": "stream",
     "text": [
      "\r",
      "Sampling 4 chains:  55%|█████▌    | 1126/2040 [05:11<06:27,  2.36draws/s]"
     ]
    },
    {
     "name": "stderr",
     "output_type": "stream",
     "text": [
      "\r",
      "Sampling 4 chains:  55%|█████▌    | 1127/2040 [05:11<06:11,  2.46draws/s]"
     ]
    },
    {
     "name": "stderr",
     "output_type": "stream",
     "text": [
      "\r",
      "Sampling 4 chains:  55%|█████▌    | 1129/2040 [05:12<05:08,  2.95draws/s]"
     ]
    },
    {
     "name": "stderr",
     "output_type": "stream",
     "text": [
      "\r",
      "Sampling 4 chains:  55%|█████▌    | 1130/2040 [05:12<07:03,  2.15draws/s]"
     ]
    },
    {
     "name": "stderr",
     "output_type": "stream",
     "text": [
      "\r",
      "Sampling 4 chains:  55%|█████▌    | 1131/2040 [05:13<06:35,  2.30draws/s]"
     ]
    },
    {
     "name": "stderr",
     "output_type": "stream",
     "text": [
      "\r",
      "Sampling 4 chains:  56%|█████▌    | 1133/2040 [05:13<05:12,  2.91draws/s]"
     ]
    },
    {
     "name": "stderr",
     "output_type": "stream",
     "text": [
      "\r",
      "Sampling 4 chains:  56%|█████▌    | 1134/2040 [05:14<07:01,  2.15draws/s]"
     ]
    },
    {
     "name": "stderr",
     "output_type": "stream",
     "text": [
      "\r",
      "Sampling 4 chains:  56%|█████▌    | 1135/2040 [05:14<06:33,  2.30draws/s]"
     ]
    },
    {
     "name": "stderr",
     "output_type": "stream",
     "text": [
      "\r",
      "Sampling 4 chains:  56%|█████▌    | 1136/2040 [05:14<05:13,  2.88draws/s]"
     ]
    },
    {
     "name": "stderr",
     "output_type": "stream",
     "text": [
      "\r",
      "Sampling 4 chains:  56%|█████▌    | 1138/2040 [05:15<05:47,  2.59draws/s]"
     ]
    },
    {
     "name": "stderr",
     "output_type": "stream",
     "text": [
      "\r",
      "Sampling 4 chains:  56%|█████▌    | 1139/2040 [05:16<05:25,  2.77draws/s]"
     ]
    },
    {
     "name": "stderr",
     "output_type": "stream",
     "text": [
      "\r",
      "Sampling 4 chains:  56%|█████▌    | 1140/2040 [05:16<04:19,  3.47draws/s]"
     ]
    },
    {
     "name": "stderr",
     "output_type": "stream",
     "text": [
      "\r",
      "Sampling 4 chains:  56%|█████▌    | 1141/2040 [05:16<03:50,  3.90draws/s]"
     ]
    },
    {
     "name": "stderr",
     "output_type": "stream",
     "text": [
      "\r",
      "Sampling 4 chains:  56%|█████▌    | 1142/2040 [05:17<07:32,  1.98draws/s]"
     ]
    },
    {
     "name": "stderr",
     "output_type": "stream",
     "text": [
      "\r",
      "Sampling 4 chains:  56%|█████▌    | 1143/2040 [05:17<05:56,  2.52draws/s]"
     ]
    },
    {
     "name": "stderr",
     "output_type": "stream",
     "text": [
      "\r",
      "Sampling 4 chains:  56%|█████▌    | 1145/2040 [05:18<05:27,  2.74draws/s]"
     ]
    },
    {
     "name": "stderr",
     "output_type": "stream",
     "text": [
      "\r",
      "Sampling 4 chains:  56%|█████▌    | 1146/2040 [05:19<07:20,  2.03draws/s]"
     ]
    },
    {
     "name": "stderr",
     "output_type": "stream",
     "text": [
      "\r",
      "Sampling 4 chains:  56%|█████▋    | 1149/2040 [05:19<06:13,  2.38draws/s]"
     ]
    },
    {
     "name": "stderr",
     "output_type": "stream",
     "text": [
      "\r",
      "Sampling 4 chains:  56%|█████▋    | 1150/2040 [05:20<06:55,  2.14draws/s]"
     ]
    },
    {
     "name": "stderr",
     "output_type": "stream",
     "text": [
      "\r",
      "Sampling 4 chains:  56%|█████▋    | 1152/2040 [05:20<05:31,  2.68draws/s]"
     ]
    },
    {
     "name": "stderr",
     "output_type": "stream",
     "text": [
      "\r",
      "Sampling 4 chains:  57%|█████▋    | 1153/2040 [05:21<06:16,  2.36draws/s]"
     ]
    },
    {
     "name": "stderr",
     "output_type": "stream",
     "text": [
      "\r",
      "Sampling 4 chains:  57%|█████▋    | 1154/2040 [05:21<06:35,  2.24draws/s]"
     ]
    },
    {
     "name": "stderr",
     "output_type": "stream",
     "text": [
      "\r",
      "Sampling 4 chains:  57%|█████▋    | 1156/2040 [05:22<05:42,  2.58draws/s]"
     ]
    },
    {
     "name": "stderr",
     "output_type": "stream",
     "text": [
      "\r",
      "Sampling 4 chains:  57%|█████▋    | 1157/2040 [05:22<06:51,  2.15draws/s]"
     ]
    },
    {
     "name": "stderr",
     "output_type": "stream",
     "text": [
      "\r",
      "Sampling 4 chains:  57%|█████▋    | 1158/2040 [05:23<06:11,  2.38draws/s]"
     ]
    },
    {
     "name": "stderr",
     "output_type": "stream",
     "text": [
      "\r",
      "Sampling 4 chains:  57%|█████▋    | 1159/2040 [05:23<05:06,  2.88draws/s]"
     ]
    },
    {
     "name": "stderr",
     "output_type": "stream",
     "text": [
      "\r",
      "Sampling 4 chains:  57%|█████▋    | 1160/2040 [05:23<05:13,  2.80draws/s]"
     ]
    },
    {
     "name": "stderr",
     "output_type": "stream",
     "text": [
      "\r",
      "Sampling 4 chains:  57%|█████▋    | 1161/2040 [05:24<06:48,  2.15draws/s]"
     ]
    },
    {
     "name": "stderr",
     "output_type": "stream",
     "text": [
      "\r",
      "Sampling 4 chains:  57%|█████▋    | 1162/2040 [05:24<05:25,  2.70draws/s]"
     ]
    },
    {
     "name": "stderr",
     "output_type": "stream",
     "text": [
      "\r",
      "Sampling 4 chains:  57%|█████▋    | 1163/2040 [05:24<04:19,  3.38draws/s]"
     ]
    },
    {
     "name": "stderr",
     "output_type": "stream",
     "text": [
      "\r",
      "Sampling 4 chains:  57%|█████▋    | 1164/2040 [05:25<05:35,  2.61draws/s]"
     ]
    },
    {
     "name": "stderr",
     "output_type": "stream",
     "text": [
      "\r",
      "Sampling 4 chains:  57%|█████▋    | 1165/2040 [05:25<06:36,  2.21draws/s]"
     ]
    },
    {
     "name": "stderr",
     "output_type": "stream",
     "text": [
      "\r",
      "Sampling 4 chains:  57%|█████▋    | 1167/2040 [05:26<04:52,  2.99draws/s]"
     ]
    },
    {
     "name": "stderr",
     "output_type": "stream",
     "text": [
      "\r",
      "Sampling 4 chains:  57%|█████▋    | 1168/2040 [05:26<06:38,  2.19draws/s]"
     ]
    },
    {
     "name": "stderr",
     "output_type": "stream",
     "text": [
      "\r",
      "Sampling 4 chains:  57%|█████▋    | 1169/2040 [05:27<07:44,  1.87draws/s]"
     ]
    },
    {
     "name": "stderr",
     "output_type": "stream",
     "text": [
      "\r",
      "Sampling 4 chains:  57%|█████▋    | 1172/2040 [05:28<06:39,  2.17draws/s]"
     ]
    },
    {
     "name": "stderr",
     "output_type": "stream",
     "text": [
      "\r",
      "Sampling 4 chains:  57%|█████▊    | 1173/2040 [05:28<06:35,  2.19draws/s]"
     ]
    },
    {
     "name": "stderr",
     "output_type": "stream",
     "text": [
      "\r",
      "Sampling 4 chains:  58%|█████▊    | 1174/2040 [05:28<05:22,  2.68draws/s]"
     ]
    },
    {
     "name": "stderr",
     "output_type": "stream",
     "text": [
      "\r",
      "Sampling 4 chains:  58%|█████▊    | 1175/2040 [05:29<04:44,  3.04draws/s]"
     ]
    },
    {
     "name": "stderr",
     "output_type": "stream",
     "text": [
      "\r",
      "Sampling 4 chains:  58%|█████▊    | 1176/2040 [05:29<05:54,  2.44draws/s]"
     ]
    },
    {
     "name": "stderr",
     "output_type": "stream",
     "text": [
      "\r",
      "Sampling 4 chains:  58%|█████▊    | 1177/2040 [05:30<06:14,  2.30draws/s]"
     ]
    },
    {
     "name": "stderr",
     "output_type": "stream",
     "text": [
      "\r",
      "Sampling 4 chains:  58%|█████▊    | 1178/2040 [05:30<05:15,  2.73draws/s]"
     ]
    },
    {
     "name": "stderr",
     "output_type": "stream",
     "text": [
      "\r",
      "Sampling 4 chains:  58%|█████▊    | 1179/2040 [05:30<04:48,  2.98draws/s]"
     ]
    },
    {
     "name": "stderr",
     "output_type": "stream",
     "text": [
      "\r",
      "Sampling 4 chains:  58%|█████▊    | 1180/2040 [05:31<05:39,  2.53draws/s]"
     ]
    },
    {
     "name": "stderr",
     "output_type": "stream",
     "text": [
      "\r",
      "Sampling 4 chains:  58%|█████▊    | 1181/2040 [05:31<05:23,  2.65draws/s]"
     ]
    },
    {
     "name": "stderr",
     "output_type": "stream",
     "text": [
      "\r",
      "Sampling 4 chains:  58%|█████▊    | 1182/2040 [05:32<05:25,  2.63draws/s]"
     ]
    },
    {
     "name": "stderr",
     "output_type": "stream",
     "text": [
      "\r",
      "Sampling 4 chains:  58%|█████▊    | 1183/2040 [05:32<05:46,  2.47draws/s]"
     ]
    },
    {
     "name": "stderr",
     "output_type": "stream",
     "text": [
      "\r",
      "Sampling 4 chains:  58%|█████▊    | 1184/2040 [05:33<06:19,  2.26draws/s]"
     ]
    },
    {
     "name": "stderr",
     "output_type": "stream",
     "text": [
      "\r",
      "Sampling 4 chains:  58%|█████▊    | 1185/2040 [05:33<06:40,  2.14draws/s]"
     ]
    },
    {
     "name": "stderr",
     "output_type": "stream",
     "text": [
      "\r",
      "Sampling 4 chains:  58%|█████▊    | 1186/2040 [05:33<05:33,  2.56draws/s]"
     ]
    },
    {
     "name": "stderr",
     "output_type": "stream",
     "text": [
      "\r",
      "Sampling 4 chains:  58%|█████▊    | 1187/2040 [05:33<04:32,  3.12draws/s]"
     ]
    },
    {
     "name": "stderr",
     "output_type": "stream",
     "text": [
      "\r",
      "Sampling 4 chains:  58%|█████▊    | 1188/2040 [05:34<05:21,  2.65draws/s]"
     ]
    },
    {
     "name": "stderr",
     "output_type": "stream",
     "text": [
      "\r",
      "Sampling 4 chains:  58%|█████▊    | 1189/2040 [05:34<06:08,  2.31draws/s]"
     ]
    },
    {
     "name": "stderr",
     "output_type": "stream",
     "text": [
      "\r",
      "Sampling 4 chains:  58%|█████▊    | 1191/2040 [05:35<05:25,  2.61draws/s]"
     ]
    },
    {
     "name": "stderr",
     "output_type": "stream",
     "text": [
      "\r",
      "Sampling 4 chains:  58%|█████▊    | 1192/2040 [05:35<05:19,  2.66draws/s]"
     ]
    },
    {
     "name": "stderr",
     "output_type": "stream",
     "text": [
      "\r",
      "Sampling 4 chains:  58%|█████▊    | 1193/2040 [05:36<06:32,  2.16draws/s]"
     ]
    },
    {
     "name": "stderr",
     "output_type": "stream",
     "text": [
      "\r",
      "Sampling 4 chains:  59%|█████▊    | 1195/2040 [05:37<06:08,  2.30draws/s]"
     ]
    },
    {
     "name": "stderr",
     "output_type": "stream",
     "text": [
      "\r",
      "Sampling 4 chains:  59%|█████▊    | 1196/2040 [05:37<05:31,  2.54draws/s]"
     ]
    },
    {
     "name": "stderr",
     "output_type": "stream",
     "text": [
      "\r",
      "Sampling 4 chains:  59%|█████▊    | 1197/2040 [05:38<06:41,  2.10draws/s]"
     ]
    },
    {
     "name": "stderr",
     "output_type": "stream",
     "text": [
      "\r",
      "Sampling 4 chains:  59%|█████▉    | 1199/2040 [05:38<05:58,  2.35draws/s]"
     ]
    },
    {
     "name": "stderr",
     "output_type": "stream",
     "text": [
      "\r",
      "Sampling 4 chains:  59%|█████▉    | 1200/2040 [05:39<05:35,  2.50draws/s]"
     ]
    },
    {
     "name": "stderr",
     "output_type": "stream",
     "text": [
      "\r",
      "Sampling 4 chains:  59%|█████▉    | 1201/2040 [05:39<05:35,  2.50draws/s]"
     ]
    },
    {
     "name": "stderr",
     "output_type": "stream",
     "text": [
      "\r",
      "Sampling 4 chains:  59%|█████▉    | 1203/2040 [05:40<05:47,  2.41draws/s]"
     ]
    },
    {
     "name": "stderr",
     "output_type": "stream",
     "text": [
      "\r",
      "Sampling 4 chains:  59%|█████▉    | 1204/2040 [05:40<05:30,  2.53draws/s]"
     ]
    },
    {
     "name": "stderr",
     "output_type": "stream",
     "text": [
      "\r",
      "Sampling 4 chains:  59%|█████▉    | 1205/2040 [05:41<04:53,  2.84draws/s]"
     ]
    },
    {
     "name": "stderr",
     "output_type": "stream",
     "text": [
      "\r",
      "Sampling 4 chains:  59%|█████▉    | 1207/2040 [05:42<05:55,  2.34draws/s]"
     ]
    },
    {
     "name": "stderr",
     "output_type": "stream",
     "text": [
      "\r",
      "Sampling 4 chains:  59%|█████▉    | 1208/2040 [05:42<04:38,  2.99draws/s]"
     ]
    },
    {
     "name": "stderr",
     "output_type": "stream",
     "text": [
      "\r",
      "Sampling 4 chains:  59%|█████▉    | 1209/2040 [05:42<04:13,  3.28draws/s]"
     ]
    },
    {
     "name": "stderr",
     "output_type": "stream",
     "text": [
      "\r",
      "Sampling 4 chains:  59%|█████▉    | 1211/2040 [05:43<05:23,  2.56draws/s]"
     ]
    },
    {
     "name": "stderr",
     "output_type": "stream",
     "text": [
      "\r",
      "Sampling 4 chains:  59%|█████▉    | 1213/2040 [05:44<04:19,  3.18draws/s]"
     ]
    },
    {
     "name": "stderr",
     "output_type": "stream",
     "text": [
      "\r",
      "Sampling 4 chains:  60%|█████▉    | 1214/2040 [05:44<03:38,  3.77draws/s]"
     ]
    },
    {
     "name": "stderr",
     "output_type": "stream",
     "text": [
      "\r",
      "Sampling 4 chains:  60%|█████▉    | 1215/2040 [05:45<07:09,  1.92draws/s]"
     ]
    },
    {
     "name": "stderr",
     "output_type": "stream",
     "text": [
      "\r",
      "Sampling 4 chains:  60%|█████▉    | 1217/2040 [05:45<05:16,  2.60draws/s]"
     ]
    },
    {
     "name": "stderr",
     "output_type": "stream",
     "text": [
      "\r",
      "Sampling 4 chains:  60%|█████▉    | 1219/2040 [05:46<06:13,  2.20draws/s]"
     ]
    },
    {
     "name": "stderr",
     "output_type": "stream",
     "text": [
      "\r",
      "Sampling 4 chains:  60%|█████▉    | 1220/2040 [05:46<04:50,  2.82draws/s]"
     ]
    },
    {
     "name": "stderr",
     "output_type": "stream",
     "text": [
      "\r",
      "Sampling 4 chains:  60%|█████▉    | 1223/2040 [05:48<05:15,  2.59draws/s]"
     ]
    },
    {
     "name": "stderr",
     "output_type": "stream",
     "text": [
      "\r",
      "Sampling 4 chains:  60%|██████    | 1226/2040 [05:48<03:54,  3.47draws/s]"
     ]
    },
    {
     "name": "stderr",
     "output_type": "stream",
     "text": [
      "\r",
      "Sampling 4 chains:  60%|██████    | 1227/2040 [05:49<07:50,  1.73draws/s]"
     ]
    },
    {
     "name": "stderr",
     "output_type": "stream",
     "text": [
      "\r",
      "Sampling 4 chains:  60%|██████    | 1230/2040 [05:50<05:55,  2.28draws/s]"
     ]
    },
    {
     "name": "stderr",
     "output_type": "stream",
     "text": [
      "\r",
      "Sampling 4 chains:  60%|██████    | 1231/2040 [05:51<08:35,  1.57draws/s]"
     ]
    },
    {
     "name": "stderr",
     "output_type": "stream",
     "text": [
      "\r",
      "Sampling 4 chains:  60%|██████    | 1234/2040 [05:51<06:16,  2.14draws/s]"
     ]
    },
    {
     "name": "stderr",
     "output_type": "stream",
     "text": [
      "\r",
      "Sampling 4 chains:  61%|██████    | 1235/2040 [05:52<08:59,  1.49draws/s]"
     ]
    },
    {
     "name": "stderr",
     "output_type": "stream",
     "text": [
      "\r",
      "Sampling 4 chains:  61%|██████    | 1237/2040 [05:52<06:39,  2.01draws/s]"
     ]
    },
    {
     "name": "stderr",
     "output_type": "stream",
     "text": [
      "\r",
      "Sampling 4 chains:  61%|██████    | 1239/2040 [05:53<07:03,  1.89draws/s]"
     ]
    },
    {
     "name": "stderr",
     "output_type": "stream",
     "text": [
      "\r",
      "Sampling 4 chains:  61%|██████    | 1240/2040 [05:54<05:28,  2.43draws/s]"
     ]
    },
    {
     "name": "stderr",
     "output_type": "stream",
     "text": [
      "\r",
      "Sampling 4 chains:  61%|██████    | 1241/2040 [05:54<04:38,  2.87draws/s]"
     ]
    },
    {
     "name": "stderr",
     "output_type": "stream",
     "text": [
      "\r",
      "Sampling 4 chains:  61%|██████    | 1243/2040 [05:55<05:23,  2.47draws/s]"
     ]
    },
    {
     "name": "stderr",
     "output_type": "stream",
     "text": [
      "\r",
      "Sampling 4 chains:  61%|██████    | 1244/2040 [05:55<04:22,  3.04draws/s]"
     ]
    },
    {
     "name": "stderr",
     "output_type": "stream",
     "text": [
      "\r",
      "Sampling 4 chains:  61%|██████    | 1245/2040 [05:55<04:01,  3.29draws/s]"
     ]
    },
    {
     "name": "stderr",
     "output_type": "stream",
     "text": [
      "\r",
      "Sampling 4 chains:  61%|██████    | 1247/2040 [05:56<05:05,  2.60draws/s]"
     ]
    },
    {
     "name": "stderr",
     "output_type": "stream",
     "text": [
      "\r",
      "Sampling 4 chains:  61%|██████    | 1248/2040 [05:56<04:09,  3.17draws/s]"
     ]
    },
    {
     "name": "stderr",
     "output_type": "stream",
     "text": [
      "\r",
      "Sampling 4 chains:  61%|██████    | 1249/2040 [05:57<04:00,  3.29draws/s]"
     ]
    },
    {
     "name": "stderr",
     "output_type": "stream",
     "text": [
      "\r",
      "Sampling 4 chains:  61%|██████▏   | 1250/2040 [05:57<03:31,  3.73draws/s]"
     ]
    },
    {
     "name": "stderr",
     "output_type": "stream",
     "text": [
      "\r",
      "Sampling 4 chains:  61%|██████▏   | 1251/2040 [05:58<05:52,  2.24draws/s]"
     ]
    },
    {
     "name": "stderr",
     "output_type": "stream",
     "text": [
      "\r",
      "Sampling 4 chains:  61%|██████▏   | 1252/2040 [05:58<04:41,  2.80draws/s]"
     ]
    },
    {
     "name": "stderr",
     "output_type": "stream",
     "text": [
      "\r",
      "Sampling 4 chains:  61%|██████▏   | 1253/2040 [05:58<05:11,  2.53draws/s]"
     ]
    },
    {
     "name": "stderr",
     "output_type": "stream",
     "text": [
      "\r",
      "Sampling 4 chains:  61%|██████▏   | 1254/2040 [05:59<04:17,  3.05draws/s]"
     ]
    },
    {
     "name": "stderr",
     "output_type": "stream",
     "text": [
      "\r",
      "Sampling 4 chains:  62%|██████▏   | 1255/2040 [05:59<05:33,  2.35draws/s]"
     ]
    },
    {
     "name": "stderr",
     "output_type": "stream",
     "text": [
      "\r",
      "Sampling 4 chains:  62%|██████▏   | 1257/2040 [06:00<05:09,  2.53draws/s]"
     ]
    },
    {
     "name": "stderr",
     "output_type": "stream",
     "text": [
      "\r",
      "Sampling 4 chains:  62%|██████▏   | 1258/2040 [06:00<04:27,  2.93draws/s]"
     ]
    },
    {
     "name": "stderr",
     "output_type": "stream",
     "text": [
      "\r",
      "Sampling 4 chains:  62%|██████▏   | 1259/2040 [06:01<04:50,  2.68draws/s]"
     ]
    },
    {
     "name": "stderr",
     "output_type": "stream",
     "text": [
      "\r",
      "Sampling 4 chains:  62%|██████▏   | 1260/2040 [06:01<03:48,  3.41draws/s]"
     ]
    },
    {
     "name": "stderr",
     "output_type": "stream",
     "text": [
      "\r",
      "Sampling 4 chains:  62%|██████▏   | 1261/2040 [06:01<05:15,  2.47draws/s]"
     ]
    },
    {
     "name": "stderr",
     "output_type": "stream",
     "text": [
      "\r",
      "Sampling 4 chains:  62%|██████▏   | 1262/2040 [06:02<05:13,  2.48draws/s]"
     ]
    },
    {
     "name": "stderr",
     "output_type": "stream",
     "text": [
      "\r",
      "Sampling 4 chains:  62%|██████▏   | 1263/2040 [06:02<04:44,  2.73draws/s]"
     ]
    },
    {
     "name": "stderr",
     "output_type": "stream",
     "text": [
      "\r",
      "Sampling 4 chains:  62%|██████▏   | 1265/2040 [06:03<04:44,  2.73draws/s]"
     ]
    },
    {
     "name": "stderr",
     "output_type": "stream",
     "text": [
      "\r",
      "Sampling 4 chains:  62%|██████▏   | 1266/2040 [06:03<05:15,  2.45draws/s]"
     ]
    },
    {
     "name": "stderr",
     "output_type": "stream",
     "text": [
      "\r",
      "Sampling 4 chains:  62%|██████▏   | 1267/2040 [06:03<04:30,  2.85draws/s]"
     ]
    },
    {
     "name": "stderr",
     "output_type": "stream",
     "text": [
      "\r",
      "Sampling 4 chains:  62%|██████▏   | 1269/2040 [06:04<04:34,  2.81draws/s]"
     ]
    },
    {
     "name": "stderr",
     "output_type": "stream",
     "text": [
      "\r",
      "Sampling 4 chains:  62%|██████▏   | 1270/2040 [06:05<05:10,  2.48draws/s]"
     ]
    },
    {
     "name": "stderr",
     "output_type": "stream",
     "text": [
      "\r",
      "Sampling 4 chains:  62%|██████▏   | 1272/2040 [06:05<03:57,  3.23draws/s]"
     ]
    },
    {
     "name": "stderr",
     "output_type": "stream",
     "text": [
      "\r",
      "Sampling 4 chains:  62%|██████▏   | 1273/2040 [06:06<05:51,  2.18draws/s]"
     ]
    },
    {
     "name": "stderr",
     "output_type": "stream",
     "text": [
      "\r",
      "Sampling 4 chains:  62%|██████▏   | 1274/2040 [06:06<05:42,  2.24draws/s]"
     ]
    },
    {
     "name": "stderr",
     "output_type": "stream",
     "text": [
      "\r",
      "Sampling 4 chains:  62%|██████▎   | 1275/2040 [06:06<04:40,  2.73draws/s]"
     ]
    },
    {
     "name": "stderr",
     "output_type": "stream",
     "text": [
      "\r",
      "Sampling 4 chains:  63%|██████▎   | 1277/2040 [06:07<05:01,  2.53draws/s]"
     ]
    },
    {
     "name": "stderr",
     "output_type": "stream",
     "text": [
      "\r",
      "Sampling 4 chains:  63%|██████▎   | 1278/2040 [06:07<04:11,  3.03draws/s]"
     ]
    },
    {
     "name": "stderr",
     "output_type": "stream",
     "text": [
      "\r",
      "Sampling 4 chains:  63%|██████▎   | 1279/2040 [06:08<04:26,  2.86draws/s]"
     ]
    },
    {
     "name": "stderr",
     "output_type": "stream",
     "text": [
      "\r",
      "Sampling 4 chains:  63%|██████▎   | 1281/2040 [06:09<04:53,  2.59draws/s]"
     ]
    },
    {
     "name": "stderr",
     "output_type": "stream",
     "text": [
      "\r",
      "Sampling 4 chains:  63%|██████▎   | 1283/2040 [06:09<04:30,  2.80draws/s]"
     ]
    },
    {
     "name": "stderr",
     "output_type": "stream",
     "text": [
      "\r",
      "Sampling 4 chains:  63%|██████▎   | 1284/2040 [06:10<05:17,  2.38draws/s]"
     ]
    },
    {
     "name": "stderr",
     "output_type": "stream",
     "text": [
      "\r",
      "Sampling 4 chains:  63%|██████▎   | 1285/2040 [06:10<04:46,  2.64draws/s]"
     ]
    },
    {
     "name": "stderr",
     "output_type": "stream",
     "text": [
      "\r",
      "Sampling 4 chains:  63%|██████▎   | 1287/2040 [06:11<04:28,  2.81draws/s]"
     ]
    },
    {
     "name": "stderr",
     "output_type": "stream",
     "text": [
      "\r",
      "Sampling 4 chains:  63%|██████▎   | 1288/2040 [06:12<06:09,  2.04draws/s]"
     ]
    },
    {
     "name": "stderr",
     "output_type": "stream",
     "text": [
      "\r",
      "Sampling 4 chains:  63%|██████▎   | 1290/2040 [06:12<05:35,  2.23draws/s]"
     ]
    },
    {
     "name": "stderr",
     "output_type": "stream",
     "text": [
      "\r",
      "Sampling 4 chains:  63%|██████▎   | 1292/2040 [06:13<05:23,  2.31draws/s]"
     ]
    },
    {
     "name": "stderr",
     "output_type": "stream",
     "text": [
      "\r",
      "Sampling 4 chains:  63%|██████▎   | 1293/2040 [06:13<04:16,  2.92draws/s]"
     ]
    },
    {
     "name": "stderr",
     "output_type": "stream",
     "text": [
      "\r",
      "Sampling 4 chains:  63%|██████▎   | 1294/2040 [06:14<05:22,  2.31draws/s]"
     ]
    },
    {
     "name": "stderr",
     "output_type": "stream",
     "text": [
      "\r",
      "Sampling 4 chains:  63%|██████▎   | 1295/2040 [06:15<06:12,  2.00draws/s]"
     ]
    },
    {
     "name": "stderr",
     "output_type": "stream",
     "text": [
      "\r",
      "Sampling 4 chains:  64%|██████▎   | 1296/2040 [06:15<04:55,  2.52draws/s]"
     ]
    },
    {
     "name": "stderr",
     "output_type": "stream",
     "text": [
      "\r",
      "Sampling 4 chains:  64%|██████▎   | 1298/2040 [06:15<04:47,  2.58draws/s]"
     ]
    },
    {
     "name": "stderr",
     "output_type": "stream",
     "text": [
      "\r",
      "Sampling 4 chains:  64%|██████▎   | 1299/2040 [06:16<04:42,  2.62draws/s]"
     ]
    },
    {
     "name": "stderr",
     "output_type": "stream",
     "text": [
      "\r",
      "Sampling 4 chains:  64%|██████▎   | 1300/2040 [06:16<04:56,  2.49draws/s]"
     ]
    },
    {
     "name": "stderr",
     "output_type": "stream",
     "text": [
      "\r",
      "Sampling 4 chains:  64%|██████▍   | 1301/2040 [06:17<05:41,  2.17draws/s]"
     ]
    },
    {
     "name": "stderr",
     "output_type": "stream",
     "text": [
      "\r",
      "Sampling 4 chains:  64%|██████▍   | 1302/2040 [06:17<04:31,  2.72draws/s]"
     ]
    },
    {
     "name": "stderr",
     "output_type": "stream",
     "text": [
      "\r",
      "Sampling 4 chains:  64%|██████▍   | 1303/2040 [06:17<03:57,  3.10draws/s]"
     ]
    },
    {
     "name": "stderr",
     "output_type": "stream",
     "text": [
      "\r",
      "Sampling 4 chains:  64%|██████▍   | 1304/2040 [06:18<04:23,  2.79draws/s]"
     ]
    },
    {
     "name": "stderr",
     "output_type": "stream",
     "text": [
      "\r",
      "Sampling 4 chains:  64%|██████▍   | 1305/2040 [06:18<06:03,  2.02draws/s]"
     ]
    },
    {
     "name": "stderr",
     "output_type": "stream",
     "text": [
      "\r",
      "Sampling 4 chains:  64%|██████▍   | 1307/2040 [06:19<04:26,  2.75draws/s]"
     ]
    },
    {
     "name": "stderr",
     "output_type": "stream",
     "text": [
      "\r",
      "Sampling 4 chains:  64%|██████▍   | 1308/2040 [06:19<05:01,  2.43draws/s]"
     ]
    },
    {
     "name": "stderr",
     "output_type": "stream",
     "text": [
      "\r",
      "Sampling 4 chains:  64%|██████▍   | 1309/2040 [06:20<06:03,  2.01draws/s]"
     ]
    },
    {
     "name": "stderr",
     "output_type": "stream",
     "text": [
      "\r",
      "Sampling 4 chains:  64%|██████▍   | 1310/2040 [06:20<04:50,  2.52draws/s]"
     ]
    },
    {
     "name": "stderr",
     "output_type": "stream",
     "text": [
      "\r",
      "Sampling 4 chains:  64%|██████▍   | 1311/2040 [06:20<03:49,  3.17draws/s]"
     ]
    },
    {
     "name": "stderr",
     "output_type": "stream",
     "text": [
      "\r",
      "Sampling 4 chains:  64%|██████▍   | 1312/2040 [06:20<03:57,  3.06draws/s]"
     ]
    },
    {
     "name": "stderr",
     "output_type": "stream",
     "text": [
      "\r",
      "Sampling 4 chains:  64%|██████▍   | 1313/2040 [06:21<05:27,  2.22draws/s]"
     ]
    },
    {
     "name": "stderr",
     "output_type": "stream",
     "text": [
      "\r",
      "Sampling 4 chains:  64%|██████▍   | 1315/2040 [06:21<04:18,  2.80draws/s]"
     ]
    },
    {
     "name": "stderr",
     "output_type": "stream",
     "text": [
      "\r",
      "Sampling 4 chains:  65%|██████▍   | 1316/2040 [06:22<04:33,  2.65draws/s]"
     ]
    },
    {
     "name": "stderr",
     "output_type": "stream",
     "text": [
      "\r",
      "Sampling 4 chains:  65%|██████▍   | 1317/2040 [06:23<05:55,  2.03draws/s]"
     ]
    },
    {
     "name": "stderr",
     "output_type": "stream",
     "text": [
      "\r",
      "Sampling 4 chains:  65%|██████▍   | 1319/2040 [06:23<04:43,  2.55draws/s]"
     ]
    },
    {
     "name": "stderr",
     "output_type": "stream",
     "text": [
      "\r",
      "Sampling 4 chains:  65%|██████▍   | 1320/2040 [06:23<04:29,  2.67draws/s]"
     ]
    },
    {
     "name": "stderr",
     "output_type": "stream",
     "text": [
      "\r",
      "Sampling 4 chains:  65%|██████▍   | 1321/2040 [06:24<05:45,  2.08draws/s]"
     ]
    },
    {
     "name": "stderr",
     "output_type": "stream",
     "text": [
      "\r",
      "Sampling 4 chains:  65%|██████▍   | 1323/2040 [06:24<04:47,  2.49draws/s]"
     ]
    },
    {
     "name": "stderr",
     "output_type": "stream",
     "text": [
      "\r",
      "Sampling 4 chains:  65%|██████▍   | 1324/2040 [06:25<03:56,  3.03draws/s]"
     ]
    },
    {
     "name": "stderr",
     "output_type": "stream",
     "text": [
      "\r",
      "Sampling 4 chains:  65%|██████▍   | 1325/2040 [06:25<05:18,  2.24draws/s]"
     ]
    },
    {
     "name": "stderr",
     "output_type": "stream",
     "text": [
      "\r",
      "Sampling 4 chains:  65%|██████▌   | 1326/2040 [06:25<04:11,  2.84draws/s]"
     ]
    },
    {
     "name": "stderr",
     "output_type": "stream",
     "text": [
      "\r",
      "Sampling 4 chains:  65%|██████▌   | 1327/2040 [06:26<04:30,  2.64draws/s]"
     ]
    },
    {
     "name": "stderr",
     "output_type": "stream",
     "text": [
      "\r",
      "Sampling 4 chains:  65%|██████▌   | 1328/2040 [06:26<03:43,  3.18draws/s]"
     ]
    },
    {
     "name": "stderr",
     "output_type": "stream",
     "text": [
      "\r",
      "Sampling 4 chains:  65%|██████▌   | 1329/2040 [06:27<04:44,  2.50draws/s]"
     ]
    },
    {
     "name": "stderr",
     "output_type": "stream",
     "text": [
      "\r",
      "Sampling 4 chains:  65%|██████▌   | 1330/2040 [06:27<03:55,  3.02draws/s]"
     ]
    },
    {
     "name": "stderr",
     "output_type": "stream",
     "text": [
      "\r",
      "Sampling 4 chains:  65%|██████▌   | 1331/2040 [06:27<04:32,  2.60draws/s]"
     ]
    },
    {
     "name": "stderr",
     "output_type": "stream",
     "text": [
      "\r",
      "Sampling 4 chains:  65%|██████▌   | 1333/2040 [06:28<04:13,  2.79draws/s]"
     ]
    },
    {
     "name": "stderr",
     "output_type": "stream",
     "text": [
      "\r",
      "Sampling 4 chains:  65%|██████▌   | 1334/2040 [06:28<03:55,  2.99draws/s]"
     ]
    },
    {
     "name": "stderr",
     "output_type": "stream",
     "text": [
      "\r",
      "Sampling 4 chains:  65%|██████▌   | 1335/2040 [06:29<05:03,  2.32draws/s]"
     ]
    },
    {
     "name": "stderr",
     "output_type": "stream",
     "text": [
      "\r",
      "Sampling 4 chains:  66%|██████▌   | 1337/2040 [06:29<04:17,  2.73draws/s]"
     ]
    },
    {
     "name": "stderr",
     "output_type": "stream",
     "text": [
      "\r",
      "Sampling 4 chains:  66%|██████▌   | 1338/2040 [06:30<03:57,  2.96draws/s]"
     ]
    },
    {
     "name": "stderr",
     "output_type": "stream",
     "text": [
      "\r",
      "Sampling 4 chains:  66%|██████▌   | 1339/2040 [06:30<05:12,  2.24draws/s]"
     ]
    },
    {
     "name": "stderr",
     "output_type": "stream",
     "text": [
      "\r",
      "Sampling 4 chains:  66%|██████▌   | 1340/2040 [06:30<04:08,  2.82draws/s]"
     ]
    },
    {
     "name": "stderr",
     "output_type": "stream",
     "text": [
      "\r",
      "Sampling 4 chains:  66%|██████▌   | 1341/2040 [06:31<04:18,  2.71draws/s]"
     ]
    },
    {
     "name": "stderr",
     "output_type": "stream",
     "text": [
      "\r",
      "Sampling 4 chains:  66%|██████▌   | 1342/2040 [06:31<03:45,  3.10draws/s]"
     ]
    },
    {
     "name": "stderr",
     "output_type": "stream",
     "text": [
      "\r",
      "Sampling 4 chains:  66%|██████▌   | 1343/2040 [06:32<05:04,  2.29draws/s]"
     ]
    },
    {
     "name": "stderr",
     "output_type": "stream",
     "text": [
      "\r",
      "Sampling 4 chains:  66%|██████▌   | 1344/2040 [06:32<04:44,  2.44draws/s]"
     ]
    },
    {
     "name": "stderr",
     "output_type": "stream",
     "text": [
      "\r",
      "Sampling 4 chains:  66%|██████▌   | 1346/2040 [06:32<03:55,  2.95draws/s]"
     ]
    },
    {
     "name": "stderr",
     "output_type": "stream",
     "text": [
      "\r",
      "Sampling 4 chains:  66%|██████▌   | 1347/2040 [06:33<05:51,  1.97draws/s]"
     ]
    },
    {
     "name": "stderr",
     "output_type": "stream",
     "text": [
      "\r",
      "Sampling 4 chains:  66%|██████▌   | 1348/2040 [06:34<05:02,  2.29draws/s]"
     ]
    },
    {
     "name": "stderr",
     "output_type": "stream",
     "text": [
      "\r",
      "Sampling 4 chains:  66%|██████▌   | 1349/2040 [06:34<04:02,  2.85draws/s]"
     ]
    },
    {
     "name": "stderr",
     "output_type": "stream",
     "text": [
      "\r",
      "Sampling 4 chains:  66%|██████▌   | 1350/2040 [06:34<03:34,  3.21draws/s]"
     ]
    },
    {
     "name": "stderr",
     "output_type": "stream",
     "text": [
      "\r",
      "Sampling 4 chains:  66%|██████▌   | 1351/2040 [06:35<05:11,  2.21draws/s]"
     ]
    },
    {
     "name": "stderr",
     "output_type": "stream",
     "text": [
      "\r",
      "Sampling 4 chains:  66%|██████▋   | 1352/2040 [06:35<03:59,  2.87draws/s]"
     ]
    },
    {
     "name": "stderr",
     "output_type": "stream",
     "text": [
      "\r",
      "Sampling 4 chains:  66%|██████▋   | 1353/2040 [06:35<04:13,  2.71draws/s]"
     ]
    },
    {
     "name": "stderr",
     "output_type": "stream",
     "text": [
      "\r",
      "Sampling 4 chains:  66%|██████▋   | 1354/2040 [06:35<03:19,  3.45draws/s]"
     ]
    },
    {
     "name": "stderr",
     "output_type": "stream",
     "text": [
      "\r",
      "Sampling 4 chains:  66%|██████▋   | 1355/2040 [06:36<04:54,  2.32draws/s]"
     ]
    },
    {
     "name": "stderr",
     "output_type": "stream",
     "text": [
      "\r",
      "Sampling 4 chains:  67%|██████▋   | 1357/2040 [06:37<04:24,  2.58draws/s]"
     ]
    },
    {
     "name": "stderr",
     "output_type": "stream",
     "text": [
      "\r",
      "Sampling 4 chains:  67%|██████▋   | 1359/2040 [06:37<04:16,  2.66draws/s]"
     ]
    },
    {
     "name": "stderr",
     "output_type": "stream",
     "text": [
      "\r",
      "Sampling 4 chains:  67%|██████▋   | 1360/2040 [06:38<03:28,  3.27draws/s]"
     ]
    },
    {
     "name": "stderr",
     "output_type": "stream",
     "text": [
      "\r",
      "Sampling 4 chains:  67%|██████▋   | 1361/2040 [06:38<03:58,  2.85draws/s]"
     ]
    },
    {
     "name": "stderr",
     "output_type": "stream",
     "text": [
      "\r",
      "Sampling 4 chains:  67%|██████▋   | 1362/2040 [06:38<03:34,  3.16draws/s]"
     ]
    },
    {
     "name": "stderr",
     "output_type": "stream",
     "text": [
      "\r",
      "Sampling 4 chains:  67%|██████▋   | 1363/2040 [06:39<04:01,  2.81draws/s]"
     ]
    },
    {
     "name": "stderr",
     "output_type": "stream",
     "text": [
      "\r",
      "Sampling 4 chains:  67%|██████▋   | 1364/2040 [06:39<03:20,  3.38draws/s]"
     ]
    },
    {
     "name": "stderr",
     "output_type": "stream",
     "text": [
      "\r",
      "Sampling 4 chains:  67%|██████▋   | 1365/2040 [06:39<04:09,  2.70draws/s]"
     ]
    },
    {
     "name": "stderr",
     "output_type": "stream",
     "text": [
      "\r",
      "Sampling 4 chains:  67%|██████▋   | 1366/2040 [06:40<03:54,  2.87draws/s]"
     ]
    },
    {
     "name": "stderr",
     "output_type": "stream",
     "text": [
      "\r",
      "Sampling 4 chains:  67%|██████▋   | 1367/2040 [06:40<03:41,  3.04draws/s]"
     ]
    },
    {
     "name": "stderr",
     "output_type": "stream",
     "text": [
      "\r",
      "Sampling 4 chains:  67%|██████▋   | 1368/2040 [06:40<03:36,  3.10draws/s]"
     ]
    },
    {
     "name": "stderr",
     "output_type": "stream",
     "text": [
      "\r",
      "Sampling 4 chains:  67%|██████▋   | 1369/2040 [06:41<04:00,  2.79draws/s]"
     ]
    },
    {
     "name": "stderr",
     "output_type": "stream",
     "text": [
      "\r",
      "Sampling 4 chains:  67%|██████▋   | 1370/2040 [06:41<03:38,  3.07draws/s]"
     ]
    },
    {
     "name": "stderr",
     "output_type": "stream",
     "text": [
      "\r",
      "Sampling 4 chains:  67%|██████▋   | 1371/2040 [06:41<03:53,  2.86draws/s]"
     ]
    },
    {
     "name": "stderr",
     "output_type": "stream",
     "text": [
      "\r",
      "Sampling 4 chains:  67%|██████▋   | 1372/2040 [06:42<03:27,  3.22draws/s]"
     ]
    },
    {
     "name": "stderr",
     "output_type": "stream",
     "text": [
      "\r",
      "Sampling 4 chains:  67%|██████▋   | 1373/2040 [06:42<04:17,  2.59draws/s]"
     ]
    },
    {
     "name": "stderr",
     "output_type": "stream",
     "text": [
      "\r",
      "Sampling 4 chains:  67%|██████▋   | 1375/2040 [06:43<03:45,  2.95draws/s]"
     ]
    },
    {
     "name": "stderr",
     "output_type": "stream",
     "text": [
      "\r",
      "Sampling 4 chains:  67%|██████▋   | 1376/2040 [06:43<04:03,  2.72draws/s]"
     ]
    },
    {
     "name": "stderr",
     "output_type": "stream",
     "text": [
      "\r",
      "Sampling 4 chains:  68%|██████▊   | 1377/2040 [06:44<04:36,  2.40draws/s]"
     ]
    },
    {
     "name": "stderr",
     "output_type": "stream",
     "text": [
      "\r",
      "Sampling 4 chains:  68%|██████▊   | 1378/2040 [06:44<03:45,  2.93draws/s]"
     ]
    },
    {
     "name": "stderr",
     "output_type": "stream",
     "text": [
      "\r",
      "Sampling 4 chains:  68%|██████▊   | 1379/2040 [06:44<03:29,  3.15draws/s]"
     ]
    },
    {
     "name": "stderr",
     "output_type": "stream",
     "text": [
      "\r",
      "Sampling 4 chains:  68%|██████▊   | 1380/2040 [06:45<04:30,  2.44draws/s]"
     ]
    },
    {
     "name": "stderr",
     "output_type": "stream",
     "text": [
      "\r",
      "Sampling 4 chains:  68%|██████▊   | 1381/2040 [06:45<04:39,  2.36draws/s]"
     ]
    },
    {
     "name": "stderr",
     "output_type": "stream",
     "text": [
      "\r",
      "Sampling 4 chains:  68%|██████▊   | 1382/2040 [06:45<03:57,  2.77draws/s]"
     ]
    },
    {
     "name": "stderr",
     "output_type": "stream",
     "text": [
      "\r",
      "Sampling 4 chains:  68%|██████▊   | 1383/2040 [06:46<04:11,  2.62draws/s]"
     ]
    },
    {
     "name": "stderr",
     "output_type": "stream",
     "text": [
      "\r",
      "Sampling 4 chains:  68%|██████▊   | 1384/2040 [06:46<04:29,  2.44draws/s]"
     ]
    },
    {
     "name": "stderr",
     "output_type": "stream",
     "text": [
      "\r",
      "Sampling 4 chains:  68%|██████▊   | 1385/2040 [06:47<04:53,  2.23draws/s]"
     ]
    },
    {
     "name": "stderr",
     "output_type": "stream",
     "text": [
      "\r",
      "Sampling 4 chains:  68%|██████▊   | 1387/2040 [06:47<04:05,  2.66draws/s]"
     ]
    },
    {
     "name": "stderr",
     "output_type": "stream",
     "text": [
      "\r",
      "Sampling 4 chains:  68%|██████▊   | 1388/2040 [06:48<04:37,  2.35draws/s]"
     ]
    },
    {
     "name": "stderr",
     "output_type": "stream",
     "text": [
      "\r",
      "Sampling 4 chains:  68%|██████▊   | 1389/2040 [06:48<05:00,  2.17draws/s]"
     ]
    },
    {
     "name": "stderr",
     "output_type": "stream",
     "text": [
      "\r",
      "Sampling 4 chains:  68%|██████▊   | 1391/2040 [06:48<03:51,  2.80draws/s]"
     ]
    },
    {
     "name": "stderr",
     "output_type": "stream",
     "text": [
      "\r",
      "Sampling 4 chains:  68%|██████▊   | 1392/2040 [06:49<04:39,  2.32draws/s]"
     ]
    },
    {
     "name": "stderr",
     "output_type": "stream",
     "text": [
      "\r",
      "Sampling 4 chains:  68%|██████▊   | 1393/2040 [06:50<05:00,  2.16draws/s]"
     ]
    },
    {
     "name": "stderr",
     "output_type": "stream",
     "text": [
      "\r",
      "Sampling 4 chains:  68%|██████▊   | 1394/2040 [06:50<04:06,  2.62draws/s]"
     ]
    },
    {
     "name": "stderr",
     "output_type": "stream",
     "text": [
      "\r",
      "Sampling 4 chains:  68%|██████▊   | 1396/2040 [06:51<04:05,  2.62draws/s]"
     ]
    },
    {
     "name": "stderr",
     "output_type": "stream",
     "text": [
      "\r",
      "Sampling 4 chains:  68%|██████▊   | 1397/2040 [06:51<04:13,  2.54draws/s]"
     ]
    },
    {
     "name": "stderr",
     "output_type": "stream",
     "text": [
      "\r",
      "Sampling 4 chains:  69%|██████▊   | 1398/2040 [06:51<03:18,  3.23draws/s]"
     ]
    },
    {
     "name": "stderr",
     "output_type": "stream",
     "text": [
      "\r",
      "Sampling 4 chains:  69%|██████▊   | 1399/2040 [06:51<02:45,  3.88draws/s]"
     ]
    },
    {
     "name": "stderr",
     "output_type": "stream",
     "text": [
      "\r",
      "Sampling 4 chains:  69%|██████▊   | 1400/2040 [06:52<04:33,  2.34draws/s]"
     ]
    },
    {
     "name": "stderr",
     "output_type": "stream",
     "text": [
      "\r",
      "Sampling 4 chains:  69%|██████▊   | 1401/2040 [06:52<04:27,  2.39draws/s]"
     ]
    },
    {
     "name": "stderr",
     "output_type": "stream",
     "text": [
      "\r",
      "Sampling 4 chains:  69%|██████▉   | 1403/2040 [06:53<03:38,  2.92draws/s]"
     ]
    },
    {
     "name": "stderr",
     "output_type": "stream",
     "text": [
      "\r",
      "Sampling 4 chains:  69%|██████▉   | 1404/2040 [06:53<04:36,  2.30draws/s]"
     ]
    },
    {
     "name": "stderr",
     "output_type": "stream",
     "text": [
      "\r",
      "Sampling 4 chains:  69%|██████▉   | 1405/2040 [06:54<04:06,  2.57draws/s]"
     ]
    },
    {
     "name": "stderr",
     "output_type": "stream",
     "text": [
      "\r",
      "Sampling 4 chains:  69%|██████▉   | 1406/2040 [06:54<03:36,  2.92draws/s]"
     ]
    },
    {
     "name": "stderr",
     "output_type": "stream",
     "text": [
      "\r",
      "Sampling 4 chains:  69%|██████▉   | 1407/2040 [06:54<03:41,  2.86draws/s]"
     ]
    },
    {
     "name": "stderr",
     "output_type": "stream",
     "text": [
      "\r",
      "Sampling 4 chains:  69%|██████▉   | 1408/2040 [06:55<04:17,  2.45draws/s]"
     ]
    },
    {
     "name": "stderr",
     "output_type": "stream",
     "text": [
      "\r",
      "Sampling 4 chains:  69%|██████▉   | 1409/2040 [06:55<03:27,  3.04draws/s]"
     ]
    },
    {
     "name": "stderr",
     "output_type": "stream",
     "text": [
      "\r",
      "Sampling 4 chains:  69%|██████▉   | 1410/2040 [06:55<03:06,  3.37draws/s]"
     ]
    },
    {
     "name": "stderr",
     "output_type": "stream",
     "text": [
      "\r",
      "Sampling 4 chains:  69%|██████▉   | 1411/2040 [06:56<04:14,  2.47draws/s]"
     ]
    },
    {
     "name": "stderr",
     "output_type": "stream",
     "text": [
      "\r",
      "Sampling 4 chains:  69%|██████▉   | 1412/2040 [06:56<04:00,  2.62draws/s]"
     ]
    },
    {
     "name": "stderr",
     "output_type": "stream",
     "text": [
      "\r",
      "Sampling 4 chains:  69%|██████▉   | 1414/2040 [06:57<03:24,  3.06draws/s]"
     ]
    },
    {
     "name": "stderr",
     "output_type": "stream",
     "text": [
      "\r",
      "Sampling 4 chains:  69%|██████▉   | 1415/2040 [06:57<04:38,  2.24draws/s]"
     ]
    },
    {
     "name": "stderr",
     "output_type": "stream",
     "text": [
      "\r",
      "Sampling 4 chains:  69%|██████▉   | 1416/2040 [06:58<03:50,  2.71draws/s]"
     ]
    },
    {
     "name": "stderr",
     "output_type": "stream",
     "text": [
      "\r",
      "Sampling 4 chains:  69%|██████▉   | 1417/2040 [06:58<03:08,  3.31draws/s]"
     ]
    },
    {
     "name": "stderr",
     "output_type": "stream",
     "text": [
      "\r",
      "Sampling 4 chains:  70%|██████▉   | 1418/2040 [06:58<02:41,  3.84draws/s]"
     ]
    },
    {
     "name": "stderr",
     "output_type": "stream",
     "text": [
      "\r",
      "Sampling 4 chains:  70%|██████▉   | 1419/2040 [06:59<04:56,  2.09draws/s]"
     ]
    },
    {
     "name": "stderr",
     "output_type": "stream",
     "text": [
      "\r",
      "Sampling 4 chains:  70%|██████▉   | 1421/2040 [06:59<03:51,  2.67draws/s]"
     ]
    },
    {
     "name": "stderr",
     "output_type": "stream",
     "text": [
      "\r",
      "Sampling 4 chains:  70%|██████▉   | 1422/2040 [06:59<03:06,  3.32draws/s]"
     ]
    },
    {
     "name": "stderr",
     "output_type": "stream",
     "text": [
      "\r",
      "Sampling 4 chains:  70%|██████▉   | 1423/2040 [07:00<05:07,  2.01draws/s]"
     ]
    },
    {
     "name": "stderr",
     "output_type": "stream",
     "text": [
      "\r",
      "Sampling 4 chains:  70%|██████▉   | 1424/2040 [07:00<04:00,  2.56draws/s]"
     ]
    },
    {
     "name": "stderr",
     "output_type": "stream",
     "text": [
      "\r",
      "Sampling 4 chains:  70%|██████▉   | 1425/2040 [07:00<03:14,  3.16draws/s]"
     ]
    },
    {
     "name": "stderr",
     "output_type": "stream",
     "text": [
      "\r",
      "Sampling 4 chains:  70%|██████▉   | 1427/2040 [07:02<03:59,  2.56draws/s]"
     ]
    },
    {
     "name": "stderr",
     "output_type": "stream",
     "text": [
      "\r",
      "Sampling 4 chains:  70%|███████   | 1428/2040 [07:02<03:33,  2.87draws/s]"
     ]
    },
    {
     "name": "stderr",
     "output_type": "stream",
     "text": [
      "\r",
      "Sampling 4 chains:  70%|███████   | 1431/2040 [07:03<03:31,  2.88draws/s]"
     ]
    },
    {
     "name": "stderr",
     "output_type": "stream",
     "text": [
      "\r",
      "Sampling 4 chains:  70%|███████   | 1432/2040 [07:03<03:18,  3.07draws/s]"
     ]
    },
    {
     "name": "stderr",
     "output_type": "stream",
     "text": [
      "\r",
      "Sampling 4 chains:  70%|███████   | 1434/2040 [07:03<02:30,  4.03draws/s]"
     ]
    },
    {
     "name": "stderr",
     "output_type": "stream",
     "text": [
      "\r",
      "Sampling 4 chains:  70%|███████   | 1435/2040 [07:04<04:42,  2.14draws/s]"
     ]
    },
    {
     "name": "stderr",
     "output_type": "stream",
     "text": [
      "\r",
      "Sampling 4 chains:  70%|███████   | 1436/2040 [07:05<04:12,  2.39draws/s]"
     ]
    },
    {
     "name": "stderr",
     "output_type": "stream",
     "text": [
      "\r",
      "Sampling 4 chains:  71%|███████   | 1439/2040 [07:06<04:00,  2.50draws/s]"
     ]
    },
    {
     "name": "stderr",
     "output_type": "stream",
     "text": [
      "\r",
      "Sampling 4 chains:  71%|███████   | 1440/2040 [07:06<03:23,  2.94draws/s]"
     ]
    },
    {
     "name": "stderr",
     "output_type": "stream",
     "text": [
      "\r",
      "Sampling 4 chains:  71%|███████   | 1441/2040 [07:06<02:45,  3.62draws/s]"
     ]
    },
    {
     "name": "stderr",
     "output_type": "stream",
     "text": [
      "\r",
      "Sampling 4 chains:  71%|███████   | 1443/2040 [07:07<03:18,  3.00draws/s]"
     ]
    },
    {
     "name": "stderr",
     "output_type": "stream",
     "text": [
      "\r",
      "Sampling 4 chains:  71%|███████   | 1444/2040 [07:07<03:07,  3.18draws/s]"
     ]
    },
    {
     "name": "stderr",
     "output_type": "stream",
     "text": [
      "\r",
      "Sampling 4 chains:  71%|███████   | 1445/2040 [07:07<02:32,  3.90draws/s]"
     ]
    },
    {
     "name": "stderr",
     "output_type": "stream",
     "text": [
      "\r",
      "Sampling 4 chains:  71%|███████   | 1446/2040 [07:08<02:34,  3.85draws/s]"
     ]
    },
    {
     "name": "stderr",
     "output_type": "stream",
     "text": [
      "\r",
      "Sampling 4 chains:  71%|███████   | 1447/2040 [07:08<03:55,  2.51draws/s]"
     ]
    },
    {
     "name": "stderr",
     "output_type": "stream",
     "text": [
      "\r",
      "Sampling 4 chains:  71%|███████   | 1448/2040 [07:09<03:33,  2.77draws/s]"
     ]
    },
    {
     "name": "stderr",
     "output_type": "stream",
     "text": [
      "\r",
      "Sampling 4 chains:  71%|███████   | 1449/2040 [07:09<02:56,  3.34draws/s]"
     ]
    },
    {
     "name": "stderr",
     "output_type": "stream",
     "text": [
      "\r",
      "Sampling 4 chains:  71%|███████   | 1450/2040 [07:09<03:01,  3.25draws/s]"
     ]
    },
    {
     "name": "stderr",
     "output_type": "stream",
     "text": [
      "\r",
      "Sampling 4 chains:  71%|███████   | 1451/2040 [07:10<04:02,  2.43draws/s]"
     ]
    },
    {
     "name": "stderr",
     "output_type": "stream",
     "text": [
      "\r",
      "Sampling 4 chains:  71%|███████   | 1452/2040 [07:10<03:08,  3.13draws/s]"
     ]
    },
    {
     "name": "stderr",
     "output_type": "stream",
     "text": [
      "\r",
      "Sampling 4 chains:  71%|███████   | 1453/2040 [07:10<03:13,  3.03draws/s]"
     ]
    },
    {
     "name": "stderr",
     "output_type": "stream",
     "text": [
      "\r",
      "Sampling 4 chains:  71%|███████▏  | 1454/2040 [07:11<03:33,  2.75draws/s]"
     ]
    },
    {
     "name": "stderr",
     "output_type": "stream",
     "text": [
      "\r",
      "Sampling 4 chains:  71%|███████▏  | 1455/2040 [07:11<03:51,  2.52draws/s]"
     ]
    },
    {
     "name": "stderr",
     "output_type": "stream",
     "text": [
      "\r",
      "Sampling 4 chains:  71%|███████▏  | 1457/2040 [07:12<03:21,  2.89draws/s]"
     ]
    },
    {
     "name": "stderr",
     "output_type": "stream",
     "text": [
      "\r",
      "Sampling 4 chains:  71%|███████▏  | 1458/2040 [07:12<03:46,  2.57draws/s]"
     ]
    },
    {
     "name": "stderr",
     "output_type": "stream",
     "text": [
      "\r",
      "Sampling 4 chains:  72%|███████▏  | 1459/2040 [07:12<03:42,  2.61draws/s]"
     ]
    },
    {
     "name": "stderr",
     "output_type": "stream",
     "text": [
      "\r",
      "Sampling 4 chains:  72%|███████▏  | 1461/2040 [07:13<03:28,  2.78draws/s]"
     ]
    },
    {
     "name": "stderr",
     "output_type": "stream",
     "text": [
      "\r",
      "Sampling 4 chains:  72%|███████▏  | 1462/2040 [07:14<03:52,  2.49draws/s]"
     ]
    },
    {
     "name": "stderr",
     "output_type": "stream",
     "text": [
      "\r",
      "Sampling 4 chains:  72%|███████▏  | 1463/2040 [07:14<03:17,  2.92draws/s]"
     ]
    },
    {
     "name": "stderr",
     "output_type": "stream",
     "text": [
      "\r",
      "Sampling 4 chains:  72%|███████▏  | 1464/2040 [07:14<02:50,  3.38draws/s]"
     ]
    },
    {
     "name": "stderr",
     "output_type": "stream",
     "text": [
      "\r",
      "Sampling 4 chains:  72%|███████▏  | 1465/2040 [07:14<03:19,  2.88draws/s]"
     ]
    },
    {
     "name": "stderr",
     "output_type": "stream",
     "text": [
      "\r",
      "Sampling 4 chains:  72%|███████▏  | 1466/2040 [07:15<04:03,  2.35draws/s]"
     ]
    },
    {
     "name": "stderr",
     "output_type": "stream",
     "text": [
      "\r",
      "Sampling 4 chains:  72%|███████▏  | 1468/2040 [07:15<03:19,  2.86draws/s]"
     ]
    },
    {
     "name": "stderr",
     "output_type": "stream",
     "text": [
      "\r",
      "Sampling 4 chains:  72%|███████▏  | 1469/2040 [07:16<03:23,  2.81draws/s]"
     ]
    },
    {
     "name": "stderr",
     "output_type": "stream",
     "text": [
      "\r",
      "Sampling 4 chains:  72%|███████▏  | 1470/2040 [07:16<04:04,  2.33draws/s]"
     ]
    },
    {
     "name": "stderr",
     "output_type": "stream",
     "text": [
      "\r",
      "Sampling 4 chains:  72%|███████▏  | 1472/2040 [07:17<03:19,  2.85draws/s]"
     ]
    },
    {
     "name": "stderr",
     "output_type": "stream",
     "text": [
      "\r",
      "Sampling 4 chains:  72%|███████▏  | 1473/2040 [07:17<03:31,  2.68draws/s]"
     ]
    },
    {
     "name": "stderr",
     "output_type": "stream",
     "text": [
      "\r",
      "Sampling 4 chains:  72%|███████▏  | 1474/2040 [07:18<03:57,  2.38draws/s]"
     ]
    },
    {
     "name": "stderr",
     "output_type": "stream",
     "text": [
      "\r",
      "Sampling 4 chains:  72%|███████▏  | 1475/2040 [07:18<03:35,  2.62draws/s]"
     ]
    },
    {
     "name": "stderr",
     "output_type": "stream",
     "text": [
      "\r",
      "Sampling 4 chains:  72%|███████▏  | 1476/2040 [07:18<03:03,  3.08draws/s]"
     ]
    },
    {
     "name": "stderr",
     "output_type": "stream",
     "text": [
      "\r",
      "Sampling 4 chains:  72%|███████▏  | 1477/2040 [07:19<04:23,  2.14draws/s]"
     ]
    },
    {
     "name": "stderr",
     "output_type": "stream",
     "text": [
      "\r",
      "Sampling 4 chains:  72%|███████▏  | 1478/2040 [07:19<04:02,  2.32draws/s]"
     ]
    },
    {
     "name": "stderr",
     "output_type": "stream",
     "text": [
      "\r",
      "Sampling 4 chains:  72%|███████▎  | 1479/2040 [07:19<03:16,  2.86draws/s]"
     ]
    },
    {
     "name": "stderr",
     "output_type": "stream",
     "text": [
      "\r",
      "Sampling 4 chains:  73%|███████▎  | 1480/2040 [07:20<02:41,  3.46draws/s]"
     ]
    },
    {
     "name": "stderr",
     "output_type": "stream",
     "text": [
      "\r",
      "Sampling 4 chains:  73%|███████▎  | 1481/2040 [07:20<03:42,  2.51draws/s]"
     ]
    },
    {
     "name": "stderr",
     "output_type": "stream",
     "text": [
      "\r",
      "Sampling 4 chains:  73%|███████▎  | 1482/2040 [07:21<04:40,  1.99draws/s]"
     ]
    },
    {
     "name": "stderr",
     "output_type": "stream",
     "text": [
      "\r",
      "Sampling 4 chains:  73%|███████▎  | 1483/2040 [07:21<04:51,  1.91draws/s]"
     ]
    },
    {
     "name": "stderr",
     "output_type": "stream",
     "text": [
      "\r",
      "Sampling 4 chains:  73%|███████▎  | 1484/2040 [07:22<03:57,  2.35draws/s]"
     ]
    },
    {
     "name": "stderr",
     "output_type": "stream",
     "text": [
      "\r",
      "Sampling 4 chains:  73%|███████▎  | 1486/2040 [07:23<03:55,  2.36draws/s]"
     ]
    },
    {
     "name": "stderr",
     "output_type": "stream",
     "text": [
      "\r",
      "Sampling 4 chains:  73%|███████▎  | 1487/2040 [07:23<03:48,  2.42draws/s]"
     ]
    },
    {
     "name": "stderr",
     "output_type": "stream",
     "text": [
      "\r",
      "Sampling 4 chains:  73%|███████▎  | 1488/2040 [07:24<05:49,  1.58draws/s]"
     ]
    },
    {
     "name": "stderr",
     "output_type": "stream",
     "text": [
      "\r",
      "Sampling 4 chains:  73%|███████▎  | 1490/2040 [07:24<04:13,  2.17draws/s]"
     ]
    },
    {
     "name": "stderr",
     "output_type": "stream",
     "text": [
      "\r",
      "Sampling 4 chains:  73%|███████▎  | 1492/2040 [07:25<04:44,  1.93draws/s]"
     ]
    },
    {
     "name": "stderr",
     "output_type": "stream",
     "text": [
      "\r",
      "Sampling 4 chains:  73%|███████▎  | 1494/2040 [07:26<03:26,  2.64draws/s]"
     ]
    },
    {
     "name": "stderr",
     "output_type": "stream",
     "text": [
      "\r",
      "Sampling 4 chains:  73%|███████▎  | 1495/2040 [07:26<02:41,  3.37draws/s]"
     ]
    },
    {
     "name": "stderr",
     "output_type": "stream",
     "text": [
      "\r",
      "Sampling 4 chains:  73%|███████▎  | 1496/2040 [07:27<04:44,  1.91draws/s]"
     ]
    },
    {
     "name": "stderr",
     "output_type": "stream",
     "text": [
      "\r",
      "Sampling 4 chains:  73%|███████▎  | 1497/2040 [07:27<03:38,  2.49draws/s]"
     ]
    },
    {
     "name": "stderr",
     "output_type": "stream",
     "text": [
      "\r",
      "Sampling 4 chains:  73%|███████▎  | 1498/2040 [07:27<02:53,  3.12draws/s]"
     ]
    },
    {
     "name": "stderr",
     "output_type": "stream",
     "text": [
      "\r",
      "Sampling 4 chains:  74%|███████▎  | 1500/2040 [07:28<03:23,  2.66draws/s]"
     ]
    },
    {
     "name": "stderr",
     "output_type": "stream",
     "text": [
      "\r",
      "Sampling 4 chains:  74%|███████▎  | 1501/2040 [07:28<03:05,  2.91draws/s]"
     ]
    },
    {
     "name": "stderr",
     "output_type": "stream",
     "text": [
      "\r",
      "Sampling 4 chains:  74%|███████▎  | 1503/2040 [07:29<02:33,  3.49draws/s]"
     ]
    },
    {
     "name": "stderr",
     "output_type": "stream",
     "text": [
      "\r",
      "Sampling 4 chains:  74%|███████▎  | 1504/2040 [07:29<04:04,  2.19draws/s]"
     ]
    },
    {
     "name": "stderr",
     "output_type": "stream",
     "text": [
      "\r",
      "Sampling 4 chains:  74%|███████▍  | 1505/2040 [07:30<03:08,  2.83draws/s]"
     ]
    },
    {
     "name": "stderr",
     "output_type": "stream",
     "text": [
      "\r",
      "Sampling 4 chains:  74%|███████▍  | 1507/2040 [07:30<02:51,  3.10draws/s]"
     ]
    },
    {
     "name": "stderr",
     "output_type": "stream",
     "text": [
      "\r",
      "Sampling 4 chains:  74%|███████▍  | 1508/2040 [07:31<03:45,  2.36draws/s]"
     ]
    },
    {
     "name": "stderr",
     "output_type": "stream",
     "text": [
      "\r",
      "Sampling 4 chains:  74%|███████▍  | 1510/2040 [07:31<02:56,  3.00draws/s]"
     ]
    },
    {
     "name": "stderr",
     "output_type": "stream",
     "text": [
      "\r",
      "Sampling 4 chains:  74%|███████▍  | 1511/2040 [07:32<03:40,  2.40draws/s]"
     ]
    },
    {
     "name": "stderr",
     "output_type": "stream",
     "text": [
      "\r",
      "Sampling 4 chains:  74%|███████▍  | 1512/2040 [07:32<03:38,  2.41draws/s]"
     ]
    },
    {
     "name": "stderr",
     "output_type": "stream",
     "text": [
      "\r",
      "Sampling 4 chains:  74%|███████▍  | 1514/2040 [07:32<02:55,  3.00draws/s]"
     ]
    },
    {
     "name": "stderr",
     "output_type": "stream",
     "text": [
      "\r",
      "Sampling 4 chains:  74%|███████▍  | 1515/2040 [07:33<04:16,  2.05draws/s]"
     ]
    },
    {
     "name": "stderr",
     "output_type": "stream",
     "text": [
      "\r",
      "Sampling 4 chains:  74%|███████▍  | 1516/2040 [07:33<03:25,  2.55draws/s]"
     ]
    },
    {
     "name": "stderr",
     "output_type": "stream",
     "text": [
      "\r",
      "Sampling 4 chains:  74%|███████▍  | 1518/2040 [07:34<02:59,  2.90draws/s]"
     ]
    },
    {
     "name": "stderr",
     "output_type": "stream",
     "text": [
      "\r",
      "Sampling 4 chains:  74%|███████▍  | 1519/2040 [07:34<04:02,  2.15draws/s]"
     ]
    },
    {
     "name": "stderr",
     "output_type": "stream",
     "text": [
      "\r",
      "Sampling 4 chains:  75%|███████▍  | 1521/2040 [07:35<03:05,  2.79draws/s]"
     ]
    },
    {
     "name": "stderr",
     "output_type": "stream",
     "text": [
      "\r",
      "Sampling 4 chains:  75%|███████▍  | 1522/2040 [07:35<03:03,  2.82draws/s]"
     ]
    },
    {
     "name": "stderr",
     "output_type": "stream",
     "text": [
      "\r",
      "Sampling 4 chains:  75%|███████▍  | 1523/2040 [07:36<03:51,  2.24draws/s]"
     ]
    },
    {
     "name": "stderr",
     "output_type": "stream",
     "text": [
      "\r",
      "Sampling 4 chains:  75%|███████▍  | 1524/2040 [07:36<03:19,  2.59draws/s]"
     ]
    },
    {
     "name": "stderr",
     "output_type": "stream",
     "text": [
      "\r",
      "Sampling 4 chains:  75%|███████▍  | 1525/2040 [07:36<02:44,  3.13draws/s]"
     ]
    },
    {
     "name": "stderr",
     "output_type": "stream",
     "text": [
      "\r",
      "Sampling 4 chains:  75%|███████▍  | 1526/2040 [07:36<02:32,  3.38draws/s]"
     ]
    },
    {
     "name": "stderr",
     "output_type": "stream",
     "text": [
      "\r",
      "Sampling 4 chains:  75%|███████▍  | 1527/2040 [07:37<03:28,  2.46draws/s]"
     ]
    },
    {
     "name": "stderr",
     "output_type": "stream",
     "text": [
      "\r",
      "Sampling 4 chains:  75%|███████▍  | 1528/2040 [07:37<03:19,  2.57draws/s]"
     ]
    },
    {
     "name": "stderr",
     "output_type": "stream",
     "text": [
      "\r",
      "Sampling 4 chains:  75%|███████▍  | 1529/2040 [07:38<02:42,  3.14draws/s]"
     ]
    },
    {
     "name": "stderr",
     "output_type": "stream",
     "text": [
      "\r",
      "Sampling 4 chains:  75%|███████▌  | 1530/2040 [07:38<02:25,  3.50draws/s]"
     ]
    },
    {
     "name": "stderr",
     "output_type": "stream",
     "text": [
      "\r",
      "Sampling 4 chains:  75%|███████▌  | 1531/2040 [07:38<03:14,  2.62draws/s]"
     ]
    },
    {
     "name": "stderr",
     "output_type": "stream",
     "text": [
      "\r",
      "Sampling 4 chains:  75%|███████▌  | 1532/2040 [07:39<03:31,  2.40draws/s]"
     ]
    },
    {
     "name": "stderr",
     "output_type": "stream",
     "text": [
      "\r",
      "Sampling 4 chains:  75%|███████▌  | 1534/2040 [07:39<02:48,  3.01draws/s]"
     ]
    },
    {
     "name": "stderr",
     "output_type": "stream",
     "text": [
      "\r",
      "Sampling 4 chains:  75%|███████▌  | 1535/2040 [07:40<03:29,  2.41draws/s]"
     ]
    },
    {
     "name": "stderr",
     "output_type": "stream",
     "text": [
      "\r",
      "Sampling 4 chains:  75%|███████▌  | 1536/2040 [07:40<04:03,  2.07draws/s]"
     ]
    },
    {
     "name": "stderr",
     "output_type": "stream",
     "text": [
      "\r",
      "Sampling 4 chains:  75%|███████▌  | 1538/2040 [07:41<03:04,  2.71draws/s]"
     ]
    },
    {
     "name": "stderr",
     "output_type": "stream",
     "text": [
      "\r",
      "Sampling 4 chains:  75%|███████▌  | 1539/2040 [07:41<03:37,  2.31draws/s]"
     ]
    },
    {
     "name": "stderr",
     "output_type": "stream",
     "text": [
      "\r",
      "Sampling 4 chains:  75%|███████▌  | 1540/2040 [07:42<04:14,  1.97draws/s]"
     ]
    },
    {
     "name": "stderr",
     "output_type": "stream",
     "text": [
      "\r",
      "Sampling 4 chains:  76%|███████▌  | 1542/2040 [07:42<03:05,  2.69draws/s]"
     ]
    },
    {
     "name": "stderr",
     "output_type": "stream",
     "text": [
      "\r",
      "Sampling 4 chains:  76%|███████▌  | 1543/2040 [07:42<03:21,  2.46draws/s]"
     ]
    },
    {
     "name": "stderr",
     "output_type": "stream",
     "text": [
      "\r",
      "Sampling 4 chains:  76%|███████▌  | 1544/2040 [07:43<04:15,  1.94draws/s]"
     ]
    },
    {
     "name": "stderr",
     "output_type": "stream",
     "text": [
      "\r",
      "Sampling 4 chains:  76%|███████▌  | 1546/2040 [07:43<03:16,  2.51draws/s]"
     ]
    },
    {
     "name": "stderr",
     "output_type": "stream",
     "text": [
      "\r",
      "Sampling 4 chains:  76%|███████▌  | 1547/2040 [07:44<03:10,  2.59draws/s]"
     ]
    },
    {
     "name": "stderr",
     "output_type": "stream",
     "text": [
      "\r",
      "Sampling 4 chains:  76%|███████▌  | 1548/2040 [07:45<03:56,  2.08draws/s]"
     ]
    },
    {
     "name": "stderr",
     "output_type": "stream",
     "text": [
      "\r",
      "Sampling 4 chains:  76%|███████▌  | 1549/2040 [07:45<03:09,  2.59draws/s]"
     ]
    },
    {
     "name": "stderr",
     "output_type": "stream",
     "text": [
      "\r",
      "Sampling 4 chains:  76%|███████▌  | 1550/2040 [07:45<02:55,  2.78draws/s]"
     ]
    },
    {
     "name": "stderr",
     "output_type": "stream",
     "text": [
      "\r",
      "Sampling 4 chains:  76%|███████▌  | 1552/2040 [07:46<03:06,  2.62draws/s]"
     ]
    },
    {
     "name": "stderr",
     "output_type": "stream",
     "text": [
      "\r",
      "Sampling 4 chains:  76%|███████▌  | 1553/2040 [07:46<02:39,  3.05draws/s]"
     ]
    },
    {
     "name": "stderr",
     "output_type": "stream",
     "text": [
      "\r",
      "Sampling 4 chains:  76%|███████▌  | 1554/2040 [07:46<02:34,  3.14draws/s]"
     ]
    },
    {
     "name": "stderr",
     "output_type": "stream",
     "text": [
      "\r",
      "Sampling 4 chains:  76%|███████▋  | 1556/2040 [07:47<02:55,  2.76draws/s]"
     ]
    },
    {
     "name": "stderr",
     "output_type": "stream",
     "text": [
      "\r",
      "Sampling 4 chains:  76%|███████▋  | 1557/2040 [07:47<02:30,  3.21draws/s]"
     ]
    },
    {
     "name": "stderr",
     "output_type": "stream",
     "text": [
      "\r",
      "Sampling 4 chains:  76%|███████▋  | 1558/2040 [07:48<02:15,  3.56draws/s]"
     ]
    },
    {
     "name": "stderr",
     "output_type": "stream",
     "text": [
      "\r",
      "Sampling 4 chains:  76%|███████▋  | 1560/2040 [07:49<02:45,  2.91draws/s]"
     ]
    },
    {
     "name": "stderr",
     "output_type": "stream",
     "text": [
      "\r",
      "Sampling 4 chains:  77%|███████▋  | 1561/2040 [07:49<02:21,  3.39draws/s]"
     ]
    },
    {
     "name": "stderr",
     "output_type": "stream",
     "text": [
      "\r",
      "Sampling 4 chains:  77%|███████▋  | 1562/2040 [07:49<02:02,  3.89draws/s]"
     ]
    },
    {
     "name": "stderr",
     "output_type": "stream",
     "text": [
      "\r",
      "Sampling 4 chains:  77%|███████▋  | 1563/2040 [07:49<01:53,  4.22draws/s]"
     ]
    },
    {
     "name": "stderr",
     "output_type": "stream",
     "text": [
      "\r",
      "Sampling 4 chains:  77%|███████▋  | 1564/2040 [07:50<03:11,  2.48draws/s]"
     ]
    },
    {
     "name": "stderr",
     "output_type": "stream",
     "text": [
      "\r",
      "Sampling 4 chains:  77%|███████▋  | 1565/2040 [07:50<03:01,  2.62draws/s]"
     ]
    },
    {
     "name": "stderr",
     "output_type": "stream",
     "text": [
      "\r",
      "Sampling 4 chains:  77%|███████▋  | 1566/2040 [07:50<02:23,  3.30draws/s]"
     ]
    },
    {
     "name": "stderr",
     "output_type": "stream",
     "text": [
      "\r",
      "Sampling 4 chains:  77%|███████▋  | 1567/2040 [07:51<02:13,  3.54draws/s]"
     ]
    },
    {
     "name": "stderr",
     "output_type": "stream",
     "text": [
      "\r",
      "Sampling 4 chains:  77%|███████▋  | 1568/2040 [07:51<03:05,  2.55draws/s]"
     ]
    },
    {
     "name": "stderr",
     "output_type": "stream",
     "text": [
      "\r",
      "Sampling 4 chains:  77%|███████▋  | 1569/2040 [07:52<03:01,  2.60draws/s]"
     ]
    },
    {
     "name": "stderr",
     "output_type": "stream",
     "text": [
      "\r",
      "Sampling 4 chains:  77%|███████▋  | 1571/2040 [07:52<02:31,  3.10draws/s]"
     ]
    },
    {
     "name": "stderr",
     "output_type": "stream",
     "text": [
      "\r",
      "Sampling 4 chains:  77%|███████▋  | 1572/2040 [07:53<03:17,  2.36draws/s]"
     ]
    },
    {
     "name": "stderr",
     "output_type": "stream",
     "text": [
      "\r",
      "Sampling 4 chains:  77%|███████▋  | 1573/2040 [07:53<02:59,  2.61draws/s]"
     ]
    },
    {
     "name": "stderr",
     "output_type": "stream",
     "text": [
      "\r",
      "Sampling 4 chains:  77%|███████▋  | 1575/2040 [07:53<02:34,  3.02draws/s]"
     ]
    },
    {
     "name": "stderr",
     "output_type": "stream",
     "text": [
      "\r",
      "Sampling 4 chains:  77%|███████▋  | 1576/2040 [07:54<03:20,  2.31draws/s]"
     ]
    },
    {
     "name": "stderr",
     "output_type": "stream",
     "text": [
      "\r",
      "Sampling 4 chains:  77%|███████▋  | 1577/2040 [07:54<03:01,  2.55draws/s]"
     ]
    },
    {
     "name": "stderr",
     "output_type": "stream",
     "text": [
      "\r",
      "Sampling 4 chains:  77%|███████▋  | 1579/2040 [07:55<02:43,  2.83draws/s]"
     ]
    },
    {
     "name": "stderr",
     "output_type": "stream",
     "text": [
      "\r",
      "Sampling 4 chains:  77%|███████▋  | 1580/2040 [07:55<03:04,  2.49draws/s]"
     ]
    },
    {
     "name": "stderr",
     "output_type": "stream",
     "text": [
      "\r",
      "Sampling 4 chains:  78%|███████▊  | 1581/2040 [07:56<02:45,  2.77draws/s]"
     ]
    },
    {
     "name": "stderr",
     "output_type": "stream",
     "text": [
      "\r",
      "Sampling 4 chains:  78%|███████▊  | 1582/2040 [07:56<02:19,  3.28draws/s]"
     ]
    },
    {
     "name": "stderr",
     "output_type": "stream",
     "text": [
      "\r",
      "Sampling 4 chains:  78%|███████▊  | 1583/2040 [07:56<02:50,  2.69draws/s]"
     ]
    },
    {
     "name": "stderr",
     "output_type": "stream",
     "text": [
      "\r",
      "Sampling 4 chains:  78%|███████▊  | 1584/2040 [07:57<02:54,  2.61draws/s]"
     ]
    },
    {
     "name": "stderr",
     "output_type": "stream",
     "text": [
      "\r",
      "Sampling 4 chains:  78%|███████▊  | 1585/2040 [07:57<02:39,  2.86draws/s]"
     ]
    },
    {
     "name": "stderr",
     "output_type": "stream",
     "text": [
      "\r",
      "Sampling 4 chains:  78%|███████▊  | 1586/2040 [07:57<02:06,  3.59draws/s]"
     ]
    },
    {
     "name": "stderr",
     "output_type": "stream",
     "text": [
      "\r",
      "Sampling 4 chains:  78%|███████▊  | 1587/2040 [07:58<03:02,  2.48draws/s]"
     ]
    },
    {
     "name": "stderr",
     "output_type": "stream",
     "text": [
      "\r",
      "Sampling 4 chains:  78%|███████▊  | 1588/2040 [07:58<02:55,  2.58draws/s]"
     ]
    },
    {
     "name": "stderr",
     "output_type": "stream",
     "text": [
      "\r",
      "Sampling 4 chains:  78%|███████▊  | 1589/2040 [07:58<02:33,  2.94draws/s]"
     ]
    },
    {
     "name": "stderr",
     "output_type": "stream",
     "text": [
      "\r",
      "Sampling 4 chains:  78%|███████▊  | 1591/2040 [07:59<02:49,  2.65draws/s]"
     ]
    },
    {
     "name": "stderr",
     "output_type": "stream",
     "text": [
      "\r",
      "Sampling 4 chains:  78%|███████▊  | 1592/2040 [07:59<02:12,  3.38draws/s]"
     ]
    },
    {
     "name": "stderr",
     "output_type": "stream",
     "text": [
      "\r",
      "Sampling 4 chains:  78%|███████▊  | 1593/2040 [08:00<02:26,  3.05draws/s]"
     ]
    },
    {
     "name": "stderr",
     "output_type": "stream",
     "text": [
      "\r",
      "Sampling 4 chains:  78%|███████▊  | 1595/2040 [08:01<02:42,  2.74draws/s]"
     ]
    },
    {
     "name": "stderr",
     "output_type": "stream",
     "text": [
      "\r",
      "Sampling 4 chains:  78%|███████▊  | 1597/2040 [08:01<02:27,  3.01draws/s]"
     ]
    },
    {
     "name": "stderr",
     "output_type": "stream",
     "text": [
      "\r",
      "Sampling 4 chains:  78%|███████▊  | 1599/2040 [08:02<02:39,  2.76draws/s]"
     ]
    },
    {
     "name": "stderr",
     "output_type": "stream",
     "text": [
      "\r",
      "Sampling 4 chains:  78%|███████▊  | 1600/2040 [08:02<02:07,  3.45draws/s]"
     ]
    },
    {
     "name": "stderr",
     "output_type": "stream",
     "text": [
      "\r",
      "Sampling 4 chains:  78%|███████▊  | 1601/2040 [08:03<02:09,  3.39draws/s]"
     ]
    },
    {
     "name": "stderr",
     "output_type": "stream",
     "text": [
      "\r",
      "Sampling 4 chains:  79%|███████▊  | 1602/2040 [08:03<01:48,  4.02draws/s]"
     ]
    },
    {
     "name": "stderr",
     "output_type": "stream",
     "text": [
      "\r",
      "Sampling 4 chains:  79%|███████▊  | 1603/2040 [08:04<03:02,  2.39draws/s]"
     ]
    },
    {
     "name": "stderr",
     "output_type": "stream",
     "text": [
      "\r",
      "Sampling 4 chains:  79%|███████▊  | 1604/2040 [08:04<02:42,  2.68draws/s]"
     ]
    },
    {
     "name": "stderr",
     "output_type": "stream",
     "text": [
      "\r",
      "Sampling 4 chains:  79%|███████▊  | 1605/2040 [08:04<02:21,  3.07draws/s]"
     ]
    },
    {
     "name": "stderr",
     "output_type": "stream",
     "text": [
      "\r",
      "Sampling 4 chains:  79%|███████▉  | 1607/2040 [08:05<02:39,  2.71draws/s]"
     ]
    },
    {
     "name": "stderr",
     "output_type": "stream",
     "text": [
      "\r",
      "Sampling 4 chains:  79%|███████▉  | 1608/2040 [08:05<02:32,  2.84draws/s]"
     ]
    },
    {
     "name": "stderr",
     "output_type": "stream",
     "text": [
      "\r",
      "Sampling 4 chains:  79%|███████▉  | 1610/2040 [08:05<01:56,  3.69draws/s]"
     ]
    },
    {
     "name": "stderr",
     "output_type": "stream",
     "text": [
      "\r",
      "Sampling 4 chains:  79%|███████▉  | 1611/2040 [08:06<03:03,  2.34draws/s]"
     ]
    },
    {
     "name": "stderr",
     "output_type": "stream",
     "text": [
      "\r",
      "Sampling 4 chains:  79%|███████▉  | 1612/2040 [08:07<03:08,  2.27draws/s]"
     ]
    },
    {
     "name": "stderr",
     "output_type": "stream",
     "text": [
      "\r",
      "Sampling 4 chains:  79%|███████▉  | 1613/2040 [08:07<02:25,  2.93draws/s]"
     ]
    },
    {
     "name": "stderr",
     "output_type": "stream",
     "text": [
      "\r",
      "Sampling 4 chains:  79%|███████▉  | 1615/2040 [08:08<02:32,  2.78draws/s]"
     ]
    },
    {
     "name": "stderr",
     "output_type": "stream",
     "text": [
      "\r",
      "Sampling 4 chains:  79%|███████▉  | 1616/2040 [08:08<02:39,  2.66draws/s]"
     ]
    },
    {
     "name": "stderr",
     "output_type": "stream",
     "text": [
      "\r",
      "Sampling 4 chains:  79%|███████▉  | 1617/2040 [08:08<02:17,  3.07draws/s]"
     ]
    },
    {
     "name": "stderr",
     "output_type": "stream",
     "text": [
      "\r",
      "Sampling 4 chains:  79%|███████▉  | 1619/2040 [08:09<02:14,  3.13draws/s]"
     ]
    },
    {
     "name": "stderr",
     "output_type": "stream",
     "text": [
      "\r",
      "Sampling 4 chains:  79%|███████▉  | 1620/2040 [08:09<02:34,  2.72draws/s]"
     ]
    },
    {
     "name": "stderr",
     "output_type": "stream",
     "text": [
      "\r",
      "Sampling 4 chains:  79%|███████▉  | 1621/2040 [08:10<02:34,  2.71draws/s]"
     ]
    },
    {
     "name": "stderr",
     "output_type": "stream",
     "text": [
      "\r",
      "Sampling 4 chains:  80%|███████▉  | 1622/2040 [08:10<02:05,  3.32draws/s]"
     ]
    },
    {
     "name": "stderr",
     "output_type": "stream",
     "text": [
      "\r",
      "Sampling 4 chains:  80%|███████▉  | 1623/2040 [08:10<02:04,  3.36draws/s]"
     ]
    },
    {
     "name": "stderr",
     "output_type": "stream",
     "text": [
      "\r",
      "Sampling 4 chains:  80%|███████▉  | 1624/2040 [08:11<02:52,  2.41draws/s]"
     ]
    },
    {
     "name": "stderr",
     "output_type": "stream",
     "text": [
      "\r",
      "Sampling 4 chains:  80%|███████▉  | 1625/2040 [08:11<02:53,  2.40draws/s]"
     ]
    },
    {
     "name": "stderr",
     "output_type": "stream",
     "text": [
      "\r",
      "Sampling 4 chains:  80%|███████▉  | 1628/2040 [08:12<02:35,  2.65draws/s]"
     ]
    },
    {
     "name": "stderr",
     "output_type": "stream",
     "text": [
      "\r",
      "Sampling 4 chains:  80%|███████▉  | 1629/2040 [08:13<02:44,  2.49draws/s]"
     ]
    },
    {
     "name": "stderr",
     "output_type": "stream",
     "text": [
      "\r",
      "Sampling 4 chains:  80%|███████▉  | 1630/2040 [08:13<02:10,  3.15draws/s]"
     ]
    },
    {
     "name": "stderr",
     "output_type": "stream",
     "text": [
      "\r",
      "Sampling 4 chains:  80%|████████  | 1632/2040 [08:13<02:19,  2.92draws/s]"
     ]
    },
    {
     "name": "stderr",
     "output_type": "stream",
     "text": [
      "\r",
      "Sampling 4 chains:  80%|████████  | 1633/2040 [08:14<02:19,  2.92draws/s]"
     ]
    },
    {
     "name": "stderr",
     "output_type": "stream",
     "text": [
      "\r",
      "Sampling 4 chains:  80%|████████  | 1634/2040 [08:14<01:59,  3.41draws/s]"
     ]
    },
    {
     "name": "stderr",
     "output_type": "stream",
     "text": [
      "\r",
      "Sampling 4 chains:  80%|████████  | 1635/2040 [08:14<01:47,  3.77draws/s]"
     ]
    },
    {
     "name": "stderr",
     "output_type": "stream",
     "text": [
      "\r",
      "Sampling 4 chains:  80%|████████  | 1636/2040 [08:15<02:28,  2.71draws/s]"
     ]
    },
    {
     "name": "stderr",
     "output_type": "stream",
     "text": [
      "\r",
      "Sampling 4 chains:  80%|████████  | 1637/2040 [08:15<02:29,  2.70draws/s]"
     ]
    },
    {
     "name": "stderr",
     "output_type": "stream",
     "text": [
      "\r",
      "Sampling 4 chains:  80%|████████  | 1638/2040 [08:16<02:26,  2.74draws/s]"
     ]
    },
    {
     "name": "stderr",
     "output_type": "stream",
     "text": [
      "\r",
      "Sampling 4 chains:  80%|████████  | 1639/2040 [08:16<02:09,  3.10draws/s]"
     ]
    },
    {
     "name": "stderr",
     "output_type": "stream",
     "text": [
      "\r",
      "Sampling 4 chains:  80%|████████  | 1640/2040 [08:16<02:32,  2.63draws/s]"
     ]
    },
    {
     "name": "stderr",
     "output_type": "stream",
     "text": [
      "\r",
      "Sampling 4 chains:  80%|████████  | 1641/2040 [08:17<02:32,  2.61draws/s]"
     ]
    },
    {
     "name": "stderr",
     "output_type": "stream",
     "text": [
      "\r",
      "Sampling 4 chains:  80%|████████  | 1642/2040 [08:17<02:20,  2.82draws/s]"
     ]
    },
    {
     "name": "stderr",
     "output_type": "stream",
     "text": [
      "\r",
      "Sampling 4 chains:  81%|████████  | 1643/2040 [08:17<02:18,  2.86draws/s]"
     ]
    },
    {
     "name": "stderr",
     "output_type": "stream",
     "text": [
      "\r",
      "Sampling 4 chains:  81%|████████  | 1644/2040 [08:18<02:27,  2.68draws/s]"
     ]
    },
    {
     "name": "stderr",
     "output_type": "stream",
     "text": [
      "\r",
      "Sampling 4 chains:  81%|████████  | 1645/2040 [08:18<02:28,  2.66draws/s]"
     ]
    },
    {
     "name": "stderr",
     "output_type": "stream",
     "text": [
      "\r",
      "Sampling 4 chains:  81%|████████  | 1646/2040 [08:18<02:16,  2.89draws/s]"
     ]
    },
    {
     "name": "stderr",
     "output_type": "stream",
     "text": [
      "\r",
      "Sampling 4 chains:  81%|████████  | 1647/2040 [08:19<02:28,  2.65draws/s]"
     ]
    },
    {
     "name": "stderr",
     "output_type": "stream",
     "text": [
      "\r",
      "Sampling 4 chains:  81%|████████  | 1648/2040 [08:19<02:18,  2.84draws/s]"
     ]
    },
    {
     "name": "stderr",
     "output_type": "stream",
     "text": [
      "\r",
      "Sampling 4 chains:  81%|████████  | 1649/2040 [08:19<02:12,  2.95draws/s]"
     ]
    },
    {
     "name": "stderr",
     "output_type": "stream",
     "text": [
      "\r",
      "Sampling 4 chains:  81%|████████  | 1650/2040 [08:20<02:04,  3.14draws/s]"
     ]
    },
    {
     "name": "stderr",
     "output_type": "stream",
     "text": [
      "\r",
      "Sampling 4 chains:  81%|████████  | 1651/2040 [08:20<02:45,  2.35draws/s]"
     ]
    },
    {
     "name": "stderr",
     "output_type": "stream",
     "text": [
      "\r",
      "Sampling 4 chains:  81%|████████  | 1653/2040 [08:21<02:17,  2.82draws/s]"
     ]
    },
    {
     "name": "stderr",
     "output_type": "stream",
     "text": [
      "\r",
      "Sampling 4 chains:  81%|████████  | 1654/2040 [08:21<02:11,  2.94draws/s]"
     ]
    },
    {
     "name": "stderr",
     "output_type": "stream",
     "text": [
      "\r",
      "Sampling 4 chains:  81%|████████  | 1655/2040 [08:22<02:50,  2.26draws/s]"
     ]
    },
    {
     "name": "stderr",
     "output_type": "stream",
     "text": [
      "\r",
      "Sampling 4 chains:  81%|████████  | 1657/2040 [08:22<02:24,  2.64draws/s]"
     ]
    },
    {
     "name": "stderr",
     "output_type": "stream",
     "text": [
      "\r",
      "Sampling 4 chains:  81%|████████▏ | 1658/2040 [08:22<02:04,  3.06draws/s]"
     ]
    },
    {
     "name": "stderr",
     "output_type": "stream",
     "text": [
      "\r",
      "Sampling 4 chains:  81%|████████▏ | 1659/2040 [08:23<02:51,  2.22draws/s]"
     ]
    },
    {
     "name": "stderr",
     "output_type": "stream",
     "text": [
      "\r",
      "Sampling 4 chains:  81%|████████▏ | 1661/2040 [08:24<02:21,  2.68draws/s]"
     ]
    },
    {
     "name": "stderr",
     "output_type": "stream",
     "text": [
      "\r",
      "Sampling 4 chains:  81%|████████▏ | 1662/2040 [08:24<01:55,  3.28draws/s]"
     ]
    },
    {
     "name": "stderr",
     "output_type": "stream",
     "text": [
      "\r",
      "Sampling 4 chains:  82%|████████▏ | 1663/2040 [08:24<02:51,  2.20draws/s]"
     ]
    },
    {
     "name": "stderr",
     "output_type": "stream",
     "text": [
      "\r",
      "Sampling 4 chains:  82%|████████▏ | 1664/2040 [08:25<02:42,  2.32draws/s]"
     ]
    },
    {
     "name": "stderr",
     "output_type": "stream",
     "text": [
      "\r",
      "Sampling 4 chains:  82%|████████▏ | 1666/2040 [08:25<02:04,  3.02draws/s]"
     ]
    },
    {
     "name": "stderr",
     "output_type": "stream",
     "text": [
      "\r",
      "Sampling 4 chains:  82%|████████▏ | 1667/2040 [08:26<02:52,  2.16draws/s]"
     ]
    },
    {
     "name": "stderr",
     "output_type": "stream",
     "text": [
      "\r",
      "Sampling 4 chains:  82%|████████▏ | 1668/2040 [08:26<02:48,  2.21draws/s]"
     ]
    },
    {
     "name": "stderr",
     "output_type": "stream",
     "text": [
      "\r",
      "Sampling 4 chains:  82%|████████▏ | 1669/2040 [08:26<02:13,  2.79draws/s]"
     ]
    },
    {
     "name": "stderr",
     "output_type": "stream",
     "text": [
      "\r",
      "Sampling 4 chains:  82%|████████▏ | 1670/2040 [08:27<02:52,  2.15draws/s]"
     ]
    },
    {
     "name": "stderr",
     "output_type": "stream",
     "text": [
      "\r",
      "Sampling 4 chains:  82%|████████▏ | 1671/2040 [08:27<02:36,  2.36draws/s]"
     ]
    },
    {
     "name": "stderr",
     "output_type": "stream",
     "text": [
      "\r",
      "Sampling 4 chains:  82%|████████▏ | 1672/2040 [08:28<02:12,  2.79draws/s]"
     ]
    },
    {
     "name": "stderr",
     "output_type": "stream",
     "text": [
      "\r",
      "Sampling 4 chains:  82%|████████▏ | 1673/2040 [08:28<01:48,  3.38draws/s]"
     ]
    },
    {
     "name": "stderr",
     "output_type": "stream",
     "text": [
      "\r",
      "Sampling 4 chains:  82%|████████▏ | 1674/2040 [08:28<02:22,  2.57draws/s]"
     ]
    },
    {
     "name": "stderr",
     "output_type": "stream",
     "text": [
      "\r",
      "Sampling 4 chains:  82%|████████▏ | 1675/2040 [08:29<02:58,  2.04draws/s]"
     ]
    },
    {
     "name": "stderr",
     "output_type": "stream",
     "text": [
      "\r",
      "Sampling 4 chains:  82%|████████▏ | 1676/2040 [08:29<02:16,  2.67draws/s]"
     ]
    },
    {
     "name": "stderr",
     "output_type": "stream",
     "text": [
      "\r",
      "Sampling 4 chains:  82%|████████▏ | 1677/2040 [08:30<02:37,  2.31draws/s]"
     ]
    },
    {
     "name": "stderr",
     "output_type": "stream",
     "text": [
      "\r",
      "Sampling 4 chains:  82%|████████▏ | 1678/2040 [08:30<02:05,  2.88draws/s]"
     ]
    },
    {
     "name": "stderr",
     "output_type": "stream",
     "text": [
      "\r",
      "Sampling 4 chains:  82%|████████▏ | 1679/2040 [08:30<02:21,  2.54draws/s]"
     ]
    },
    {
     "name": "stderr",
     "output_type": "stream",
     "text": [
      "\r",
      "Sampling 4 chains:  82%|████████▏ | 1680/2040 [08:31<01:56,  3.09draws/s]"
     ]
    },
    {
     "name": "stderr",
     "output_type": "stream",
     "text": [
      "\r",
      "Sampling 4 chains:  82%|████████▏ | 1681/2040 [08:31<02:20,  2.56draws/s]"
     ]
    },
    {
     "name": "stderr",
     "output_type": "stream",
     "text": [
      "\r",
      "Sampling 4 chains:  82%|████████▏ | 1682/2040 [08:32<03:20,  1.78draws/s]"
     ]
    },
    {
     "name": "stderr",
     "output_type": "stream",
     "text": [
      "\r",
      "Sampling 4 chains:  82%|████████▎ | 1683/2040 [08:32<02:48,  2.12draws/s]"
     ]
    },
    {
     "name": "stderr",
     "output_type": "stream",
     "text": [
      "\r",
      "Sampling 4 chains:  83%|████████▎ | 1684/2040 [08:33<02:12,  2.68draws/s]"
     ]
    },
    {
     "name": "stderr",
     "output_type": "stream",
     "text": [
      "\r",
      "Sampling 4 chains:  83%|████████▎ | 1686/2040 [08:33<02:18,  2.55draws/s]"
     ]
    },
    {
     "name": "stderr",
     "output_type": "stream",
     "text": [
      "\r",
      "Sampling 4 chains:  83%|████████▎ | 1687/2040 [08:34<02:24,  2.44draws/s]"
     ]
    },
    {
     "name": "stderr",
     "output_type": "stream",
     "text": [
      "\r",
      "Sampling 4 chains:  83%|████████▎ | 1689/2040 [08:34<01:46,  3.28draws/s]"
     ]
    },
    {
     "name": "stderr",
     "output_type": "stream",
     "text": [
      "\r",
      "Sampling 4 chains:  83%|████████▎ | 1690/2040 [08:35<02:49,  2.07draws/s]"
     ]
    },
    {
     "name": "stderr",
     "output_type": "stream",
     "text": [
      "\r",
      "Sampling 4 chains:  83%|████████▎ | 1691/2040 [08:35<02:34,  2.26draws/s]"
     ]
    },
    {
     "name": "stderr",
     "output_type": "stream",
     "text": [
      "\r",
      "Sampling 4 chains:  83%|████████▎ | 1693/2040 [08:35<01:59,  2.91draws/s]"
     ]
    },
    {
     "name": "stderr",
     "output_type": "stream",
     "text": [
      "\r",
      "Sampling 4 chains:  83%|████████▎ | 1694/2040 [08:36<02:40,  2.15draws/s]"
     ]
    },
    {
     "name": "stderr",
     "output_type": "stream",
     "text": [
      "\r",
      "Sampling 4 chains:  83%|████████▎ | 1695/2040 [08:36<02:23,  2.40draws/s]"
     ]
    },
    {
     "name": "stderr",
     "output_type": "stream",
     "text": [
      "\r",
      "Sampling 4 chains:  83%|████████▎ | 1696/2040 [08:37<02:01,  2.84draws/s]"
     ]
    },
    {
     "name": "stderr",
     "output_type": "stream",
     "text": [
      "\r",
      "Sampling 4 chains:  83%|████████▎ | 1697/2040 [08:37<01:52,  3.05draws/s]"
     ]
    },
    {
     "name": "stderr",
     "output_type": "stream",
     "text": [
      "\r",
      "Sampling 4 chains:  83%|████████▎ | 1698/2040 [08:38<02:24,  2.36draws/s]"
     ]
    },
    {
     "name": "stderr",
     "output_type": "stream",
     "text": [
      "\r",
      "Sampling 4 chains:  83%|████████▎ | 1699/2040 [08:38<02:02,  2.78draws/s]"
     ]
    },
    {
     "name": "stderr",
     "output_type": "stream",
     "text": [
      "\r",
      "Sampling 4 chains:  83%|████████▎ | 1700/2040 [08:38<01:51,  3.04draws/s]"
     ]
    },
    {
     "name": "stderr",
     "output_type": "stream",
     "text": [
      "\r",
      "Sampling 4 chains:  83%|████████▎ | 1701/2040 [08:38<01:59,  2.83draws/s]"
     ]
    },
    {
     "name": "stderr",
     "output_type": "stream",
     "text": [
      "\r",
      "Sampling 4 chains:  83%|████████▎ | 1702/2040 [08:39<02:19,  2.42draws/s]"
     ]
    },
    {
     "name": "stderr",
     "output_type": "stream",
     "text": [
      "\r",
      "Sampling 4 chains:  83%|████████▎ | 1703/2040 [08:39<01:48,  3.10draws/s]"
     ]
    },
    {
     "name": "stderr",
     "output_type": "stream",
     "text": [
      "\r",
      "Sampling 4 chains:  84%|████████▎ | 1704/2040 [08:39<01:36,  3.48draws/s]"
     ]
    },
    {
     "name": "stderr",
     "output_type": "stream",
     "text": [
      "\r",
      "Sampling 4 chains:  84%|████████▎ | 1705/2040 [08:40<02:11,  2.55draws/s]"
     ]
    },
    {
     "name": "stderr",
     "output_type": "stream",
     "text": [
      "\r",
      "Sampling 4 chains:  84%|████████▎ | 1706/2040 [08:40<02:07,  2.63draws/s]"
     ]
    },
    {
     "name": "stderr",
     "output_type": "stream",
     "text": [
      "\r",
      "Sampling 4 chains:  84%|████████▎ | 1707/2040 [08:41<01:50,  3.02draws/s]"
     ]
    },
    {
     "name": "stderr",
     "output_type": "stream",
     "text": [
      "\r",
      "Sampling 4 chains:  84%|████████▎ | 1708/2040 [08:41<01:34,  3.52draws/s]"
     ]
    },
    {
     "name": "stderr",
     "output_type": "stream",
     "text": [
      "\r",
      "Sampling 4 chains:  84%|████████▍ | 1709/2040 [08:41<02:14,  2.46draws/s]"
     ]
    },
    {
     "name": "stderr",
     "output_type": "stream",
     "text": [
      "\r",
      "Sampling 4 chains:  84%|████████▍ | 1710/2040 [08:42<02:03,  2.67draws/s]"
     ]
    },
    {
     "name": "stderr",
     "output_type": "stream",
     "text": [
      "\r",
      "Sampling 4 chains:  84%|████████▍ | 1711/2040 [08:42<01:46,  3.08draws/s]"
     ]
    },
    {
     "name": "stderr",
     "output_type": "stream",
     "text": [
      "\r",
      "Sampling 4 chains:  84%|████████▍ | 1712/2040 [08:42<01:27,  3.74draws/s]"
     ]
    },
    {
     "name": "stderr",
     "output_type": "stream",
     "text": [
      "\r",
      "Sampling 4 chains:  84%|████████▍ | 1713/2040 [08:43<02:21,  2.32draws/s]"
     ]
    },
    {
     "name": "stderr",
     "output_type": "stream",
     "text": [
      "\r",
      "Sampling 4 chains:  84%|████████▍ | 1714/2040 [08:43<02:01,  2.68draws/s]"
     ]
    },
    {
     "name": "stderr",
     "output_type": "stream",
     "text": [
      "\r",
      "Sampling 4 chains:  84%|████████▍ | 1715/2040 [08:43<01:46,  3.05draws/s]"
     ]
    },
    {
     "name": "stderr",
     "output_type": "stream",
     "text": [
      "\r",
      "Sampling 4 chains:  84%|████████▍ | 1717/2040 [08:44<02:02,  2.65draws/s]"
     ]
    },
    {
     "name": "stderr",
     "output_type": "stream",
     "text": [
      "\r",
      "Sampling 4 chains:  84%|████████▍ | 1719/2040 [08:45<01:44,  3.08draws/s]"
     ]
    },
    {
     "name": "stderr",
     "output_type": "stream",
     "text": [
      "\r",
      "Sampling 4 chains:  84%|████████▍ | 1721/2040 [08:46<02:02,  2.61draws/s]"
     ]
    },
    {
     "name": "stderr",
     "output_type": "stream",
     "text": [
      "\r",
      "Sampling 4 chains:  84%|████████▍ | 1723/2040 [08:46<01:43,  3.06draws/s]"
     ]
    },
    {
     "name": "stderr",
     "output_type": "stream",
     "text": [
      "\r",
      "Sampling 4 chains:  85%|████████▍ | 1725/2040 [08:47<01:58,  2.67draws/s]"
     ]
    },
    {
     "name": "stderr",
     "output_type": "stream",
     "text": [
      "\r",
      "Sampling 4 chains:  85%|████████▍ | 1726/2040 [08:47<01:36,  3.24draws/s]"
     ]
    },
    {
     "name": "stderr",
     "output_type": "stream",
     "text": [
      "\r",
      "Sampling 4 chains:  85%|████████▍ | 1727/2040 [08:48<01:28,  3.53draws/s]"
     ]
    },
    {
     "name": "stderr",
     "output_type": "stream",
     "text": [
      "\r",
      "Sampling 4 chains:  85%|████████▍ | 1729/2040 [08:49<01:51,  2.79draws/s]"
     ]
    },
    {
     "name": "stderr",
     "output_type": "stream",
     "text": [
      "\r",
      "Sampling 4 chains:  85%|████████▍ | 1730/2040 [08:49<01:30,  3.41draws/s]"
     ]
    },
    {
     "name": "stderr",
     "output_type": "stream",
     "text": [
      "\r",
      "Sampling 4 chains:  85%|████████▍ | 1731/2040 [08:49<01:16,  4.03draws/s]"
     ]
    },
    {
     "name": "stderr",
     "output_type": "stream",
     "text": [
      "\r",
      "Sampling 4 chains:  85%|████████▍ | 1732/2040 [08:49<01:03,  4.89draws/s]"
     ]
    },
    {
     "name": "stderr",
     "output_type": "stream",
     "text": [
      "\r",
      "Sampling 4 chains:  85%|████████▍ | 1733/2040 [08:50<02:14,  2.28draws/s]"
     ]
    },
    {
     "name": "stderr",
     "output_type": "stream",
     "text": [
      "\r",
      "Sampling 4 chains:  85%|████████▌ | 1734/2040 [08:50<01:57,  2.61draws/s]"
     ]
    },
    {
     "name": "stderr",
     "output_type": "stream",
     "text": [
      "\r",
      "Sampling 4 chains:  85%|████████▌ | 1736/2040 [08:50<01:28,  3.43draws/s]"
     ]
    },
    {
     "name": "stderr",
     "output_type": "stream",
     "text": [
      "\r",
      "Sampling 4 chains:  85%|████████▌ | 1737/2040 [08:51<02:22,  2.13draws/s]"
     ]
    },
    {
     "name": "stderr",
     "output_type": "stream",
     "text": [
      "\r",
      "Sampling 4 chains:  85%|████████▌ | 1738/2040 [08:52<02:03,  2.44draws/s]"
     ]
    },
    {
     "name": "stderr",
     "output_type": "stream",
     "text": [
      "\r",
      "Sampling 4 chains:  85%|████████▌ | 1739/2040 [08:52<01:47,  2.81draws/s]"
     ]
    },
    {
     "name": "stderr",
     "output_type": "stream",
     "text": [
      "\r",
      "Sampling 4 chains:  85%|████████▌ | 1741/2040 [08:53<02:01,  2.47draws/s]"
     ]
    },
    {
     "name": "stderr",
     "output_type": "stream",
     "text": [
      "\r",
      "Sampling 4 chains:  85%|████████▌ | 1743/2040 [08:53<01:35,  3.11draws/s]"
     ]
    },
    {
     "name": "stderr",
     "output_type": "stream",
     "text": [
      "\r",
      "Sampling 4 chains:  86%|████████▌ | 1745/2040 [08:54<01:58,  2.48draws/s]"
     ]
    },
    {
     "name": "stderr",
     "output_type": "stream",
     "text": [
      "\r",
      "Sampling 4 chains:  86%|████████▌ | 1747/2040 [08:54<01:31,  3.21draws/s]"
     ]
    },
    {
     "name": "stderr",
     "output_type": "stream",
     "text": [
      "\r",
      "Sampling 4 chains:  86%|████████▌ | 1749/2040 [08:56<01:54,  2.53draws/s]"
     ]
    },
    {
     "name": "stderr",
     "output_type": "stream",
     "text": [
      "\r",
      "Sampling 4 chains:  86%|████████▌ | 1751/2040 [08:56<01:27,  3.32draws/s]"
     ]
    },
    {
     "name": "stderr",
     "output_type": "stream",
     "text": [
      "\r",
      "Sampling 4 chains:  86%|████████▌ | 1752/2040 [08:56<01:21,  3.55draws/s]"
     ]
    },
    {
     "name": "stderr",
     "output_type": "stream",
     "text": [
      "\r",
      "Sampling 4 chains:  86%|████████▌ | 1753/2040 [08:57<02:25,  1.97draws/s]"
     ]
    },
    {
     "name": "stderr",
     "output_type": "stream",
     "text": [
      "\r",
      "Sampling 4 chains:  86%|████████▌ | 1756/2040 [08:57<01:53,  2.50draws/s]"
     ]
    },
    {
     "name": "stderr",
     "output_type": "stream",
     "text": [
      "\r",
      "Sampling 4 chains:  86%|████████▌ | 1757/2040 [08:58<02:28,  1.90draws/s]"
     ]
    },
    {
     "name": "stderr",
     "output_type": "stream",
     "text": [
      "\r",
      "Sampling 4 chains:  86%|████████▌ | 1758/2040 [08:59<02:01,  2.32draws/s]"
     ]
    },
    {
     "name": "stderr",
     "output_type": "stream",
     "text": [
      "\r",
      "Sampling 4 chains:  86%|████████▋ | 1760/2040 [08:59<01:46,  2.64draws/s]"
     ]
    },
    {
     "name": "stderr",
     "output_type": "stream",
     "text": [
      "\r",
      "Sampling 4 chains:  86%|████████▋ | 1761/2040 [09:00<02:11,  2.12draws/s]"
     ]
    },
    {
     "name": "stderr",
     "output_type": "stream",
     "text": [
      "\r",
      "Sampling 4 chains:  86%|████████▋ | 1762/2040 [09:00<01:47,  2.58draws/s]"
     ]
    },
    {
     "name": "stderr",
     "output_type": "stream",
     "text": [
      "\r",
      "Sampling 4 chains:  86%|████████▋ | 1763/2040 [09:00<01:25,  3.22draws/s]"
     ]
    },
    {
     "name": "stderr",
     "output_type": "stream",
     "text": [
      "\r",
      "Sampling 4 chains:  86%|████████▋ | 1764/2040 [09:01<01:44,  2.63draws/s]"
     ]
    },
    {
     "name": "stderr",
     "output_type": "stream",
     "text": [
      "\r",
      "Sampling 4 chains:  87%|████████▋ | 1765/2040 [09:01<01:45,  2.60draws/s]"
     ]
    },
    {
     "name": "stderr",
     "output_type": "stream",
     "text": [
      "\r",
      "Sampling 4 chains:  87%|████████▋ | 1766/2040 [09:01<01:37,  2.80draws/s]"
     ]
    },
    {
     "name": "stderr",
     "output_type": "stream",
     "text": [
      "\r",
      "Sampling 4 chains:  87%|████████▋ | 1767/2040 [09:01<01:18,  3.48draws/s]"
     ]
    },
    {
     "name": "stderr",
     "output_type": "stream",
     "text": [
      "\r",
      "Sampling 4 chains:  87%|████████▋ | 1768/2040 [09:02<01:56,  2.34draws/s]"
     ]
    },
    {
     "name": "stderr",
     "output_type": "stream",
     "text": [
      "\r",
      "Sampling 4 chains:  87%|████████▋ | 1769/2040 [09:02<01:40,  2.70draws/s]"
     ]
    },
    {
     "name": "stderr",
     "output_type": "stream",
     "text": [
      "\r",
      "Sampling 4 chains:  87%|████████▋ | 1770/2040 [09:03<01:30,  3.00draws/s]"
     ]
    },
    {
     "name": "stderr",
     "output_type": "stream",
     "text": [
      "\r",
      "Sampling 4 chains:  87%|████████▋ | 1771/2040 [09:03<01:21,  3.32draws/s]"
     ]
    },
    {
     "name": "stderr",
     "output_type": "stream",
     "text": [
      "\r",
      "Sampling 4 chains:  87%|████████▋ | 1772/2040 [09:04<01:47,  2.49draws/s]"
     ]
    },
    {
     "name": "stderr",
     "output_type": "stream",
     "text": [
      "\r",
      "Sampling 4 chains:  87%|████████▋ | 1773/2040 [09:04<01:36,  2.76draws/s]"
     ]
    },
    {
     "name": "stderr",
     "output_type": "stream",
     "text": [
      "\r",
      "Sampling 4 chains:  87%|████████▋ | 1774/2040 [09:04<01:19,  3.34draws/s]"
     ]
    },
    {
     "name": "stderr",
     "output_type": "stream",
     "text": [
      "\r",
      "Sampling 4 chains:  87%|████████▋ | 1775/2040 [09:04<01:13,  3.62draws/s]"
     ]
    },
    {
     "name": "stderr",
     "output_type": "stream",
     "text": [
      "\r",
      "Sampling 4 chains:  87%|████████▋ | 1776/2040 [09:05<01:57,  2.25draws/s]"
     ]
    },
    {
     "name": "stderr",
     "output_type": "stream",
     "text": [
      "\r",
      "Sampling 4 chains:  87%|████████▋ | 1777/2040 [09:05<01:31,  2.89draws/s]"
     ]
    },
    {
     "name": "stderr",
     "output_type": "stream",
     "text": [
      "\r",
      "Sampling 4 chains:  87%|████████▋ | 1778/2040 [09:05<01:20,  3.25draws/s]"
     ]
    },
    {
     "name": "stderr",
     "output_type": "stream",
     "text": [
      "\r",
      "Sampling 4 chains:  87%|████████▋ | 1779/2040 [09:06<01:11,  3.63draws/s]"
     ]
    },
    {
     "name": "stderr",
     "output_type": "stream",
     "text": [
      "\r",
      "Sampling 4 chains:  87%|████████▋ | 1780/2040 [09:06<01:59,  2.18draws/s]"
     ]
    },
    {
     "name": "stderr",
     "output_type": "stream",
     "text": [
      "\r",
      "Sampling 4 chains:  87%|████████▋ | 1781/2040 [09:07<01:34,  2.74draws/s]"
     ]
    },
    {
     "name": "stderr",
     "output_type": "stream",
     "text": [
      "\r",
      "Sampling 4 chains:  87%|████████▋ | 1782/2040 [09:07<01:21,  3.16draws/s]"
     ]
    },
    {
     "name": "stderr",
     "output_type": "stream",
     "text": [
      "\r",
      "Sampling 4 chains:  87%|████████▋ | 1783/2040 [09:07<01:16,  3.36draws/s]"
     ]
    },
    {
     "name": "stderr",
     "output_type": "stream",
     "text": [
      "\r",
      "Sampling 4 chains:  87%|████████▋ | 1784/2040 [09:08<01:56,  2.19draws/s]"
     ]
    },
    {
     "name": "stderr",
     "output_type": "stream",
     "text": [
      "\r",
      "Sampling 4 chains:  88%|████████▊ | 1785/2040 [09:08<01:31,  2.80draws/s]"
     ]
    },
    {
     "name": "stderr",
     "output_type": "stream",
     "text": [
      "\r",
      "Sampling 4 chains:  88%|████████▊ | 1787/2040 [09:08<01:18,  3.22draws/s]"
     ]
    },
    {
     "name": "stderr",
     "output_type": "stream",
     "text": [
      "\r",
      "Sampling 4 chains:  88%|████████▊ | 1788/2040 [09:09<02:08,  1.96draws/s]"
     ]
    },
    {
     "name": "stderr",
     "output_type": "stream",
     "text": [
      "\r",
      "Sampling 4 chains:  88%|████████▊ | 1791/2040 [09:10<01:38,  2.54draws/s]"
     ]
    },
    {
     "name": "stderr",
     "output_type": "stream",
     "text": [
      "\r",
      "Sampling 4 chains:  88%|████████▊ | 1792/2040 [09:11<02:18,  1.79draws/s]"
     ]
    },
    {
     "name": "stderr",
     "output_type": "stream",
     "text": [
      "\r",
      "Sampling 4 chains:  88%|████████▊ | 1793/2040 [09:11<01:46,  2.32draws/s]"
     ]
    },
    {
     "name": "stderr",
     "output_type": "stream",
     "text": [
      "\r",
      "Sampling 4 chains:  88%|████████▊ | 1795/2040 [09:11<01:21,  3.02draws/s]"
     ]
    },
    {
     "name": "stderr",
     "output_type": "stream",
     "text": [
      "\r",
      "Sampling 4 chains:  88%|████████▊ | 1796/2040 [09:12<02:15,  1.81draws/s]"
     ]
    },
    {
     "name": "stderr",
     "output_type": "stream",
     "text": [
      "\r",
      "Sampling 4 chains:  88%|████████▊ | 1798/2040 [09:12<01:41,  2.38draws/s]"
     ]
    },
    {
     "name": "stderr",
     "output_type": "stream",
     "text": [
      "\r",
      "Sampling 4 chains:  88%|████████▊ | 1800/2040 [09:13<01:52,  2.13draws/s]"
     ]
    },
    {
     "name": "stderr",
     "output_type": "stream",
     "text": [
      "\r",
      "Sampling 4 chains:  88%|████████▊ | 1802/2040 [09:14<01:27,  2.72draws/s]"
     ]
    },
    {
     "name": "stderr",
     "output_type": "stream",
     "text": [
      "\r",
      "Sampling 4 chains:  88%|████████▊ | 1804/2040 [09:15<01:40,  2.35draws/s]"
     ]
    },
    {
     "name": "stderr",
     "output_type": "stream",
     "text": [
      "\r",
      "Sampling 4 chains:  89%|████████▊ | 1806/2040 [09:15<01:21,  2.88draws/s]"
     ]
    },
    {
     "name": "stderr",
     "output_type": "stream",
     "text": [
      "\r",
      "Sampling 4 chains:  89%|████████▊ | 1808/2040 [09:16<01:31,  2.54draws/s]"
     ]
    },
    {
     "name": "stderr",
     "output_type": "stream",
     "text": [
      "\r",
      "Sampling 4 chains:  89%|████████▊ | 1810/2040 [09:17<01:16,  3.02draws/s]"
     ]
    },
    {
     "name": "stderr",
     "output_type": "stream",
     "text": [
      "\r",
      "Sampling 4 chains:  89%|████████▉ | 1811/2040 [09:17<01:02,  3.69draws/s]"
     ]
    },
    {
     "name": "stderr",
     "output_type": "stream",
     "text": [
      "\r",
      "Sampling 4 chains:  89%|████████▉ | 1812/2040 [09:18<01:47,  2.12draws/s]"
     ]
    },
    {
     "name": "stderr",
     "output_type": "stream",
     "text": [
      "\r",
      "Sampling 4 chains:  89%|████████▉ | 1814/2040 [09:18<01:28,  2.55draws/s]"
     ]
    },
    {
     "name": "stderr",
     "output_type": "stream",
     "text": [
      "\r",
      "Sampling 4 chains:  89%|████████▉ | 1815/2040 [09:18<01:10,  3.21draws/s]"
     ]
    },
    {
     "name": "stderr",
     "output_type": "stream",
     "text": [
      "\r",
      "Sampling 4 chains:  89%|████████▉ | 1816/2040 [09:19<01:42,  2.18draws/s]"
     ]
    },
    {
     "name": "stderr",
     "output_type": "stream",
     "text": [
      "\r",
      "Sampling 4 chains:  89%|████████▉ | 1817/2040 [09:19<01:21,  2.73draws/s]"
     ]
    },
    {
     "name": "stderr",
     "output_type": "stream",
     "text": [
      "\r",
      "Sampling 4 chains:  89%|████████▉ | 1818/2040 [09:19<01:13,  3.02draws/s]"
     ]
    },
    {
     "name": "stderr",
     "output_type": "stream",
     "text": [
      "\r",
      "Sampling 4 chains:  89%|████████▉ | 1819/2040 [09:20<01:09,  3.17draws/s]"
     ]
    },
    {
     "name": "stderr",
     "output_type": "stream",
     "text": [
      "\r",
      "Sampling 4 chains:  89%|████████▉ | 1820/2040 [09:20<01:32,  2.38draws/s]"
     ]
    },
    {
     "name": "stderr",
     "output_type": "stream",
     "text": [
      "\r",
      "Sampling 4 chains:  89%|████████▉ | 1821/2040 [09:20<01:16,  2.86draws/s]"
     ]
    },
    {
     "name": "stderr",
     "output_type": "stream",
     "text": [
      "\r",
      "Sampling 4 chains:  89%|████████▉ | 1822/2040 [09:21<01:17,  2.80draws/s]"
     ]
    },
    {
     "name": "stderr",
     "output_type": "stream",
     "text": [
      "\r",
      "Sampling 4 chains:  89%|████████▉ | 1823/2040 [09:21<01:13,  2.94draws/s]"
     ]
    },
    {
     "name": "stderr",
     "output_type": "stream",
     "text": [
      "\r",
      "Sampling 4 chains:  89%|████████▉ | 1824/2040 [09:22<01:23,  2.59draws/s]"
     ]
    },
    {
     "name": "stderr",
     "output_type": "stream",
     "text": [
      "\r",
      "Sampling 4 chains:  89%|████████▉ | 1825/2040 [09:22<01:15,  2.83draws/s]"
     ]
    },
    {
     "name": "stderr",
     "output_type": "stream",
     "text": [
      "\r",
      "Sampling 4 chains:  90%|████████▉ | 1826/2040 [09:22<01:13,  2.92draws/s]"
     ]
    },
    {
     "name": "stderr",
     "output_type": "stream",
     "text": [
      "\r",
      "Sampling 4 chains:  90%|████████▉ | 1827/2040 [09:22<01:07,  3.18draws/s]"
     ]
    },
    {
     "name": "stderr",
     "output_type": "stream",
     "text": [
      "\r",
      "Sampling 4 chains:  90%|████████▉ | 1828/2040 [09:23<01:18,  2.71draws/s]"
     ]
    },
    {
     "name": "stderr",
     "output_type": "stream",
     "text": [
      "\r",
      "Sampling 4 chains:  90%|████████▉ | 1829/2040 [09:23<01:24,  2.50draws/s]"
     ]
    },
    {
     "name": "stderr",
     "output_type": "stream",
     "text": [
      "\r",
      "Sampling 4 chains:  90%|████████▉ | 1830/2040 [09:24<01:16,  2.73draws/s]"
     ]
    },
    {
     "name": "stderr",
     "output_type": "stream",
     "text": [
      "\r",
      "Sampling 4 chains:  90%|████████▉ | 1831/2040 [09:24<01:01,  3.42draws/s]"
     ]
    },
    {
     "name": "stderr",
     "output_type": "stream",
     "text": [
      "\r",
      "Sampling 4 chains:  90%|████████▉ | 1832/2040 [09:24<01:11,  2.91draws/s]"
     ]
    },
    {
     "name": "stderr",
     "output_type": "stream",
     "text": [
      "\r",
      "Sampling 4 chains:  90%|████████▉ | 1833/2040 [09:25<01:21,  2.54draws/s]"
     ]
    },
    {
     "name": "stderr",
     "output_type": "stream",
     "text": [
      "\r",
      "Sampling 4 chains:  90%|████████▉ | 1834/2040 [09:25<01:17,  2.67draws/s]"
     ]
    },
    {
     "name": "stderr",
     "output_type": "stream",
     "text": [
      "\r",
      "Sampling 4 chains:  90%|████████▉ | 1835/2040 [09:25<01:01,  3.33draws/s]"
     ]
    },
    {
     "name": "stderr",
     "output_type": "stream",
     "text": [
      "\r",
      "Sampling 4 chains:  90%|█████████ | 1836/2040 [09:26<01:05,  3.11draws/s]"
     ]
    },
    {
     "name": "stderr",
     "output_type": "stream",
     "text": [
      "\r",
      "Sampling 4 chains:  90%|█████████ | 1837/2040 [09:26<01:19,  2.55draws/s]"
     ]
    },
    {
     "name": "stderr",
     "output_type": "stream",
     "text": [
      "\r",
      "Sampling 4 chains:  90%|█████████ | 1838/2040 [09:27<01:21,  2.47draws/s]"
     ]
    },
    {
     "name": "stderr",
     "output_type": "stream",
     "text": [
      "\r",
      "Sampling 4 chains:  90%|█████████ | 1840/2040 [09:27<01:08,  2.91draws/s]"
     ]
    },
    {
     "name": "stderr",
     "output_type": "stream",
     "text": [
      "\r",
      "Sampling 4 chains:  90%|█████████ | 1841/2040 [09:28<01:20,  2.47draws/s]"
     ]
    },
    {
     "name": "stderr",
     "output_type": "stream",
     "text": [
      "\r",
      "Sampling 4 chains:  90%|█████████ | 1842/2040 [09:28<01:21,  2.43draws/s]"
     ]
    },
    {
     "name": "stderr",
     "output_type": "stream",
     "text": [
      "\r",
      "Sampling 4 chains:  90%|█████████ | 1844/2040 [09:28<01:08,  2.88draws/s]"
     ]
    },
    {
     "name": "stderr",
     "output_type": "stream",
     "text": [
      "\r",
      "Sampling 4 chains:  90%|█████████ | 1845/2040 [09:29<01:23,  2.34draws/s]"
     ]
    },
    {
     "name": "stderr",
     "output_type": "stream",
     "text": [
      "\r",
      "Sampling 4 chains:  90%|█████████ | 1846/2040 [09:29<01:19,  2.45draws/s]"
     ]
    },
    {
     "name": "stderr",
     "output_type": "stream",
     "text": [
      "\r",
      "Sampling 4 chains:  91%|█████████ | 1848/2040 [09:30<01:06,  2.90draws/s]"
     ]
    },
    {
     "name": "stderr",
     "output_type": "stream",
     "text": [
      "\r",
      "Sampling 4 chains:  91%|█████████ | 1849/2040 [09:31<01:28,  2.16draws/s]"
     ]
    },
    {
     "name": "stderr",
     "output_type": "stream",
     "text": [
      "\r",
      "Sampling 4 chains:  91%|█████████ | 1850/2040 [09:31<01:18,  2.43draws/s]"
     ]
    },
    {
     "name": "stderr",
     "output_type": "stream",
     "text": [
      "\r",
      "Sampling 4 chains:  91%|█████████ | 1851/2040 [09:31<01:03,  2.99draws/s]"
     ]
    },
    {
     "name": "stderr",
     "output_type": "stream",
     "text": [
      "\r",
      "Sampling 4 chains:  91%|█████████ | 1852/2040 [09:31<00:55,  3.37draws/s]"
     ]
    },
    {
     "name": "stderr",
     "output_type": "stream",
     "text": [
      "\r",
      "Sampling 4 chains:  91%|█████████ | 1853/2040 [09:32<01:20,  2.33draws/s]"
     ]
    },
    {
     "name": "stderr",
     "output_type": "stream",
     "text": [
      "\r",
      "Sampling 4 chains:  91%|█████████ | 1854/2040 [09:32<01:08,  2.72draws/s]"
     ]
    },
    {
     "name": "stderr",
     "output_type": "stream",
     "text": [
      "\r",
      "Sampling 4 chains:  91%|█████████ | 1855/2040 [09:32<01:01,  3.01draws/s]"
     ]
    },
    {
     "name": "stderr",
     "output_type": "stream",
     "text": [
      "\r",
      "Sampling 4 chains:  91%|█████████ | 1856/2040 [09:33<01:02,  2.97draws/s]"
     ]
    },
    {
     "name": "stderr",
     "output_type": "stream",
     "text": [
      "\r",
      "Sampling 4 chains:  91%|█████████ | 1857/2040 [09:33<01:23,  2.19draws/s]"
     ]
    },
    {
     "name": "stderr",
     "output_type": "stream",
     "text": [
      "\r",
      "Sampling 4 chains:  91%|█████████ | 1858/2040 [09:34<01:05,  2.76draws/s]"
     ]
    },
    {
     "name": "stderr",
     "output_type": "stream",
     "text": [
      "\r",
      "Sampling 4 chains:  91%|█████████ | 1859/2040 [09:34<01:01,  2.94draws/s]"
     ]
    },
    {
     "name": "stderr",
     "output_type": "stream",
     "text": [
      "\r",
      "Sampling 4 chains:  91%|█████████ | 1860/2040 [09:35<01:35,  1.89draws/s]"
     ]
    },
    {
     "name": "stderr",
     "output_type": "stream",
     "text": [
      "\r",
      "Sampling 4 chains:  91%|█████████ | 1861/2040 [09:35<01:16,  2.35draws/s]"
     ]
    },
    {
     "name": "stderr",
     "output_type": "stream",
     "text": [
      "\r",
      "Sampling 4 chains:  91%|█████████▏| 1862/2040 [09:35<01:09,  2.54draws/s]"
     ]
    },
    {
     "name": "stderr",
     "output_type": "stream",
     "text": [
      "\r",
      "Sampling 4 chains:  91%|█████████▏| 1864/2040 [09:37<01:18,  2.25draws/s]"
     ]
    },
    {
     "name": "stderr",
     "output_type": "stream",
     "text": [
      "\r",
      "Sampling 4 chains:  91%|█████████▏| 1865/2040 [09:37<01:02,  2.80draws/s]"
     ]
    },
    {
     "name": "stderr",
     "output_type": "stream",
     "text": [
      "\r",
      "Sampling 4 chains:  91%|█████████▏| 1866/2040 [09:37<00:59,  2.93draws/s]"
     ]
    },
    {
     "name": "stderr",
     "output_type": "stream",
     "text": [
      "\r",
      "Sampling 4 chains:  92%|█████████▏| 1867/2040 [09:38<01:24,  2.06draws/s]"
     ]
    },
    {
     "name": "stderr",
     "output_type": "stream",
     "text": [
      "\r",
      "Sampling 4 chains:  92%|█████████▏| 1868/2040 [09:38<01:06,  2.59draws/s]"
     ]
    },
    {
     "name": "stderr",
     "output_type": "stream",
     "text": [
      "\r",
      "Sampling 4 chains:  92%|█████████▏| 1869/2040 [09:38<01:10,  2.43draws/s]"
     ]
    },
    {
     "name": "stderr",
     "output_type": "stream",
     "text": [
      "\r",
      "Sampling 4 chains:  92%|█████████▏| 1870/2040 [09:39<01:24,  2.00draws/s]"
     ]
    },
    {
     "name": "stderr",
     "output_type": "stream",
     "text": [
      "\r",
      "Sampling 4 chains:  92%|█████████▏| 1871/2040 [09:39<01:12,  2.34draws/s]"
     ]
    },
    {
     "name": "stderr",
     "output_type": "stream",
     "text": [
      "\r",
      "Sampling 4 chains:  92%|█████████▏| 1872/2040 [09:40<01:11,  2.36draws/s]"
     ]
    },
    {
     "name": "stderr",
     "output_type": "stream",
     "text": [
      "\r",
      "Sampling 4 chains:  92%|█████████▏| 1874/2040 [09:41<01:10,  2.36draws/s]"
     ]
    },
    {
     "name": "stderr",
     "output_type": "stream",
     "text": [
      "\r",
      "Sampling 4 chains:  92%|█████████▏| 1876/2040 [09:41<01:01,  2.67draws/s]"
     ]
    },
    {
     "name": "stderr",
     "output_type": "stream",
     "text": [
      "\r",
      "Sampling 4 chains:  92%|█████████▏| 1878/2040 [09:42<01:01,  2.62draws/s]"
     ]
    },
    {
     "name": "stderr",
     "output_type": "stream",
     "text": [
      "\r",
      "Sampling 4 chains:  92%|█████████▏| 1879/2040 [09:42<00:50,  3.19draws/s]"
     ]
    },
    {
     "name": "stderr",
     "output_type": "stream",
     "text": [
      "\r",
      "Sampling 4 chains:  92%|█████████▏| 1880/2040 [09:43<01:00,  2.66draws/s]"
     ]
    },
    {
     "name": "stderr",
     "output_type": "stream",
     "text": [
      "\r",
      "Sampling 4 chains:  92%|█████████▏| 1882/2040 [09:43<00:59,  2.66draws/s]"
     ]
    },
    {
     "name": "stderr",
     "output_type": "stream",
     "text": [
      "\r",
      "Sampling 4 chains:  92%|█████████▏| 1883/2040 [09:43<00:46,  3.37draws/s]"
     ]
    },
    {
     "name": "stderr",
     "output_type": "stream",
     "text": [
      "\r",
      "Sampling 4 chains:  92%|█████████▏| 1884/2040 [09:44<01:03,  2.46draws/s]"
     ]
    },
    {
     "name": "stderr",
     "output_type": "stream",
     "text": [
      "\r",
      "Sampling 4 chains:  92%|█████████▏| 1886/2040 [09:45<00:59,  2.57draws/s]"
     ]
    },
    {
     "name": "stderr",
     "output_type": "stream",
     "text": [
      "\r",
      "Sampling 4 chains:  93%|█████████▎| 1888/2040 [09:45<00:54,  2.79draws/s]"
     ]
    },
    {
     "name": "stderr",
     "output_type": "stream",
     "text": [
      "\r",
      "Sampling 4 chains:  93%|█████████▎| 1889/2040 [09:46<00:47,  3.18draws/s]"
     ]
    },
    {
     "name": "stderr",
     "output_type": "stream",
     "text": [
      "\r",
      "Sampling 4 chains:  93%|█████████▎| 1890/2040 [09:46<00:59,  2.54draws/s]"
     ]
    },
    {
     "name": "stderr",
     "output_type": "stream",
     "text": [
      "\r",
      "Sampling 4 chains:  93%|█████████▎| 1892/2040 [09:47<00:51,  2.87draws/s]"
     ]
    },
    {
     "name": "stderr",
     "output_type": "stream",
     "text": [
      "\r",
      "Sampling 4 chains:  93%|█████████▎| 1893/2040 [09:47<00:53,  2.72draws/s]"
     ]
    },
    {
     "name": "stderr",
     "output_type": "stream",
     "text": [
      "\r",
      "Sampling 4 chains:  93%|█████████▎| 1894/2040 [09:47<00:54,  2.70draws/s]"
     ]
    },
    {
     "name": "stderr",
     "output_type": "stream",
     "text": [
      "\r",
      "Sampling 4 chains:  93%|█████████▎| 1895/2040 [09:48<00:44,  3.24draws/s]"
     ]
    },
    {
     "name": "stderr",
     "output_type": "stream",
     "text": [
      "\r",
      "Sampling 4 chains:  93%|█████████▎| 1896/2040 [09:48<00:51,  2.78draws/s]"
     ]
    },
    {
     "name": "stderr",
     "output_type": "stream",
     "text": [
      "\r",
      "Sampling 4 chains:  93%|█████████▎| 1897/2040 [09:48<00:50,  2.81draws/s]"
     ]
    },
    {
     "name": "stderr",
     "output_type": "stream",
     "text": [
      "\r",
      "Sampling 4 chains:  93%|█████████▎| 1898/2040 [09:49<00:53,  2.64draws/s]"
     ]
    },
    {
     "name": "stderr",
     "output_type": "stream",
     "text": [
      "\r",
      "Sampling 4 chains:  93%|█████████▎| 1899/2040 [09:49<00:42,  3.36draws/s]"
     ]
    },
    {
     "name": "stderr",
     "output_type": "stream",
     "text": [
      "\r",
      "Sampling 4 chains:  93%|█████████▎| 1900/2040 [09:50<00:54,  2.57draws/s]"
     ]
    },
    {
     "name": "stderr",
     "output_type": "stream",
     "text": [
      "\r",
      "Sampling 4 chains:  93%|█████████▎| 1901/2040 [09:50<00:42,  3.27draws/s]"
     ]
    },
    {
     "name": "stderr",
     "output_type": "stream",
     "text": [
      "\r",
      "Sampling 4 chains:  93%|█████████▎| 1902/2040 [09:50<00:53,  2.56draws/s]"
     ]
    },
    {
     "name": "stderr",
     "output_type": "stream",
     "text": [
      "\r",
      "Sampling 4 chains:  93%|█████████▎| 1903/2040 [09:50<00:42,  3.23draws/s]"
     ]
    },
    {
     "name": "stderr",
     "output_type": "stream",
     "text": [
      "\r",
      "Sampling 4 chains:  93%|█████████▎| 1904/2040 [09:51<00:49,  2.72draws/s]"
     ]
    },
    {
     "name": "stderr",
     "output_type": "stream",
     "text": [
      "\r",
      "Sampling 4 chains:  93%|█████████▎| 1906/2040 [09:52<00:50,  2.63draws/s]"
     ]
    },
    {
     "name": "stderr",
     "output_type": "stream",
     "text": [
      "\r",
      "Sampling 4 chains:  94%|█████████▎| 1908/2040 [09:52<00:43,  3.00draws/s]"
     ]
    },
    {
     "name": "stderr",
     "output_type": "stream",
     "text": [
      "\r",
      "Sampling 4 chains:  94%|█████████▎| 1909/2040 [09:52<00:41,  3.18draws/s]"
     ]
    },
    {
     "name": "stderr",
     "output_type": "stream",
     "text": [
      "\r",
      "Sampling 4 chains:  94%|█████████▎| 1910/2040 [09:53<00:54,  2.39draws/s]"
     ]
    },
    {
     "name": "stderr",
     "output_type": "stream",
     "text": [
      "\r",
      "Sampling 4 chains:  94%|█████████▎| 1912/2040 [09:54<00:45,  2.84draws/s]"
     ]
    },
    {
     "name": "stderr",
     "output_type": "stream",
     "text": [
      "\r",
      "Sampling 4 chains:  94%|█████████▍| 1913/2040 [09:54<00:49,  2.55draws/s]"
     ]
    },
    {
     "name": "stderr",
     "output_type": "stream",
     "text": [
      "\r",
      "Sampling 4 chains:  94%|█████████▍| 1914/2040 [09:54<00:51,  2.46draws/s]"
     ]
    },
    {
     "name": "stderr",
     "output_type": "stream",
     "text": [
      "\r",
      "Sampling 4 chains:  94%|█████████▍| 1915/2040 [09:55<00:43,  2.90draws/s]"
     ]
    },
    {
     "name": "stderr",
     "output_type": "stream",
     "text": [
      "\r",
      "Sampling 4 chains:  94%|█████████▍| 1917/2040 [09:56<00:45,  2.73draws/s]"
     ]
    },
    {
     "name": "stderr",
     "output_type": "stream",
     "text": [
      "\r",
      "Sampling 4 chains:  94%|█████████▍| 1918/2040 [09:56<00:39,  3.08draws/s]"
     ]
    },
    {
     "name": "stderr",
     "output_type": "stream",
     "text": [
      "\r",
      "Sampling 4 chains:  94%|█████████▍| 1919/2040 [09:56<00:40,  3.00draws/s]"
     ]
    },
    {
     "name": "stderr",
     "output_type": "stream",
     "text": [
      "\r",
      "Sampling 4 chains:  94%|█████████▍| 1921/2040 [09:57<00:41,  2.90draws/s]"
     ]
    },
    {
     "name": "stderr",
     "output_type": "stream",
     "text": [
      "\r",
      "Sampling 4 chains:  94%|█████████▍| 1922/2040 [09:57<00:40,  2.92draws/s]"
     ]
    },
    {
     "name": "stderr",
     "output_type": "stream",
     "text": [
      "\r",
      "Sampling 4 chains:  94%|█████████▍| 1923/2040 [09:57<00:38,  3.04draws/s]"
     ]
    },
    {
     "name": "stderr",
     "output_type": "stream",
     "text": [
      "\r",
      "Sampling 4 chains:  94%|█████████▍| 1925/2040 [09:58<00:40,  2.86draws/s]"
     ]
    },
    {
     "name": "stderr",
     "output_type": "stream",
     "text": [
      "\r",
      "Sampling 4 chains:  94%|█████████▍| 1926/2040 [09:59<00:39,  2.88draws/s]"
     ]
    },
    {
     "name": "stderr",
     "output_type": "stream",
     "text": [
      "\r",
      "Sampling 4 chains:  94%|█████████▍| 1927/2040 [09:59<00:33,  3.33draws/s]"
     ]
    },
    {
     "name": "stderr",
     "output_type": "stream",
     "text": [
      "\r",
      "Sampling 4 chains:  95%|█████████▍| 1929/2040 [10:00<00:39,  2.83draws/s]"
     ]
    },
    {
     "name": "stderr",
     "output_type": "stream",
     "text": [
      "\r",
      "Sampling 4 chains:  95%|█████████▍| 1930/2040 [10:00<00:31,  3.52draws/s]"
     ]
    },
    {
     "name": "stderr",
     "output_type": "stream",
     "text": [
      "\r",
      "Sampling 4 chains:  95%|█████████▍| 1931/2040 [10:00<00:29,  3.66draws/s]"
     ]
    },
    {
     "name": "stderr",
     "output_type": "stream",
     "text": [
      "\r",
      "Sampling 4 chains:  95%|█████████▍| 1932/2040 [10:00<00:24,  4.46draws/s]"
     ]
    },
    {
     "name": "stderr",
     "output_type": "stream",
     "text": [
      "\r",
      "Sampling 4 chains:  95%|█████████▍| 1933/2040 [10:01<00:41,  2.55draws/s]"
     ]
    },
    {
     "name": "stderr",
     "output_type": "stream",
     "text": [
      "\r",
      "Sampling 4 chains:  95%|█████████▍| 1934/2040 [10:01<00:35,  3.00draws/s]"
     ]
    },
    {
     "name": "stderr",
     "output_type": "stream",
     "text": [
      "\r",
      "Sampling 4 chains:  95%|█████████▍| 1935/2040 [10:01<00:29,  3.52draws/s]"
     ]
    },
    {
     "name": "stderr",
     "output_type": "stream",
     "text": [
      "\r",
      "Sampling 4 chains:  95%|█████████▍| 1936/2040 [10:02<00:29,  3.52draws/s]"
     ]
    },
    {
     "name": "stderr",
     "output_type": "stream",
     "text": [
      "\r",
      "Sampling 4 chains:  95%|█████████▍| 1937/2040 [10:02<00:45,  2.26draws/s]"
     ]
    },
    {
     "name": "stderr",
     "output_type": "stream",
     "text": [
      "\r",
      "Sampling 4 chains:  95%|█████████▌| 1938/2040 [10:03<00:35,  2.91draws/s]"
     ]
    },
    {
     "name": "stderr",
     "output_type": "stream",
     "text": [
      "\r",
      "Sampling 4 chains:  95%|█████████▌| 1939/2040 [10:03<00:32,  3.15draws/s]"
     ]
    },
    {
     "name": "stderr",
     "output_type": "stream",
     "text": [
      "\r",
      "Sampling 4 chains:  95%|█████████▌| 1940/2040 [10:03<00:29,  3.33draws/s]"
     ]
    },
    {
     "name": "stderr",
     "output_type": "stream",
     "text": [
      "\r",
      "Sampling 4 chains:  95%|█████████▌| 1941/2040 [10:04<00:43,  2.29draws/s]"
     ]
    },
    {
     "name": "stderr",
     "output_type": "stream",
     "text": [
      "\r",
      "Sampling 4 chains:  95%|█████████▌| 1943/2040 [10:04<00:34,  2.79draws/s]"
     ]
    },
    {
     "name": "stderr",
     "output_type": "stream",
     "text": [
      "\r",
      "Sampling 4 chains:  95%|█████████▌| 1944/2040 [10:05<00:33,  2.90draws/s]"
     ]
    },
    {
     "name": "stderr",
     "output_type": "stream",
     "text": [
      "\r",
      "Sampling 4 chains:  95%|█████████▌| 1945/2040 [10:05<00:42,  2.26draws/s]"
     ]
    },
    {
     "name": "stderr",
     "output_type": "stream",
     "text": [
      "\r",
      "Sampling 4 chains:  95%|█████████▌| 1947/2040 [10:06<00:34,  2.68draws/s]"
     ]
    },
    {
     "name": "stderr",
     "output_type": "stream",
     "text": [
      "\r",
      "Sampling 4 chains:  95%|█████████▌| 1948/2040 [10:07<00:50,  1.83draws/s]"
     ]
    },
    {
     "name": "stderr",
     "output_type": "stream",
     "text": [
      "\r",
      "Sampling 4 chains:  96%|█████████▌| 1950/2040 [10:07<00:37,  2.41draws/s]"
     ]
    },
    {
     "name": "stderr",
     "output_type": "stream",
     "text": [
      "\r",
      "Sampling 4 chains:  96%|█████████▌| 1951/2040 [10:08<00:53,  1.67draws/s]"
     ]
    },
    {
     "name": "stderr",
     "output_type": "stream",
     "text": [
      "\r",
      "Sampling 4 chains:  96%|█████████▌| 1953/2040 [10:08<00:39,  2.23draws/s]"
     ]
    },
    {
     "name": "stderr",
     "output_type": "stream",
     "text": [
      "\r",
      "Sampling 4 chains:  96%|█████████▌| 1954/2040 [10:09<00:53,  1.60draws/s]"
     ]
    },
    {
     "name": "stderr",
     "output_type": "stream",
     "text": [
      "\r",
      "Sampling 4 chains:  96%|█████████▌| 1955/2040 [10:09<00:41,  2.03draws/s]"
     ]
    },
    {
     "name": "stderr",
     "output_type": "stream",
     "text": [
      "\r",
      "Sampling 4 chains:  96%|█████████▌| 1957/2040 [10:10<00:41,  1.99draws/s]"
     ]
    },
    {
     "name": "stderr",
     "output_type": "stream",
     "text": [
      "\r",
      "Sampling 4 chains:  96%|█████████▌| 1958/2040 [10:11<00:34,  2.37draws/s]"
     ]
    },
    {
     "name": "stderr",
     "output_type": "stream",
     "text": [
      "\r",
      "Sampling 4 chains:  96%|█████████▌| 1960/2040 [10:12<00:35,  2.26draws/s]"
     ]
    },
    {
     "name": "stderr",
     "output_type": "stream",
     "text": [
      "\r",
      "Sampling 4 chains:  96%|█████████▌| 1961/2040 [10:12<00:31,  2.54draws/s]"
     ]
    },
    {
     "name": "stderr",
     "output_type": "stream",
     "text": [
      "\r",
      "Sampling 4 chains:  96%|█████████▌| 1963/2040 [10:13<00:31,  2.44draws/s]"
     ]
    },
    {
     "name": "stderr",
     "output_type": "stream",
     "text": [
      "\r",
      "Sampling 4 chains:  96%|█████████▋| 1964/2040 [10:13<00:28,  2.63draws/s]"
     ]
    },
    {
     "name": "stderr",
     "output_type": "stream",
     "text": [
      "\r",
      "Sampling 4 chains:  96%|█████████▋| 1965/2040 [10:13<00:26,  2.86draws/s]"
     ]
    },
    {
     "name": "stderr",
     "output_type": "stream",
     "text": [
      "\r",
      "Sampling 4 chains:  96%|█████████▋| 1966/2040 [10:14<00:31,  2.38draws/s]"
     ]
    },
    {
     "name": "stderr",
     "output_type": "stream",
     "text": [
      "\r",
      "Sampling 4 chains:  96%|█████████▋| 1967/2040 [10:14<00:31,  2.33draws/s]"
     ]
    },
    {
     "name": "stderr",
     "output_type": "stream",
     "text": [
      "\r",
      "Sampling 4 chains:  96%|█████████▋| 1968/2040 [10:15<00:28,  2.50draws/s]"
     ]
    },
    {
     "name": "stderr",
     "output_type": "stream",
     "text": [
      "\r",
      "Sampling 4 chains:  97%|█████████▋| 1969/2040 [10:15<00:27,  2.59draws/s]"
     ]
    },
    {
     "name": "stderr",
     "output_type": "stream",
     "text": [
      "\r",
      "Sampling 4 chains:  97%|█████████▋| 1970/2040 [10:16<00:32,  2.16draws/s]"
     ]
    },
    {
     "name": "stderr",
     "output_type": "stream",
     "text": [
      "\r",
      "Sampling 4 chains:  97%|█████████▋| 1971/2040 [10:16<00:30,  2.25draws/s]"
     ]
    },
    {
     "name": "stderr",
     "output_type": "stream",
     "text": [
      "\r",
      "Sampling 4 chains:  97%|█████████▋| 1972/2040 [10:16<00:23,  2.92draws/s]"
     ]
    },
    {
     "name": "stderr",
     "output_type": "stream",
     "text": [
      "\r",
      "Sampling 4 chains:  97%|█████████▋| 1973/2040 [10:17<00:29,  2.26draws/s]"
     ]
    },
    {
     "name": "stderr",
     "output_type": "stream",
     "text": [
      "\r",
      "Sampling 4 chains:  97%|█████████▋| 1974/2040 [10:17<00:33,  1.97draws/s]"
     ]
    },
    {
     "name": "stderr",
     "output_type": "stream",
     "text": [
      "\r",
      "Sampling 4 chains:  97%|█████████▋| 1976/2040 [10:18<00:28,  2.27draws/s]"
     ]
    },
    {
     "name": "stderr",
     "output_type": "stream",
     "text": [
      "\r",
      "Sampling 4 chains:  97%|█████████▋| 1977/2040 [10:19<00:33,  1.91draws/s]"
     ]
    },
    {
     "name": "stderr",
     "output_type": "stream",
     "text": [
      "\r",
      "Sampling 4 chains:  97%|█████████▋| 1978/2040 [10:19<00:25,  2.44draws/s]"
     ]
    },
    {
     "name": "stderr",
     "output_type": "stream",
     "text": [
      "\r",
      "Sampling 4 chains:  97%|█████████▋| 1979/2040 [10:19<00:24,  2.44draws/s]"
     ]
    },
    {
     "name": "stderr",
     "output_type": "stream",
     "text": [
      "\r",
      "Sampling 4 chains:  97%|█████████▋| 1980/2040 [10:20<00:29,  2.04draws/s]"
     ]
    },
    {
     "name": "stderr",
     "output_type": "stream",
     "text": [
      "\r",
      "Sampling 4 chains:  97%|█████████▋| 1981/2040 [10:20<00:22,  2.61draws/s]"
     ]
    },
    {
     "name": "stderr",
     "output_type": "stream",
     "text": [
      "\r",
      "Sampling 4 chains:  97%|█████████▋| 1982/2040 [10:21<00:24,  2.37draws/s]"
     ]
    },
    {
     "name": "stderr",
     "output_type": "stream",
     "text": [
      "\r",
      "Sampling 4 chains:  97%|█████████▋| 1983/2040 [10:21<00:26,  2.13draws/s]"
     ]
    },
    {
     "name": "stderr",
     "output_type": "stream",
     "text": [
      "\r",
      "Sampling 4 chains:  97%|█████████▋| 1984/2040 [10:22<00:23,  2.39draws/s]"
     ]
    },
    {
     "name": "stderr",
     "output_type": "stream",
     "text": [
      "\r",
      "Sampling 4 chains:  97%|█████████▋| 1985/2040 [10:22<00:22,  2.42draws/s]"
     ]
    },
    {
     "name": "stderr",
     "output_type": "stream",
     "text": [
      "\r",
      "Sampling 4 chains:  97%|█████████▋| 1986/2040 [10:23<00:25,  2.08draws/s]"
     ]
    },
    {
     "name": "stderr",
     "output_type": "stream",
     "text": [
      "\r",
      "Sampling 4 chains:  97%|█████████▋| 1987/2040 [10:23<00:24,  2.19draws/s]"
     ]
    },
    {
     "name": "stderr",
     "output_type": "stream",
     "text": [
      "\r",
      "Sampling 4 chains:  97%|█████████▋| 1988/2040 [10:23<00:21,  2.44draws/s]"
     ]
    },
    {
     "name": "stderr",
     "output_type": "stream",
     "text": [
      "\r",
      "Sampling 4 chains:  98%|█████████▊| 1989/2040 [10:24<00:23,  2.17draws/s]"
     ]
    },
    {
     "name": "stderr",
     "output_type": "stream",
     "text": [
      "\r",
      "Sampling 4 chains:  98%|█████████▊| 1990/2040 [10:24<00:23,  2.12draws/s]"
     ]
    },
    {
     "name": "stderr",
     "output_type": "stream",
     "text": [
      "\r",
      "Sampling 4 chains:  98%|█████████▊| 1991/2040 [10:25<00:19,  2.56draws/s]"
     ]
    },
    {
     "name": "stderr",
     "output_type": "stream",
     "text": [
      "\r",
      "Sampling 4 chains:  98%|█████████▊| 1992/2040 [10:25<00:21,  2.24draws/s]"
     ]
    },
    {
     "name": "stderr",
     "output_type": "stream",
     "text": [
      "\r",
      "Sampling 4 chains:  98%|█████████▊| 1993/2040 [10:26<00:23,  2.03draws/s]"
     ]
    },
    {
     "name": "stderr",
     "output_type": "stream",
     "text": [
      "\r",
      "Sampling 4 chains:  98%|█████████▊| 1995/2040 [10:26<00:19,  2.28draws/s]"
     ]
    },
    {
     "name": "stderr",
     "output_type": "stream",
     "text": [
      "\r",
      "Sampling 4 chains:  98%|█████████▊| 1996/2040 [10:27<00:21,  2.07draws/s]"
     ]
    },
    {
     "name": "stderr",
     "output_type": "stream",
     "text": [
      "\r",
      "Sampling 4 chains:  98%|█████████▊| 1997/2040 [10:27<00:16,  2.61draws/s]"
     ]
    },
    {
     "name": "stderr",
     "output_type": "stream",
     "text": [
      "\r",
      "Sampling 4 chains:  98%|█████████▊| 1998/2040 [10:28<00:26,  1.61draws/s]"
     ]
    },
    {
     "name": "stderr",
     "output_type": "stream",
     "text": [
      "\r",
      "Sampling 4 chains:  98%|█████████▊| 2000/2040 [10:29<00:24,  1.64draws/s]"
     ]
    },
    {
     "name": "stderr",
     "output_type": "stream",
     "text": [
      "\r",
      "Sampling 4 chains:  98%|█████████▊| 2001/2040 [10:30<00:19,  1.99draws/s]"
     ]
    },
    {
     "name": "stderr",
     "output_type": "stream",
     "text": [
      "\r",
      "Sampling 4 chains:  98%|█████████▊| 2002/2040 [10:31<00:26,  1.42draws/s]"
     ]
    },
    {
     "name": "stderr",
     "output_type": "stream",
     "text": [
      "\r",
      "Sampling 4 chains:  98%|█████████▊| 2003/2040 [10:32<00:31,  1.19draws/s]"
     ]
    },
    {
     "name": "stderr",
     "output_type": "stream",
     "text": [
      "\r",
      "Sampling 4 chains:  98%|█████████▊| 2004/2040 [10:33<00:33,  1.09draws/s]"
     ]
    },
    {
     "name": "stderr",
     "output_type": "stream",
     "text": [
      "\r",
      "Sampling 4 chains:  98%|█████████▊| 2005/2040 [10:34<00:34,  1.01draws/s]"
     ]
    },
    {
     "name": "stderr",
     "output_type": "stream",
     "text": [
      "\r",
      "Sampling 4 chains:  98%|█████████▊| 2006/2040 [10:35<00:34,  1.01s/draws]"
     ]
    },
    {
     "name": "stderr",
     "output_type": "stream",
     "text": [
      "\r",
      "Sampling 4 chains:  98%|█████████▊| 2007/2040 [10:36<00:34,  1.06s/draws]"
     ]
    },
    {
     "name": "stderr",
     "output_type": "stream",
     "text": [
      "\r",
      "Sampling 4 chains:  98%|█████████▊| 2008/2040 [10:38<00:34,  1.08s/draws]"
     ]
    },
    {
     "name": "stderr",
     "output_type": "stream",
     "text": [
      "\r",
      "Sampling 4 chains:  98%|█████████▊| 2009/2040 [10:39<00:33,  1.07s/draws]"
     ]
    },
    {
     "name": "stderr",
     "output_type": "stream",
     "text": [
      "\r",
      "Sampling 4 chains:  99%|█████████▊| 2010/2040 [10:40<00:32,  1.08s/draws]"
     ]
    },
    {
     "name": "stderr",
     "output_type": "stream",
     "text": [
      "\r",
      "Sampling 4 chains:  99%|█████████▊| 2011/2040 [10:41<00:32,  1.11s/draws]"
     ]
    },
    {
     "name": "stderr",
     "output_type": "stream",
     "text": [
      "\r",
      "Sampling 4 chains:  99%|█████████▊| 2012/2040 [10:42<00:31,  1.13s/draws]"
     ]
    },
    {
     "name": "stderr",
     "output_type": "stream",
     "text": [
      "\r",
      "Sampling 4 chains:  99%|█████████▊| 2013/2040 [10:43<00:31,  1.16s/draws]"
     ]
    },
    {
     "name": "stderr",
     "output_type": "stream",
     "text": [
      "\r",
      "Sampling 4 chains:  99%|█████████▊| 2014/2040 [10:45<00:30,  1.16s/draws]"
     ]
    },
    {
     "name": "stderr",
     "output_type": "stream",
     "text": [
      "\r",
      "Sampling 4 chains:  99%|█████████▉| 2015/2040 [10:46<00:29,  1.17s/draws]"
     ]
    },
    {
     "name": "stderr",
     "output_type": "stream",
     "text": [
      "\r",
      "Sampling 4 chains:  99%|█████████▉| 2016/2040 [10:47<00:27,  1.16s/draws]"
     ]
    },
    {
     "name": "stderr",
     "output_type": "stream",
     "text": [
      "\r",
      "Sampling 4 chains:  99%|█████████▉| 2017/2040 [10:48<00:26,  1.15s/draws]"
     ]
    },
    {
     "name": "stderr",
     "output_type": "stream",
     "text": [
      "\r",
      "Sampling 4 chains:  99%|█████████▉| 2018/2040 [10:49<00:25,  1.14s/draws]"
     ]
    },
    {
     "name": "stderr",
     "output_type": "stream",
     "text": [
      "\r",
      "Sampling 4 chains:  99%|█████████▉| 2019/2040 [10:50<00:23,  1.14s/draws]"
     ]
    },
    {
     "name": "stderr",
     "output_type": "stream",
     "text": [
      "\r",
      "Sampling 4 chains:  99%|█████████▉| 2020/2040 [10:51<00:21,  1.09s/draws]"
     ]
    },
    {
     "name": "stderr",
     "output_type": "stream",
     "text": [
      "\r",
      "Sampling 4 chains:  99%|█████████▉| 2021/2040 [10:52<00:20,  1.10s/draws]"
     ]
    },
    {
     "name": "stderr",
     "output_type": "stream",
     "text": [
      "\r",
      "Sampling 4 chains:  99%|█████████▉| 2022/2040 [10:53<00:19,  1.09s/draws]"
     ]
    },
    {
     "name": "stderr",
     "output_type": "stream",
     "text": [
      "\r",
      "Sampling 4 chains:  99%|█████████▉| 2023/2040 [10:54<00:18,  1.08s/draws]"
     ]
    },
    {
     "name": "stderr",
     "output_type": "stream",
     "text": [
      "\r",
      "Sampling 4 chains:  99%|█████████▉| 2024/2040 [10:56<00:17,  1.09s/draws]"
     ]
    },
    {
     "name": "stderr",
     "output_type": "stream",
     "text": [
      "\r",
      "Sampling 4 chains:  99%|█████████▉| 2025/2040 [10:57<00:16,  1.08s/draws]"
     ]
    },
    {
     "name": "stderr",
     "output_type": "stream",
     "text": [
      "\r",
      "Sampling 4 chains:  99%|█████████▉| 2026/2040 [10:58<00:15,  1.09s/draws]"
     ]
    },
    {
     "name": "stderr",
     "output_type": "stream",
     "text": [
      "\r",
      "Sampling 4 chains:  99%|█████████▉| 2027/2040 [10:59<00:14,  1.11s/draws]"
     ]
    },
    {
     "name": "stderr",
     "output_type": "stream",
     "text": [
      "\r",
      "Sampling 4 chains:  99%|█████████▉| 2028/2040 [11:00<00:13,  1.10s/draws]"
     ]
    },
    {
     "name": "stderr",
     "output_type": "stream",
     "text": [
      "\r",
      "Sampling 4 chains:  99%|█████████▉| 2029/2040 [11:01<00:11,  1.08s/draws]"
     ]
    },
    {
     "name": "stderr",
     "output_type": "stream",
     "text": [
      "\r",
      "Sampling 4 chains: 100%|█████████▉| 2030/2040 [11:02<00:10,  1.08s/draws]"
     ]
    },
    {
     "name": "stderr",
     "output_type": "stream",
     "text": [
      "\r",
      "Sampling 4 chains: 100%|█████████▉| 2031/2040 [11:03<00:09,  1.08s/draws]"
     ]
    },
    {
     "name": "stderr",
     "output_type": "stream",
     "text": [
      "\r",
      "Sampling 4 chains: 100%|█████████▉| 2032/2040 [11:04<00:08,  1.10s/draws]"
     ]
    },
    {
     "name": "stderr",
     "output_type": "stream",
     "text": [
      "\r",
      "Sampling 4 chains: 100%|█████████▉| 2033/2040 [11:05<00:07,  1.09s/draws]"
     ]
    },
    {
     "name": "stderr",
     "output_type": "stream",
     "text": [
      "\r",
      "Sampling 4 chains: 100%|█████████▉| 2034/2040 [11:06<00:06,  1.07s/draws]"
     ]
    },
    {
     "name": "stderr",
     "output_type": "stream",
     "text": [
      "\r",
      "Sampling 4 chains: 100%|█████████▉| 2035/2040 [11:08<00:05,  1.09s/draws]"
     ]
    },
    {
     "name": "stderr",
     "output_type": "stream",
     "text": [
      "\r",
      "Sampling 4 chains: 100%|█████████▉| 2036/2040 [11:09<00:04,  1.09s/draws]"
     ]
    },
    {
     "name": "stderr",
     "output_type": "stream",
     "text": [
      "\r",
      "Sampling 4 chains: 100%|█████████▉| 2037/2040 [11:10<00:03,  1.08s/draws]"
     ]
    },
    {
     "name": "stderr",
     "output_type": "stream",
     "text": [
      "\r",
      "Sampling 4 chains: 100%|█████████▉| 2038/2040 [11:11<00:02,  1.06s/draws]"
     ]
    },
    {
     "name": "stderr",
     "output_type": "stream",
     "text": [
      "\r",
      "Sampling 4 chains: 100%|█████████▉| 2039/2040 [11:12<00:01,  1.06s/draws]"
     ]
    },
    {
     "name": "stderr",
     "output_type": "stream",
     "text": [
      "\r",
      "Sampling 4 chains: 100%|██████████| 2040/2040 [11:13<00:00,  1.04s/draws]"
     ]
    },
    {
     "name": "stderr",
     "output_type": "stream",
     "text": [
      "\n"
     ]
    }
   ],
   "source": [
    "with pm.Model() as model:\n",
    "    xl1 = pm.DiscreteUniform('xl1', lower=0,upper=500)\n",
    "    yl1 = pm.DiscreteUniform('yl1', lower=150,upper=500)\n",
    "    θl1 = pm.DiscreteUniform('θl1', lower=-20,upper=20)\n",
    "\n",
    "    xl2 = pm.DiscreteUniform('xl2', lower=0,upper=500)\n",
    "    yl2 = pm.DiscreteUniform('yl2', lower=150,upper=500)\n",
    "    θl2 = pm.DiscreteUniform('θl2', lower=-20,upper=20)\n",
    "\n",
    "    \n",
    "        \n",
    "    obs = pm.Normal('obs',\n",
    "                    mu=simulation(xl1, yl1, θl1, xl2, yl2, θl2),\n",
    "                    sigma=.1, observed=484)\n",
    "\n",
    "    trace = pm.sample(10)\n"
   ]
  },
  {
   "cell_type": "code",
   "execution_count": 8,
   "metadata": {
    "collapsed": false
   },
   "outputs": [
    {
     "data": {
      "text/plain": [
       "[{'xl1': 89, 'yl1': 486, 'θl1': -2, 'xl2': 222, 'yl2': 394, 'θl2': -11},\n",
       " {'xl1': 89, 'yl1': 486, 'θl1': -2, 'xl2': 222, 'yl2': 394, 'θl2': -11},\n",
       " {'xl1': 89, 'yl1': 486, 'θl1': -7, 'xl2': 222, 'yl2': 373, 'θl2': -11},\n",
       " {'xl1': 89, 'yl1': 486, 'θl1': -1, 'xl2': 222, 'yl2': 373, 'θl2': -11},\n",
       " {'xl1': 89, 'yl1': 494, 'θl1': -1, 'xl2': 222, 'yl2': 348, 'θl2': -11},\n",
       " {'xl1': 89, 'yl1': 493, 'θl1': -1, 'xl2': 222, 'yl2': 348, 'θl2': -11},\n",
       " {'xl1': 142, 'yl1': 493, 'θl1': -8, 'xl2': 222, 'yl2': 371, 'θl2': -11},\n",
       " {'xl1': 142, 'yl1': 493, 'θl1': -8, 'xl2': 222, 'yl2': 379, 'θl2': -11},\n",
       " {'xl1': 128, 'yl1': 493, 'θl1': -9, 'xl2': 222, 'yl2': 379, 'θl2': -11},\n",
       " {'xl1': 128, 'yl1': 493, 'θl1': -12, 'xl2': 222, 'yl2': 380, 'θl2': -11}]"
      ]
     },
     "execution_count": 8,
     "metadata": {},
     "output_type": "execute_result"
    }
   ],
   "source": [
    "[t for t in trace]  # Solutions"
   ]
  }
 ],
 "metadata": {
  "kernelspec": {
   "argv": [
    "python",
    "-m",
    "ipykernel_launcher",
    "-f",
    "{connection_file}"
   ],
   "display_name": "Python 3",
   "env": null,
   "interrupt_mode": "signal",
   "language": "python",
   "metadata": null,
   "name": "python3"
  },
  "name": "ball-in-the-bucket-game.ipynb"
 },
 "nbformat": 4,
 "nbformat_minor": 2
}
